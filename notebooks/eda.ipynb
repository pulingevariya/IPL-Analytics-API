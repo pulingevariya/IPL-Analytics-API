{
 "cells": [
  {
   "cell_type": "code",
   "execution_count": 4,
   "id": "48cfbf73",
   "metadata": {},
   "outputs": [],
   "source": [
    "import numpy as np\n",
    "import pandas as pd"
   ]
  },
  {
   "cell_type": "code",
   "execution_count": 5,
   "id": "8c9ed63c",
   "metadata": {},
   "outputs": [
    {
     "name": "stderr",
     "output_type": "stream",
     "text": [
      "C:\\Users\\gevar\\AppData\\Local\\Temp\\ipykernel_1220\\1252632248.py:1: DtypeWarning: Columns (30) have mixed types. Specify dtype option on import or set low_memory=False.\n",
      "  df = pd.read_csv('../datasets/ball_with_match_cleaned.csv')\n"
     ]
    }
   ],
   "source": [
    "df = pd.read_csv('../datasets/ball_with_match_cleaned.csv')"
   ]
  },
  {
   "cell_type": "code",
   "execution_count": 6,
   "id": "c027032f",
   "metadata": {},
   "outputs": [],
   "source": [
    "ball_with_match = df.copy()"
   ]
  },
  {
   "cell_type": "code",
   "execution_count": 7,
   "id": "fe358c66",
   "metadata": {},
   "outputs": [
    {
     "data": {
      "text/html": [
       "<div>\n",
       "<style scoped>\n",
       "    .dataframe tbody tr th:only-of-type {\n",
       "        vertical-align: middle;\n",
       "    }\n",
       "\n",
       "    .dataframe tbody tr th {\n",
       "        vertical-align: top;\n",
       "    }\n",
       "\n",
       "    .dataframe thead th {\n",
       "        text-align: right;\n",
       "    }\n",
       "</style>\n",
       "<table border=\"1\" class=\"dataframe\">\n",
       "  <thead>\n",
       "    <tr style=\"text-align: right;\">\n",
       "      <th></th>\n",
       "      <th>ID</th>\n",
       "      <th>innings</th>\n",
       "      <th>overs</th>\n",
       "      <th>ballnumber</th>\n",
       "      <th>batter</th>\n",
       "      <th>bowler</th>\n",
       "      <th>non-striker</th>\n",
       "      <th>extra_type</th>\n",
       "      <th>batsman_run</th>\n",
       "      <th>extras_run</th>\n",
       "      <th>...</th>\n",
       "      <th>WonBy</th>\n",
       "      <th>Margin</th>\n",
       "      <th>method</th>\n",
       "      <th>Player_of_Match</th>\n",
       "      <th>Team1Players</th>\n",
       "      <th>Team2Players</th>\n",
       "      <th>Umpire1</th>\n",
       "      <th>Umpire2</th>\n",
       "      <th>bowler_run</th>\n",
       "      <th>isBowlerWicket</th>\n",
       "    </tr>\n",
       "  </thead>\n",
       "  <tbody>\n",
       "    <tr>\n",
       "      <th>0</th>\n",
       "      <td>1312200</td>\n",
       "      <td>1</td>\n",
       "      <td>0</td>\n",
       "      <td>1</td>\n",
       "      <td>YBK Jaiswal</td>\n",
       "      <td>Mohammed Shami</td>\n",
       "      <td>JC Buttler</td>\n",
       "      <td>NaN</td>\n",
       "      <td>0</td>\n",
       "      <td>0</td>\n",
       "      <td>...</td>\n",
       "      <td>Wickets</td>\n",
       "      <td>7.0</td>\n",
       "      <td>NaN</td>\n",
       "      <td>HH Pandya</td>\n",
       "      <td>['YBK Jaiswal', 'JC Buttler', 'SV Samson', 'D ...</td>\n",
       "      <td>['WP Saha', 'Shubman Gill', 'MS Wade', 'HH Pan...</td>\n",
       "      <td>CB Gaffaney</td>\n",
       "      <td>Nitin Menon</td>\n",
       "      <td>0</td>\n",
       "      <td>0</td>\n",
       "    </tr>\n",
       "    <tr>\n",
       "      <th>1</th>\n",
       "      <td>1312200</td>\n",
       "      <td>1</td>\n",
       "      <td>0</td>\n",
       "      <td>2</td>\n",
       "      <td>YBK Jaiswal</td>\n",
       "      <td>Mohammed Shami</td>\n",
       "      <td>JC Buttler</td>\n",
       "      <td>legbyes</td>\n",
       "      <td>0</td>\n",
       "      <td>1</td>\n",
       "      <td>...</td>\n",
       "      <td>Wickets</td>\n",
       "      <td>7.0</td>\n",
       "      <td>NaN</td>\n",
       "      <td>HH Pandya</td>\n",
       "      <td>['YBK Jaiswal', 'JC Buttler', 'SV Samson', 'D ...</td>\n",
       "      <td>['WP Saha', 'Shubman Gill', 'MS Wade', 'HH Pan...</td>\n",
       "      <td>CB Gaffaney</td>\n",
       "      <td>Nitin Menon</td>\n",
       "      <td>0</td>\n",
       "      <td>0</td>\n",
       "    </tr>\n",
       "    <tr>\n",
       "      <th>2</th>\n",
       "      <td>1312200</td>\n",
       "      <td>1</td>\n",
       "      <td>0</td>\n",
       "      <td>3</td>\n",
       "      <td>JC Buttler</td>\n",
       "      <td>Mohammed Shami</td>\n",
       "      <td>YBK Jaiswal</td>\n",
       "      <td>NaN</td>\n",
       "      <td>1</td>\n",
       "      <td>0</td>\n",
       "      <td>...</td>\n",
       "      <td>Wickets</td>\n",
       "      <td>7.0</td>\n",
       "      <td>NaN</td>\n",
       "      <td>HH Pandya</td>\n",
       "      <td>['YBK Jaiswal', 'JC Buttler', 'SV Samson', 'D ...</td>\n",
       "      <td>['WP Saha', 'Shubman Gill', 'MS Wade', 'HH Pan...</td>\n",
       "      <td>CB Gaffaney</td>\n",
       "      <td>Nitin Menon</td>\n",
       "      <td>1</td>\n",
       "      <td>0</td>\n",
       "    </tr>\n",
       "    <tr>\n",
       "      <th>3</th>\n",
       "      <td>1312200</td>\n",
       "      <td>1</td>\n",
       "      <td>0</td>\n",
       "      <td>4</td>\n",
       "      <td>YBK Jaiswal</td>\n",
       "      <td>Mohammed Shami</td>\n",
       "      <td>JC Buttler</td>\n",
       "      <td>NaN</td>\n",
       "      <td>0</td>\n",
       "      <td>0</td>\n",
       "      <td>...</td>\n",
       "      <td>Wickets</td>\n",
       "      <td>7.0</td>\n",
       "      <td>NaN</td>\n",
       "      <td>HH Pandya</td>\n",
       "      <td>['YBK Jaiswal', 'JC Buttler', 'SV Samson', 'D ...</td>\n",
       "      <td>['WP Saha', 'Shubman Gill', 'MS Wade', 'HH Pan...</td>\n",
       "      <td>CB Gaffaney</td>\n",
       "      <td>Nitin Menon</td>\n",
       "      <td>0</td>\n",
       "      <td>0</td>\n",
       "    </tr>\n",
       "    <tr>\n",
       "      <th>4</th>\n",
       "      <td>1312200</td>\n",
       "      <td>1</td>\n",
       "      <td>0</td>\n",
       "      <td>5</td>\n",
       "      <td>YBK Jaiswal</td>\n",
       "      <td>Mohammed Shami</td>\n",
       "      <td>JC Buttler</td>\n",
       "      <td>NaN</td>\n",
       "      <td>0</td>\n",
       "      <td>0</td>\n",
       "      <td>...</td>\n",
       "      <td>Wickets</td>\n",
       "      <td>7.0</td>\n",
       "      <td>NaN</td>\n",
       "      <td>HH Pandya</td>\n",
       "      <td>['YBK Jaiswal', 'JC Buttler', 'SV Samson', 'D ...</td>\n",
       "      <td>['WP Saha', 'Shubman Gill', 'MS Wade', 'HH Pan...</td>\n",
       "      <td>CB Gaffaney</td>\n",
       "      <td>Nitin Menon</td>\n",
       "      <td>0</td>\n",
       "      <td>0</td>\n",
       "    </tr>\n",
       "  </tbody>\n",
       "</table>\n",
       "<p>5 rows × 38 columns</p>\n",
       "</div>"
      ],
      "text/plain": [
       "        ID  innings  overs  ballnumber       batter          bowler  \\\n",
       "0  1312200        1      0           1  YBK Jaiswal  Mohammed Shami   \n",
       "1  1312200        1      0           2  YBK Jaiswal  Mohammed Shami   \n",
       "2  1312200        1      0           3   JC Buttler  Mohammed Shami   \n",
       "3  1312200        1      0           4  YBK Jaiswal  Mohammed Shami   \n",
       "4  1312200        1      0           5  YBK Jaiswal  Mohammed Shami   \n",
       "\n",
       "   non-striker extra_type  batsman_run  extras_run  ...    WonBy  Margin  \\\n",
       "0   JC Buttler        NaN            0           0  ...  Wickets     7.0   \n",
       "1   JC Buttler    legbyes            0           1  ...  Wickets     7.0   \n",
       "2  YBK Jaiswal        NaN            1           0  ...  Wickets     7.0   \n",
       "3   JC Buttler        NaN            0           0  ...  Wickets     7.0   \n",
       "4   JC Buttler        NaN            0           0  ...  Wickets     7.0   \n",
       "\n",
       "   method Player_of_Match                                       Team1Players  \\\n",
       "0     NaN       HH Pandya  ['YBK Jaiswal', 'JC Buttler', 'SV Samson', 'D ...   \n",
       "1     NaN       HH Pandya  ['YBK Jaiswal', 'JC Buttler', 'SV Samson', 'D ...   \n",
       "2     NaN       HH Pandya  ['YBK Jaiswal', 'JC Buttler', 'SV Samson', 'D ...   \n",
       "3     NaN       HH Pandya  ['YBK Jaiswal', 'JC Buttler', 'SV Samson', 'D ...   \n",
       "4     NaN       HH Pandya  ['YBK Jaiswal', 'JC Buttler', 'SV Samson', 'D ...   \n",
       "\n",
       "                                        Team2Players      Umpire1  \\\n",
       "0  ['WP Saha', 'Shubman Gill', 'MS Wade', 'HH Pan...  CB Gaffaney   \n",
       "1  ['WP Saha', 'Shubman Gill', 'MS Wade', 'HH Pan...  CB Gaffaney   \n",
       "2  ['WP Saha', 'Shubman Gill', 'MS Wade', 'HH Pan...  CB Gaffaney   \n",
       "3  ['WP Saha', 'Shubman Gill', 'MS Wade', 'HH Pan...  CB Gaffaney   \n",
       "4  ['WP Saha', 'Shubman Gill', 'MS Wade', 'HH Pan...  CB Gaffaney   \n",
       "\n",
       "       Umpire2 bowler_run  isBowlerWicket  \n",
       "0  Nitin Menon          0               0  \n",
       "1  Nitin Menon          0               0  \n",
       "2  Nitin Menon          1               0  \n",
       "3  Nitin Menon          0               0  \n",
       "4  Nitin Menon          0               0  \n",
       "\n",
       "[5 rows x 38 columns]"
      ]
     },
     "execution_count": 7,
     "metadata": {},
     "output_type": "execute_result"
    }
   ],
   "source": [
    "ball_with_match.head()"
   ]
  },
  {
   "cell_type": "markdown",
   "id": "19737647",
   "metadata": {},
   "source": [
    "# season wise"
   ]
  },
  {
   "cell_type": "markdown",
   "id": "f2b78b12",
   "metadata": {},
   "source": [
    "## overall analysis"
   ]
  },
  {
   "cell_type": "markdown",
   "id": "bd7aacdb",
   "metadata": {},
   "source": [
    "### total seasons played"
   ]
  },
  {
   "cell_type": "code",
   "execution_count": 275,
   "id": "6e6ae9b8",
   "metadata": {},
   "outputs": [
    {
     "data": {
      "text/plain": [
       "15"
      ]
     },
     "execution_count": 275,
     "metadata": {},
     "output_type": "execute_result"
    }
   ],
   "source": [
    "ball_with_match['Season'].unique().size"
   ]
  },
  {
   "cell_type": "markdown",
   "id": "9c6d7d2a",
   "metadata": {},
   "source": [
    "### total teams"
   ]
  },
  {
   "cell_type": "code",
   "execution_count": 276,
   "id": "e4fb0fdc",
   "metadata": {},
   "outputs": [
    {
     "data": {
      "text/plain": [
       "15"
      ]
     },
     "execution_count": 276,
     "metadata": {},
     "output_type": "execute_result"
    }
   ],
   "source": [
    "ball_with_match['Team1'].unique().size"
   ]
  },
  {
   "cell_type": "markdown",
   "id": "911bad37",
   "metadata": {},
   "source": [
    "### total matches played"
   ]
  },
  {
   "cell_type": "code",
   "execution_count": 69,
   "id": "fb93952d",
   "metadata": {},
   "outputs": [
    {
     "data": {
      "text/plain": [
       "950"
      ]
     },
     "execution_count": 69,
     "metadata": {},
     "output_type": "execute_result"
    }
   ],
   "source": [
    "ball_with_match['ID'].unique().size"
   ]
  },
  {
   "cell_type": "markdown",
   "id": "17bf1bce",
   "metadata": {},
   "source": [
    "### highest runs"
   ]
  },
  {
   "cell_type": "code",
   "execution_count": 30,
   "id": "b0edf958",
   "metadata": {},
   "outputs": [
    {
     "data": {
      "text/plain": [
       "175"
      ]
     },
     "execution_count": 30,
     "metadata": {},
     "output_type": "execute_result"
    }
   ],
   "source": [
    "ball_with_match.groupby(['batter', 'ID'])['batsman_run'].sum().sort_values(ascending=False).head(1).values[0]"
   ]
  },
  {
   "cell_type": "code",
   "execution_count": 32,
   "id": "7e82767f",
   "metadata": {},
   "outputs": [
    {
     "data": {
      "text/plain": [
       "'CH Gayle'"
      ]
     },
     "execution_count": 32,
     "metadata": {},
     "output_type": "execute_result"
    }
   ],
   "source": [
    "ball_with_match.groupby(['batter', 'ID'])['batsman_run'].sum().sort_values(ascending=False).head(1).index[0][0]"
   ]
  },
  {
   "cell_type": "markdown",
   "id": "ed2d0315",
   "metadata": {},
   "source": [
    "### highest wickets"
   ]
  },
  {
   "cell_type": "code",
   "execution_count": 38,
   "id": "59c865a4",
   "metadata": {},
   "outputs": [
    {
     "data": {
      "text/plain": [
       "6"
      ]
     },
     "execution_count": 38,
     "metadata": {},
     "output_type": "execute_result"
    }
   ],
   "source": [
    "ball_with_match.groupby(['bowler', 'ID'])['isWicketDelivery'].sum().sort_values(ascending=False).head(1).values[0]"
   ]
  },
  {
   "cell_type": "code",
   "execution_count": 91,
   "id": "29d55669",
   "metadata": {},
   "outputs": [
    {
     "data": {
      "text/plain": [
       "'A Zampa'"
      ]
     },
     "execution_count": 91,
     "metadata": {},
     "output_type": "execute_result"
    }
   ],
   "source": [
    "ball_with_match.groupby(['bowler', 'ID'])['isWicketDelivery'].sum().sort_values(ascending=False).head(1).index[0][0]"
   ]
  },
  {
   "cell_type": "markdown",
   "id": "314d5402",
   "metadata": {},
   "source": [
    "### highest team score"
   ]
  },
  {
   "cell_type": "code",
   "execution_count": 35,
   "id": "e0743d30",
   "metadata": {},
   "outputs": [],
   "source": [
    "min_max_df = ball_with_match[(ball_with_match['WonBy'] != 'NoResults') & (ball_with_match['method'] != 'D/L') & (ball_with_match['innings'].isin([1,2]))]"
   ]
  },
  {
   "cell_type": "code",
   "execution_count": 51,
   "id": "dcec32dd",
   "metadata": {},
   "outputs": [],
   "source": [
    "temp_df = min_max_df.groupby(['ID', 'innings','BattingTeam'])['total_run'].sum().reset_index()"
   ]
  },
  {
   "cell_type": "code",
   "execution_count": 52,
   "id": "43044691",
   "metadata": {},
   "outputs": [
    {
     "data": {
      "text/plain": [
       "'Royal Challengers Bangalore'"
      ]
     },
     "execution_count": 52,
     "metadata": {},
     "output_type": "execute_result"
    }
   ],
   "source": [
    "temp_df.sort_values('total_run', ascending=False).iloc[0]['BattingTeam']"
   ]
  },
  {
   "cell_type": "code",
   "execution_count": 53,
   "id": "ce511834",
   "metadata": {},
   "outputs": [
    {
     "data": {
      "text/plain": [
       "263"
      ]
     },
     "execution_count": 53,
     "metadata": {},
     "output_type": "execute_result"
    }
   ],
   "source": [
    "temp_df.sort_values('total_run', ascending=False).iloc[0]['total_run']"
   ]
  },
  {
   "cell_type": "code",
   "execution_count": 44,
   "id": "f7dafda7",
   "metadata": {},
   "outputs": [],
   "source": [
    "def sortname_conveter(name):\n",
    "    l = []\n",
    "    for i in name.split(' '):\n",
    "        l.append(i[0])\n",
    "\n",
    "    return ''.join(l)"
   ]
  },
  {
   "cell_type": "code",
   "execution_count": 45,
   "id": "b94f169c",
   "metadata": {},
   "outputs": [
    {
     "data": {
      "text/plain": [
       "'RCB'"
      ]
     },
     "execution_count": 45,
     "metadata": {},
     "output_type": "execute_result"
    }
   ],
   "source": [
    "sortname_conveter('Royal Challengers Bangalore')"
   ]
  },
  {
   "cell_type": "markdown",
   "id": "ac5e0057",
   "metadata": {},
   "source": [
    "### lowest team score"
   ]
  },
  {
   "cell_type": "code",
   "execution_count": 54,
   "id": "938225e0",
   "metadata": {},
   "outputs": [
    {
     "data": {
      "text/plain": [
       "'Royal Challengers Bangalore'"
      ]
     },
     "execution_count": 54,
     "metadata": {},
     "output_type": "execute_result"
    }
   ],
   "source": [
    "temp_df.sort_values('total_run').iloc[0]['BattingTeam']"
   ]
  },
  {
   "cell_type": "code",
   "execution_count": 56,
   "id": "dc31d22c",
   "metadata": {},
   "outputs": [
    {
     "data": {
      "text/plain": [
       "49"
      ]
     },
     "execution_count": 56,
     "metadata": {},
     "output_type": "execute_result"
    }
   ],
   "source": [
    "temp_df.sort_values('total_run').iloc[0]['total_run']"
   ]
  },
  {
   "cell_type": "markdown",
   "id": "a5d949b4",
   "metadata": {},
   "source": [
    "### teams"
   ]
  },
  {
   "cell_type": "code",
   "execution_count": 73,
   "id": "99eeeecf",
   "metadata": {},
   "outputs": [
    {
     "data": {
      "text/plain": [
       "['Chennai Super Kings',\n",
       " 'Deccan Chargers',\n",
       " 'Delhi Capitals',\n",
       " 'Gujarat Lions',\n",
       " 'Gujarat Titans',\n",
       " 'Kochi Tuskers Kerala',\n",
       " 'Kolkata Knight Riders',\n",
       " 'Lucknow Super Giants',\n",
       " 'Mumbai Indians',\n",
       " 'Pune Warriors',\n",
       " 'Punjab Kings',\n",
       " 'Rajasthan Royals',\n",
       " 'Rising Pune Supergiant',\n",
       " 'Royal Challengers Bangalore',\n",
       " 'Sunrisers Hyderabad']"
      ]
     },
     "execution_count": 73,
     "metadata": {},
     "output_type": "execute_result"
    }
   ],
   "source": [
    "sorted(set(ball_with_match['Team1'].sort_values().unique().tolist() + ball_with_match['Team2'].sort_values().unique().tolist()))"
   ]
  },
  {
   "cell_type": "markdown",
   "id": "44ba73c7",
   "metadata": {},
   "source": [
    "### top 5 batsmans"
   ]
  },
  {
   "cell_type": "code",
   "execution_count": 88,
   "id": "0e21b201",
   "metadata": {},
   "outputs": [
    {
     "data": {
      "text/plain": [
       "array([['V Kohli', 6634],\n",
       "       ['S Dhawan', 6244],\n",
       "       ['DA Warner', 5883],\n",
       "       ['RG Sharma', 5881],\n",
       "       ['SK Raina', 5536]], dtype=object)"
      ]
     },
     "execution_count": 88,
     "metadata": {},
     "output_type": "execute_result"
    }
   ],
   "source": [
    "ball_with_match.groupby('batter')['batsman_run'].sum().sort_values(ascending=False).head().reset_index().values"
   ]
  },
  {
   "cell_type": "code",
   "execution_count": 104,
   "id": "0611a824",
   "metadata": {},
   "outputs": [
    {
     "data": {
      "text/plain": [
       "['V Kohli', 'S Dhawan', 'DA Warner', 'RG Sharma', 'SK Raina']"
      ]
     },
     "execution_count": 104,
     "metadata": {},
     "output_type": "execute_result"
    }
   ],
   "source": [
    "ball_with_match.groupby('batter')['batsman_run'].sum().sort_values(ascending=False).head().values.tolist()"
   ]
  },
  {
   "cell_type": "markdown",
   "id": "c376a6fa",
   "metadata": {},
   "source": [
    "### top 5 bowlers"
   ]
  },
  {
   "cell_type": "code",
   "execution_count": 69,
   "id": "746c3b5b",
   "metadata": {},
   "outputs": [
    {
     "data": {
      "text/html": [
       "<div>\n",
       "<style scoped>\n",
       "    .dataframe tbody tr th:only-of-type {\n",
       "        vertical-align: middle;\n",
       "    }\n",
       "\n",
       "    .dataframe tbody tr th {\n",
       "        vertical-align: top;\n",
       "    }\n",
       "\n",
       "    .dataframe thead th {\n",
       "        text-align: right;\n",
       "    }\n",
       "</style>\n",
       "<table border=\"1\" class=\"dataframe\">\n",
       "  <thead>\n",
       "    <tr style=\"text-align: right;\">\n",
       "      <th></th>\n",
       "      <th>bowler</th>\n",
       "      <th>isWicketDelivery</th>\n",
       "    </tr>\n",
       "  </thead>\n",
       "  <tbody>\n",
       "    <tr>\n",
       "      <th>0</th>\n",
       "      <td>DJ Bravo</td>\n",
       "      <td>207</td>\n",
       "    </tr>\n",
       "    <tr>\n",
       "      <th>1</th>\n",
       "      <td>SL Malinga</td>\n",
       "      <td>188</td>\n",
       "    </tr>\n",
       "    <tr>\n",
       "      <th>2</th>\n",
       "      <td>A Mishra</td>\n",
       "      <td>175</td>\n",
       "    </tr>\n",
       "    <tr>\n",
       "      <th>3</th>\n",
       "      <td>R Ashwin</td>\n",
       "      <td>174</td>\n",
       "    </tr>\n",
       "    <tr>\n",
       "      <th>4</th>\n",
       "      <td>YS Chahal</td>\n",
       "      <td>172</td>\n",
       "    </tr>\n",
       "  </tbody>\n",
       "</table>\n",
       "</div>"
      ],
      "text/plain": [
       "       bowler  isWicketDelivery\n",
       "0    DJ Bravo               207\n",
       "1  SL Malinga               188\n",
       "2    A Mishra               175\n",
       "3    R Ashwin               174\n",
       "4   YS Chahal               172"
      ]
     },
     "execution_count": 69,
     "metadata": {},
     "output_type": "execute_result"
    }
   ],
   "source": [
    "ball_with_match.groupby('bowler')['isWicketDelivery'].sum().sort_values(ascending=False).head().reset_index()"
   ]
  },
  {
   "cell_type": "code",
   "execution_count": 105,
   "id": "09d05e3f",
   "metadata": {},
   "outputs": [
    {
     "data": {
      "text/plain": [
       "['DJ Bravo', 'SL Malinga', 'A Mishra', 'R Ashwin', 'YS Chahal']"
      ]
     },
     "execution_count": 105,
     "metadata": {},
     "output_type": "execute_result"
    }
   ],
   "source": [
    "ball_with_match.groupby('bowler')['isWicketDelivery'].sum().sort_values(ascending=False).head().index.tolist()"
   ]
  },
  {
   "cell_type": "markdown",
   "id": "7218c87e",
   "metadata": {},
   "source": [
    "### bar chart - team vs count of trophy team have"
   ]
  },
  {
   "cell_type": "code",
   "execution_count": 108,
   "id": "08a1b1e7",
   "metadata": {},
   "outputs": [],
   "source": [
    "winning_teams = ball_with_match[ball_with_match['MatchNumber'] == 'Final']"
   ]
  },
  {
   "cell_type": "code",
   "execution_count": 109,
   "id": "67adc94a",
   "metadata": {},
   "outputs": [],
   "source": [
    "winning_teams = winning_teams.drop_duplicates(subset=['Season'])"
   ]
  },
  {
   "cell_type": "code",
   "execution_count": 111,
   "id": "b0cee98f",
   "metadata": {},
   "outputs": [],
   "source": [
    "temp_df = winning_teams.groupby(['WinningTeam'])['WinningTeam'].count()"
   ]
  },
  {
   "cell_type": "code",
   "execution_count": 112,
   "id": "24180baa",
   "metadata": {},
   "outputs": [
    {
     "data": {
      "text/plain": [
       "WinningTeam\n",
       "Chennai Super Kings      4\n",
       "Deccan Chargers          1\n",
       "Gujarat Titans           1\n",
       "Kolkata Knight Riders    2\n",
       "Mumbai Indians           5\n",
       "Rajasthan Royals         1\n",
       "Sunrisers Hyderabad      1\n",
       "Name: WinningTeam, dtype: int64"
      ]
     },
     "execution_count": 112,
     "metadata": {},
     "output_type": "execute_result"
    }
   ],
   "source": [
    "temp_df"
   ]
  },
  {
   "cell_type": "code",
   "execution_count": 115,
   "id": "db43313b",
   "metadata": {},
   "outputs": [
    {
     "data": {
      "text/plain": [
       "WinningTeam\n",
       "Chennai Super Kings      4\n",
       "Deccan Chargers          1\n",
       "Gujarat Titans           1\n",
       "Kolkata Knight Riders    2\n",
       "Mumbai Indians           5\n",
       "Rajasthan Royals         1\n",
       "Sunrisers Hyderabad      1\n",
       "Name: WinningTeam, dtype: int64"
      ]
     },
     "execution_count": 115,
     "metadata": {},
     "output_type": "execute_result"
    }
   ],
   "source": [
    "ball_with_match[ball_with_match['MatchNumber'] == 'Final'].drop_duplicates(subset=['Season']).groupby(['WinningTeam'])['WinningTeam'].count()"
   ]
  },
  {
   "cell_type": "code",
   "execution_count": 120,
   "id": "8322b998",
   "metadata": {},
   "outputs": [
    {
     "data": {
      "text/plain": [
       "['Mumbai Indians',\n",
       " 'Chennai Super Kings',\n",
       " 'Kolkata Knight Riders',\n",
       " 'Deccan Chargers',\n",
       " 'Gujarat Titans',\n",
       " 'Rajasthan Royals',\n",
       " 'Sunrisers Hyderabad']"
      ]
     },
     "execution_count": 120,
     "metadata": {},
     "output_type": "execute_result"
    }
   ],
   "source": [
    "ball_with_match[ball_with_match['MatchNumber'] == 'Final'].drop_duplicates(subset=['Season']).groupby(['WinningTeam'])['WinningTeam'].count().sort_values(ascending=False).index.tolist()"
   ]
  },
  {
   "cell_type": "code",
   "execution_count": 121,
   "id": "323b57cb",
   "metadata": {},
   "outputs": [
    {
     "data": {
      "text/plain": [
       "[5, 4, 2, 1, 1, 1, 1]"
      ]
     },
     "execution_count": 121,
     "metadata": {},
     "output_type": "execute_result"
    }
   ],
   "source": [
    "ball_with_match[ball_with_match['MatchNumber'] == 'Final'].drop_duplicates(subset=['Season']).groupby(['WinningTeam'])['WinningTeam'].count().sort_values(ascending=False).values.tolist()"
   ]
  },
  {
   "cell_type": "markdown",
   "id": "655e1243",
   "metadata": {},
   "source": [
    "## season analysis"
   ]
  },
  {
   "cell_type": "code",
   "execution_count": 250,
   "id": "4081b5d4",
   "metadata": {},
   "outputs": [],
   "source": [
    "season = 2020"
   ]
  },
  {
   "cell_type": "code",
   "execution_count": 251,
   "id": "f51b1233",
   "metadata": {},
   "outputs": [],
   "source": [
    "df = ball_with_match[ball_with_match['Season'] == season]"
   ]
  },
  {
   "cell_type": "code",
   "execution_count": 224,
   "id": "60384b20",
   "metadata": {},
   "outputs": [
    {
     "data": {
      "text/html": [
       "<div>\n",
       "<style scoped>\n",
       "    .dataframe tbody tr th:only-of-type {\n",
       "        vertical-align: middle;\n",
       "    }\n",
       "\n",
       "    .dataframe tbody tr th {\n",
       "        vertical-align: top;\n",
       "    }\n",
       "\n",
       "    .dataframe thead th {\n",
       "        text-align: right;\n",
       "    }\n",
       "</style>\n",
       "<table border=\"1\" class=\"dataframe\">\n",
       "  <thead>\n",
       "    <tr style=\"text-align: right;\">\n",
       "      <th></th>\n",
       "      <th>ID</th>\n",
       "      <th>innings</th>\n",
       "      <th>overs</th>\n",
       "      <th>ballnumber</th>\n",
       "      <th>batter</th>\n",
       "      <th>bowler</th>\n",
       "      <th>non-striker</th>\n",
       "      <th>extra_type</th>\n",
       "      <th>batsman_run</th>\n",
       "      <th>extras_run</th>\n",
       "      <th>...</th>\n",
       "      <th>SuperOver</th>\n",
       "      <th>WinningTeam</th>\n",
       "      <th>WonBy</th>\n",
       "      <th>Margin</th>\n",
       "      <th>method</th>\n",
       "      <th>Player_of_Match</th>\n",
       "      <th>Team1Players</th>\n",
       "      <th>Team2Players</th>\n",
       "      <th>Umpire1</th>\n",
       "      <th>Umpire2</th>\n",
       "    </tr>\n",
       "  </thead>\n",
       "  <tbody>\n",
       "    <tr>\n",
       "      <th>32337</th>\n",
       "      <td>1237181</td>\n",
       "      <td>1</td>\n",
       "      <td>0</td>\n",
       "      <td>1</td>\n",
       "      <td>MP Stoinis</td>\n",
       "      <td>TA Boult</td>\n",
       "      <td>S Dhawan</td>\n",
       "      <td>NaN</td>\n",
       "      <td>0</td>\n",
       "      <td>0</td>\n",
       "      <td>...</td>\n",
       "      <td>N</td>\n",
       "      <td>Mumbai Indians</td>\n",
       "      <td>Wickets</td>\n",
       "      <td>5.0</td>\n",
       "      <td>NaN</td>\n",
       "      <td>TA Boult</td>\n",
       "      <td>['MP Stoinis', 'S Dhawan', 'AM Rahane', 'SS Iy...</td>\n",
       "      <td>['RG Sharma', 'Q de Kock', 'SA Yadav', 'Ishan ...</td>\n",
       "      <td>CB Gaffaney</td>\n",
       "      <td>Nitin Menon</td>\n",
       "    </tr>\n",
       "    <tr>\n",
       "      <th>32338</th>\n",
       "      <td>1237181</td>\n",
       "      <td>1</td>\n",
       "      <td>0</td>\n",
       "      <td>2</td>\n",
       "      <td>AM Rahane</td>\n",
       "      <td>TA Boult</td>\n",
       "      <td>S Dhawan</td>\n",
       "      <td>NaN</td>\n",
       "      <td>1</td>\n",
       "      <td>0</td>\n",
       "      <td>...</td>\n",
       "      <td>N</td>\n",
       "      <td>Mumbai Indians</td>\n",
       "      <td>Wickets</td>\n",
       "      <td>5.0</td>\n",
       "      <td>NaN</td>\n",
       "      <td>TA Boult</td>\n",
       "      <td>['MP Stoinis', 'S Dhawan', 'AM Rahane', 'SS Iy...</td>\n",
       "      <td>['RG Sharma', 'Q de Kock', 'SA Yadav', 'Ishan ...</td>\n",
       "      <td>CB Gaffaney</td>\n",
       "      <td>Nitin Menon</td>\n",
       "    </tr>\n",
       "    <tr>\n",
       "      <th>32339</th>\n",
       "      <td>1237181</td>\n",
       "      <td>1</td>\n",
       "      <td>0</td>\n",
       "      <td>3</td>\n",
       "      <td>S Dhawan</td>\n",
       "      <td>TA Boult</td>\n",
       "      <td>AM Rahane</td>\n",
       "      <td>NaN</td>\n",
       "      <td>0</td>\n",
       "      <td>0</td>\n",
       "      <td>...</td>\n",
       "      <td>N</td>\n",
       "      <td>Mumbai Indians</td>\n",
       "      <td>Wickets</td>\n",
       "      <td>5.0</td>\n",
       "      <td>NaN</td>\n",
       "      <td>TA Boult</td>\n",
       "      <td>['MP Stoinis', 'S Dhawan', 'AM Rahane', 'SS Iy...</td>\n",
       "      <td>['RG Sharma', 'Q de Kock', 'SA Yadav', 'Ishan ...</td>\n",
       "      <td>CB Gaffaney</td>\n",
       "      <td>Nitin Menon</td>\n",
       "    </tr>\n",
       "    <tr>\n",
       "      <th>32340</th>\n",
       "      <td>1237181</td>\n",
       "      <td>1</td>\n",
       "      <td>0</td>\n",
       "      <td>4</td>\n",
       "      <td>S Dhawan</td>\n",
       "      <td>TA Boult</td>\n",
       "      <td>AM Rahane</td>\n",
       "      <td>NaN</td>\n",
       "      <td>4</td>\n",
       "      <td>0</td>\n",
       "      <td>...</td>\n",
       "      <td>N</td>\n",
       "      <td>Mumbai Indians</td>\n",
       "      <td>Wickets</td>\n",
       "      <td>5.0</td>\n",
       "      <td>NaN</td>\n",
       "      <td>TA Boult</td>\n",
       "      <td>['MP Stoinis', 'S Dhawan', 'AM Rahane', 'SS Iy...</td>\n",
       "      <td>['RG Sharma', 'Q de Kock', 'SA Yadav', 'Ishan ...</td>\n",
       "      <td>CB Gaffaney</td>\n",
       "      <td>Nitin Menon</td>\n",
       "    </tr>\n",
       "    <tr>\n",
       "      <th>32341</th>\n",
       "      <td>1237181</td>\n",
       "      <td>1</td>\n",
       "      <td>0</td>\n",
       "      <td>5</td>\n",
       "      <td>S Dhawan</td>\n",
       "      <td>TA Boult</td>\n",
       "      <td>AM Rahane</td>\n",
       "      <td>NaN</td>\n",
       "      <td>0</td>\n",
       "      <td>0</td>\n",
       "      <td>...</td>\n",
       "      <td>N</td>\n",
       "      <td>Mumbai Indians</td>\n",
       "      <td>Wickets</td>\n",
       "      <td>5.0</td>\n",
       "      <td>NaN</td>\n",
       "      <td>TA Boult</td>\n",
       "      <td>['MP Stoinis', 'S Dhawan', 'AM Rahane', 'SS Iy...</td>\n",
       "      <td>['RG Sharma', 'Q de Kock', 'SA Yadav', 'Ishan ...</td>\n",
       "      <td>CB Gaffaney</td>\n",
       "      <td>Nitin Menon</td>\n",
       "    </tr>\n",
       "  </tbody>\n",
       "</table>\n",
       "<p>5 rows × 36 columns</p>\n",
       "</div>"
      ],
      "text/plain": [
       "            ID  innings  overs  ballnumber      batter    bowler non-striker  \\\n",
       "32337  1237181        1      0           1  MP Stoinis  TA Boult    S Dhawan   \n",
       "32338  1237181        1      0           2   AM Rahane  TA Boult    S Dhawan   \n",
       "32339  1237181        1      0           3    S Dhawan  TA Boult   AM Rahane   \n",
       "32340  1237181        1      0           4    S Dhawan  TA Boult   AM Rahane   \n",
       "32341  1237181        1      0           5    S Dhawan  TA Boult   AM Rahane   \n",
       "\n",
       "      extra_type  batsman_run  extras_run  ...  SuperOver     WinningTeam  \\\n",
       "32337        NaN            0           0  ...          N  Mumbai Indians   \n",
       "32338        NaN            1           0  ...          N  Mumbai Indians   \n",
       "32339        NaN            0           0  ...          N  Mumbai Indians   \n",
       "32340        NaN            4           0  ...          N  Mumbai Indians   \n",
       "32341        NaN            0           0  ...          N  Mumbai Indians   \n",
       "\n",
       "         WonBy Margin method Player_of_Match  \\\n",
       "32337  Wickets    5.0    NaN        TA Boult   \n",
       "32338  Wickets    5.0    NaN        TA Boult   \n",
       "32339  Wickets    5.0    NaN        TA Boult   \n",
       "32340  Wickets    5.0    NaN        TA Boult   \n",
       "32341  Wickets    5.0    NaN        TA Boult   \n",
       "\n",
       "                                            Team1Players  \\\n",
       "32337  ['MP Stoinis', 'S Dhawan', 'AM Rahane', 'SS Iy...   \n",
       "32338  ['MP Stoinis', 'S Dhawan', 'AM Rahane', 'SS Iy...   \n",
       "32339  ['MP Stoinis', 'S Dhawan', 'AM Rahane', 'SS Iy...   \n",
       "32340  ['MP Stoinis', 'S Dhawan', 'AM Rahane', 'SS Iy...   \n",
       "32341  ['MP Stoinis', 'S Dhawan', 'AM Rahane', 'SS Iy...   \n",
       "\n",
       "                                            Team2Players      Umpire1  \\\n",
       "32337  ['RG Sharma', 'Q de Kock', 'SA Yadav', 'Ishan ...  CB Gaffaney   \n",
       "32338  ['RG Sharma', 'Q de Kock', 'SA Yadav', 'Ishan ...  CB Gaffaney   \n",
       "32339  ['RG Sharma', 'Q de Kock', 'SA Yadav', 'Ishan ...  CB Gaffaney   \n",
       "32340  ['RG Sharma', 'Q de Kock', 'SA Yadav', 'Ishan ...  CB Gaffaney   \n",
       "32341  ['RG Sharma', 'Q de Kock', 'SA Yadav', 'Ishan ...  CB Gaffaney   \n",
       "\n",
       "           Umpire2  \n",
       "32337  Nitin Menon  \n",
       "32338  Nitin Menon  \n",
       "32339  Nitin Menon  \n",
       "32340  Nitin Menon  \n",
       "32341  Nitin Menon  \n",
       "\n",
       "[5 rows x 36 columns]"
      ]
     },
     "execution_count": 224,
     "metadata": {},
     "output_type": "execute_result"
    }
   ],
   "source": [
    "df.head()"
   ]
  },
  {
   "cell_type": "markdown",
   "id": "81daf58c",
   "metadata": {},
   "source": [
    "### total matches played"
   ]
  },
  {
   "cell_type": "code",
   "execution_count": 255,
   "id": "6d0e4bbb",
   "metadata": {},
   "outputs": [
    {
     "data": {
      "text/plain": [
       "60"
      ]
     },
     "execution_count": 255,
     "metadata": {},
     "output_type": "execute_result"
    }
   ],
   "source": [
    "df['ID'].unique().size"
   ]
  },
  {
   "cell_type": "markdown",
   "id": "c009c956",
   "metadata": {},
   "source": [
    "### total teams play"
   ]
  },
  {
   "cell_type": "code",
   "execution_count": 227,
   "id": "ad27b821",
   "metadata": {},
   "outputs": [
    {
     "data": {
      "text/plain": [
       "8"
      ]
     },
     "execution_count": 227,
     "metadata": {},
     "output_type": "execute_result"
    }
   ],
   "source": [
    "df[df['Season'] == (df['Season'].sort_values(ascending=False).head(1).values[0])]['Team1'].unique().size"
   ]
  },
  {
   "cell_type": "code",
   "execution_count": 228,
   "id": "287fe501",
   "metadata": {},
   "outputs": [
    {
     "data": {
      "text/plain": [
       "8"
      ]
     },
     "execution_count": 228,
     "metadata": {},
     "output_type": "execute_result"
    }
   ],
   "source": [
    "df[df['Season'] == season]['Team1'].unique().size"
   ]
  },
  {
   "cell_type": "markdown",
   "id": "ab209fb8",
   "metadata": {},
   "source": [
    "### total super overs played"
   ]
  },
  {
   "cell_type": "code",
   "execution_count": 273,
   "id": "73af7128",
   "metadata": {},
   "outputs": [
    {
     "data": {
      "text/plain": [
       "4"
      ]
     },
     "execution_count": 273,
     "metadata": {},
     "output_type": "execute_result"
    }
   ],
   "source": [
    "df[df['SuperOver'] == 'Y']['ID'].unique().size"
   ]
  },
  {
   "cell_type": "markdown",
   "id": "9dcc9347",
   "metadata": {},
   "source": [
    "### highest runs"
   ]
  },
  {
   "cell_type": "code",
   "execution_count": 229,
   "id": "d5adcf56",
   "metadata": {},
   "outputs": [
    {
     "data": {
      "text/plain": [
       "132"
      ]
     },
     "execution_count": 229,
     "metadata": {},
     "output_type": "execute_result"
    }
   ],
   "source": [
    "df.groupby(['batter', 'ID'])['batsman_run'].sum().sort_values(ascending=False).head(1).values[0]"
   ]
  },
  {
   "cell_type": "code",
   "execution_count": 230,
   "id": "472b2760",
   "metadata": {},
   "outputs": [
    {
     "data": {
      "text/plain": [
       "'KL Rahul'"
      ]
     },
     "execution_count": 230,
     "metadata": {},
     "output_type": "execute_result"
    }
   ],
   "source": [
    "df.groupby(['batter', 'ID'])['batsman_run'].sum().sort_values(ascending=False).head(1).index[0][0]"
   ]
  },
  {
   "cell_type": "code",
   "execution_count": 231,
   "id": "4b1b299f",
   "metadata": {},
   "outputs": [
    {
     "data": {
      "text/plain": [
       "'KL Rahul'"
      ]
     },
     "execution_count": 231,
     "metadata": {},
     "output_type": "execute_result"
    }
   ],
   "source": [
    "df.groupby(['batter', 'ID'])['batsman_run'].sum().sort_values(ascending=False).head(1).reset_index()['batter'].values[0]"
   ]
  },
  {
   "cell_type": "code",
   "execution_count": 232,
   "id": "d3693743",
   "metadata": {},
   "outputs": [
    {
     "data": {
      "text/plain": [
       "'KL Rahul'"
      ]
     },
     "execution_count": 232,
     "metadata": {},
     "output_type": "execute_result"
    }
   ],
   "source": [
    "df.groupby(['batter', 'ID'])['batsman_run'].sum().sort_values(ascending=False).head(1).index[0][0]"
   ]
  },
  {
   "cell_type": "markdown",
   "id": "c8fdc074",
   "metadata": {},
   "source": [
    "### highest wickets"
   ]
  },
  {
   "cell_type": "code",
   "execution_count": 233,
   "id": "bed93805",
   "metadata": {},
   "outputs": [
    {
     "data": {
      "text/plain": [
       "5"
      ]
     },
     "execution_count": 233,
     "metadata": {},
     "output_type": "execute_result"
    }
   ],
   "source": [
    "df.groupby(['bowler', 'ID'])['isWicketDelivery'].sum().sort_values(ascending=False).head(1).values[0]"
   ]
  },
  {
   "cell_type": "code",
   "execution_count": 234,
   "id": "fb5e31bf",
   "metadata": {},
   "outputs": [
    {
     "data": {
      "text/plain": [
       "'CV Varun'"
      ]
     },
     "execution_count": 234,
     "metadata": {},
     "output_type": "execute_result"
    }
   ],
   "source": [
    "df.groupby(['bowler', 'ID'])['isWicketDelivery'].sum().sort_values(ascending=False).head(1).index[0][0]"
   ]
  },
  {
   "cell_type": "markdown",
   "id": "ddb430f7",
   "metadata": {},
   "source": [
    "### highest team score"
   ]
  },
  {
   "cell_type": "code",
   "execution_count": 235,
   "id": "530d7eb5",
   "metadata": {},
   "outputs": [],
   "source": [
    "min_max_df = df[(df['WonBy'] != 'NoResults') & (df['method'] != 'D/L') & (df['innings'].isin([1, 2]))]"
   ]
  },
  {
   "cell_type": "code",
   "execution_count": 236,
   "id": "b6b0c807",
   "metadata": {},
   "outputs": [],
   "source": [
    "temp_df = min_max_df.groupby(['ID', 'innings', 'BattingTeam'])['total_run'].sum().reset_index()"
   ]
  },
  {
   "cell_type": "code",
   "execution_count": 237,
   "id": "cd30f97e",
   "metadata": {},
   "outputs": [
    {
     "data": {
      "text/plain": [
       "'Delhi Capitals'"
      ]
     },
     "execution_count": 237,
     "metadata": {},
     "output_type": "execute_result"
    }
   ],
   "source": [
    "temp_df.sort_values('total_run', ascending=False).iloc[0]['BattingTeam']"
   ]
  },
  {
   "cell_type": "code",
   "execution_count": 238,
   "id": "b297b992",
   "metadata": {},
   "outputs": [
    {
     "data": {
      "text/plain": [
       "228"
      ]
     },
     "execution_count": 238,
     "metadata": {},
     "output_type": "execute_result"
    }
   ],
   "source": [
    "temp_df.sort_values('total_run', ascending=False).iloc[0]['total_run']"
   ]
  },
  {
   "cell_type": "markdown",
   "id": "0da7dd57",
   "metadata": {},
   "source": [
    "### lowest team score"
   ]
  },
  {
   "cell_type": "code",
   "execution_count": 239,
   "id": "e756882c",
   "metadata": {},
   "outputs": [
    {
     "data": {
      "text/plain": [
       "'Kolkata Knight Riders'"
      ]
     },
     "execution_count": 239,
     "metadata": {},
     "output_type": "execute_result"
    }
   ],
   "source": [
    "temp_df.sort_values('total_run').iloc[0]['BattingTeam']"
   ]
  },
  {
   "cell_type": "code",
   "execution_count": 240,
   "id": "63a89d06",
   "metadata": {},
   "outputs": [
    {
     "data": {
      "text/plain": [
       "84"
      ]
     },
     "execution_count": 240,
     "metadata": {},
     "output_type": "execute_result"
    }
   ],
   "source": [
    "temp_df.sort_values('total_run').iloc[0]['total_run']"
   ]
  },
  {
   "cell_type": "markdown",
   "id": "92e088e8",
   "metadata": {},
   "source": [
    "### playing teams"
   ]
  },
  {
   "cell_type": "code",
   "execution_count": 241,
   "id": "53be6ca0",
   "metadata": {},
   "outputs": [
    {
     "data": {
      "text/plain": [
       "['Chennai Super Kings',\n",
       " 'Delhi Capitals',\n",
       " 'Kolkata Knight Riders',\n",
       " 'Mumbai Indians',\n",
       " 'Punjab Kings',\n",
       " 'Rajasthan Royals',\n",
       " 'Royal Challengers Bangalore',\n",
       " 'Sunrisers Hyderabad']"
      ]
     },
     "execution_count": 241,
     "metadata": {},
     "output_type": "execute_result"
    }
   ],
   "source": [
    "df[df['Season'] == (df['Season'].sort_values(ascending=False).head(1).values[0])]['Team1'].sort_values().unique().tolist()"
   ]
  },
  {
   "cell_type": "markdown",
   "id": "6b5ce3df",
   "metadata": {},
   "source": [
    "### top 5 batsmans"
   ]
  },
  {
   "cell_type": "code",
   "execution_count": 46,
   "id": "14d35c90",
   "metadata": {},
   "outputs": [
    {
     "data": {
      "text/plain": [
       "['KL Rahul', 'S Dhawan', 'DA Warner', 'SS Iyer', 'Ishan Kishan']"
      ]
     },
     "execution_count": 46,
     "metadata": {},
     "output_type": "execute_result"
    }
   ],
   "source": [
    "df.groupby('batter')['batsman_run'].sum().sort_values(ascending=False).head().index.tolist()"
   ]
  },
  {
   "cell_type": "code",
   "execution_count": 47,
   "id": "138e119b",
   "metadata": {},
   "outputs": [
    {
     "data": {
      "text/plain": [
       "[676, 618, 548, 519, 516]"
      ]
     },
     "execution_count": 47,
     "metadata": {},
     "output_type": "execute_result"
    }
   ],
   "source": [
    "df.groupby('batter')['batsman_run'].sum().sort_values(ascending=False).head().values.tolist()"
   ]
  },
  {
   "cell_type": "markdown",
   "id": "3ecd3a76",
   "metadata": {},
   "source": [
    "### top 5 bowlers"
   ]
  },
  {
   "cell_type": "code",
   "execution_count": 48,
   "id": "f9b5614e",
   "metadata": {},
   "outputs": [
    {
     "data": {
      "text/plain": [
       "['K Rabada', 'JJ Bumrah', 'TA Boult', 'Mohammed Shami', 'A Nortje']"
      ]
     },
     "execution_count": 48,
     "metadata": {},
     "output_type": "execute_result"
    }
   ],
   "source": [
    "df.groupby('bowler')['isWicketDelivery'].sum().sort_values(ascending=False).head().index.tolist()"
   ]
  },
  {
   "cell_type": "code",
   "execution_count": 49,
   "id": "0b94348a",
   "metadata": {},
   "outputs": [
    {
     "data": {
      "text/plain": [
       "[32, 30, 26, 23, 23]"
      ]
     },
     "execution_count": 49,
     "metadata": {},
     "output_type": "execute_result"
    }
   ],
   "source": [
    "df.groupby('bowler')['isWicketDelivery'].sum().sort_values(ascending=False).head().values.tolist()"
   ]
  },
  {
   "cell_type": "markdown",
   "id": "e73fdaf2",
   "metadata": {},
   "source": [
    "### winning team"
   ]
  },
  {
   "cell_type": "code",
   "execution_count": 56,
   "id": "2fffdd8c",
   "metadata": {},
   "outputs": [
    {
     "data": {
      "text/plain": [
       "'Mumbai Indians'"
      ]
     },
     "execution_count": 56,
     "metadata": {},
     "output_type": "execute_result"
    }
   ],
   "source": [
    "df[df['MatchNumber'] == 'Final']['WinningTeam'].unique()[0]"
   ]
  },
  {
   "cell_type": "markdown",
   "id": "18d2cb8d",
   "metadata": {},
   "source": [
    "# team wise"
   ]
  },
  {
   "cell_type": "markdown",
   "id": "5e66d160",
   "metadata": {},
   "source": [
    "## overall analysis"
   ]
  },
  {
   "cell_type": "code",
   "execution_count": 360,
   "id": "0394fb0f",
   "metadata": {},
   "outputs": [],
   "source": [
    "matches = pd.read_csv('../datasets/matches_cleaned.csv')"
   ]
  },
  {
   "cell_type": "markdown",
   "id": "3bc491c4",
   "metadata": {},
   "source": [
    "### teams names"
   ]
  },
  {
   "cell_type": "code",
   "execution_count": 402,
   "id": "5ba06aa4",
   "metadata": {},
   "outputs": [
    {
     "data": {
      "text/plain": [
       "['Chennai Super Kings',\n",
       " 'Deccan Chargers',\n",
       " 'Delhi Capitals',\n",
       " 'Gujarat Lions',\n",
       " 'Gujarat Titans',\n",
       " 'Kochi Tuskers Kerala',\n",
       " 'Kolkata Knight Riders',\n",
       " 'Lucknow Super Giants',\n",
       " 'Mumbai Indians',\n",
       " 'Pune Warriors',\n",
       " 'Punjab Kings',\n",
       " 'Rajasthan Royals',\n",
       " 'Rising Pune Supergiant',\n",
       " 'Royal Challengers Bangalore',\n",
       " 'Sunrisers Hyderabad']"
      ]
     },
     "execution_count": 402,
     "metadata": {},
     "output_type": "execute_result"
    }
   ],
   "source": [
    "matches['Team1'].sort_values().unique().tolist()"
   ]
  },
  {
   "cell_type": "code",
   "execution_count": 403,
   "id": "eb530259",
   "metadata": {},
   "outputs": [],
   "source": [
    "team = 'Chennai Super Kings'"
   ]
  },
  {
   "cell_type": "code",
   "execution_count": 404,
   "id": "892facd2",
   "metadata": {},
   "outputs": [],
   "source": [
    "df = ball_with_match[(ball_with_match['Team1'] == team) | (ball_with_match['Team2'] == team)].copy()"
   ]
  },
  {
   "cell_type": "code",
   "execution_count": 405,
   "id": "f7b1ae20",
   "metadata": {},
   "outputs": [
    {
     "data": {
      "text/html": [
       "<div>\n",
       "<style scoped>\n",
       "    .dataframe tbody tr th:only-of-type {\n",
       "        vertical-align: middle;\n",
       "    }\n",
       "\n",
       "    .dataframe tbody tr th {\n",
       "        vertical-align: top;\n",
       "    }\n",
       "\n",
       "    .dataframe thead th {\n",
       "        text-align: right;\n",
       "    }\n",
       "</style>\n",
       "<table border=\"1\" class=\"dataframe\">\n",
       "  <thead>\n",
       "    <tr style=\"text-align: right;\">\n",
       "      <th></th>\n",
       "      <th>ID</th>\n",
       "      <th>innings</th>\n",
       "      <th>overs</th>\n",
       "      <th>ballnumber</th>\n",
       "      <th>batter</th>\n",
       "      <th>bowler</th>\n",
       "      <th>non-striker</th>\n",
       "      <th>extra_type</th>\n",
       "      <th>batsman_run</th>\n",
       "      <th>extras_run</th>\n",
       "      <th>...</th>\n",
       "      <th>SuperOver</th>\n",
       "      <th>WinningTeam</th>\n",
       "      <th>WonBy</th>\n",
       "      <th>Margin</th>\n",
       "      <th>method</th>\n",
       "      <th>Player_of_Match</th>\n",
       "      <th>Team1Players</th>\n",
       "      <th>Team2Players</th>\n",
       "      <th>Umpire1</th>\n",
       "      <th>Umpire2</th>\n",
       "    </tr>\n",
       "  </thead>\n",
       "  <tbody>\n",
       "    <tr>\n",
       "      <th>1444</th>\n",
       "      <td>1304114</td>\n",
       "      <td>1</td>\n",
       "      <td>0</td>\n",
       "      <td>1</td>\n",
       "      <td>RD Gaikwad</td>\n",
       "      <td>TA Boult</td>\n",
       "      <td>DP Conway</td>\n",
       "      <td>NaN</td>\n",
       "      <td>2</td>\n",
       "      <td>0</td>\n",
       "      <td>...</td>\n",
       "      <td>N</td>\n",
       "      <td>Rajasthan Royals</td>\n",
       "      <td>Wickets</td>\n",
       "      <td>5.0</td>\n",
       "      <td>NaN</td>\n",
       "      <td>R Ashwin</td>\n",
       "      <td>['RD Gaikwad', 'DP Conway', 'MM Ali', 'N Jagad...</td>\n",
       "      <td>['YBK Jaiswal', 'JC Buttler', 'SV Samson', 'D ...</td>\n",
       "      <td>CB Gaffaney</td>\n",
       "      <td>NA Patwardhan</td>\n",
       "    </tr>\n",
       "    <tr>\n",
       "      <th>1445</th>\n",
       "      <td>1304114</td>\n",
       "      <td>1</td>\n",
       "      <td>0</td>\n",
       "      <td>2</td>\n",
       "      <td>RD Gaikwad</td>\n",
       "      <td>TA Boult</td>\n",
       "      <td>DP Conway</td>\n",
       "      <td>NaN</td>\n",
       "      <td>0</td>\n",
       "      <td>0</td>\n",
       "      <td>...</td>\n",
       "      <td>N</td>\n",
       "      <td>Rajasthan Royals</td>\n",
       "      <td>Wickets</td>\n",
       "      <td>5.0</td>\n",
       "      <td>NaN</td>\n",
       "      <td>R Ashwin</td>\n",
       "      <td>['RD Gaikwad', 'DP Conway', 'MM Ali', 'N Jagad...</td>\n",
       "      <td>['YBK Jaiswal', 'JC Buttler', 'SV Samson', 'D ...</td>\n",
       "      <td>CB Gaffaney</td>\n",
       "      <td>NA Patwardhan</td>\n",
       "    </tr>\n",
       "    <tr>\n",
       "      <th>1446</th>\n",
       "      <td>1304114</td>\n",
       "      <td>1</td>\n",
       "      <td>0</td>\n",
       "      <td>3</td>\n",
       "      <td>RD Gaikwad</td>\n",
       "      <td>TA Boult</td>\n",
       "      <td>DP Conway</td>\n",
       "      <td>NaN</td>\n",
       "      <td>0</td>\n",
       "      <td>0</td>\n",
       "      <td>...</td>\n",
       "      <td>N</td>\n",
       "      <td>Rajasthan Royals</td>\n",
       "      <td>Wickets</td>\n",
       "      <td>5.0</td>\n",
       "      <td>NaN</td>\n",
       "      <td>R Ashwin</td>\n",
       "      <td>['RD Gaikwad', 'DP Conway', 'MM Ali', 'N Jagad...</td>\n",
       "      <td>['YBK Jaiswal', 'JC Buttler', 'SV Samson', 'D ...</td>\n",
       "      <td>CB Gaffaney</td>\n",
       "      <td>NA Patwardhan</td>\n",
       "    </tr>\n",
       "    <tr>\n",
       "      <th>1447</th>\n",
       "      <td>1304114</td>\n",
       "      <td>1</td>\n",
       "      <td>0</td>\n",
       "      <td>4</td>\n",
       "      <td>RD Gaikwad</td>\n",
       "      <td>TA Boult</td>\n",
       "      <td>DP Conway</td>\n",
       "      <td>NaN</td>\n",
       "      <td>0</td>\n",
       "      <td>0</td>\n",
       "      <td>...</td>\n",
       "      <td>N</td>\n",
       "      <td>Rajasthan Royals</td>\n",
       "      <td>Wickets</td>\n",
       "      <td>5.0</td>\n",
       "      <td>NaN</td>\n",
       "      <td>R Ashwin</td>\n",
       "      <td>['RD Gaikwad', 'DP Conway', 'MM Ali', 'N Jagad...</td>\n",
       "      <td>['YBK Jaiswal', 'JC Buttler', 'SV Samson', 'D ...</td>\n",
       "      <td>CB Gaffaney</td>\n",
       "      <td>NA Patwardhan</td>\n",
       "    </tr>\n",
       "    <tr>\n",
       "      <th>1448</th>\n",
       "      <td>1304114</td>\n",
       "      <td>1</td>\n",
       "      <td>0</td>\n",
       "      <td>5</td>\n",
       "      <td>RD Gaikwad</td>\n",
       "      <td>TA Boult</td>\n",
       "      <td>DP Conway</td>\n",
       "      <td>NaN</td>\n",
       "      <td>0</td>\n",
       "      <td>0</td>\n",
       "      <td>...</td>\n",
       "      <td>N</td>\n",
       "      <td>Rajasthan Royals</td>\n",
       "      <td>Wickets</td>\n",
       "      <td>5.0</td>\n",
       "      <td>NaN</td>\n",
       "      <td>R Ashwin</td>\n",
       "      <td>['RD Gaikwad', 'DP Conway', 'MM Ali', 'N Jagad...</td>\n",
       "      <td>['YBK Jaiswal', 'JC Buttler', 'SV Samson', 'D ...</td>\n",
       "      <td>CB Gaffaney</td>\n",
       "      <td>NA Patwardhan</td>\n",
       "    </tr>\n",
       "  </tbody>\n",
       "</table>\n",
       "<p>5 rows × 36 columns</p>\n",
       "</div>"
      ],
      "text/plain": [
       "           ID  innings  overs  ballnumber      batter    bowler non-striker  \\\n",
       "1444  1304114        1      0           1  RD Gaikwad  TA Boult   DP Conway   \n",
       "1445  1304114        1      0           2  RD Gaikwad  TA Boult   DP Conway   \n",
       "1446  1304114        1      0           3  RD Gaikwad  TA Boult   DP Conway   \n",
       "1447  1304114        1      0           4  RD Gaikwad  TA Boult   DP Conway   \n",
       "1448  1304114        1      0           5  RD Gaikwad  TA Boult   DP Conway   \n",
       "\n",
       "     extra_type  batsman_run  extras_run  ...  SuperOver       WinningTeam  \\\n",
       "1444        NaN            2           0  ...          N  Rajasthan Royals   \n",
       "1445        NaN            0           0  ...          N  Rajasthan Royals   \n",
       "1446        NaN            0           0  ...          N  Rajasthan Royals   \n",
       "1447        NaN            0           0  ...          N  Rajasthan Royals   \n",
       "1448        NaN            0           0  ...          N  Rajasthan Royals   \n",
       "\n",
       "        WonBy Margin method Player_of_Match  \\\n",
       "1444  Wickets    5.0    NaN        R Ashwin   \n",
       "1445  Wickets    5.0    NaN        R Ashwin   \n",
       "1446  Wickets    5.0    NaN        R Ashwin   \n",
       "1447  Wickets    5.0    NaN        R Ashwin   \n",
       "1448  Wickets    5.0    NaN        R Ashwin   \n",
       "\n",
       "                                           Team1Players  \\\n",
       "1444  ['RD Gaikwad', 'DP Conway', 'MM Ali', 'N Jagad...   \n",
       "1445  ['RD Gaikwad', 'DP Conway', 'MM Ali', 'N Jagad...   \n",
       "1446  ['RD Gaikwad', 'DP Conway', 'MM Ali', 'N Jagad...   \n",
       "1447  ['RD Gaikwad', 'DP Conway', 'MM Ali', 'N Jagad...   \n",
       "1448  ['RD Gaikwad', 'DP Conway', 'MM Ali', 'N Jagad...   \n",
       "\n",
       "                                           Team2Players      Umpire1  \\\n",
       "1444  ['YBK Jaiswal', 'JC Buttler', 'SV Samson', 'D ...  CB Gaffaney   \n",
       "1445  ['YBK Jaiswal', 'JC Buttler', 'SV Samson', 'D ...  CB Gaffaney   \n",
       "1446  ['YBK Jaiswal', 'JC Buttler', 'SV Samson', 'D ...  CB Gaffaney   \n",
       "1447  ['YBK Jaiswal', 'JC Buttler', 'SV Samson', 'D ...  CB Gaffaney   \n",
       "1448  ['YBK Jaiswal', 'JC Buttler', 'SV Samson', 'D ...  CB Gaffaney   \n",
       "\n",
       "            Umpire2  \n",
       "1444  NA Patwardhan  \n",
       "1445  NA Patwardhan  \n",
       "1446  NA Patwardhan  \n",
       "1447  NA Patwardhan  \n",
       "1448  NA Patwardhan  \n",
       "\n",
       "[5 rows x 36 columns]"
      ]
     },
     "execution_count": 405,
     "metadata": {},
     "output_type": "execute_result"
    }
   ],
   "source": [
    "df.head()"
   ]
  },
  {
   "cell_type": "markdown",
   "id": "5c90ecb6",
   "metadata": {},
   "source": [
    "### total seasons played"
   ]
  },
  {
   "cell_type": "code",
   "execution_count": 406,
   "id": "d64dfb44",
   "metadata": {},
   "outputs": [
    {
     "data": {
      "text/plain": [
       "208"
      ]
     },
     "execution_count": 406,
     "metadata": {},
     "output_type": "execute_result"
    }
   ],
   "source": [
    "df['ID'].unique().shape[0]"
   ]
  },
  {
   "cell_type": "markdown",
   "id": "4ea44ec5",
   "metadata": {},
   "source": [
    "### matches played"
   ]
  },
  {
   "cell_type": "code",
   "execution_count": 407,
   "id": "343b3332",
   "metadata": {},
   "outputs": [
    {
     "data": {
      "text/plain": [
       "13"
      ]
     },
     "execution_count": 407,
     "metadata": {},
     "output_type": "execute_result"
    }
   ],
   "source": [
    "df['Season'].unique().size"
   ]
  },
  {
   "cell_type": "markdown",
   "id": "784fcd52",
   "metadata": {},
   "source": [
    "### titles"
   ]
  },
  {
   "cell_type": "code",
   "execution_count": 408,
   "id": "2d29d6ce",
   "metadata": {},
   "outputs": [
    {
     "data": {
      "text/plain": [
       "4"
      ]
     },
     "execution_count": 408,
     "metadata": {},
     "output_type": "execute_result"
    }
   ],
   "source": [
    "df[(df.MatchNumber == 'Final') & (df.WinningTeam == team)]['ID'].unique().shape[0]"
   ]
  },
  {
   "cell_type": "markdown",
   "id": "a8dede9b",
   "metadata": {},
   "source": [
    "### highest runs"
   ]
  },
  {
   "cell_type": "code",
   "execution_count": 409,
   "id": "8896c1b5",
   "metadata": {},
   "outputs": [
    {
     "data": {
      "text/plain": [
       "'M Vijay'"
      ]
     },
     "execution_count": 409,
     "metadata": {},
     "output_type": "execute_result"
    }
   ],
   "source": [
    "df[df['BattingTeam'] == team].groupby(['batter', 'ID'])['batsman_run'].sum().sort_values(ascending=False).head(1).index[0][0]"
   ]
  },
  {
   "cell_type": "code",
   "execution_count": 410,
   "id": "09bd0066",
   "metadata": {},
   "outputs": [
    {
     "data": {
      "text/plain": [
       "127"
      ]
     },
     "execution_count": 410,
     "metadata": {},
     "output_type": "execute_result"
    }
   ],
   "source": [
    "df[df['BattingTeam'] == team].groupby(['batter', 'ID'])['batsman_run'].sum().sort_values(ascending=False).head(1).values[0]"
   ]
  },
  {
   "cell_type": "markdown",
   "id": "1b43ab11",
   "metadata": {},
   "source": [
    "### highest wickets"
   ]
  },
  {
   "cell_type": "code",
   "execution_count": 411,
   "id": "aa0aba38",
   "metadata": {},
   "outputs": [
    {
     "data": {
      "text/plain": [
       "'RA Jadeja'"
      ]
     },
     "execution_count": 411,
     "metadata": {},
     "output_type": "execute_result"
    }
   ],
   "source": [
    "df[df['BattingTeam'] != team].groupby(['bowler', 'ID'])['isWicketDelivery'].sum().sort_values(ascending=False).head(1).index[0][0]"
   ]
  },
  {
   "cell_type": "code",
   "execution_count": 412,
   "id": "2702cdcf",
   "metadata": {},
   "outputs": [
    {
     "data": {
      "text/plain": [
       "5"
      ]
     },
     "execution_count": 412,
     "metadata": {},
     "output_type": "execute_result"
    }
   ],
   "source": [
    "df[df['BattingTeam'] != team].groupby(['bowler', 'ID'])['isWicketDelivery'].sum().sort_values(ascending=False).head(1).values[0]"
   ]
  },
  {
   "cell_type": "markdown",
   "id": "4cdb2885",
   "metadata": {},
   "source": [
    "### highest team score"
   ]
  },
  {
   "cell_type": "code",
   "execution_count": 197,
   "id": "4e789d71",
   "metadata": {},
   "outputs": [],
   "source": [
    "min_max_df = df[(df['BattingTeam'] == team) & (df['WonBy'] != 'NoResults') & (df['method'] != 'D/L') & (df['innings'].isin([1, 2]))]"
   ]
  },
  {
   "cell_type": "code",
   "execution_count": 198,
   "id": "10515fcd",
   "metadata": {},
   "outputs": [],
   "source": [
    "temp_df = min_max_df.groupby(['ID', 'innings', 'BattingTeam'])['total_run'].sum().reset_index()"
   ]
  },
  {
   "cell_type": "code",
   "execution_count": 205,
   "id": "31a81834",
   "metadata": {},
   "outputs": [
    {
     "data": {
      "text/plain": [
       "'Chennai Super Kings'"
      ]
     },
     "execution_count": 205,
     "metadata": {},
     "output_type": "execute_result"
    }
   ],
   "source": [
    "temp_df.sort_values('total_run', ascending=False).iloc[0]['BattingTeam']"
   ]
  },
  {
   "cell_type": "code",
   "execution_count": 206,
   "id": "ae34671c",
   "metadata": {},
   "outputs": [
    {
     "data": {
      "text/plain": [
       "246"
      ]
     },
     "execution_count": 206,
     "metadata": {},
     "output_type": "execute_result"
    }
   ],
   "source": [
    "temp_df.sort_values('total_run', ascending=False).iloc[0]['total_run']"
   ]
  },
  {
   "cell_type": "code",
   "execution_count": 202,
   "id": "7328c992",
   "metadata": {},
   "outputs": [
    {
     "data": {
      "text/html": [
       "<div>\n",
       "<style scoped>\n",
       "    .dataframe tbody tr th:only-of-type {\n",
       "        vertical-align: middle;\n",
       "    }\n",
       "\n",
       "    .dataframe tbody tr th {\n",
       "        vertical-align: top;\n",
       "    }\n",
       "\n",
       "    .dataframe thead th {\n",
       "        text-align: right;\n",
       "    }\n",
       "</style>\n",
       "<table border=\"1\" class=\"dataframe\">\n",
       "  <thead>\n",
       "    <tr style=\"text-align: right;\">\n",
       "      <th></th>\n",
       "      <th>ID</th>\n",
       "      <th>innings</th>\n",
       "      <th>BattingTeam</th>\n",
       "      <th>total_run</th>\n",
       "    </tr>\n",
       "  </thead>\n",
       "  <tbody>\n",
       "    <tr>\n",
       "      <th>36</th>\n",
       "      <td>419137</td>\n",
       "      <td>1</td>\n",
       "      <td>Chennai Super Kings</td>\n",
       "      <td>246</td>\n",
       "    </tr>\n",
       "    <tr>\n",
       "      <th>0</th>\n",
       "      <td>335983</td>\n",
       "      <td>1</td>\n",
       "      <td>Chennai Super Kings</td>\n",
       "      <td>240</td>\n",
       "    </tr>\n",
       "    <tr>\n",
       "      <th>88</th>\n",
       "      <td>598051</td>\n",
       "      <td>1</td>\n",
       "      <td>Chennai Super Kings</td>\n",
       "      <td>223</td>\n",
       "    </tr>\n",
       "    <tr>\n",
       "      <th>74</th>\n",
       "      <td>548380</td>\n",
       "      <td>1</td>\n",
       "      <td>Chennai Super Kings</td>\n",
       "      <td>222</td>\n",
       "    </tr>\n",
       "    <tr>\n",
       "      <th>177</th>\n",
       "      <td>1254072</td>\n",
       "      <td>1</td>\n",
       "      <td>Chennai Super Kings</td>\n",
       "      <td>220</td>\n",
       "    </tr>\n",
       "    <tr>\n",
       "      <th>...</th>\n",
       "      <td>...</td>\n",
       "      <td>...</td>\n",
       "      <td>...</td>\n",
       "      <td>...</td>\n",
       "    </tr>\n",
       "    <tr>\n",
       "      <th>175</th>\n",
       "      <td>1254065</td>\n",
       "      <td>2</td>\n",
       "      <td>Chennai Super Kings</td>\n",
       "      <td>107</td>\n",
       "    </tr>\n",
       "    <tr>\n",
       "      <th>201</th>\n",
       "      <td>1304105</td>\n",
       "      <td>1</td>\n",
       "      <td>Chennai Super Kings</td>\n",
       "      <td>97</td>\n",
       "    </tr>\n",
       "    <tr>\n",
       "      <th>91</th>\n",
       "      <td>598068</td>\n",
       "      <td>2</td>\n",
       "      <td>Chennai Super Kings</td>\n",
       "      <td>82</td>\n",
       "    </tr>\n",
       "    <tr>\n",
       "      <th>87</th>\n",
       "      <td>598046</td>\n",
       "      <td>2</td>\n",
       "      <td>Chennai Super Kings</td>\n",
       "      <td>79</td>\n",
       "    </tr>\n",
       "    <tr>\n",
       "      <th>143</th>\n",
       "      <td>1175356</td>\n",
       "      <td>2</td>\n",
       "      <td>Chennai Super Kings</td>\n",
       "      <td>71</td>\n",
       "    </tr>\n",
       "  </tbody>\n",
       "</table>\n",
       "<p>204 rows × 4 columns</p>\n",
       "</div>"
      ],
      "text/plain": [
       "          ID  innings          BattingTeam  total_run\n",
       "36    419137        1  Chennai Super Kings        246\n",
       "0     335983        1  Chennai Super Kings        240\n",
       "88    598051        1  Chennai Super Kings        223\n",
       "74    548380        1  Chennai Super Kings        222\n",
       "177  1254072        1  Chennai Super Kings        220\n",
       "..       ...      ...                  ...        ...\n",
       "175  1254065        2  Chennai Super Kings        107\n",
       "201  1304105        1  Chennai Super Kings         97\n",
       "91    598068        2  Chennai Super Kings         82\n",
       "87    598046        2  Chennai Super Kings         79\n",
       "143  1175356        2  Chennai Super Kings         71\n",
       "\n",
       "[204 rows x 4 columns]"
      ]
     },
     "execution_count": 202,
     "metadata": {},
     "output_type": "execute_result"
    }
   ],
   "source": [
    "temp_df.sort_values('total_run', ascending=False)"
   ]
  },
  {
   "cell_type": "markdown",
   "id": "ed1cdc64",
   "metadata": {},
   "source": [
    "### lowest team score"
   ]
  },
  {
   "cell_type": "code",
   "execution_count": 208,
   "id": "2057c2a0",
   "metadata": {},
   "outputs": [
    {
     "data": {
      "text/plain": [
       "'Chennai Super Kings'"
      ]
     },
     "execution_count": 208,
     "metadata": {},
     "output_type": "execute_result"
    }
   ],
   "source": [
    "temp_df.sort_values('total_run').iloc[0]['BattingTeam']"
   ]
  },
  {
   "cell_type": "code",
   "execution_count": 209,
   "id": "0d0b7d19",
   "metadata": {},
   "outputs": [
    {
     "data": {
      "text/plain": [
       "71"
      ]
     },
     "execution_count": 209,
     "metadata": {},
     "output_type": "execute_result"
    }
   ],
   "source": [
    "temp_df.sort_values('total_run').iloc[0]['total_run']"
   ]
  },
  {
   "cell_type": "markdown",
   "id": "02a80d1d",
   "metadata": {},
   "source": [
    "### top 5 batsmans"
   ]
  },
  {
   "cell_type": "code",
   "execution_count": 281,
   "id": "2931d5fb",
   "metadata": {},
   "outputs": [
    {
     "data": {
      "text/plain": [
       "['SK Raina', 'MS Dhoni', 'F du Plessis', 'AT Rayudu', 'MEK Hussey']"
      ]
     },
     "execution_count": 281,
     "metadata": {},
     "output_type": "execute_result"
    }
   ],
   "source": [
    "df[df['BattingTeam'] == team].groupby('batter')['batsman_run'].sum().sort_values(ascending=False).head().index.tolist()"
   ]
  },
  {
   "cell_type": "code",
   "execution_count": 282,
   "id": "62d754e9",
   "metadata": {},
   "outputs": [
    {
     "data": {
      "text/plain": [
       "[4695, 4404, 2767, 2094, 1808]"
      ]
     },
     "execution_count": 282,
     "metadata": {},
     "output_type": "execute_result"
    }
   ],
   "source": [
    "df[df['BattingTeam'] == team].groupby('batter')['batsman_run'].sum().sort_values(ascending=False).head().values.tolist()"
   ]
  },
  {
   "cell_type": "markdown",
   "id": "54d2fcd9",
   "metadata": {},
   "source": [
    "### top 5 bowlers"
   ]
  },
  {
   "cell_type": "code",
   "execution_count": 283,
   "id": "2c2851a7",
   "metadata": {},
   "outputs": [
    {
     "data": {
      "text/plain": [
       "['DJ Bravo', 'RA Jadeja', 'R Ashwin', 'JA Morkel', 'MM Sharma']"
      ]
     },
     "execution_count": 283,
     "metadata": {},
     "output_type": "execute_result"
    }
   ],
   "source": [
    "df[df['BattingTeam'] != team].groupby('bowler')['isWicketDelivery'].sum().sort_values(ascending=False).head().index.tolist()"
   ]
  },
  {
   "cell_type": "code",
   "execution_count": 284,
   "id": "0c2f0168",
   "metadata": {},
   "outputs": [
    {
     "data": {
      "text/plain": [
       "[163, 113, 108, 88, 65]"
      ]
     },
     "execution_count": 284,
     "metadata": {},
     "output_type": "execute_result"
    }
   ],
   "source": [
    "df[df['BattingTeam'] != team].groupby('bowler')['isWicketDelivery'].sum().sort_values(ascending=False).head().values.tolist()"
   ]
  },
  {
   "cell_type": "markdown",
   "id": "c3e9e2ca",
   "metadata": {},
   "source": [
    "### matches won"
   ]
  },
  {
   "cell_type": "code",
   "execution_count": 286,
   "id": "13bd74f8",
   "metadata": {},
   "outputs": [
    {
     "data": {
      "text/plain": [
       "121"
      ]
     },
     "execution_count": 286,
     "metadata": {},
     "output_type": "execute_result"
    }
   ],
   "source": [
    "df[df['WinningTeam'] == team]['ID'].unique().shape[0]"
   ]
  },
  {
   "cell_type": "markdown",
   "id": "9a1c1afb",
   "metadata": {},
   "source": [
    "### matches draw"
   ]
  },
  {
   "cell_type": "code",
   "execution_count": 287,
   "id": "bc4a25c3",
   "metadata": {},
   "outputs": [],
   "source": [
    "rr = ball_with_match[(ball_with_match['Team1'] == 'Rajasthan Royals') | (ball_with_match['Team2'] == 'Rajasthan Royals')].copy()"
   ]
  },
  {
   "cell_type": "code",
   "execution_count": 288,
   "id": "803d10ea",
   "metadata": {},
   "outputs": [
    {
     "data": {
      "text/plain": [
       "2"
      ]
     },
     "execution_count": 288,
     "metadata": {},
     "output_type": "execute_result"
    }
   ],
   "source": [
    "rr[rr['WinningTeam'].isnull()]['ID'].unique().shape[0]"
   ]
  },
  {
   "cell_type": "code",
   "execution_count": 289,
   "id": "c9b7da7a",
   "metadata": {},
   "outputs": [
    {
     "data": {
      "text/plain": [
       "0"
      ]
     },
     "execution_count": 289,
     "metadata": {},
     "output_type": "execute_result"
    }
   ],
   "source": [
    "df[df['WinningTeam'].isnull()]['ID'].unique().shape[0]"
   ]
  },
  {
   "cell_type": "markdown",
   "id": "91d2d486",
   "metadata": {},
   "source": [
    "### matches loss"
   ]
  },
  {
   "cell_type": "code",
   "execution_count": 293,
   "id": "2f232849",
   "metadata": {},
   "outputs": [],
   "source": [
    "# loss = total_matches - win - draw"
   ]
  },
  {
   "cell_type": "markdown",
   "id": "810c0744",
   "metadata": {},
   "source": [
    "### pie chart win-loss-draw"
   ]
  },
  {
   "cell_type": "code",
   "execution_count": null,
   "id": "1c313974",
   "metadata": {},
   "outputs": [],
   "source": []
  },
  {
   "cell_type": "markdown",
   "id": "b94d26d6",
   "metadata": {},
   "source": [
    "## season analysis"
   ]
  },
  {
   "cell_type": "code",
   "execution_count": 155,
   "id": "57ba385c",
   "metadata": {},
   "outputs": [],
   "source": [
    "team = 'Chennai Super Kings'\n",
    "season = 2020"
   ]
  },
  {
   "cell_type": "code",
   "execution_count": 156,
   "id": "599e8c6d",
   "metadata": {},
   "outputs": [],
   "source": [
    "df = ball_with_match[((ball_with_match['Team1'] == team) | (ball_with_match['Team2'] == team)) & (ball_with_match['Season'] == season)].copy()"
   ]
  },
  {
   "cell_type": "code",
   "execution_count": 157,
   "id": "614d7f00",
   "metadata": {},
   "outputs": [
    {
     "data": {
      "text/plain": [
       "array([2020], dtype=int64)"
      ]
     },
     "execution_count": 157,
     "metadata": {},
     "output_type": "execute_result"
    }
   ],
   "source": [
    "df['Season'].unique()"
   ]
  },
  {
   "cell_type": "markdown",
   "id": "2fc4d99e",
   "metadata": {},
   "source": [
    "### select team per season"
   ]
  },
  {
   "cell_type": "code",
   "execution_count": 158,
   "id": "b834e328",
   "metadata": {},
   "outputs": [
    {
     "data": {
      "text/plain": [
       "['Chennai Super Kings',\n",
       " 'Delhi Capitals',\n",
       " 'Kolkata Knight Riders',\n",
       " 'Mumbai Indians',\n",
       " 'Punjab Kings',\n",
       " 'Rajasthan Royals',\n",
       " 'Royal Challengers Bangalore',\n",
       " 'Sunrisers Hyderabad']"
      ]
     },
     "execution_count": 158,
     "metadata": {},
     "output_type": "execute_result"
    }
   ],
   "source": [
    "df['Team1'].sort_values().unique().tolist()"
   ]
  },
  {
   "cell_type": "markdown",
   "id": "6c0738e7",
   "metadata": {},
   "source": [
    "### matches played"
   ]
  },
  {
   "cell_type": "code",
   "execution_count": 416,
   "id": "9702ea7a",
   "metadata": {},
   "outputs": [
    {
     "data": {
      "text/plain": [
       "14"
      ]
     },
     "execution_count": 416,
     "metadata": {},
     "output_type": "execute_result"
    }
   ],
   "source": [
    "df['ID'].unique().shape[0]"
   ]
  },
  {
   "cell_type": "markdown",
   "id": "75f56db6",
   "metadata": {},
   "source": [
    "### total super over played"
   ]
  },
  {
   "cell_type": "code",
   "execution_count": 417,
   "id": "a6cc1148",
   "metadata": {},
   "outputs": [
    {
     "data": {
      "text/plain": [
       "0"
      ]
     },
     "execution_count": 417,
     "metadata": {},
     "output_type": "execute_result"
    }
   ],
   "source": [
    "df[df['SuperOver'] == 'Y']['ID'].unique().size"
   ]
  },
  {
   "cell_type": "markdown",
   "id": "4ee46cf2",
   "metadata": {},
   "source": [
    "### title win"
   ]
  },
  {
   "cell_type": "code",
   "execution_count": 418,
   "id": "7316d3e1",
   "metadata": {},
   "outputs": [
    {
     "data": {
      "text/plain": [
       "0"
      ]
     },
     "execution_count": 418,
     "metadata": {},
     "output_type": "execute_result"
    }
   ],
   "source": [
    "df[(df.MatchNumber == 'Final') & (df.WinningTeam == team)]['ID'].unique().shape[0]"
   ]
  },
  {
   "cell_type": "markdown",
   "id": "e1b4e0bc",
   "metadata": {},
   "source": [
    "### highest runs"
   ]
  },
  {
   "cell_type": "code",
   "execution_count": 419,
   "id": "77c3205c",
   "metadata": {},
   "outputs": [
    {
     "data": {
      "text/plain": [
       "'F du Plessis'"
      ]
     },
     "execution_count": 419,
     "metadata": {},
     "output_type": "execute_result"
    }
   ],
   "source": [
    "df[df['BattingTeam'] == team].groupby(['batter', 'ID'])['batsman_run'].sum().sort_values(ascending=False).head(1).index[0][0]"
   ]
  },
  {
   "cell_type": "code",
   "execution_count": 420,
   "id": "b1103f2e",
   "metadata": {},
   "outputs": [
    {
     "data": {
      "text/plain": [
       "87"
      ]
     },
     "execution_count": 420,
     "metadata": {},
     "output_type": "execute_result"
    }
   ],
   "source": [
    "df[df['BattingTeam'] == team].groupby(['batter', 'ID'])['batsman_run'].sum().sort_values(ascending=False).head(1).values[0]"
   ]
  },
  {
   "cell_type": "markdown",
   "id": "35ea5c46",
   "metadata": {},
   "source": [
    "### highest wickets"
   ]
  },
  {
   "cell_type": "code",
   "execution_count": 421,
   "id": "1acb7749",
   "metadata": {},
   "outputs": [
    {
     "data": {
      "text/plain": [
       "'DJ Bravo'"
      ]
     },
     "execution_count": 421,
     "metadata": {},
     "output_type": "execute_result"
    }
   ],
   "source": [
    "df[df['BattingTeam'] != team].groupby(['bowler', 'ID'])['isWicketDelivery'].sum().sort_values(ascending=False).head(1).index[0][0]"
   ]
  },
  {
   "cell_type": "code",
   "execution_count": 422,
   "id": "ffb31c4b",
   "metadata": {},
   "outputs": [
    {
     "data": {
      "text/plain": [
       "4"
      ]
     },
     "execution_count": 422,
     "metadata": {},
     "output_type": "execute_result"
    }
   ],
   "source": [
    "df[df['BattingTeam'] != team].groupby(['bowler', 'ID'])['isWicketDelivery'].sum().sort_values(ascending=False).head(1).values[0]"
   ]
  },
  {
   "cell_type": "markdown",
   "id": "9f92ff3a",
   "metadata": {},
   "source": [
    "### highest score"
   ]
  },
  {
   "cell_type": "code",
   "execution_count": 423,
   "id": "2bf00205",
   "metadata": {},
   "outputs": [],
   "source": [
    "min_max_df = df[(df['BattingTeam'] == team) & (df['WonBy'] != 'NoResults') & (df['method'] != 'D/L') & (df['innings'].isin([1, 2]))]"
   ]
  },
  {
   "cell_type": "code",
   "execution_count": 424,
   "id": "4b182548",
   "metadata": {},
   "outputs": [],
   "source": [
    "temp_df = min_max_df.groupby(['ID', 'innings', 'BattingTeam'])['total_run'].sum().reset_index()"
   ]
  },
  {
   "cell_type": "code",
   "execution_count": 425,
   "id": "3e1409e5",
   "metadata": {},
   "outputs": [
    {
     "data": {
      "text/plain": [
       "'Chennai Super Kings'"
      ]
     },
     "execution_count": 425,
     "metadata": {},
     "output_type": "execute_result"
    }
   ],
   "source": [
    "temp_df.sort_values('total_run', ascending=False).iloc[0]['BattingTeam']"
   ]
  },
  {
   "cell_type": "code",
   "execution_count": 426,
   "id": "f5181ba9",
   "metadata": {},
   "outputs": [
    {
     "data": {
      "text/plain": [
       "200"
      ]
     },
     "execution_count": 426,
     "metadata": {},
     "output_type": "execute_result"
    }
   ],
   "source": [
    "temp_df.sort_values('total_run', ascending=False).iloc[0]['total_run']"
   ]
  },
  {
   "cell_type": "markdown",
   "id": "8037e81d",
   "metadata": {},
   "source": [
    "### lowest score"
   ]
  },
  {
   "cell_type": "code",
   "execution_count": 427,
   "id": "2087ae9b",
   "metadata": {},
   "outputs": [
    {
     "data": {
      "text/plain": [
       "'Chennai Super Kings'"
      ]
     },
     "execution_count": 427,
     "metadata": {},
     "output_type": "execute_result"
    }
   ],
   "source": [
    "temp_df.sort_values('total_run').iloc[0]['BattingTeam']"
   ]
  },
  {
   "cell_type": "code",
   "execution_count": 428,
   "id": "5222ae16",
   "metadata": {},
   "outputs": [
    {
     "data": {
      "text/plain": [
       "114"
      ]
     },
     "execution_count": 428,
     "metadata": {},
     "output_type": "execute_result"
    }
   ],
   "source": [
    "temp_df.sort_values('total_run').iloc[0]['total_run']"
   ]
  },
  {
   "cell_type": "markdown",
   "id": "c93f9c39",
   "metadata": {},
   "source": [
    "### players"
   ]
  },
  {
   "cell_type": "code",
   "execution_count": 501,
   "id": "4a6f57c6",
   "metadata": {},
   "outputs": [
    {
     "data": {
      "text/plain": [
       "['SM Curran',\n",
       " 'F du Plessis',\n",
       " 'SR Watson',\n",
       " 'AT Rayudu',\n",
       " 'MS Dhoni',\n",
       " 'RA Jadeja',\n",
       " 'KM Jadhav',\n",
       " 'PP Chawla',\n",
       " 'DL Chahar',\n",
       " 'SN Thakur',\n",
       " 'JR Hazlewood']"
      ]
     },
     "execution_count": 501,
     "metadata": {},
     "output_type": "execute_result"
    }
   ],
   "source": [
    "df[df['Team1'] == team]['Team1Players'].head(1).values[0][2:-2].split('\\', \\'')"
   ]
  },
  {
   "cell_type": "code",
   "execution_count": 534,
   "id": "0cbc8ccf",
   "metadata": {},
   "outputs": [
    {
     "data": {
      "text/plain": [
       "array(['RD Gaikwad', 'F du Plessis', 'AT Rayudu', 'MS Dhoni', 'M Vijay',\n",
       "       'SR Watson', 'KM Jadhav', 'RA Jadeja', 'SM Curran', 'DJ Bravo',\n",
       "       'DL Chahar', 'N Jagadeesan', 'SN Thakur', 'Imran Tahir'],\n",
       "      dtype=object)"
      ]
     },
     "execution_count": 534,
     "metadata": {},
     "output_type": "execute_result"
    }
   ],
   "source": [
    "df[df['BattingTeam'] == team]['batter'].unique()"
   ]
  },
  {
   "cell_type": "code",
   "execution_count": 544,
   "id": "75f2537d",
   "metadata": {},
   "outputs": [
    {
     "data": {
      "text/plain": [
       "array(['DL Chahar', 'Monu Kumar', 'SM Curran', 'MJ Santner',\n",
       "       'Imran Tahir', 'RA Jadeja', 'JR Hazlewood', 'PP Chawla', 'L Ngidi',\n",
       "       'KV Sharma', 'SN Thakur', 'DJ Bravo'], dtype=object)"
      ]
     },
     "execution_count": 544,
     "metadata": {},
     "output_type": "execute_result"
    }
   ],
   "source": [
    "df[df['BattingTeam'] != team]['bowler'].unique()"
   ]
  },
  {
   "cell_type": "code",
   "execution_count": 538,
   "id": "b0abead0",
   "metadata": {},
   "outputs": [
    {
     "data": {
      "text/plain": [
       "['RD Gaikwad',\n",
       " 'F du Plessis',\n",
       " 'AT Rayudu',\n",
       " 'MS Dhoni',\n",
       " 'M Vijay',\n",
       " 'SR Watson',\n",
       " 'KM Jadhav',\n",
       " 'RA Jadeja',\n",
       " 'SM Curran',\n",
       " 'DJ Bravo',\n",
       " 'DL Chahar',\n",
       " 'N Jagadeesan',\n",
       " 'SN Thakur',\n",
       " 'Imran Tahir',\n",
       " 'DL Chahar',\n",
       " 'Monu Kumar',\n",
       " 'SM Curran',\n",
       " 'MJ Santner',\n",
       " 'Imran Tahir',\n",
       " 'RA Jadeja',\n",
       " 'JR Hazlewood',\n",
       " 'PP Chawla',\n",
       " 'L Ngidi',\n",
       " 'KV Sharma',\n",
       " 'SN Thakur',\n",
       " 'DJ Bravo']"
      ]
     },
     "execution_count": 538,
     "metadata": {},
     "output_type": "execute_result"
    }
   ],
   "source": [
    "df[df['BattingTeam'] == team]['batter'].unique().tolist() + df[df['BattingTeam'] != team]['bowler'].unique().tolist()"
   ]
  },
  {
   "cell_type": "code",
   "execution_count": 547,
   "id": "68354d00",
   "metadata": {},
   "outputs": [
    {
     "data": {
      "text/plain": [
       "['AT Rayudu',\n",
       " 'DJ Bravo',\n",
       " 'DL Chahar',\n",
       " 'F du Plessis',\n",
       " 'Imran Tahir',\n",
       " 'JR Hazlewood',\n",
       " 'KM Jadhav',\n",
       " 'KV Sharma',\n",
       " 'L Ngidi',\n",
       " 'M Vijay',\n",
       " 'MJ Santner',\n",
       " 'MS Dhoni',\n",
       " 'Monu Kumar',\n",
       " 'N Jagadeesan',\n",
       " 'PP Chawla',\n",
       " 'RA Jadeja',\n",
       " 'RD Gaikwad',\n",
       " 'SM Curran',\n",
       " 'SN Thakur',\n",
       " 'SR Watson']"
      ]
     },
     "execution_count": 547,
     "metadata": {},
     "output_type": "execute_result"
    }
   ],
   "source": [
    "sorted(set(df[df['BattingTeam'] == team]['batter'].unique().tolist() + df[df['BattingTeam'] != team]['bowler'].unique().tolist()))"
   ]
  },
  {
   "cell_type": "markdown",
   "id": "aea5cc21",
   "metadata": {},
   "source": [
    "### top 5 batsmans"
   ]
  },
  {
   "cell_type": "code",
   "execution_count": 443,
   "id": "09bc16be",
   "metadata": {},
   "outputs": [
    {
     "data": {
      "text/plain": [
       "batter\n",
       "F du Plessis    449\n",
       "AT Rayudu       359\n",
       "SR Watson       299\n",
       "RA Jadeja       232\n",
       "RD Gaikwad      204\n",
       "MS Dhoni        200\n",
       "SM Curran       186\n",
       "KM Jadhav        62\n",
       "N Jagadeesan     33\n",
       "M Vijay          32\n",
       "Imran Tahir      13\n",
       "SN Thakur        12\n",
       "DJ Bravo          7\n",
       "DL Chahar         7\n",
       "Name: batsman_run, dtype: int64"
      ]
     },
     "execution_count": 443,
     "metadata": {},
     "output_type": "execute_result"
    }
   ],
   "source": [
    "df[df['BattingTeam'] == team].groupby('batter')['batsman_run'].sum().sort_values(ascending=False).head(50)"
   ]
  },
  {
   "cell_type": "code",
   "execution_count": 448,
   "id": "3c904937",
   "metadata": {},
   "outputs": [
    {
     "data": {
      "text/plain": [
       "['F du Plessis', 'AT Rayudu', 'SR Watson', 'RA Jadeja', 'RD Gaikwad']"
      ]
     },
     "execution_count": 448,
     "metadata": {},
     "output_type": "execute_result"
    }
   ],
   "source": [
    "df[df['BattingTeam'] == team].groupby('batter')['batsman_run'].sum().sort_values(ascending=False).head().index.tolist()"
   ]
  },
  {
   "cell_type": "code",
   "execution_count": 444,
   "id": "43e729c2",
   "metadata": {},
   "outputs": [
    {
     "data": {
      "text/plain": [
       "[449, 359, 299, 232, 204]"
      ]
     },
     "execution_count": 444,
     "metadata": {},
     "output_type": "execute_result"
    }
   ],
   "source": [
    "df[df['BattingTeam'] == team].groupby('batter')['batsman_run'].sum().sort_values(ascending=False).head().values.tolist()"
   ]
  },
  {
   "cell_type": "markdown",
   "id": "95356ffa",
   "metadata": {},
   "source": [
    "### top 5 bowlers"
   ]
  },
  {
   "cell_type": "code",
   "execution_count": 447,
   "id": "696c64fd",
   "metadata": {},
   "outputs": [
    {
     "data": {
      "text/plain": [
       "bowler\n",
       "SM Curran       14\n",
       "DL Chahar       12\n",
       "L Ngidi         10\n",
       "SN Thakur       10\n",
       "DJ Bravo         7\n",
       "PP Chawla        7\n",
       "RA Jadeja        6\n",
       "KV Sharma        5\n",
       "MJ Santner       2\n",
       "Imran Tahir      1\n",
       "JR Hazlewood     1\n",
       "Monu Kumar       0\n",
       "Name: isWicketDelivery, dtype: int64"
      ]
     },
     "execution_count": 447,
     "metadata": {},
     "output_type": "execute_result"
    }
   ],
   "source": [
    "df[df['BattingTeam'] != team].groupby('bowler')['isWicketDelivery'].sum().sort_values(ascending=False)"
   ]
  },
  {
   "cell_type": "code",
   "execution_count": 445,
   "id": "703b755e",
   "metadata": {},
   "outputs": [
    {
     "data": {
      "text/plain": [
       "['SM Curran', 'DL Chahar', 'L Ngidi', 'SN Thakur', 'DJ Bravo']"
      ]
     },
     "execution_count": 445,
     "metadata": {},
     "output_type": "execute_result"
    }
   ],
   "source": [
    "df[df['BattingTeam'] != team].groupby('bowler')['isWicketDelivery'].sum().sort_values(ascending=False).head().index.tolist()"
   ]
  },
  {
   "cell_type": "code",
   "execution_count": 446,
   "id": "e1f4c1a1",
   "metadata": {},
   "outputs": [
    {
     "data": {
      "text/plain": [
       "[14, 12, 10, 10, 7]"
      ]
     },
     "execution_count": 446,
     "metadata": {},
     "output_type": "execute_result"
    }
   ],
   "source": [
    "df[df['BattingTeam'] != team].groupby('bowler')['isWicketDelivery'].sum().sort_values(ascending=False).head().values.tolist()"
   ]
  },
  {
   "cell_type": "markdown",
   "id": "baa39db8",
   "metadata": {},
   "source": [
    "### matches won"
   ]
  },
  {
   "cell_type": "code",
   "execution_count": 449,
   "id": "30784e14",
   "metadata": {},
   "outputs": [
    {
     "data": {
      "text/plain": [
       "6"
      ]
     },
     "execution_count": 449,
     "metadata": {},
     "output_type": "execute_result"
    }
   ],
   "source": [
    "df[df['WinningTeam'] == team]['ID'].unique().shape[0]"
   ]
  },
  {
   "cell_type": "markdown",
   "id": "1929bca5",
   "metadata": {},
   "source": [
    "### matches draw"
   ]
  },
  {
   "cell_type": "code",
   "execution_count": 450,
   "id": "bc19b6e5",
   "metadata": {},
   "outputs": [
    {
     "data": {
      "text/plain": [
       "0"
      ]
     },
     "execution_count": 450,
     "metadata": {},
     "output_type": "execute_result"
    }
   ],
   "source": [
    "df[df['WinningTeam'].isnull()]['ID'].unique().shape[0]"
   ]
  },
  {
   "cell_type": "markdown",
   "id": "8c37df6b",
   "metadata": {},
   "source": [
    "### matches loss"
   ]
  },
  {
   "cell_type": "code",
   "execution_count": 451,
   "id": "ead1b7a3",
   "metadata": {},
   "outputs": [],
   "source": [
    "# loss = total - won - draw"
   ]
  },
  {
   "cell_type": "markdown",
   "id": "2f053bff",
   "metadata": {},
   "source": [
    "# team vs team wise"
   ]
  },
  {
   "cell_type": "markdown",
   "id": "a139259d",
   "metadata": {},
   "source": [
    "## overall analysis"
   ]
  },
  {
   "cell_type": "code",
   "execution_count": 140,
   "id": "0b82ae6e",
   "metadata": {},
   "outputs": [],
   "source": [
    "team1 = 'Chennai Super Kings'\n",
    "team2 = 'Mumbai Indians'"
   ]
  },
  {
   "cell_type": "code",
   "execution_count": 141,
   "id": "f3c92e71",
   "metadata": {},
   "outputs": [],
   "source": [
    "df = ball_with_match[((ball_with_match['Team1'] == team1) & (ball_with_match['Team2'] == team2)) | ((ball_with_match['Team1'] == team2) & (ball_with_match['Team2'] == team1))]"
   ]
  },
  {
   "cell_type": "code",
   "execution_count": 142,
   "id": "eb0f1c9f",
   "metadata": {},
   "outputs": [
    {
     "data": {
      "text/html": [
       "<div>\n",
       "<style scoped>\n",
       "    .dataframe tbody tr th:only-of-type {\n",
       "        vertical-align: middle;\n",
       "    }\n",
       "\n",
       "    .dataframe tbody tr th {\n",
       "        vertical-align: top;\n",
       "    }\n",
       "\n",
       "    .dataframe thead th {\n",
       "        text-align: right;\n",
       "    }\n",
       "</style>\n",
       "<table border=\"1\" class=\"dataframe\">\n",
       "  <thead>\n",
       "    <tr style=\"text-align: right;\">\n",
       "      <th></th>\n",
       "      <th>ID</th>\n",
       "      <th>innings</th>\n",
       "      <th>overs</th>\n",
       "      <th>ballnumber</th>\n",
       "      <th>batter</th>\n",
       "      <th>bowler</th>\n",
       "      <th>non-striker</th>\n",
       "      <th>extra_type</th>\n",
       "      <th>batsman_run</th>\n",
       "      <th>extras_run</th>\n",
       "      <th>...</th>\n",
       "      <th>SuperOver</th>\n",
       "      <th>WinningTeam</th>\n",
       "      <th>WonBy</th>\n",
       "      <th>Margin</th>\n",
       "      <th>method</th>\n",
       "      <th>Player_of_Match</th>\n",
       "      <th>Team1Players</th>\n",
       "      <th>Team2Players</th>\n",
       "      <th>Umpire1</th>\n",
       "      <th>Umpire2</th>\n",
       "    </tr>\n",
       "  </thead>\n",
       "  <tbody>\n",
       "    <tr>\n",
       "      <th>3679</th>\n",
       "      <td>1304105</td>\n",
       "      <td>1</td>\n",
       "      <td>0</td>\n",
       "      <td>1</td>\n",
       "      <td>RD Gaikwad</td>\n",
       "      <td>DR Sams</td>\n",
       "      <td>DP Conway</td>\n",
       "      <td>NaN</td>\n",
       "      <td>1</td>\n",
       "      <td>0</td>\n",
       "      <td>...</td>\n",
       "      <td>N</td>\n",
       "      <td>Mumbai Indians</td>\n",
       "      <td>Wickets</td>\n",
       "      <td>5.0</td>\n",
       "      <td>NaN</td>\n",
       "      <td>DR Sams</td>\n",
       "      <td>['RD Gaikwad', 'DP Conway', 'MM Ali', 'RV Utha...</td>\n",
       "      <td>['Ishan Kishan', 'RG Sharma', 'DR Sams', 'Tila...</td>\n",
       "      <td>Chirra Ravikanthreddy</td>\n",
       "      <td>CB Gaffaney</td>\n",
       "    </tr>\n",
       "    <tr>\n",
       "      <th>3680</th>\n",
       "      <td>1304105</td>\n",
       "      <td>1</td>\n",
       "      <td>0</td>\n",
       "      <td>2</td>\n",
       "      <td>DP Conway</td>\n",
       "      <td>DR Sams</td>\n",
       "      <td>RD Gaikwad</td>\n",
       "      <td>NaN</td>\n",
       "      <td>0</td>\n",
       "      <td>0</td>\n",
       "      <td>...</td>\n",
       "      <td>N</td>\n",
       "      <td>Mumbai Indians</td>\n",
       "      <td>Wickets</td>\n",
       "      <td>5.0</td>\n",
       "      <td>NaN</td>\n",
       "      <td>DR Sams</td>\n",
       "      <td>['RD Gaikwad', 'DP Conway', 'MM Ali', 'RV Utha...</td>\n",
       "      <td>['Ishan Kishan', 'RG Sharma', 'DR Sams', 'Tila...</td>\n",
       "      <td>Chirra Ravikanthreddy</td>\n",
       "      <td>CB Gaffaney</td>\n",
       "    </tr>\n",
       "    <tr>\n",
       "      <th>3681</th>\n",
       "      <td>1304105</td>\n",
       "      <td>1</td>\n",
       "      <td>0</td>\n",
       "      <td>3</td>\n",
       "      <td>MM Ali</td>\n",
       "      <td>DR Sams</td>\n",
       "      <td>RD Gaikwad</td>\n",
       "      <td>NaN</td>\n",
       "      <td>0</td>\n",
       "      <td>0</td>\n",
       "      <td>...</td>\n",
       "      <td>N</td>\n",
       "      <td>Mumbai Indians</td>\n",
       "      <td>Wickets</td>\n",
       "      <td>5.0</td>\n",
       "      <td>NaN</td>\n",
       "      <td>DR Sams</td>\n",
       "      <td>['RD Gaikwad', 'DP Conway', 'MM Ali', 'RV Utha...</td>\n",
       "      <td>['Ishan Kishan', 'RG Sharma', 'DR Sams', 'Tila...</td>\n",
       "      <td>Chirra Ravikanthreddy</td>\n",
       "      <td>CB Gaffaney</td>\n",
       "    </tr>\n",
       "    <tr>\n",
       "      <th>3682</th>\n",
       "      <td>1304105</td>\n",
       "      <td>1</td>\n",
       "      <td>0</td>\n",
       "      <td>4</td>\n",
       "      <td>MM Ali</td>\n",
       "      <td>DR Sams</td>\n",
       "      <td>RD Gaikwad</td>\n",
       "      <td>wides</td>\n",
       "      <td>0</td>\n",
       "      <td>1</td>\n",
       "      <td>...</td>\n",
       "      <td>N</td>\n",
       "      <td>Mumbai Indians</td>\n",
       "      <td>Wickets</td>\n",
       "      <td>5.0</td>\n",
       "      <td>NaN</td>\n",
       "      <td>DR Sams</td>\n",
       "      <td>['RD Gaikwad', 'DP Conway', 'MM Ali', 'RV Utha...</td>\n",
       "      <td>['Ishan Kishan', 'RG Sharma', 'DR Sams', 'Tila...</td>\n",
       "      <td>Chirra Ravikanthreddy</td>\n",
       "      <td>CB Gaffaney</td>\n",
       "    </tr>\n",
       "    <tr>\n",
       "      <th>3683</th>\n",
       "      <td>1304105</td>\n",
       "      <td>1</td>\n",
       "      <td>0</td>\n",
       "      <td>5</td>\n",
       "      <td>MM Ali</td>\n",
       "      <td>DR Sams</td>\n",
       "      <td>RD Gaikwad</td>\n",
       "      <td>NaN</td>\n",
       "      <td>0</td>\n",
       "      <td>0</td>\n",
       "      <td>...</td>\n",
       "      <td>N</td>\n",
       "      <td>Mumbai Indians</td>\n",
       "      <td>Wickets</td>\n",
       "      <td>5.0</td>\n",
       "      <td>NaN</td>\n",
       "      <td>DR Sams</td>\n",
       "      <td>['RD Gaikwad', 'DP Conway', 'MM Ali', 'RV Utha...</td>\n",
       "      <td>['Ishan Kishan', 'RG Sharma', 'DR Sams', 'Tila...</td>\n",
       "      <td>Chirra Ravikanthreddy</td>\n",
       "      <td>CB Gaffaney</td>\n",
       "    </tr>\n",
       "    <tr>\n",
       "      <th>...</th>\n",
       "      <td>...</td>\n",
       "      <td>...</td>\n",
       "      <td>...</td>\n",
       "      <td>...</td>\n",
       "      <td>...</td>\n",
       "      <td>...</td>\n",
       "      <td>...</td>\n",
       "      <td>...</td>\n",
       "      <td>...</td>\n",
       "      <td>...</td>\n",
       "      <td>...</td>\n",
       "      <td>...</td>\n",
       "      <td>...</td>\n",
       "      <td>...</td>\n",
       "      <td>...</td>\n",
       "      <td>...</td>\n",
       "      <td>...</td>\n",
       "      <td>...</td>\n",
       "      <td>...</td>\n",
       "      <td>...</td>\n",
       "      <td>...</td>\n",
       "    </tr>\n",
       "    <tr>\n",
       "      <th>224325</th>\n",
       "      <td>335989</td>\n",
       "      <td>2</td>\n",
       "      <td>19</td>\n",
       "      <td>3</td>\n",
       "      <td>AM Nayar</td>\n",
       "      <td>Joginder Sharma</td>\n",
       "      <td>A Nehra</td>\n",
       "      <td>noballs</td>\n",
       "      <td>1</td>\n",
       "      <td>1</td>\n",
       "      <td>...</td>\n",
       "      <td>N</td>\n",
       "      <td>Chennai Super Kings</td>\n",
       "      <td>Runs</td>\n",
       "      <td>6.0</td>\n",
       "      <td>NaN</td>\n",
       "      <td>ML Hayden</td>\n",
       "      <td>['PA Patel', 'ML Hayden', 'MEK Hussey', 'SK Ra...</td>\n",
       "      <td>['L Ronchi', 'ST Jayasuriya', 'RV Uthappa', 'S...</td>\n",
       "      <td>DJ Harper</td>\n",
       "      <td>GA Pratapkumar</td>\n",
       "    </tr>\n",
       "    <tr>\n",
       "      <th>224326</th>\n",
       "      <td>335989</td>\n",
       "      <td>2</td>\n",
       "      <td>19</td>\n",
       "      <td>4</td>\n",
       "      <td>A Nehra</td>\n",
       "      <td>Joginder Sharma</td>\n",
       "      <td>AM Nayar</td>\n",
       "      <td>NaN</td>\n",
       "      <td>0</td>\n",
       "      <td>0</td>\n",
       "      <td>...</td>\n",
       "      <td>N</td>\n",
       "      <td>Chennai Super Kings</td>\n",
       "      <td>Runs</td>\n",
       "      <td>6.0</td>\n",
       "      <td>NaN</td>\n",
       "      <td>ML Hayden</td>\n",
       "      <td>['PA Patel', 'ML Hayden', 'MEK Hussey', 'SK Ra...</td>\n",
       "      <td>['L Ronchi', 'ST Jayasuriya', 'RV Uthappa', 'S...</td>\n",
       "      <td>DJ Harper</td>\n",
       "      <td>GA Pratapkumar</td>\n",
       "    </tr>\n",
       "    <tr>\n",
       "      <th>224327</th>\n",
       "      <td>335989</td>\n",
       "      <td>2</td>\n",
       "      <td>19</td>\n",
       "      <td>5</td>\n",
       "      <td>A Nehra</td>\n",
       "      <td>Joginder Sharma</td>\n",
       "      <td>AM Nayar</td>\n",
       "      <td>NaN</td>\n",
       "      <td>1</td>\n",
       "      <td>0</td>\n",
       "      <td>...</td>\n",
       "      <td>N</td>\n",
       "      <td>Chennai Super Kings</td>\n",
       "      <td>Runs</td>\n",
       "      <td>6.0</td>\n",
       "      <td>NaN</td>\n",
       "      <td>ML Hayden</td>\n",
       "      <td>['PA Patel', 'ML Hayden', 'MEK Hussey', 'SK Ra...</td>\n",
       "      <td>['L Ronchi', 'ST Jayasuriya', 'RV Uthappa', 'S...</td>\n",
       "      <td>DJ Harper</td>\n",
       "      <td>GA Pratapkumar</td>\n",
       "    </tr>\n",
       "    <tr>\n",
       "      <th>224328</th>\n",
       "      <td>335989</td>\n",
       "      <td>2</td>\n",
       "      <td>19</td>\n",
       "      <td>6</td>\n",
       "      <td>AM Nayar</td>\n",
       "      <td>Joginder Sharma</td>\n",
       "      <td>A Nehra</td>\n",
       "      <td>NaN</td>\n",
       "      <td>0</td>\n",
       "      <td>0</td>\n",
       "      <td>...</td>\n",
       "      <td>N</td>\n",
       "      <td>Chennai Super Kings</td>\n",
       "      <td>Runs</td>\n",
       "      <td>6.0</td>\n",
       "      <td>NaN</td>\n",
       "      <td>ML Hayden</td>\n",
       "      <td>['PA Patel', 'ML Hayden', 'MEK Hussey', 'SK Ra...</td>\n",
       "      <td>['L Ronchi', 'ST Jayasuriya', 'RV Uthappa', 'S...</td>\n",
       "      <td>DJ Harper</td>\n",
       "      <td>GA Pratapkumar</td>\n",
       "    </tr>\n",
       "    <tr>\n",
       "      <th>224329</th>\n",
       "      <td>335989</td>\n",
       "      <td>2</td>\n",
       "      <td>19</td>\n",
       "      <td>7</td>\n",
       "      <td>AM Nayar</td>\n",
       "      <td>Joginder Sharma</td>\n",
       "      <td>A Nehra</td>\n",
       "      <td>NaN</td>\n",
       "      <td>1</td>\n",
       "      <td>0</td>\n",
       "      <td>...</td>\n",
       "      <td>N</td>\n",
       "      <td>Chennai Super Kings</td>\n",
       "      <td>Runs</td>\n",
       "      <td>6.0</td>\n",
       "      <td>NaN</td>\n",
       "      <td>ML Hayden</td>\n",
       "      <td>['PA Patel', 'ML Hayden', 'MEK Hussey', 'SK Ra...</td>\n",
       "      <td>['L Ronchi', 'ST Jayasuriya', 'RV Uthappa', 'S...</td>\n",
       "      <td>DJ Harper</td>\n",
       "      <td>GA Pratapkumar</td>\n",
       "    </tr>\n",
       "  </tbody>\n",
       "</table>\n",
       "<p>8207 rows × 36 columns</p>\n",
       "</div>"
      ],
      "text/plain": [
       "             ID  innings  overs  ballnumber      batter           bowler  \\\n",
       "3679    1304105        1      0           1  RD Gaikwad          DR Sams   \n",
       "3680    1304105        1      0           2   DP Conway          DR Sams   \n",
       "3681    1304105        1      0           3      MM Ali          DR Sams   \n",
       "3682    1304105        1      0           4      MM Ali          DR Sams   \n",
       "3683    1304105        1      0           5      MM Ali          DR Sams   \n",
       "...         ...      ...    ...         ...         ...              ...   \n",
       "224325   335989        2     19           3    AM Nayar  Joginder Sharma   \n",
       "224326   335989        2     19           4     A Nehra  Joginder Sharma   \n",
       "224327   335989        2     19           5     A Nehra  Joginder Sharma   \n",
       "224328   335989        2     19           6    AM Nayar  Joginder Sharma   \n",
       "224329   335989        2     19           7    AM Nayar  Joginder Sharma   \n",
       "\n",
       "       non-striker extra_type  batsman_run  extras_run  ...  SuperOver  \\\n",
       "3679     DP Conway        NaN            1           0  ...          N   \n",
       "3680    RD Gaikwad        NaN            0           0  ...          N   \n",
       "3681    RD Gaikwad        NaN            0           0  ...          N   \n",
       "3682    RD Gaikwad      wides            0           1  ...          N   \n",
       "3683    RD Gaikwad        NaN            0           0  ...          N   \n",
       "...            ...        ...          ...         ...  ...        ...   \n",
       "224325     A Nehra    noballs            1           1  ...          N   \n",
       "224326    AM Nayar        NaN            0           0  ...          N   \n",
       "224327    AM Nayar        NaN            1           0  ...          N   \n",
       "224328     A Nehra        NaN            0           0  ...          N   \n",
       "224329     A Nehra        NaN            1           0  ...          N   \n",
       "\n",
       "                WinningTeam    WonBy Margin method Player_of_Match  \\\n",
       "3679         Mumbai Indians  Wickets    5.0    NaN         DR Sams   \n",
       "3680         Mumbai Indians  Wickets    5.0    NaN         DR Sams   \n",
       "3681         Mumbai Indians  Wickets    5.0    NaN         DR Sams   \n",
       "3682         Mumbai Indians  Wickets    5.0    NaN         DR Sams   \n",
       "3683         Mumbai Indians  Wickets    5.0    NaN         DR Sams   \n",
       "...                     ...      ...    ...    ...             ...   \n",
       "224325  Chennai Super Kings     Runs    6.0    NaN       ML Hayden   \n",
       "224326  Chennai Super Kings     Runs    6.0    NaN       ML Hayden   \n",
       "224327  Chennai Super Kings     Runs    6.0    NaN       ML Hayden   \n",
       "224328  Chennai Super Kings     Runs    6.0    NaN       ML Hayden   \n",
       "224329  Chennai Super Kings     Runs    6.0    NaN       ML Hayden   \n",
       "\n",
       "                                             Team1Players  \\\n",
       "3679    ['RD Gaikwad', 'DP Conway', 'MM Ali', 'RV Utha...   \n",
       "3680    ['RD Gaikwad', 'DP Conway', 'MM Ali', 'RV Utha...   \n",
       "3681    ['RD Gaikwad', 'DP Conway', 'MM Ali', 'RV Utha...   \n",
       "3682    ['RD Gaikwad', 'DP Conway', 'MM Ali', 'RV Utha...   \n",
       "3683    ['RD Gaikwad', 'DP Conway', 'MM Ali', 'RV Utha...   \n",
       "...                                                   ...   \n",
       "224325  ['PA Patel', 'ML Hayden', 'MEK Hussey', 'SK Ra...   \n",
       "224326  ['PA Patel', 'ML Hayden', 'MEK Hussey', 'SK Ra...   \n",
       "224327  ['PA Patel', 'ML Hayden', 'MEK Hussey', 'SK Ra...   \n",
       "224328  ['PA Patel', 'ML Hayden', 'MEK Hussey', 'SK Ra...   \n",
       "224329  ['PA Patel', 'ML Hayden', 'MEK Hussey', 'SK Ra...   \n",
       "\n",
       "                                             Team2Players  \\\n",
       "3679    ['Ishan Kishan', 'RG Sharma', 'DR Sams', 'Tila...   \n",
       "3680    ['Ishan Kishan', 'RG Sharma', 'DR Sams', 'Tila...   \n",
       "3681    ['Ishan Kishan', 'RG Sharma', 'DR Sams', 'Tila...   \n",
       "3682    ['Ishan Kishan', 'RG Sharma', 'DR Sams', 'Tila...   \n",
       "3683    ['Ishan Kishan', 'RG Sharma', 'DR Sams', 'Tila...   \n",
       "...                                                   ...   \n",
       "224325  ['L Ronchi', 'ST Jayasuriya', 'RV Uthappa', 'S...   \n",
       "224326  ['L Ronchi', 'ST Jayasuriya', 'RV Uthappa', 'S...   \n",
       "224327  ['L Ronchi', 'ST Jayasuriya', 'RV Uthappa', 'S...   \n",
       "224328  ['L Ronchi', 'ST Jayasuriya', 'RV Uthappa', 'S...   \n",
       "224329  ['L Ronchi', 'ST Jayasuriya', 'RV Uthappa', 'S...   \n",
       "\n",
       "                      Umpire1         Umpire2  \n",
       "3679    Chirra Ravikanthreddy     CB Gaffaney  \n",
       "3680    Chirra Ravikanthreddy     CB Gaffaney  \n",
       "3681    Chirra Ravikanthreddy     CB Gaffaney  \n",
       "3682    Chirra Ravikanthreddy     CB Gaffaney  \n",
       "3683    Chirra Ravikanthreddy     CB Gaffaney  \n",
       "...                       ...             ...  \n",
       "224325              DJ Harper  GA Pratapkumar  \n",
       "224326              DJ Harper  GA Pratapkumar  \n",
       "224327              DJ Harper  GA Pratapkumar  \n",
       "224328              DJ Harper  GA Pratapkumar  \n",
       "224329              DJ Harper  GA Pratapkumar  \n",
       "\n",
       "[8207 rows x 36 columns]"
      ]
     },
     "execution_count": 142,
     "metadata": {},
     "output_type": "execute_result"
    }
   ],
   "source": [
    "df"
   ]
  },
  {
   "cell_type": "markdown",
   "id": "27a9e698",
   "metadata": {},
   "source": [
    "### select teams per team"
   ]
  },
  {
   "cell_type": "code",
   "execution_count": 249,
   "id": "10fac273",
   "metadata": {},
   "outputs": [],
   "source": [
    "team = 'Chennai Super Kings'"
   ]
  },
  {
   "cell_type": "code",
   "execution_count": 250,
   "id": "30d3a79d",
   "metadata": {},
   "outputs": [],
   "source": [
    "d = ball_with_match[(ball_with_match['Team1'] == team1) | (ball_with_match['Team2'] == team1)]"
   ]
  },
  {
   "cell_type": "code",
   "execution_count": 251,
   "id": "21fd25f9",
   "metadata": {},
   "outputs": [
    {
     "data": {
      "text/html": [
       "<div>\n",
       "<style scoped>\n",
       "    .dataframe tbody tr th:only-of-type {\n",
       "        vertical-align: middle;\n",
       "    }\n",
       "\n",
       "    .dataframe tbody tr th {\n",
       "        vertical-align: top;\n",
       "    }\n",
       "\n",
       "    .dataframe thead th {\n",
       "        text-align: right;\n",
       "    }\n",
       "</style>\n",
       "<table border=\"1\" class=\"dataframe\">\n",
       "  <thead>\n",
       "    <tr style=\"text-align: right;\">\n",
       "      <th></th>\n",
       "      <th>ID</th>\n",
       "      <th>innings</th>\n",
       "      <th>overs</th>\n",
       "      <th>ballnumber</th>\n",
       "      <th>batter</th>\n",
       "      <th>bowler</th>\n",
       "      <th>non-striker</th>\n",
       "      <th>extra_type</th>\n",
       "      <th>batsman_run</th>\n",
       "      <th>extras_run</th>\n",
       "      <th>...</th>\n",
       "      <th>SuperOver</th>\n",
       "      <th>WinningTeam</th>\n",
       "      <th>WonBy</th>\n",
       "      <th>Margin</th>\n",
       "      <th>method</th>\n",
       "      <th>Player_of_Match</th>\n",
       "      <th>Team1Players</th>\n",
       "      <th>Team2Players</th>\n",
       "      <th>Umpire1</th>\n",
       "      <th>Umpire2</th>\n",
       "    </tr>\n",
       "  </thead>\n",
       "  <tbody>\n",
       "    <tr>\n",
       "      <th>1444</th>\n",
       "      <td>1304114</td>\n",
       "      <td>1</td>\n",
       "      <td>0</td>\n",
       "      <td>1</td>\n",
       "      <td>RD Gaikwad</td>\n",
       "      <td>TA Boult</td>\n",
       "      <td>DP Conway</td>\n",
       "      <td>NaN</td>\n",
       "      <td>2</td>\n",
       "      <td>0</td>\n",
       "      <td>...</td>\n",
       "      <td>N</td>\n",
       "      <td>Rajasthan Royals</td>\n",
       "      <td>Wickets</td>\n",
       "      <td>5.0</td>\n",
       "      <td>NaN</td>\n",
       "      <td>R Ashwin</td>\n",
       "      <td>['RD Gaikwad', 'DP Conway', 'MM Ali', 'N Jagad...</td>\n",
       "      <td>['YBK Jaiswal', 'JC Buttler', 'SV Samson', 'D ...</td>\n",
       "      <td>CB Gaffaney</td>\n",
       "      <td>NA Patwardhan</td>\n",
       "    </tr>\n",
       "  </tbody>\n",
       "</table>\n",
       "<p>1 rows × 36 columns</p>\n",
       "</div>"
      ],
      "text/plain": [
       "           ID  innings  overs  ballnumber      batter    bowler non-striker  \\\n",
       "1444  1304114        1      0           1  RD Gaikwad  TA Boult   DP Conway   \n",
       "\n",
       "     extra_type  batsman_run  extras_run  ...  SuperOver       WinningTeam  \\\n",
       "1444        NaN            2           0  ...          N  Rajasthan Royals   \n",
       "\n",
       "        WonBy Margin method Player_of_Match  \\\n",
       "1444  Wickets    5.0    NaN        R Ashwin   \n",
       "\n",
       "                                           Team1Players  \\\n",
       "1444  ['RD Gaikwad', 'DP Conway', 'MM Ali', 'N Jagad...   \n",
       "\n",
       "                                           Team2Players      Umpire1  \\\n",
       "1444  ['YBK Jaiswal', 'JC Buttler', 'SV Samson', 'D ...  CB Gaffaney   \n",
       "\n",
       "            Umpire2  \n",
       "1444  NA Patwardhan  \n",
       "\n",
       "[1 rows x 36 columns]"
      ]
     },
     "execution_count": 251,
     "metadata": {},
     "output_type": "execute_result"
    }
   ],
   "source": [
    "d.head(1)"
   ]
  },
  {
   "cell_type": "code",
   "execution_count": 260,
   "id": "6b08eb9f",
   "metadata": {},
   "outputs": [
    {
     "data": {
      "text/plain": [
       "['Deccan Chargers',\n",
       " 'Delhi Capitals',\n",
       " 'Gujarat Titans',\n",
       " 'Kochi Tuskers Kerala',\n",
       " 'Kolkata Knight Riders',\n",
       " 'Lucknow Super Giants',\n",
       " 'Mumbai Indians',\n",
       " 'Pune Warriors',\n",
       " 'Punjab Kings',\n",
       " 'Rajasthan Royals',\n",
       " 'Royal Challengers Bangalore',\n",
       " 'Sunrisers Hyderabad']"
      ]
     },
     "execution_count": 260,
     "metadata": {},
     "output_type": "execute_result"
    }
   ],
   "source": [
    "sorted(d[d['BattingTeam']!=team]['BattingTeam'].sort_values().unique())"
   ]
  },
  {
   "cell_type": "code",
   "execution_count": 261,
   "id": "fdedbdb8",
   "metadata": {},
   "outputs": [],
   "source": [
    "l = []\n",
    "for i in sorted(d[d['BattingTeam']!=team]['BattingTeam'].sort_values().unique()):\n",
    "    if i != team:\n",
    "        l.append(i)"
   ]
  },
  {
   "cell_type": "code",
   "execution_count": 262,
   "id": "5d02830a",
   "metadata": {},
   "outputs": [
    {
     "data": {
      "text/plain": [
       "['Deccan Chargers',\n",
       " 'Delhi Capitals',\n",
       " 'Gujarat Titans',\n",
       " 'Kochi Tuskers Kerala',\n",
       " 'Kolkata Knight Riders',\n",
       " 'Lucknow Super Giants',\n",
       " 'Mumbai Indians',\n",
       " 'Pune Warriors',\n",
       " 'Punjab Kings',\n",
       " 'Rajasthan Royals',\n",
       " 'Royal Challengers Bangalore',\n",
       " 'Sunrisers Hyderabad']"
      ]
     },
     "execution_count": 262,
     "metadata": {},
     "output_type": "execute_result"
    }
   ],
   "source": [
    "l"
   ]
  },
  {
   "cell_type": "markdown",
   "id": "2cf32f51",
   "metadata": {},
   "source": [
    "### matches played"
   ]
  },
  {
   "cell_type": "code",
   "execution_count": 35,
   "id": "316d167e",
   "metadata": {},
   "outputs": [
    {
     "data": {
      "text/plain": [
       "34"
      ]
     },
     "execution_count": 35,
     "metadata": {},
     "output_type": "execute_result"
    }
   ],
   "source": [
    "df['ID'].unique().size"
   ]
  },
  {
   "cell_type": "markdown",
   "id": "7954e5a5",
   "metadata": {},
   "source": [
    "### total super over played"
   ]
  },
  {
   "cell_type": "code",
   "execution_count": 39,
   "id": "ff183244",
   "metadata": {},
   "outputs": [
    {
     "data": {
      "text/plain": [
       "0"
      ]
     },
     "execution_count": 39,
     "metadata": {},
     "output_type": "execute_result"
    }
   ],
   "source": [
    "df[df['SuperOver'] == 'Y']['ID'].unique().size"
   ]
  },
  {
   "cell_type": "code",
   "execution_count": 40,
   "id": "c8b65f1e",
   "metadata": {},
   "outputs": [
    {
     "data": {
      "text/html": [
       "<div>\n",
       "<style scoped>\n",
       "    .dataframe tbody tr th:only-of-type {\n",
       "        vertical-align: middle;\n",
       "    }\n",
       "\n",
       "    .dataframe tbody tr th {\n",
       "        vertical-align: top;\n",
       "    }\n",
       "\n",
       "    .dataframe thead th {\n",
       "        text-align: right;\n",
       "    }\n",
       "</style>\n",
       "<table border=\"1\" class=\"dataframe\">\n",
       "  <thead>\n",
       "    <tr style=\"text-align: right;\">\n",
       "      <th></th>\n",
       "      <th>ID</th>\n",
       "      <th>innings</th>\n",
       "      <th>overs</th>\n",
       "      <th>ballnumber</th>\n",
       "      <th>batter</th>\n",
       "      <th>bowler</th>\n",
       "      <th>non-striker</th>\n",
       "      <th>extra_type</th>\n",
       "      <th>batsman_run</th>\n",
       "      <th>extras_run</th>\n",
       "      <th>...</th>\n",
       "      <th>SuperOver</th>\n",
       "      <th>WinningTeam</th>\n",
       "      <th>WonBy</th>\n",
       "      <th>Margin</th>\n",
       "      <th>method</th>\n",
       "      <th>Player_of_Match</th>\n",
       "      <th>Team1Players</th>\n",
       "      <th>Team2Players</th>\n",
       "      <th>Umpire1</th>\n",
       "      <th>Umpire2</th>\n",
       "    </tr>\n",
       "  </thead>\n",
       "  <tbody>\n",
       "  </tbody>\n",
       "</table>\n",
       "<p>0 rows × 36 columns</p>\n",
       "</div>"
      ],
      "text/plain": [
       "Empty DataFrame\n",
       "Columns: [ID, innings, overs, ballnumber, batter, bowler, non-striker, extra_type, batsman_run, extras_run, total_run, non_boundary, isWicketDelivery, player_out, kind, fielders_involved, BattingTeam, City, Date, Season, MatchNumber, Team1, Team2, Venue, TossWinner, TossDecision, SuperOver, WinningTeam, WonBy, Margin, method, Player_of_Match, Team1Players, Team2Players, Umpire1, Umpire2]\n",
       "Index: []\n",
       "\n",
       "[0 rows x 36 columns]"
      ]
     },
     "execution_count": 40,
     "metadata": {},
     "output_type": "execute_result"
    }
   ],
   "source": [
    "df[df['SuperOver'] == 'Y']"
   ]
  },
  {
   "cell_type": "code",
   "execution_count": 42,
   "id": "a5e58897",
   "metadata": {},
   "outputs": [
    {
     "data": {
      "text/plain": [
       "Index(['ID', 'innings', 'overs', 'ballnumber', 'batter', 'bowler',\n",
       "       'non-striker', 'extra_type', 'batsman_run', 'extras_run', 'total_run',\n",
       "       'non_boundary', 'isWicketDelivery', 'player_out', 'kind',\n",
       "       'fielders_involved', 'BattingTeam', 'City', 'Date', 'Season',\n",
       "       'MatchNumber', 'Team1', 'Team2', 'Venue', 'TossWinner', 'TossDecision',\n",
       "       'SuperOver', 'WinningTeam', 'WonBy', 'Margin', 'method',\n",
       "       'Player_of_Match', 'Team1Players', 'Team2Players', 'Umpire1',\n",
       "       'Umpire2'],\n",
       "      dtype='object')"
      ]
     },
     "execution_count": 42,
     "metadata": {},
     "output_type": "execute_result"
    }
   ],
   "source": [
    "df.columns"
   ]
  },
  {
   "cell_type": "code",
   "execution_count": 44,
   "id": "768d6aa2",
   "metadata": {},
   "outputs": [
    {
     "data": {
      "text/plain": [
       "13"
      ]
     },
     "execution_count": 44,
     "metadata": {},
     "output_type": "execute_result"
    }
   ],
   "source": [
    "df['Season'].unique().size"
   ]
  },
  {
   "cell_type": "markdown",
   "id": "a34e1d3b",
   "metadata": {},
   "source": [
    "### highest runs "
   ]
  },
  {
   "cell_type": "code",
   "execution_count": 48,
   "id": "84b9c425",
   "metadata": {},
   "outputs": [
    {
     "data": {
      "text/plain": [
       "'ST Jayasuriya'"
      ]
     },
     "execution_count": 48,
     "metadata": {},
     "output_type": "execute_result"
    }
   ],
   "source": [
    "df.groupby(['batter', 'ID'])['batsman_run'].sum().sort_values(ascending=False).head(1).index[0][0]"
   ]
  },
  {
   "cell_type": "code",
   "execution_count": 49,
   "id": "85b59180",
   "metadata": {},
   "outputs": [
    {
     "data": {
      "text/plain": [
       "114"
      ]
     },
     "execution_count": 49,
     "metadata": {},
     "output_type": "execute_result"
    }
   ],
   "source": [
    "df.groupby(['batter', 'ID'])['batsman_run'].sum().sort_values(ascending=False).head(1).values[0]"
   ]
  },
  {
   "cell_type": "markdown",
   "id": "2d63457d",
   "metadata": {},
   "source": [
    "### highest wickets"
   ]
  },
  {
   "cell_type": "code",
   "execution_count": 53,
   "id": "12491ef4",
   "metadata": {},
   "outputs": [
    {
     "data": {
      "text/plain": [
       "'MM Sharma'"
      ]
     },
     "execution_count": 53,
     "metadata": {},
     "output_type": "execute_result"
    }
   ],
   "source": [
    "df.groupby(['bowler', 'ID'])['isWicketDelivery'].sum().sort_values(ascending=False).head(1).index[0][0]"
   ]
  },
  {
   "cell_type": "code",
   "execution_count": 55,
   "id": "dd3c4176",
   "metadata": {},
   "outputs": [
    {
     "data": {
      "text/plain": [
       "5"
      ]
     },
     "execution_count": 55,
     "metadata": {},
     "output_type": "execute_result"
    }
   ],
   "source": [
    "df.groupby(['bowler', 'ID'])['isWicketDelivery'].sum().sort_values(ascending=False).head(1).values[0]"
   ]
  },
  {
   "cell_type": "markdown",
   "id": "4df7ba79",
   "metadata": {},
   "source": [
    "### highest score"
   ]
  },
  {
   "cell_type": "code",
   "execution_count": 57,
   "id": "080402d0",
   "metadata": {},
   "outputs": [],
   "source": [
    "min_max_df = df[(df['WonBy'] != 'NoResults') & (df['method'] != 'D/L') & (df['innings'].isin([1, 2]))]"
   ]
  },
  {
   "cell_type": "code",
   "execution_count": 58,
   "id": "2d5bac47",
   "metadata": {},
   "outputs": [],
   "source": [
    "temp_df = min_max_df.groupby(['ID', 'innings', 'BattingTeam'])['total_run'].sum().reset_index()"
   ]
  },
  {
   "cell_type": "code",
   "execution_count": 62,
   "id": "98c7cb93",
   "metadata": {},
   "outputs": [
    {
     "data": {
      "text/plain": [
       "'Mumbai Indians'"
      ]
     },
     "execution_count": 62,
     "metadata": {},
     "output_type": "execute_result"
    }
   ],
   "source": [
    "temp_df.sort_values('total_run', ascending=False).iloc[0]['BattingTeam']"
   ]
  },
  {
   "cell_type": "code",
   "execution_count": 63,
   "id": "a0b434dd",
   "metadata": {},
   "outputs": [
    {
     "data": {
      "text/plain": [
       "219"
      ]
     },
     "execution_count": 63,
     "metadata": {},
     "output_type": "execute_result"
    }
   ],
   "source": [
    "temp_df.sort_values('total_run', ascending=False).iloc[0]['total_run']"
   ]
  },
  {
   "cell_type": "markdown",
   "id": "a6f44b55",
   "metadata": {},
   "source": [
    "### lowest score"
   ]
  },
  {
   "cell_type": "code",
   "execution_count": 66,
   "id": "b6f306c9",
   "metadata": {},
   "outputs": [
    {
     "data": {
      "text/plain": [
       "'Chennai Super Kings'"
      ]
     },
     "execution_count": 66,
     "metadata": {},
     "output_type": "execute_result"
    }
   ],
   "source": [
    "temp_df.sort_values('total_run').iloc[0]['BattingTeam']"
   ]
  },
  {
   "cell_type": "code",
   "execution_count": 67,
   "id": "d785c3ae",
   "metadata": {},
   "outputs": [
    {
     "data": {
      "text/plain": [
       "79"
      ]
     },
     "execution_count": 67,
     "metadata": {},
     "output_type": "execute_result"
    }
   ],
   "source": [
    "temp_df.sort_values('total_run').iloc[0]['total_run']"
   ]
  },
  {
   "cell_type": "markdown",
   "id": "5753b6ee",
   "metadata": {},
   "source": [
    "### top 5 batsmans"
   ]
  },
  {
   "cell_type": "code",
   "execution_count": 69,
   "id": "b00d79f9",
   "metadata": {},
   "outputs": [
    {
     "data": {
      "text/plain": [
       "['SK Raina', 'RG Sharma', 'MS Dhoni', 'AT Rayudu', 'KA Pollard']"
      ]
     },
     "execution_count": 69,
     "metadata": {},
     "output_type": "execute_result"
    }
   ],
   "source": [
    "df.groupby('batter')['batsman_run'].sum().sort_values(ascending=False).head().index.tolist()"
   ]
  },
  {
   "cell_type": "code",
   "execution_count": 70,
   "id": "347a861f",
   "metadata": {},
   "outputs": [
    {
     "data": {
      "text/plain": [
       "[710, 679, 653, 626, 583]"
      ]
     },
     "execution_count": 70,
     "metadata": {},
     "output_type": "execute_result"
    }
   ],
   "source": [
    "df.groupby('batter')['batsman_run'].sum().sort_values(ascending=False).head().values.tolist()"
   ]
  },
  {
   "cell_type": "markdown",
   "id": "7a1d7cc5",
   "metadata": {},
   "source": [
    "### top 5 bowlers"
   ]
  },
  {
   "cell_type": "code",
   "execution_count": 73,
   "id": "ba94dec7",
   "metadata": {},
   "outputs": [
    {
     "data": {
      "text/plain": [
       "['DJ Bravo', 'SL Malinga', 'Harbhajan Singh', 'MM Sharma', 'RA Jadeja']"
      ]
     },
     "execution_count": 73,
     "metadata": {},
     "output_type": "execute_result"
    }
   ],
   "source": [
    "df.groupby('bowler')['isWicketDelivery'].sum().sort_values(ascending=False).head().index.tolist()"
   ]
  },
  {
   "cell_type": "code",
   "execution_count": 74,
   "id": "307afc6e",
   "metadata": {},
   "outputs": [
    {
     "data": {
      "text/plain": [
       "[37, 37, 26, 16, 16]"
      ]
     },
     "execution_count": 74,
     "metadata": {},
     "output_type": "execute_result"
    }
   ],
   "source": [
    "df.groupby('bowler')['isWicketDelivery'].sum().sort_values(ascending=False).head().values.tolist()"
   ]
  },
  {
   "cell_type": "markdown",
   "id": "f9ad09c7",
   "metadata": {},
   "source": [
    "### matches won by team1"
   ]
  },
  {
   "cell_type": "code",
   "execution_count": 76,
   "id": "bfd6c7da",
   "metadata": {},
   "outputs": [
    {
     "data": {
      "text/plain": [
       "14"
      ]
     },
     "execution_count": 76,
     "metadata": {},
     "output_type": "execute_result"
    }
   ],
   "source": [
    "df[df['WinningTeam'] == team1]['ID'].unique().shape[0]"
   ]
  },
  {
   "cell_type": "markdown",
   "id": "e5b5164e",
   "metadata": {},
   "source": [
    "### matches won by team2"
   ]
  },
  {
   "cell_type": "code",
   "execution_count": 77,
   "id": "7b7f4e4a",
   "metadata": {},
   "outputs": [
    {
     "data": {
      "text/plain": [
       "20"
      ]
     },
     "execution_count": 77,
     "metadata": {},
     "output_type": "execute_result"
    }
   ],
   "source": [
    "df[df['WinningTeam'] == team2]['ID'].unique().shape[0]"
   ]
  },
  {
   "cell_type": "markdown",
   "id": "f6cd9856",
   "metadata": {},
   "source": [
    "### matches draw"
   ]
  },
  {
   "cell_type": "code",
   "execution_count": 78,
   "id": "3d17f064",
   "metadata": {},
   "outputs": [
    {
     "data": {
      "text/plain": [
       "0"
      ]
     },
     "execution_count": 78,
     "metadata": {},
     "output_type": "execute_result"
    }
   ],
   "source": [
    "df[df['WinningTeam'].isnull()]['ID'].unique().shape[0]"
   ]
  },
  {
   "cell_type": "markdown",
   "id": "aec71519",
   "metadata": {},
   "source": [
    "## season analysis"
   ]
  },
  {
   "cell_type": "code",
   "execution_count": 193,
   "id": "048a10f8",
   "metadata": {},
   "outputs": [],
   "source": [
    "team1 = 'Chennai Super Kings'\n",
    "team2 = 'Gujarat Titans'\n",
    "season = 2022"
   ]
  },
  {
   "cell_type": "code",
   "execution_count": 196,
   "id": "a7a75a36",
   "metadata": {},
   "outputs": [],
   "source": [
    "df = ball_with_match[(((ball_with_match['Team1'] == team1) & (ball_with_match['Team2'] == team2)) | ((ball_with_match['Team1'] == team2) & (ball_with_match['Team2'] == team1))) & (ball_with_match['Season'] == int(season))].copy()"
   ]
  },
  {
   "cell_type": "code",
   "execution_count": 197,
   "id": "db2fd720",
   "metadata": {},
   "outputs": [
    {
     "data": {
      "text/html": [
       "<div>\n",
       "<style scoped>\n",
       "    .dataframe tbody tr th:only-of-type {\n",
       "        vertical-align: middle;\n",
       "    }\n",
       "\n",
       "    .dataframe tbody tr th {\n",
       "        vertical-align: top;\n",
       "    }\n",
       "\n",
       "    .dataframe thead th {\n",
       "        text-align: right;\n",
       "    }\n",
       "</style>\n",
       "<table border=\"1\" class=\"dataframe\">\n",
       "  <thead>\n",
       "    <tr style=\"text-align: right;\">\n",
       "      <th></th>\n",
       "      <th>ID</th>\n",
       "      <th>innings</th>\n",
       "      <th>overs</th>\n",
       "      <th>ballnumber</th>\n",
       "      <th>batter</th>\n",
       "      <th>bowler</th>\n",
       "      <th>non-striker</th>\n",
       "      <th>extra_type</th>\n",
       "      <th>batsman_run</th>\n",
       "      <th>extras_run</th>\n",
       "      <th>...</th>\n",
       "      <th>SuperOver</th>\n",
       "      <th>WinningTeam</th>\n",
       "      <th>WonBy</th>\n",
       "      <th>Margin</th>\n",
       "      <th>method</th>\n",
       "      <th>Player_of_Match</th>\n",
       "      <th>Team1Players</th>\n",
       "      <th>Team2Players</th>\n",
       "      <th>Umpire1</th>\n",
       "      <th>Umpire2</th>\n",
       "    </tr>\n",
       "  </thead>\n",
       "  <tbody>\n",
       "    <tr>\n",
       "      <th>2932</th>\n",
       "      <td>1304108</td>\n",
       "      <td>1</td>\n",
       "      <td>0</td>\n",
       "      <td>1</td>\n",
       "      <td>RD Gaikwad</td>\n",
       "      <td>Mohammed Shami</td>\n",
       "      <td>DP Conway</td>\n",
       "      <td>NaN</td>\n",
       "      <td>0</td>\n",
       "      <td>0</td>\n",
       "      <td>...</td>\n",
       "      <td>N</td>\n",
       "      <td>Gujarat Titans</td>\n",
       "      <td>Wickets</td>\n",
       "      <td>7.0</td>\n",
       "      <td>NaN</td>\n",
       "      <td>WP Saha</td>\n",
       "      <td>['RD Gaikwad', 'DP Conway', 'MM Ali', 'N Jagad...</td>\n",
       "      <td>['WP Saha', 'Shubman Gill', 'MS Wade', 'HH Pan...</td>\n",
       "      <td>R Pandit</td>\n",
       "      <td>VK Sharma</td>\n",
       "    </tr>\n",
       "    <tr>\n",
       "      <th>2933</th>\n",
       "      <td>1304108</td>\n",
       "      <td>1</td>\n",
       "      <td>0</td>\n",
       "      <td>2</td>\n",
       "      <td>RD Gaikwad</td>\n",
       "      <td>Mohammed Shami</td>\n",
       "      <td>DP Conway</td>\n",
       "      <td>NaN</td>\n",
       "      <td>0</td>\n",
       "      <td>0</td>\n",
       "      <td>...</td>\n",
       "      <td>N</td>\n",
       "      <td>Gujarat Titans</td>\n",
       "      <td>Wickets</td>\n",
       "      <td>7.0</td>\n",
       "      <td>NaN</td>\n",
       "      <td>WP Saha</td>\n",
       "      <td>['RD Gaikwad', 'DP Conway', 'MM Ali', 'N Jagad...</td>\n",
       "      <td>['WP Saha', 'Shubman Gill', 'MS Wade', 'HH Pan...</td>\n",
       "      <td>R Pandit</td>\n",
       "      <td>VK Sharma</td>\n",
       "    </tr>\n",
       "    <tr>\n",
       "      <th>2934</th>\n",
       "      <td>1304108</td>\n",
       "      <td>1</td>\n",
       "      <td>0</td>\n",
       "      <td>3</td>\n",
       "      <td>RD Gaikwad</td>\n",
       "      <td>Mohammed Shami</td>\n",
       "      <td>DP Conway</td>\n",
       "      <td>NaN</td>\n",
       "      <td>0</td>\n",
       "      <td>0</td>\n",
       "      <td>...</td>\n",
       "      <td>N</td>\n",
       "      <td>Gujarat Titans</td>\n",
       "      <td>Wickets</td>\n",
       "      <td>7.0</td>\n",
       "      <td>NaN</td>\n",
       "      <td>WP Saha</td>\n",
       "      <td>['RD Gaikwad', 'DP Conway', 'MM Ali', 'N Jagad...</td>\n",
       "      <td>['WP Saha', 'Shubman Gill', 'MS Wade', 'HH Pan...</td>\n",
       "      <td>R Pandit</td>\n",
       "      <td>VK Sharma</td>\n",
       "    </tr>\n",
       "    <tr>\n",
       "      <th>2935</th>\n",
       "      <td>1304108</td>\n",
       "      <td>1</td>\n",
       "      <td>0</td>\n",
       "      <td>4</td>\n",
       "      <td>RD Gaikwad</td>\n",
       "      <td>Mohammed Shami</td>\n",
       "      <td>DP Conway</td>\n",
       "      <td>NaN</td>\n",
       "      <td>1</td>\n",
       "      <td>0</td>\n",
       "      <td>...</td>\n",
       "      <td>N</td>\n",
       "      <td>Gujarat Titans</td>\n",
       "      <td>Wickets</td>\n",
       "      <td>7.0</td>\n",
       "      <td>NaN</td>\n",
       "      <td>WP Saha</td>\n",
       "      <td>['RD Gaikwad', 'DP Conway', 'MM Ali', 'N Jagad...</td>\n",
       "      <td>['WP Saha', 'Shubman Gill', 'MS Wade', 'HH Pan...</td>\n",
       "      <td>R Pandit</td>\n",
       "      <td>VK Sharma</td>\n",
       "    </tr>\n",
       "    <tr>\n",
       "      <th>2936</th>\n",
       "      <td>1304108</td>\n",
       "      <td>1</td>\n",
       "      <td>0</td>\n",
       "      <td>5</td>\n",
       "      <td>DP Conway</td>\n",
       "      <td>Mohammed Shami</td>\n",
       "      <td>RD Gaikwad</td>\n",
       "      <td>NaN</td>\n",
       "      <td>0</td>\n",
       "      <td>0</td>\n",
       "      <td>...</td>\n",
       "      <td>N</td>\n",
       "      <td>Gujarat Titans</td>\n",
       "      <td>Wickets</td>\n",
       "      <td>7.0</td>\n",
       "      <td>NaN</td>\n",
       "      <td>WP Saha</td>\n",
       "      <td>['RD Gaikwad', 'DP Conway', 'MM Ali', 'N Jagad...</td>\n",
       "      <td>['WP Saha', 'Shubman Gill', 'MS Wade', 'HH Pan...</td>\n",
       "      <td>R Pandit</td>\n",
       "      <td>VK Sharma</td>\n",
       "    </tr>\n",
       "  </tbody>\n",
       "</table>\n",
       "<p>5 rows × 36 columns</p>\n",
       "</div>"
      ],
      "text/plain": [
       "           ID  innings  overs  ballnumber      batter          bowler  \\\n",
       "2932  1304108        1      0           1  RD Gaikwad  Mohammed Shami   \n",
       "2933  1304108        1      0           2  RD Gaikwad  Mohammed Shami   \n",
       "2934  1304108        1      0           3  RD Gaikwad  Mohammed Shami   \n",
       "2935  1304108        1      0           4  RD Gaikwad  Mohammed Shami   \n",
       "2936  1304108        1      0           5   DP Conway  Mohammed Shami   \n",
       "\n",
       "     non-striker extra_type  batsman_run  extras_run  ...  SuperOver  \\\n",
       "2932   DP Conway        NaN            0           0  ...          N   \n",
       "2933   DP Conway        NaN            0           0  ...          N   \n",
       "2934   DP Conway        NaN            0           0  ...          N   \n",
       "2935   DP Conway        NaN            1           0  ...          N   \n",
       "2936  RD Gaikwad        NaN            0           0  ...          N   \n",
       "\n",
       "         WinningTeam    WonBy Margin method Player_of_Match  \\\n",
       "2932  Gujarat Titans  Wickets    7.0    NaN         WP Saha   \n",
       "2933  Gujarat Titans  Wickets    7.0    NaN         WP Saha   \n",
       "2934  Gujarat Titans  Wickets    7.0    NaN         WP Saha   \n",
       "2935  Gujarat Titans  Wickets    7.0    NaN         WP Saha   \n",
       "2936  Gujarat Titans  Wickets    7.0    NaN         WP Saha   \n",
       "\n",
       "                                           Team1Players  \\\n",
       "2932  ['RD Gaikwad', 'DP Conway', 'MM Ali', 'N Jagad...   \n",
       "2933  ['RD Gaikwad', 'DP Conway', 'MM Ali', 'N Jagad...   \n",
       "2934  ['RD Gaikwad', 'DP Conway', 'MM Ali', 'N Jagad...   \n",
       "2935  ['RD Gaikwad', 'DP Conway', 'MM Ali', 'N Jagad...   \n",
       "2936  ['RD Gaikwad', 'DP Conway', 'MM Ali', 'N Jagad...   \n",
       "\n",
       "                                           Team2Players   Umpire1    Umpire2  \n",
       "2932  ['WP Saha', 'Shubman Gill', 'MS Wade', 'HH Pan...  R Pandit  VK Sharma  \n",
       "2933  ['WP Saha', 'Shubman Gill', 'MS Wade', 'HH Pan...  R Pandit  VK Sharma  \n",
       "2934  ['WP Saha', 'Shubman Gill', 'MS Wade', 'HH Pan...  R Pandit  VK Sharma  \n",
       "2935  ['WP Saha', 'Shubman Gill', 'MS Wade', 'HH Pan...  R Pandit  VK Sharma  \n",
       "2936  ['WP Saha', 'Shubman Gill', 'MS Wade', 'HH Pan...  R Pandit  VK Sharma  \n",
       "\n",
       "[5 rows x 36 columns]"
      ]
     },
     "execution_count": 197,
     "metadata": {},
     "output_type": "execute_result"
    }
   ],
   "source": [
    "df.head()"
   ]
  },
  {
   "cell_type": "markdown",
   "id": "77aaa271",
   "metadata": {},
   "source": [
    "### select teams per team & season"
   ]
  },
  {
   "cell_type": "code",
   "execution_count": 263,
   "id": "f3d8e747",
   "metadata": {},
   "outputs": [],
   "source": [
    "team = 'Chennai Super Kings'\n",
    "season = 2022"
   ]
  },
  {
   "cell_type": "code",
   "execution_count": 264,
   "id": "9b3e273c",
   "metadata": {},
   "outputs": [],
   "source": [
    "d = ball_with_match[(ball_with_match['Season'] == int(season)) & ((ball_with_match['Team1'] == team) | (ball_with_match['Team2'] == team))]"
   ]
  },
  {
   "cell_type": "code",
   "execution_count": 265,
   "id": "41d08ef9",
   "metadata": {},
   "outputs": [
    {
     "data": {
      "text/html": [
       "<div>\n",
       "<style scoped>\n",
       "    .dataframe tbody tr th:only-of-type {\n",
       "        vertical-align: middle;\n",
       "    }\n",
       "\n",
       "    .dataframe tbody tr th {\n",
       "        vertical-align: top;\n",
       "    }\n",
       "\n",
       "    .dataframe thead th {\n",
       "        text-align: right;\n",
       "    }\n",
       "</style>\n",
       "<table border=\"1\" class=\"dataframe\">\n",
       "  <thead>\n",
       "    <tr style=\"text-align: right;\">\n",
       "      <th></th>\n",
       "      <th>ID</th>\n",
       "      <th>innings</th>\n",
       "      <th>overs</th>\n",
       "      <th>ballnumber</th>\n",
       "      <th>batter</th>\n",
       "      <th>bowler</th>\n",
       "      <th>non-striker</th>\n",
       "      <th>extra_type</th>\n",
       "      <th>batsman_run</th>\n",
       "      <th>extras_run</th>\n",
       "      <th>...</th>\n",
       "      <th>SuperOver</th>\n",
       "      <th>WinningTeam</th>\n",
       "      <th>WonBy</th>\n",
       "      <th>Margin</th>\n",
       "      <th>method</th>\n",
       "      <th>Player_of_Match</th>\n",
       "      <th>Team1Players</th>\n",
       "      <th>Team2Players</th>\n",
       "      <th>Umpire1</th>\n",
       "      <th>Umpire2</th>\n",
       "    </tr>\n",
       "  </thead>\n",
       "  <tbody>\n",
       "    <tr>\n",
       "      <th>1444</th>\n",
       "      <td>1304114</td>\n",
       "      <td>1</td>\n",
       "      <td>0</td>\n",
       "      <td>1</td>\n",
       "      <td>RD Gaikwad</td>\n",
       "      <td>TA Boult</td>\n",
       "      <td>DP Conway</td>\n",
       "      <td>NaN</td>\n",
       "      <td>2</td>\n",
       "      <td>0</td>\n",
       "      <td>...</td>\n",
       "      <td>N</td>\n",
       "      <td>Rajasthan Royals</td>\n",
       "      <td>Wickets</td>\n",
       "      <td>5.0</td>\n",
       "      <td>NaN</td>\n",
       "      <td>R Ashwin</td>\n",
       "      <td>['RD Gaikwad', 'DP Conway', 'MM Ali', 'N Jagad...</td>\n",
       "      <td>['YBK Jaiswal', 'JC Buttler', 'SV Samson', 'D ...</td>\n",
       "      <td>CB Gaffaney</td>\n",
       "      <td>NA Patwardhan</td>\n",
       "    </tr>\n",
       "    <tr>\n",
       "      <th>1445</th>\n",
       "      <td>1304114</td>\n",
       "      <td>1</td>\n",
       "      <td>0</td>\n",
       "      <td>2</td>\n",
       "      <td>RD Gaikwad</td>\n",
       "      <td>TA Boult</td>\n",
       "      <td>DP Conway</td>\n",
       "      <td>NaN</td>\n",
       "      <td>0</td>\n",
       "      <td>0</td>\n",
       "      <td>...</td>\n",
       "      <td>N</td>\n",
       "      <td>Rajasthan Royals</td>\n",
       "      <td>Wickets</td>\n",
       "      <td>5.0</td>\n",
       "      <td>NaN</td>\n",
       "      <td>R Ashwin</td>\n",
       "      <td>['RD Gaikwad', 'DP Conway', 'MM Ali', 'N Jagad...</td>\n",
       "      <td>['YBK Jaiswal', 'JC Buttler', 'SV Samson', 'D ...</td>\n",
       "      <td>CB Gaffaney</td>\n",
       "      <td>NA Patwardhan</td>\n",
       "    </tr>\n",
       "    <tr>\n",
       "      <th>1446</th>\n",
       "      <td>1304114</td>\n",
       "      <td>1</td>\n",
       "      <td>0</td>\n",
       "      <td>3</td>\n",
       "      <td>RD Gaikwad</td>\n",
       "      <td>TA Boult</td>\n",
       "      <td>DP Conway</td>\n",
       "      <td>NaN</td>\n",
       "      <td>0</td>\n",
       "      <td>0</td>\n",
       "      <td>...</td>\n",
       "      <td>N</td>\n",
       "      <td>Rajasthan Royals</td>\n",
       "      <td>Wickets</td>\n",
       "      <td>5.0</td>\n",
       "      <td>NaN</td>\n",
       "      <td>R Ashwin</td>\n",
       "      <td>['RD Gaikwad', 'DP Conway', 'MM Ali', 'N Jagad...</td>\n",
       "      <td>['YBK Jaiswal', 'JC Buttler', 'SV Samson', 'D ...</td>\n",
       "      <td>CB Gaffaney</td>\n",
       "      <td>NA Patwardhan</td>\n",
       "    </tr>\n",
       "    <tr>\n",
       "      <th>1447</th>\n",
       "      <td>1304114</td>\n",
       "      <td>1</td>\n",
       "      <td>0</td>\n",
       "      <td>4</td>\n",
       "      <td>RD Gaikwad</td>\n",
       "      <td>TA Boult</td>\n",
       "      <td>DP Conway</td>\n",
       "      <td>NaN</td>\n",
       "      <td>0</td>\n",
       "      <td>0</td>\n",
       "      <td>...</td>\n",
       "      <td>N</td>\n",
       "      <td>Rajasthan Royals</td>\n",
       "      <td>Wickets</td>\n",
       "      <td>5.0</td>\n",
       "      <td>NaN</td>\n",
       "      <td>R Ashwin</td>\n",
       "      <td>['RD Gaikwad', 'DP Conway', 'MM Ali', 'N Jagad...</td>\n",
       "      <td>['YBK Jaiswal', 'JC Buttler', 'SV Samson', 'D ...</td>\n",
       "      <td>CB Gaffaney</td>\n",
       "      <td>NA Patwardhan</td>\n",
       "    </tr>\n",
       "    <tr>\n",
       "      <th>1448</th>\n",
       "      <td>1304114</td>\n",
       "      <td>1</td>\n",
       "      <td>0</td>\n",
       "      <td>5</td>\n",
       "      <td>RD Gaikwad</td>\n",
       "      <td>TA Boult</td>\n",
       "      <td>DP Conway</td>\n",
       "      <td>NaN</td>\n",
       "      <td>0</td>\n",
       "      <td>0</td>\n",
       "      <td>...</td>\n",
       "      <td>N</td>\n",
       "      <td>Rajasthan Royals</td>\n",
       "      <td>Wickets</td>\n",
       "      <td>5.0</td>\n",
       "      <td>NaN</td>\n",
       "      <td>R Ashwin</td>\n",
       "      <td>['RD Gaikwad', 'DP Conway', 'MM Ali', 'N Jagad...</td>\n",
       "      <td>['YBK Jaiswal', 'JC Buttler', 'SV Samson', 'D ...</td>\n",
       "      <td>CB Gaffaney</td>\n",
       "      <td>NA Patwardhan</td>\n",
       "    </tr>\n",
       "  </tbody>\n",
       "</table>\n",
       "<p>5 rows × 36 columns</p>\n",
       "</div>"
      ],
      "text/plain": [
       "           ID  innings  overs  ballnumber      batter    bowler non-striker  \\\n",
       "1444  1304114        1      0           1  RD Gaikwad  TA Boult   DP Conway   \n",
       "1445  1304114        1      0           2  RD Gaikwad  TA Boult   DP Conway   \n",
       "1446  1304114        1      0           3  RD Gaikwad  TA Boult   DP Conway   \n",
       "1447  1304114        1      0           4  RD Gaikwad  TA Boult   DP Conway   \n",
       "1448  1304114        1      0           5  RD Gaikwad  TA Boult   DP Conway   \n",
       "\n",
       "     extra_type  batsman_run  extras_run  ...  SuperOver       WinningTeam  \\\n",
       "1444        NaN            2           0  ...          N  Rajasthan Royals   \n",
       "1445        NaN            0           0  ...          N  Rajasthan Royals   \n",
       "1446        NaN            0           0  ...          N  Rajasthan Royals   \n",
       "1447        NaN            0           0  ...          N  Rajasthan Royals   \n",
       "1448        NaN            0           0  ...          N  Rajasthan Royals   \n",
       "\n",
       "        WonBy Margin method Player_of_Match  \\\n",
       "1444  Wickets    5.0    NaN        R Ashwin   \n",
       "1445  Wickets    5.0    NaN        R Ashwin   \n",
       "1446  Wickets    5.0    NaN        R Ashwin   \n",
       "1447  Wickets    5.0    NaN        R Ashwin   \n",
       "1448  Wickets    5.0    NaN        R Ashwin   \n",
       "\n",
       "                                           Team1Players  \\\n",
       "1444  ['RD Gaikwad', 'DP Conway', 'MM Ali', 'N Jagad...   \n",
       "1445  ['RD Gaikwad', 'DP Conway', 'MM Ali', 'N Jagad...   \n",
       "1446  ['RD Gaikwad', 'DP Conway', 'MM Ali', 'N Jagad...   \n",
       "1447  ['RD Gaikwad', 'DP Conway', 'MM Ali', 'N Jagad...   \n",
       "1448  ['RD Gaikwad', 'DP Conway', 'MM Ali', 'N Jagad...   \n",
       "\n",
       "                                           Team2Players      Umpire1  \\\n",
       "1444  ['YBK Jaiswal', 'JC Buttler', 'SV Samson', 'D ...  CB Gaffaney   \n",
       "1445  ['YBK Jaiswal', 'JC Buttler', 'SV Samson', 'D ...  CB Gaffaney   \n",
       "1446  ['YBK Jaiswal', 'JC Buttler', 'SV Samson', 'D ...  CB Gaffaney   \n",
       "1447  ['YBK Jaiswal', 'JC Buttler', 'SV Samson', 'D ...  CB Gaffaney   \n",
       "1448  ['YBK Jaiswal', 'JC Buttler', 'SV Samson', 'D ...  CB Gaffaney   \n",
       "\n",
       "            Umpire2  \n",
       "1444  NA Patwardhan  \n",
       "1445  NA Patwardhan  \n",
       "1446  NA Patwardhan  \n",
       "1447  NA Patwardhan  \n",
       "1448  NA Patwardhan  \n",
       "\n",
       "[5 rows x 36 columns]"
      ]
     },
     "execution_count": 265,
     "metadata": {},
     "output_type": "execute_result"
    }
   ],
   "source": [
    "d.head()"
   ]
  },
  {
   "cell_type": "code",
   "execution_count": 272,
   "id": "387076c3",
   "metadata": {},
   "outputs": [
    {
     "data": {
      "text/plain": [
       "['Delhi Capitals',\n",
       " 'Gujarat Titans',\n",
       " 'Kolkata Knight Riders',\n",
       " 'Lucknow Super Giants',\n",
       " 'Mumbai Indians',\n",
       " 'Punjab Kings',\n",
       " 'Rajasthan Royals',\n",
       " 'Royal Challengers Bangalore',\n",
       " 'Sunrisers Hyderabad']"
      ]
     },
     "execution_count": 272,
     "metadata": {},
     "output_type": "execute_result"
    }
   ],
   "source": [
    "sorted(d[d['BattingTeam']!=team]['BattingTeam'].sort_values().unique())"
   ]
  },
  {
   "cell_type": "code",
   "execution_count": 273,
   "id": "a8a5022a",
   "metadata": {},
   "outputs": [],
   "source": [
    "l = []\n",
    "for i in sorted(d[d['BattingTeam']!=team]['BattingTeam'].sort_values().unique()):\n",
    "    if i != team:\n",
    "        l.append(i)"
   ]
  },
  {
   "cell_type": "code",
   "execution_count": 274,
   "id": "7961cd41",
   "metadata": {},
   "outputs": [
    {
     "data": {
      "text/plain": [
       "['Delhi Capitals',\n",
       " 'Gujarat Titans',\n",
       " 'Kolkata Knight Riders',\n",
       " 'Lucknow Super Giants',\n",
       " 'Mumbai Indians',\n",
       " 'Punjab Kings',\n",
       " 'Rajasthan Royals',\n",
       " 'Royal Challengers Bangalore',\n",
       " 'Sunrisers Hyderabad']"
      ]
     },
     "execution_count": 274,
     "metadata": {},
     "output_type": "execute_result"
    }
   ],
   "source": [
    "l"
   ]
  },
  {
   "cell_type": "markdown",
   "id": "d22fbe04",
   "metadata": {},
   "source": [
    "### matches played"
   ]
  },
  {
   "cell_type": "code",
   "execution_count": 91,
   "id": "847d7eb2",
   "metadata": {},
   "outputs": [
    {
     "data": {
      "text/plain": [
       "2"
      ]
     },
     "execution_count": 91,
     "metadata": {},
     "output_type": "execute_result"
    }
   ],
   "source": [
    "df['ID'].unique().size"
   ]
  },
  {
   "cell_type": "markdown",
   "id": "b05942b0",
   "metadata": {},
   "source": [
    "### total super over played"
   ]
  },
  {
   "cell_type": "code",
   "execution_count": 92,
   "id": "f40c02df",
   "metadata": {},
   "outputs": [
    {
     "data": {
      "text/plain": [
       "0"
      ]
     },
     "execution_count": 92,
     "metadata": {},
     "output_type": "execute_result"
    }
   ],
   "source": [
    "df[df['SuperOver'] == 'Y']['ID'].unique().size"
   ]
  },
  {
   "cell_type": "markdown",
   "id": "d33a953c",
   "metadata": {},
   "source": [
    "### highest runs"
   ]
  },
  {
   "cell_type": "code",
   "execution_count": 95,
   "id": "cfe245e5",
   "metadata": {},
   "outputs": [
    {
     "data": {
      "text/plain": [
       "'Tilak Varma'"
      ]
     },
     "execution_count": 95,
     "metadata": {},
     "output_type": "execute_result"
    }
   ],
   "source": [
    "df.groupby(['batter', 'ID'])['batsman_run'].sum().sort_values(ascending=False).head(1).index[0][0]"
   ]
  },
  {
   "cell_type": "code",
   "execution_count": 96,
   "id": "d17b3116",
   "metadata": {},
   "outputs": [
    {
     "data": {
      "text/plain": [
       "51"
      ]
     },
     "execution_count": 96,
     "metadata": {},
     "output_type": "execute_result"
    }
   ],
   "source": [
    "df.groupby(['batter', 'ID'])['batsman_run'].sum().sort_values(ascending=False).head(1).values[0]"
   ]
  },
  {
   "cell_type": "markdown",
   "id": "e80a654c",
   "metadata": {},
   "source": [
    "### highest wickets"
   ]
  },
  {
   "cell_type": "code",
   "execution_count": 99,
   "id": "37fea371",
   "metadata": {},
   "outputs": [
    {
     "data": {
      "text/plain": [
       "'DR Sams'"
      ]
     },
     "execution_count": 99,
     "metadata": {},
     "output_type": "execute_result"
    }
   ],
   "source": [
    "df.groupby(['bowler', 'ID'])['isWicketDelivery'].sum().sort_values(ascending=False).head(1).index[0][0]"
   ]
  },
  {
   "cell_type": "code",
   "execution_count": 100,
   "id": "27418cfa",
   "metadata": {},
   "outputs": [
    {
     "data": {
      "text/plain": [
       "4"
      ]
     },
     "execution_count": 100,
     "metadata": {},
     "output_type": "execute_result"
    }
   ],
   "source": [
    "df.groupby(['bowler', 'ID'])['isWicketDelivery'].sum().sort_values(ascending=False).head(1).values[0]"
   ]
  },
  {
   "cell_type": "markdown",
   "id": "44e6a704",
   "metadata": {},
   "source": [
    "### highest score"
   ]
  },
  {
   "cell_type": "code",
   "execution_count": 101,
   "id": "5db0933e",
   "metadata": {},
   "outputs": [],
   "source": [
    "min_max_df = df[(df['WonBy'] != 'NoResults') & (df['method'] != 'D/L') & (df['innings'].isin([1, 2]))]"
   ]
  },
  {
   "cell_type": "code",
   "execution_count": 102,
   "id": "8621c053",
   "metadata": {},
   "outputs": [],
   "source": [
    "temp_df = min_max_df.groupby(['ID', 'innings', 'BattingTeam'])['total_run'].sum().reset_index()"
   ]
  },
  {
   "cell_type": "code",
   "execution_count": 103,
   "id": "c4c2096c",
   "metadata": {},
   "outputs": [
    {
     "data": {
      "text/html": [
       "<div>\n",
       "<style scoped>\n",
       "    .dataframe tbody tr th:only-of-type {\n",
       "        vertical-align: middle;\n",
       "    }\n",
       "\n",
       "    .dataframe tbody tr th {\n",
       "        vertical-align: top;\n",
       "    }\n",
       "\n",
       "    .dataframe thead th {\n",
       "        text-align: right;\n",
       "    }\n",
       "</style>\n",
       "<table border=\"1\" class=\"dataframe\">\n",
       "  <thead>\n",
       "    <tr style=\"text-align: right;\">\n",
       "      <th></th>\n",
       "      <th>ID</th>\n",
       "      <th>innings</th>\n",
       "      <th>BattingTeam</th>\n",
       "      <th>total_run</th>\n",
       "    </tr>\n",
       "  </thead>\n",
       "  <tbody>\n",
       "    <tr>\n",
       "      <th>0</th>\n",
       "      <td>1304079</td>\n",
       "      <td>1</td>\n",
       "      <td>Mumbai Indians</td>\n",
       "      <td>155</td>\n",
       "    </tr>\n",
       "    <tr>\n",
       "      <th>1</th>\n",
       "      <td>1304079</td>\n",
       "      <td>2</td>\n",
       "      <td>Chennai Super Kings</td>\n",
       "      <td>156</td>\n",
       "    </tr>\n",
       "    <tr>\n",
       "      <th>2</th>\n",
       "      <td>1304105</td>\n",
       "      <td>1</td>\n",
       "      <td>Chennai Super Kings</td>\n",
       "      <td>97</td>\n",
       "    </tr>\n",
       "    <tr>\n",
       "      <th>3</th>\n",
       "      <td>1304105</td>\n",
       "      <td>2</td>\n",
       "      <td>Mumbai Indians</td>\n",
       "      <td>103</td>\n",
       "    </tr>\n",
       "  </tbody>\n",
       "</table>\n",
       "</div>"
      ],
      "text/plain": [
       "        ID  innings          BattingTeam  total_run\n",
       "0  1304079        1       Mumbai Indians        155\n",
       "1  1304079        2  Chennai Super Kings        156\n",
       "2  1304105        1  Chennai Super Kings         97\n",
       "3  1304105        2       Mumbai Indians        103"
      ]
     },
     "execution_count": 103,
     "metadata": {},
     "output_type": "execute_result"
    }
   ],
   "source": [
    "temp_df"
   ]
  },
  {
   "cell_type": "code",
   "execution_count": 106,
   "id": "ab35725b",
   "metadata": {},
   "outputs": [
    {
     "data": {
      "text/plain": [
       "'Chennai Super Kings'"
      ]
     },
     "execution_count": 106,
     "metadata": {},
     "output_type": "execute_result"
    }
   ],
   "source": [
    "temp_df.sort_values('total_run', ascending=False).iloc[0]['BattingTeam']"
   ]
  },
  {
   "cell_type": "code",
   "execution_count": 107,
   "id": "b4eb118b",
   "metadata": {},
   "outputs": [
    {
     "data": {
      "text/plain": [
       "156"
      ]
     },
     "execution_count": 107,
     "metadata": {},
     "output_type": "execute_result"
    }
   ],
   "source": [
    "temp_df.sort_values('total_run', ascending=False).iloc[0]['total_run']"
   ]
  },
  {
   "cell_type": "markdown",
   "id": "55fff58e",
   "metadata": {},
   "source": [
    "### lowest score"
   ]
  },
  {
   "cell_type": "code",
   "execution_count": 108,
   "id": "c4a263e9",
   "metadata": {},
   "outputs": [
    {
     "data": {
      "text/plain": [
       "'Chennai Super Kings'"
      ]
     },
     "execution_count": 108,
     "metadata": {},
     "output_type": "execute_result"
    }
   ],
   "source": [
    "temp_df.sort_values('total_run').iloc[0]['BattingTeam']"
   ]
  },
  {
   "cell_type": "code",
   "execution_count": 109,
   "id": "96d03b1f",
   "metadata": {},
   "outputs": [
    {
     "data": {
      "text/plain": [
       "97"
      ]
     },
     "execution_count": 109,
     "metadata": {},
     "output_type": "execute_result"
    }
   ],
   "source": [
    "temp_df.sort_values('total_run').iloc[0]['total_run']"
   ]
  },
  {
   "cell_type": "markdown",
   "id": "0c3f4aea",
   "metadata": {},
   "source": [
    "### team1 players"
   ]
  },
  {
   "cell_type": "code",
   "execution_count": 135,
   "id": "bef1f0f7",
   "metadata": {},
   "outputs": [
    {
     "data": {
      "text/plain": [
       "['AT Rayudu',\n",
       " 'D Pretorius',\n",
       " 'DJ Bravo',\n",
       " 'DP Conway',\n",
       " 'M Theekshana',\n",
       " 'MJ Santner',\n",
       " 'MM Ali',\n",
       " 'MS Dhoni',\n",
       " 'Mukesh Choudhary',\n",
       " 'RA Jadeja',\n",
       " 'RD Gaikwad',\n",
       " 'RV Uthappa',\n",
       " 'S Dube',\n",
       " 'Simarjeet Singh']"
      ]
     },
     "execution_count": 135,
     "metadata": {},
     "output_type": "execute_result"
    }
   ],
   "source": [
    "sorted(set(df[df['BattingTeam'] == team1]['batter'].unique().tolist() + df[df['BattingTeam'] != team1]['bowler'].unique().tolist()))"
   ]
  },
  {
   "cell_type": "markdown",
   "id": "d46d392c",
   "metadata": {},
   "source": [
    "### team2 players"
   ]
  },
  {
   "cell_type": "code",
   "execution_count": 136,
   "id": "ab0eb141",
   "metadata": {},
   "outputs": [
    {
     "data": {
      "text/plain": [
       "['D Brevis',\n",
       " 'DR Sams',\n",
       " 'HR Shokeen',\n",
       " 'Ishan Kishan',\n",
       " 'JD Unadkat',\n",
       " 'JJ Bumrah',\n",
       " 'K Kartikeya',\n",
       " 'KA Pollard',\n",
       " 'RG Sharma',\n",
       " 'RP Meredith',\n",
       " 'Ramandeep Singh',\n",
       " 'SA Yadav',\n",
       " 'T Stubbs',\n",
       " 'TH David',\n",
       " 'Tilak Varma']"
      ]
     },
     "execution_count": 136,
     "metadata": {},
     "output_type": "execute_result"
    }
   ],
   "source": [
    "sorted(set(df[df['BattingTeam'] == team2]['batter'].unique().tolist() + df[df['BattingTeam'] != team2]['bowler'].unique().tolist()))"
   ]
  },
  {
   "cell_type": "markdown",
   "id": "02fbb7d6",
   "metadata": {},
   "source": [
    "### top 5 batsmans"
   ]
  },
  {
   "cell_type": "code",
   "execution_count": 111,
   "id": "4cbe5eef",
   "metadata": {},
   "outputs": [
    {
     "data": {
      "text/plain": [
       "['Tilak Varma', 'MS Dhoni', 'AT Rayudu', 'HR Shokeen', 'SA Yadav']"
      ]
     },
     "execution_count": 111,
     "metadata": {},
     "output_type": "execute_result"
    }
   ],
   "source": [
    "df.groupby('batter')['batsman_run'].sum().sort_values(ascending=False).head().index.tolist()"
   ]
  },
  {
   "cell_type": "code",
   "execution_count": 112,
   "id": "fc632492",
   "metadata": {},
   "outputs": [
    {
     "data": {
      "text/plain": [
       "[85, 64, 50, 43, 32]"
      ]
     },
     "execution_count": 112,
     "metadata": {},
     "output_type": "execute_result"
    }
   ],
   "source": [
    "df.groupby('batter')['batsman_run'].sum().sort_values(ascending=False).head().values.tolist()"
   ]
  },
  {
   "cell_type": "markdown",
   "id": "5aae662b",
   "metadata": {},
   "source": [
    "### top 5 bowlers"
   ]
  },
  {
   "cell_type": "code",
   "execution_count": 113,
   "id": "e0517cf6",
   "metadata": {},
   "outputs": [
    {
     "data": {
      "text/plain": [
       "['DR Sams', 'Mukesh Choudhary', 'RP Meredith', 'DJ Bravo', 'JD Unadkat']"
      ]
     },
     "execution_count": 113,
     "metadata": {},
     "output_type": "execute_result"
    }
   ],
   "source": [
    "df.groupby('bowler')['isWicketDelivery'].sum().sort_values(ascending=False).head().index.tolist()"
   ]
  },
  {
   "cell_type": "code",
   "execution_count": 114,
   "id": "28655abc",
   "metadata": {},
   "outputs": [
    {
     "data": {
      "text/plain": [
       "[7, 6, 4, 2, 2]"
      ]
     },
     "execution_count": 114,
     "metadata": {},
     "output_type": "execute_result"
    }
   ],
   "source": [
    "df.groupby('bowler')['isWicketDelivery'].sum().sort_values(ascending=False).head().values.tolist()"
   ]
  },
  {
   "cell_type": "markdown",
   "id": "b43ed625",
   "metadata": {},
   "source": [
    "### matches won by team1  "
   ]
  },
  {
   "cell_type": "code",
   "execution_count": 129,
   "id": "adc38f2c",
   "metadata": {},
   "outputs": [
    {
     "data": {
      "text/plain": [
       "1"
      ]
     },
     "execution_count": 129,
     "metadata": {},
     "output_type": "execute_result"
    }
   ],
   "source": [
    "df[df['WinningTeam'] == team1]['ID'].unique().size"
   ]
  },
  {
   "cell_type": "code",
   "execution_count": 127,
   "id": "e734df7a",
   "metadata": {},
   "outputs": [
    {
     "data": {
      "text/plain": [
       "'Chennai Super Kings'"
      ]
     },
     "execution_count": 127,
     "metadata": {},
     "output_type": "execute_result"
    }
   ],
   "source": [
    "df[df['WinningTeam'] == team1]['WinningTeam'].unique()[0]"
   ]
  },
  {
   "cell_type": "markdown",
   "id": "03bc5f42",
   "metadata": {},
   "source": [
    "### matches won by team2"
   ]
  },
  {
   "cell_type": "code",
   "execution_count": 118,
   "id": "dff0a677",
   "metadata": {},
   "outputs": [
    {
     "data": {
      "text/plain": [
       "1"
      ]
     },
     "execution_count": 118,
     "metadata": {},
     "output_type": "execute_result"
    }
   ],
   "source": [
    "df[df['WinningTeam'] == team2]['ID'].unique().shape[0]"
   ]
  },
  {
   "cell_type": "code",
   "execution_count": 131,
   "id": "4fef0231",
   "metadata": {},
   "outputs": [
    {
     "data": {
      "text/plain": [
       "'Mumbai Indians'"
      ]
     },
     "execution_count": 131,
     "metadata": {},
     "output_type": "execute_result"
    }
   ],
   "source": [
    "df[df['WinningTeam'] == team2]['WinningTeam'].unique()[0]"
   ]
  },
  {
   "cell_type": "markdown",
   "id": "5d67af3c",
   "metadata": {},
   "source": [
    "### matches draw"
   ]
  },
  {
   "cell_type": "code",
   "execution_count": 120,
   "id": "6f9415b3",
   "metadata": {},
   "outputs": [
    {
     "data": {
      "text/plain": [
       "0"
      ]
     },
     "execution_count": 120,
     "metadata": {},
     "output_type": "execute_result"
    }
   ],
   "source": [
    "df[df['WinningTeam'].isnull()]['ID'].unique().shape[0]"
   ]
  },
  {
   "cell_type": "markdown",
   "id": "ce647205",
   "metadata": {},
   "source": [
    "# batsman wise"
   ]
  },
  {
   "cell_type": "markdown",
   "id": "44030747",
   "metadata": {},
   "source": [
    "## overall analysis"
   ]
  },
  {
   "cell_type": "code",
   "execution_count": 54,
   "id": "322e87ee",
   "metadata": {},
   "outputs": [],
   "source": [
    "batsman = 'V Kohli'"
   ]
  },
  {
   "cell_type": "code",
   "execution_count": 55,
   "id": "04acd22c",
   "metadata": {},
   "outputs": [],
   "source": [
    "df = ball_with_match[(ball_with_match['batter']==batsman) & ball_with_match['innings'].isin([1,2])]"
   ]
  },
  {
   "cell_type": "code",
   "execution_count": 56,
   "id": "3b20c8e4",
   "metadata": {},
   "outputs": [
    {
     "data": {
      "text/html": [
       "<div>\n",
       "<style scoped>\n",
       "    .dataframe tbody tr th:only-of-type {\n",
       "        vertical-align: middle;\n",
       "    }\n",
       "\n",
       "    .dataframe tbody tr th {\n",
       "        vertical-align: top;\n",
       "    }\n",
       "\n",
       "    .dataframe thead th {\n",
       "        text-align: right;\n",
       "    }\n",
       "</style>\n",
       "<table border=\"1\" class=\"dataframe\">\n",
       "  <thead>\n",
       "    <tr style=\"text-align: right;\">\n",
       "      <th></th>\n",
       "      <th>ID</th>\n",
       "      <th>innings</th>\n",
       "      <th>overs</th>\n",
       "      <th>ballnumber</th>\n",
       "      <th>batter</th>\n",
       "      <th>bowler</th>\n",
       "      <th>non-striker</th>\n",
       "      <th>extra_type</th>\n",
       "      <th>batsman_run</th>\n",
       "      <th>extras_run</th>\n",
       "      <th>...</th>\n",
       "      <th>WonBy</th>\n",
       "      <th>Margin</th>\n",
       "      <th>method</th>\n",
       "      <th>Player_of_Match</th>\n",
       "      <th>Team1Players</th>\n",
       "      <th>Team2Players</th>\n",
       "      <th>Umpire1</th>\n",
       "      <th>Umpire2</th>\n",
       "      <th>bowler_run</th>\n",
       "      <th>isBowlerWicket</th>\n",
       "    </tr>\n",
       "  </thead>\n",
       "  <tbody>\n",
       "    <tr>\n",
       "      <th>233</th>\n",
       "      <td>1312199</td>\n",
       "      <td>1</td>\n",
       "      <td>0</td>\n",
       "      <td>1</td>\n",
       "      <td>V Kohli</td>\n",
       "      <td>TA Boult</td>\n",
       "      <td>F du Plessis</td>\n",
       "      <td>NaN</td>\n",
       "      <td>0</td>\n",
       "      <td>0</td>\n",
       "      <td>...</td>\n",
       "      <td>Wickets</td>\n",
       "      <td>7.0</td>\n",
       "      <td>NaN</td>\n",
       "      <td>JC Buttler</td>\n",
       "      <td>['V Kohli', 'F du Plessis', 'RM Patidar', 'GJ ...</td>\n",
       "      <td>['YBK Jaiswal', 'JC Buttler', 'SV Samson', 'D ...</td>\n",
       "      <td>CB Gaffaney</td>\n",
       "      <td>Nitin Menon</td>\n",
       "      <td>0</td>\n",
       "      <td>0</td>\n",
       "    </tr>\n",
       "    <tr>\n",
       "      <th>234</th>\n",
       "      <td>1312199</td>\n",
       "      <td>1</td>\n",
       "      <td>0</td>\n",
       "      <td>2</td>\n",
       "      <td>V Kohli</td>\n",
       "      <td>TA Boult</td>\n",
       "      <td>F du Plessis</td>\n",
       "      <td>NaN</td>\n",
       "      <td>1</td>\n",
       "      <td>0</td>\n",
       "      <td>...</td>\n",
       "      <td>Wickets</td>\n",
       "      <td>7.0</td>\n",
       "      <td>NaN</td>\n",
       "      <td>JC Buttler</td>\n",
       "      <td>['V Kohli', 'F du Plessis', 'RM Patidar', 'GJ ...</td>\n",
       "      <td>['YBK Jaiswal', 'JC Buttler', 'SV Samson', 'D ...</td>\n",
       "      <td>CB Gaffaney</td>\n",
       "      <td>Nitin Menon</td>\n",
       "      <td>1</td>\n",
       "      <td>0</td>\n",
       "    </tr>\n",
       "    <tr>\n",
       "      <th>236</th>\n",
       "      <td>1312199</td>\n",
       "      <td>1</td>\n",
       "      <td>0</td>\n",
       "      <td>4</td>\n",
       "      <td>V Kohli</td>\n",
       "      <td>TA Boult</td>\n",
       "      <td>F du Plessis</td>\n",
       "      <td>NaN</td>\n",
       "      <td>0</td>\n",
       "      <td>0</td>\n",
       "      <td>...</td>\n",
       "      <td>Wickets</td>\n",
       "      <td>7.0</td>\n",
       "      <td>NaN</td>\n",
       "      <td>JC Buttler</td>\n",
       "      <td>['V Kohli', 'F du Plessis', 'RM Patidar', 'GJ ...</td>\n",
       "      <td>['YBK Jaiswal', 'JC Buttler', 'SV Samson', 'D ...</td>\n",
       "      <td>CB Gaffaney</td>\n",
       "      <td>Nitin Menon</td>\n",
       "      <td>0</td>\n",
       "      <td>0</td>\n",
       "    </tr>\n",
       "    <tr>\n",
       "      <th>237</th>\n",
       "      <td>1312199</td>\n",
       "      <td>1</td>\n",
       "      <td>0</td>\n",
       "      <td>5</td>\n",
       "      <td>V Kohli</td>\n",
       "      <td>TA Boult</td>\n",
       "      <td>F du Plessis</td>\n",
       "      <td>NaN</td>\n",
       "      <td>0</td>\n",
       "      <td>0</td>\n",
       "      <td>...</td>\n",
       "      <td>Wickets</td>\n",
       "      <td>7.0</td>\n",
       "      <td>NaN</td>\n",
       "      <td>JC Buttler</td>\n",
       "      <td>['V Kohli', 'F du Plessis', 'RM Patidar', 'GJ ...</td>\n",
       "      <td>['YBK Jaiswal', 'JC Buttler', 'SV Samson', 'D ...</td>\n",
       "      <td>CB Gaffaney</td>\n",
       "      <td>Nitin Menon</td>\n",
       "      <td>0</td>\n",
       "      <td>0</td>\n",
       "    </tr>\n",
       "    <tr>\n",
       "      <th>238</th>\n",
       "      <td>1312199</td>\n",
       "      <td>1</td>\n",
       "      <td>0</td>\n",
       "      <td>6</td>\n",
       "      <td>V Kohli</td>\n",
       "      <td>TA Boult</td>\n",
       "      <td>F du Plessis</td>\n",
       "      <td>NaN</td>\n",
       "      <td>6</td>\n",
       "      <td>0</td>\n",
       "      <td>...</td>\n",
       "      <td>Wickets</td>\n",
       "      <td>7.0</td>\n",
       "      <td>NaN</td>\n",
       "      <td>JC Buttler</td>\n",
       "      <td>['V Kohli', 'F du Plessis', 'RM Patidar', 'GJ ...</td>\n",
       "      <td>['YBK Jaiswal', 'JC Buttler', 'SV Samson', 'D ...</td>\n",
       "      <td>CB Gaffaney</td>\n",
       "      <td>Nitin Menon</td>\n",
       "      <td>6</td>\n",
       "      <td>0</td>\n",
       "    </tr>\n",
       "  </tbody>\n",
       "</table>\n",
       "<p>5 rows × 38 columns</p>\n",
       "</div>"
      ],
      "text/plain": [
       "          ID  innings  overs  ballnumber   batter    bowler   non-striker  \\\n",
       "233  1312199        1      0           1  V Kohli  TA Boult  F du Plessis   \n",
       "234  1312199        1      0           2  V Kohli  TA Boult  F du Plessis   \n",
       "236  1312199        1      0           4  V Kohli  TA Boult  F du Plessis   \n",
       "237  1312199        1      0           5  V Kohli  TA Boult  F du Plessis   \n",
       "238  1312199        1      0           6  V Kohli  TA Boult  F du Plessis   \n",
       "\n",
       "    extra_type  batsman_run  extras_run  ...    WonBy  Margin  method  \\\n",
       "233        NaN            0           0  ...  Wickets     7.0     NaN   \n",
       "234        NaN            1           0  ...  Wickets     7.0     NaN   \n",
       "236        NaN            0           0  ...  Wickets     7.0     NaN   \n",
       "237        NaN            0           0  ...  Wickets     7.0     NaN   \n",
       "238        NaN            6           0  ...  Wickets     7.0     NaN   \n",
       "\n",
       "    Player_of_Match                                       Team1Players  \\\n",
       "233      JC Buttler  ['V Kohli', 'F du Plessis', 'RM Patidar', 'GJ ...   \n",
       "234      JC Buttler  ['V Kohli', 'F du Plessis', 'RM Patidar', 'GJ ...   \n",
       "236      JC Buttler  ['V Kohli', 'F du Plessis', 'RM Patidar', 'GJ ...   \n",
       "237      JC Buttler  ['V Kohli', 'F du Plessis', 'RM Patidar', 'GJ ...   \n",
       "238      JC Buttler  ['V Kohli', 'F du Plessis', 'RM Patidar', 'GJ ...   \n",
       "\n",
       "                                          Team2Players      Umpire1  \\\n",
       "233  ['YBK Jaiswal', 'JC Buttler', 'SV Samson', 'D ...  CB Gaffaney   \n",
       "234  ['YBK Jaiswal', 'JC Buttler', 'SV Samson', 'D ...  CB Gaffaney   \n",
       "236  ['YBK Jaiswal', 'JC Buttler', 'SV Samson', 'D ...  CB Gaffaney   \n",
       "237  ['YBK Jaiswal', 'JC Buttler', 'SV Samson', 'D ...  CB Gaffaney   \n",
       "238  ['YBK Jaiswal', 'JC Buttler', 'SV Samson', 'D ...  CB Gaffaney   \n",
       "\n",
       "         Umpire2 bowler_run  isBowlerWicket  \n",
       "233  Nitin Menon          0               0  \n",
       "234  Nitin Menon          1               0  \n",
       "236  Nitin Menon          0               0  \n",
       "237  Nitin Menon          0               0  \n",
       "238  Nitin Menon          6               0  \n",
       "\n",
       "[5 rows x 38 columns]"
      ]
     },
     "execution_count": 56,
     "metadata": {},
     "output_type": "execute_result"
    }
   ],
   "source": [
    "df.head()"
   ]
  },
  {
   "cell_type": "markdown",
   "id": "2e9022fc",
   "metadata": {},
   "source": [
    "### batsman per all seasons"
   ]
  },
  {
   "cell_type": "code",
   "execution_count": 57,
   "id": "70ce5c4e",
   "metadata": {},
   "outputs": [
    {
     "data": {
      "text/plain": [
       "['A Ashish Reddy',\n",
       " 'A Badoni',\n",
       " 'A Chandila',\n",
       " 'A Chopra',\n",
       " 'A Choudhary',\n",
       " 'A Dananjaya',\n",
       " 'A Flintoff',\n",
       " 'A Kumble',\n",
       " 'A Manohar',\n",
       " 'A Mishra',\n",
       " 'A Mithun',\n",
       " 'A Mukund',\n",
       " 'A Nehra',\n",
       " 'A Nortje',\n",
       " 'A Singh',\n",
       " 'A Symonds',\n",
       " 'A Tomar',\n",
       " 'A Uniyal',\n",
       " 'A Zampa',\n",
       " 'AA Bilakhia',\n",
       " 'AA Chavan',\n",
       " 'AA Jhunjhunwala',\n",
       " 'AA Noffke',\n",
       " 'AB Agarkar',\n",
       " 'AB Barath',\n",
       " 'AB Dinda',\n",
       " 'AB McDonald',\n",
       " 'AB de Villiers',\n",
       " 'AC Blizzard',\n",
       " 'AC Gilchrist',\n",
       " 'AC Thomas',\n",
       " 'AC Voges',\n",
       " 'AD Hales',\n",
       " 'AD Mascarenhas',\n",
       " 'AD Mathews',\n",
       " 'AD Nath',\n",
       " 'AD Russell',\n",
       " 'AF Milne',\n",
       " 'AG Murtaza',\n",
       " 'AG Paunikar',\n",
       " 'AJ Finch',\n",
       " 'AJ Turner',\n",
       " 'AJ Tye',\n",
       " 'AK Markram',\n",
       " 'AL Menaria',\n",
       " 'AM Nayar',\n",
       " 'AM Rahane',\n",
       " 'AN Ahmed',\n",
       " 'AN Ghosh',\n",
       " 'AP Dole',\n",
       " 'AP Majumdar',\n",
       " 'AP Tare',\n",
       " 'AR Bawne',\n",
       " 'AR Patel',\n",
       " 'AS Joseph',\n",
       " 'AS Rajpoot',\n",
       " 'AS Raut',\n",
       " 'AS Roy',\n",
       " 'AS Yadav',\n",
       " 'AT Carey',\n",
       " 'AT Rayudu',\n",
       " 'AUK Pathan',\n",
       " 'Abdul Samad',\n",
       " 'Abdur Razzak',\n",
       " 'Abhishek Sharma',\n",
       " 'Akash Deep',\n",
       " 'Aman Hakim Khan',\n",
       " 'Anirudh Singh',\n",
       " 'Ankit Sharma',\n",
       " 'Ankit Soni',\n",
       " 'Anmolpreet Singh',\n",
       " 'Anuj Rawat',\n",
       " 'Anureet Singh',\n",
       " 'Arshdeep Singh',\n",
       " 'Avesh Khan',\n",
       " 'Azhar Mahmood',\n",
       " 'B Akhil',\n",
       " 'B Chipli',\n",
       " 'B Indrajith',\n",
       " 'B Kumar',\n",
       " 'B Laughlin',\n",
       " 'B Lee',\n",
       " 'B Sai Sudharsan',\n",
       " 'B Stanlake',\n",
       " 'B Sumanth',\n",
       " 'BA Bhatt',\n",
       " 'BA Stokes',\n",
       " 'BAW Mendis',\n",
       " 'BB McCullum',\n",
       " 'BB Samantray',\n",
       " 'BB Sran',\n",
       " 'BCJ Cutting',\n",
       " 'BE Hendricks',\n",
       " 'BJ Haddin',\n",
       " 'BJ Hodge',\n",
       " 'BJ Rohrer',\n",
       " 'BMAJ Mendis',\n",
       " 'BR Dunk',\n",
       " 'Basil Thampi',\n",
       " 'Bipul Sharma',\n",
       " 'C Madan',\n",
       " 'C Munro',\n",
       " 'C Nanda',\n",
       " 'C Sakariya',\n",
       " 'C de Grandhomme',\n",
       " 'CA Ingram',\n",
       " 'CA Lynn',\n",
       " 'CA Pujara',\n",
       " 'CH Gayle',\n",
       " 'CH Morris',\n",
       " 'CJ Anderson',\n",
       " 'CJ Ferguson',\n",
       " 'CJ Jordan',\n",
       " 'CJ McKay',\n",
       " 'CK Kapugedera',\n",
       " 'CK Langeveldt',\n",
       " 'CL White',\n",
       " 'CM Gautam',\n",
       " 'CR Brathwaite',\n",
       " 'CR Woakes',\n",
       " 'CRD Fernando',\n",
       " 'CV Varun',\n",
       " 'D Brevis',\n",
       " 'D Kalyankrishna',\n",
       " 'D Padikkal',\n",
       " 'D Pretorius',\n",
       " 'D Salunkhe',\n",
       " 'D Wiese',\n",
       " 'D du Preez',\n",
       " 'DA Miller',\n",
       " 'DA Warner',\n",
       " 'DAJ Bracewell',\n",
       " 'DB Das',\n",
       " 'DB Ravi Teja',\n",
       " 'DE Bollinger',\n",
       " 'DH Yagnik',\n",
       " 'DJ Bravo',\n",
       " 'DJ Harris',\n",
       " 'DJ Hooda',\n",
       " 'DJ Hussey',\n",
       " 'DJ Jacobs',\n",
       " 'DJ Malan',\n",
       " 'DJ Mitchell',\n",
       " 'DJ Muthuswami',\n",
       " 'DJ Thornely',\n",
       " 'DJ Willey',\n",
       " 'DJG Sammy',\n",
       " 'DJM Short',\n",
       " 'DL Chahar',\n",
       " 'DL Vettori',\n",
       " 'DM Bravo',\n",
       " 'DNT Zoysa',\n",
       " 'DP Conway',\n",
       " 'DP Nannes',\n",
       " 'DP Vijaykumar',\n",
       " 'DPMD Jayawardene',\n",
       " 'DR Martyn',\n",
       " 'DR Sams',\n",
       " 'DR Shorey',\n",
       " 'DR Smith',\n",
       " 'DS Kulkarni',\n",
       " 'DS Lehmann',\n",
       " 'DT Christian',\n",
       " 'DT Patil',\n",
       " 'DW Steyn',\n",
       " 'E Lewis',\n",
       " 'EJG Morgan',\n",
       " 'ER Dwivedi',\n",
       " 'F Behardien',\n",
       " 'F du Plessis',\n",
       " 'FA Allen',\n",
       " 'FH Edwards',\n",
       " 'FY Fazal',\n",
       " 'Fazalhaq Farooqi',\n",
       " 'G Gambhir',\n",
       " 'GB Hogg',\n",
       " 'GC Smith',\n",
       " 'GC Viljoen',\n",
       " 'GD McGrath',\n",
       " 'GD Phillips',\n",
       " 'GH Vihari',\n",
       " 'GHS Garton',\n",
       " 'GJ Bailey',\n",
       " 'GJ Maxwell',\n",
       " 'GR Napier',\n",
       " 'Gurkeerat Singh',\n",
       " 'H Das',\n",
       " 'H Klaasen',\n",
       " 'HE van der Dussen',\n",
       " 'HF Gurney',\n",
       " 'HH Gibbs',\n",
       " 'HH Pandya',\n",
       " 'HM Amla',\n",
       " 'HR Shokeen',\n",
       " 'HV Patel',\n",
       " 'Harbhajan Singh',\n",
       " 'Harmeet Singh',\n",
       " 'Harpreet Brar',\n",
       " 'Harpreet Singh',\n",
       " 'Harshit Rana',\n",
       " 'I Malhotra',\n",
       " 'I Sharma',\n",
       " 'I Udana',\n",
       " 'IC Pandey',\n",
       " 'IK Pathan',\n",
       " 'IR Jaggi',\n",
       " 'IS Sodhi',\n",
       " 'Imran Tahir',\n",
       " 'Iqbal Abdulla',\n",
       " 'Ishan Kishan',\n",
       " 'J Arunkumar',\n",
       " 'J Botha',\n",
       " 'J Suchith',\n",
       " 'J Syed Mohammad',\n",
       " 'J Theron',\n",
       " 'J Yadav',\n",
       " 'JA Morkel',\n",
       " 'JA Richardson',\n",
       " 'JC Archer',\n",
       " 'JC Buttler',\n",
       " 'JD Ryder',\n",
       " 'JD Unadkat',\n",
       " 'JDP Oram',\n",
       " 'JDS Neesham',\n",
       " 'JE Taylor',\n",
       " 'JEC Franklin',\n",
       " 'JH Kallis',\n",
       " 'JJ Bumrah',\n",
       " 'JJ Roy',\n",
       " 'JJ van der Wath',\n",
       " 'JL Denly',\n",
       " 'JL Pattinson',\n",
       " 'JM Bairstow',\n",
       " 'JM Kemp',\n",
       " 'JM Sharma',\n",
       " 'JO Holder',\n",
       " 'JP Duminy',\n",
       " 'JP Faulkner',\n",
       " 'JPR Scantlebury-Searles',\n",
       " 'JR Hazlewood',\n",
       " 'JR Hopes',\n",
       " 'JR Philippe',\n",
       " 'Jaskaran Singh',\n",
       " 'Joginder Sharma',\n",
       " 'K Goel',\n",
       " 'K Gowtham',\n",
       " 'K Kartikeya',\n",
       " 'K Rabada',\n",
       " 'K Upadhyay',\n",
       " 'K Yadav',\n",
       " 'KA Jamieson',\n",
       " 'KA Pollard',\n",
       " 'KAJ Roach',\n",
       " 'KB Arun Karthik',\n",
       " 'KC Cariappa',\n",
       " 'KC Sangakkara',\n",
       " 'KD Karthik',\n",
       " 'KH Pandya',\n",
       " 'KJ Abbott',\n",
       " 'KK Ahmed',\n",
       " 'KK Cooper',\n",
       " 'KK Nair',\n",
       " 'KL Nagarkoti',\n",
       " 'KL Rahul',\n",
       " 'KM Jadhav',\n",
       " 'KMA Paul',\n",
       " 'KMDN Kulasekara',\n",
       " 'KP Appanna',\n",
       " 'KP Pietersen',\n",
       " 'KR Sen',\n",
       " 'KS Bharat',\n",
       " 'KS Sharma',\n",
       " 'KS Williamson',\n",
       " 'KV Sharma',\n",
       " 'KW Richardson',\n",
       " 'Kamran Akmal',\n",
       " 'Kamran Khan',\n",
       " 'Karanveer Singh',\n",
       " 'Kartik Tyagi',\n",
       " 'Kuldeep Yadav',\n",
       " 'L Ablish',\n",
       " 'L Balaji',\n",
       " 'L Ronchi',\n",
       " 'LA Carseldine',\n",
       " 'LA Pomersbach',\n",
       " 'LE Plunkett',\n",
       " 'LH Ferguson',\n",
       " 'LJ Wright',\n",
       " 'LMP Simmons',\n",
       " 'LPC Silva',\n",
       " 'LR Shukla',\n",
       " 'LRPL Taylor',\n",
       " 'LS Livingstone',\n",
       " 'Lalit Yadav',\n",
       " 'M Ashwin',\n",
       " 'M Jansen',\n",
       " 'M Kaif',\n",
       " 'M Kartik',\n",
       " 'M Klinger',\n",
       " 'M Manhas',\n",
       " 'M Markande',\n",
       " 'M Morkel',\n",
       " 'M Muralitharan',\n",
       " 'M Ntini',\n",
       " 'M Prasidh Krishna',\n",
       " 'M Rawat',\n",
       " 'M Shahrukh Khan',\n",
       " 'M Theekshana',\n",
       " 'M Vijay',\n",
       " 'M Vohra',\n",
       " 'M de Lange',\n",
       " 'MA Agarwal',\n",
       " 'MA Khote',\n",
       " 'MA Starc',\n",
       " 'MA Wood',\n",
       " 'MC Henriques',\n",
       " 'MC Juneja',\n",
       " 'MD Mishra',\n",
       " 'MDKJ Perera',\n",
       " 'MEK Hussey',\n",
       " 'MF Maharoof',\n",
       " 'MG Johnson',\n",
       " 'MJ Clarke',\n",
       " 'MJ Guptill',\n",
       " 'MJ Lumb',\n",
       " 'MJ McClenaghan',\n",
       " 'MJ Santner',\n",
       " 'MK Lomror',\n",
       " 'MK Pandey',\n",
       " 'MK Tiwary',\n",
       " 'ML Hayden',\n",
       " 'MM Ali',\n",
       " 'MM Patel',\n",
       " 'MM Sharma',\n",
       " 'MN Samuels',\n",
       " 'MN van Wyk',\n",
       " 'MP Stoinis',\n",
       " 'MR Marsh',\n",
       " 'MS Bisla',\n",
       " 'MS Dhoni',\n",
       " 'MS Gony',\n",
       " 'MS Wade',\n",
       " 'MV Boucher',\n",
       " 'Mandeep Singh',\n",
       " 'Mashrafe Mortaza',\n",
       " 'Misbah-ul-Haq',\n",
       " 'Mohammad Ashraful',\n",
       " 'Mohammad Asif',\n",
       " 'Mohammad Hafeez',\n",
       " 'Mohammad Nabi',\n",
       " 'Mohammed Shami',\n",
       " 'Mohammed Siraj',\n",
       " 'Mohsin Khan',\n",
       " 'Mujeeb Ur Rahman',\n",
       " 'Mukesh Choudhary',\n",
       " 'Mustafizur Rahman',\n",
       " 'N Jagadeesan',\n",
       " 'N Pooran',\n",
       " 'N Rana',\n",
       " 'N Saini',\n",
       " 'ND Doshi',\n",
       " 'NJ Maddinson',\n",
       " 'NJ Rimmington',\n",
       " 'NK Patel',\n",
       " 'NL McCullum',\n",
       " 'NLTC Perera',\n",
       " 'NM Coulter-Nile',\n",
       " 'NS Naik',\n",
       " 'NT Ellis',\n",
       " 'NV Ojha',\n",
       " 'Navdeep Saini',\n",
       " 'OA Shah',\n",
       " 'OC McCoy',\n",
       " 'OF Smith',\n",
       " 'P Awana',\n",
       " 'P Chopra',\n",
       " 'P Dogra',\n",
       " 'P Dubey',\n",
       " 'P Kumar',\n",
       " 'P Negi',\n",
       " 'P Parameswaran',\n",
       " 'P Ray Barman',\n",
       " 'P Sahu',\n",
       " 'P Simran Singh',\n",
       " 'PA Patel',\n",
       " 'PA Reddy',\n",
       " 'PBB Rajapaksa',\n",
       " 'PC Valthaty',\n",
       " 'PD Collingwood',\n",
       " 'PJ Cummins',\n",
       " 'PJ Sangwan',\n",
       " 'PK Garg',\n",
       " 'PM Sarvesh Kumar',\n",
       " 'PN Mankad',\n",
       " 'PP Chawla',\n",
       " 'PP Ojha',\n",
       " 'PP Shaw',\n",
       " 'PR Shah',\n",
       " 'PSP Handscomb',\n",
       " 'PV Tambe',\n",
       " 'PVD Chameera',\n",
       " 'PWH de Silva',\n",
       " 'Pankaj Singh',\n",
       " 'Parvez Rasool',\n",
       " 'Q de Kock',\n",
       " 'R Ashwin',\n",
       " 'R Bhatia',\n",
       " 'R Bishnoi',\n",
       " 'R Dhawan',\n",
       " 'R Dravid',\n",
       " 'R McLaren',\n",
       " 'R Ninan',\n",
       " 'R Parag',\n",
       " 'R Powell',\n",
       " 'R Rampaul',\n",
       " 'R Sanjay Yadav',\n",
       " 'R Sathish',\n",
       " 'R Sharma',\n",
       " 'R Shepherd',\n",
       " 'R Shukla',\n",
       " 'R Tewatia',\n",
       " 'R Vinay Kumar',\n",
       " 'RA Bawa',\n",
       " 'RA Jadeja',\n",
       " 'RA Tripathi',\n",
       " 'RD Chahar',\n",
       " 'RD Gaikwad',\n",
       " 'RE Levi',\n",
       " 'RE van der Merwe',\n",
       " 'RG More',\n",
       " 'RG Sharma',\n",
       " 'RJ Harris',\n",
       " 'RJ Peterson',\n",
       " 'RJ Quiney',\n",
       " 'RK Bhui',\n",
       " 'RK Singh',\n",
       " 'RM Patidar',\n",
       " 'RN ten Doeschate',\n",
       " 'RP Meredith',\n",
       " 'RP Singh',\n",
       " 'RR Bhatkal',\n",
       " 'RR Pant',\n",
       " 'RR Powar',\n",
       " 'RR Raje',\n",
       " 'RR Rossouw',\n",
       " 'RR Sarwan',\n",
       " 'RS Bopara',\n",
       " 'RS Gavaskar',\n",
       " 'RS Sodhi',\n",
       " 'RT Ponting',\n",
       " 'RV Gomez',\n",
       " 'RV Patel',\n",
       " 'RV Uthappa',\n",
       " 'Ramandeep Singh',\n",
       " 'Rashid Khan',\n",
       " 'Rasikh Salam',\n",
       " 'Ravi Bishnoi',\n",
       " 'S Anirudha',\n",
       " 'S Aravind',\n",
       " 'S Badree',\n",
       " 'S Badrinath',\n",
       " 'S Chanderpaul',\n",
       " 'S Dhawan',\n",
       " 'S Dube',\n",
       " 'S Gopal',\n",
       " 'S Kaul',\n",
       " 'S Kaushik',\n",
       " 'S Ladda',\n",
       " 'S Lamichhane',\n",
       " 'S Nadeem',\n",
       " 'S Narwal',\n",
       " 'S Rana',\n",
       " 'S Randiv',\n",
       " 'S Sohal',\n",
       " 'S Sreesanth',\n",
       " 'S Sriram',\n",
       " 'S Tyagi',\n",
       " 'S Vidyut',\n",
       " 'SA Abbott',\n",
       " 'SA Asnodkar',\n",
       " 'SA Yadav',\n",
       " 'SB Bangar',\n",
       " 'SB Jakati',\n",
       " 'SB Joshi',\n",
       " 'SB Styris',\n",
       " 'SB Wagh',\n",
       " 'SC Ganguly',\n",
       " 'SD Chitnis',\n",
       " 'SD Lad',\n",
       " 'SE Bond',\n",
       " 'SE Marsh',\n",
       " 'SE Rutherford',\n",
       " 'SJ Srivastava',\n",
       " 'SK Raina',\n",
       " 'SK Trivedi',\n",
       " 'SK Warne',\n",
       " 'SL Malinga',\n",
       " 'SM Curran',\n",
       " 'SM Harwood',\n",
       " 'SM Katich',\n",
       " 'SM Pollock',\n",
       " 'SMSM Senanayake',\n",
       " 'SN Khan',\n",
       " 'SN Thakur',\n",
       " 'SO Hetmyer',\n",
       " 'SP Fleming',\n",
       " 'SP Goswami',\n",
       " 'SP Jackson',\n",
       " 'SP Narine',\n",
       " 'SPD Smith',\n",
       " 'SR Tendulkar',\n",
       " 'SR Watson',\n",
       " 'SS Cottrell',\n",
       " 'SS Iyer',\n",
       " 'SS Prabhudessai',\n",
       " 'SS Shaikh',\n",
       " 'SS Tiwary',\n",
       " 'ST Jayasuriya',\n",
       " 'STR Binny',\n",
       " 'SV Samson',\n",
       " 'SW Billings',\n",
       " 'SW Tait',\n",
       " 'Sachin Baby',\n",
       " 'Salman Butt',\n",
       " 'Sandeep Sharma',\n",
       " 'Shahbaz Ahmed',\n",
       " 'Shahid Afridi',\n",
       " 'Shakib Al Hasan',\n",
       " 'Shashank Singh',\n",
       " 'Shivam Mavi',\n",
       " 'Shivam Sharma',\n",
       " 'Shoaib Ahmed',\n",
       " 'Shoaib Akhtar',\n",
       " 'Shoaib Malik',\n",
       " 'Shubman Gill',\n",
       " 'Simarjeet Singh',\n",
       " 'Sohail Tanvir',\n",
       " 'Sunny Gupta',\n",
       " 'Sunny Singh',\n",
       " 'Swapnil Singh',\n",
       " 'T Banton',\n",
       " 'T Henderson',\n",
       " 'T Kohli',\n",
       " 'T Natarajan',\n",
       " 'T Shamsi',\n",
       " 'T Stubbs',\n",
       " 'T Taibu',\n",
       " 'T Thushara',\n",
       " 'TA Boult',\n",
       " 'TD Paine',\n",
       " 'TG Southee',\n",
       " 'TH David',\n",
       " 'TK Curran',\n",
       " 'TL Seifert',\n",
       " 'TL Suman',\n",
       " 'TM Dilshan',\n",
       " 'TM Head',\n",
       " 'TM Srivastava',\n",
       " 'TR Birt',\n",
       " 'TS Mills',\n",
       " 'TU Deshpande',\n",
       " 'Tilak Varma',\n",
       " 'U Kaul',\n",
       " 'UA Birla',\n",
       " 'UBT Chand',\n",
       " 'UT Khawaja',\n",
       " 'UT Yadav',\n",
       " 'Umar Gul',\n",
       " 'Umran Malik',\n",
       " 'V Kohli',\n",
       " 'V Pratap Singh',\n",
       " 'V Sehwag',\n",
       " 'V Shankar',\n",
       " 'VG Arora',\n",
       " 'VH Zol',\n",
       " 'VR Aaron',\n",
       " 'VR Iyer',\n",
       " 'VRV Singh',\n",
       " 'VS Malik',\n",
       " 'VS Yeligati',\n",
       " 'VVS Laxman',\n",
       " 'VY Mahesh',\n",
       " 'Virat Singh',\n",
       " 'Vishnu Vinod',\n",
       " 'W Jaffer',\n",
       " 'WA Mota',\n",
       " 'WD Parnell',\n",
       " 'WP Saha',\n",
       " 'WPUJC Vaas',\n",
       " 'Washington Sundar',\n",
       " 'X Thalaivan Sargunam',\n",
       " 'Y Gnaneswara Rao',\n",
       " 'Y Nagar',\n",
       " 'Y Prithvi Raj',\n",
       " 'Y Venugopal Rao',\n",
       " 'YA Abdulla',\n",
       " 'YBK Jaiswal',\n",
       " 'YK Pathan',\n",
       " 'YS Chahal',\n",
       " 'YV Takawale',\n",
       " 'Yash Dayal',\n",
       " 'Yashpal Singh',\n",
       " 'Younis Khan',\n",
       " 'Yuvraj Singh',\n",
       " 'Z Khan']"
      ]
     },
     "execution_count": 57,
     "metadata": {},
     "output_type": "execute_result"
    }
   ],
   "source": [
    "sorted(ball_with_match['batter'].unique())"
   ]
  },
  {
   "cell_type": "markdown",
   "id": "8572038d",
   "metadata": {},
   "source": [
    "### total season played"
   ]
  },
  {
   "cell_type": "code",
   "execution_count": 58,
   "id": "41005271",
   "metadata": {},
   "outputs": [
    {
     "data": {
      "text/plain": [
       "15"
      ]
     },
     "execution_count": 58,
     "metadata": {},
     "output_type": "execute_result"
    }
   ],
   "source": [
    "df['Season'].unique().size"
   ]
  },
  {
   "cell_type": "markdown",
   "id": "c3c2db08",
   "metadata": {},
   "source": [
    "### total matches played"
   ]
  },
  {
   "cell_type": "code",
   "execution_count": 59,
   "id": "1be469eb",
   "metadata": {},
   "outputs": [
    {
     "data": {
      "text/plain": [
       "215"
      ]
     },
     "execution_count": 59,
     "metadata": {},
     "output_type": "execute_result"
    }
   ],
   "source": [
    "df['ID'].unique().size"
   ]
  },
  {
   "cell_type": "markdown",
   "id": "31bbd39f",
   "metadata": {},
   "source": [
    "### total runs"
   ]
  },
  {
   "cell_type": "code",
   "execution_count": 60,
   "id": "5fe00e06",
   "metadata": {},
   "outputs": [
    {
     "data": {
      "text/plain": [
       "6624"
      ]
     },
     "execution_count": 60,
     "metadata": {},
     "output_type": "execute_result"
    }
   ],
   "source": [
    "df['batsman_run'].sum()"
   ]
  },
  {
   "cell_type": "markdown",
   "id": "6c66f08a",
   "metadata": {},
   "source": [
    "### total fours"
   ]
  },
  {
   "cell_type": "code",
   "execution_count": 61,
   "id": "76708319",
   "metadata": {},
   "outputs": [
    {
     "data": {
      "text/plain": [
       "579"
      ]
     },
     "execution_count": 61,
     "metadata": {},
     "output_type": "execute_result"
    }
   ],
   "source": [
    "df[df['batsman_run'] == 4].shape[0]"
   ]
  },
  {
   "cell_type": "markdown",
   "id": "ac5f715e",
   "metadata": {},
   "source": [
    "### total sixes"
   ]
  },
  {
   "cell_type": "code",
   "execution_count": 42,
   "id": "e1ef9673",
   "metadata": {},
   "outputs": [
    {
     "data": {
      "text/plain": [
       "219"
      ]
     },
     "execution_count": 42,
     "metadata": {},
     "output_type": "execute_result"
    }
   ],
   "source": [
    "df[df['batsman_run'] == 6].shape[0]"
   ]
  },
  {
   "cell_type": "markdown",
   "id": "0e97e3bf",
   "metadata": {},
   "source": [
    "### average"
   ]
  },
  {
   "cell_type": "code",
   "execution_count": 57,
   "id": "9a3d00a6",
   "metadata": {},
   "outputs": [
    {
     "data": {
      "text/plain": [
       "36.59668508287293"
      ]
     },
     "execution_count": 57,
     "metadata": {},
     "output_type": "execute_result"
    }
   ],
   "source": [
    "df['batsman_run'].sum() / df[df['player_out'] == batsman].shape[0]"
   ]
  },
  {
   "cell_type": "markdown",
   "id": "d0cacd3c",
   "metadata": {},
   "source": [
    "### strike rate"
   ]
  },
  {
   "cell_type": "code",
   "execution_count": 60,
   "id": "b7c601e2",
   "metadata": {},
   "outputs": [
    {
     "data": {
      "text/plain": [
       "129.14798206278027"
      ]
     },
     "execution_count": 60,
     "metadata": {},
     "output_type": "execute_result"
    }
   ],
   "source": [
    "(df['batsman_run'].sum() / df[~(df['extra_type'] == 'wides')].shape[0]) * 100"
   ]
  },
  {
   "cell_type": "markdown",
   "id": "bf3bf773",
   "metadata": {},
   "source": [
    "### total fifties"
   ]
  },
  {
   "cell_type": "code",
   "execution_count": 75,
   "id": "9fd6793c",
   "metadata": {},
   "outputs": [
    {
     "name": "stderr",
     "output_type": "stream",
     "text": [
      "C:\\Users\\gevar\\AppData\\Local\\Temp\\ipykernel_2552\\3987750926.py:1: FutureWarning: The default value of numeric_only in DataFrameGroupBy.sum is deprecated. In a future version, numeric_only will default to False. Either specify numeric_only or select only columns which should be valid for the function.\n",
      "  temp_df = df.groupby('ID').sum()\n"
     ]
    }
   ],
   "source": [
    "temp_df = df.groupby('ID').sum()"
   ]
  },
  {
   "cell_type": "code",
   "execution_count": 78,
   "id": "f5bddc1e",
   "metadata": {},
   "outputs": [
    {
     "data": {
      "text/plain": [
       "44"
      ]
     },
     "execution_count": 78,
     "metadata": {},
     "output_type": "execute_result"
    }
   ],
   "source": [
    "temp_df[(temp_df['batsman_run'] >= 50 ) * (temp_df['batsman_run'] < 100)].shape[0]"
   ]
  },
  {
   "cell_type": "markdown",
   "id": "37c0884b",
   "metadata": {},
   "source": [
    "### total centuries"
   ]
  },
  {
   "cell_type": "code",
   "execution_count": 79,
   "id": "8a77de24",
   "metadata": {},
   "outputs": [
    {
     "data": {
      "text/plain": [
       "5"
      ]
     },
     "execution_count": 79,
     "metadata": {},
     "output_type": "execute_result"
    }
   ],
   "source": [
    "temp_df[temp_df['batsman_run'] >= 100 ].shape[0]"
   ]
  },
  {
   "cell_type": "markdown",
   "id": "01d1ce17",
   "metadata": {},
   "source": [
    "### highest score"
   ]
  },
  {
   "cell_type": "code",
   "execution_count": 86,
   "id": "3758db3a",
   "metadata": {},
   "outputs": [
    {
     "data": {
      "text/plain": [
       "113"
      ]
     },
     "execution_count": 86,
     "metadata": {},
     "output_type": "execute_result"
    }
   ],
   "source": [
    "temp_df['batsman_run'].sort_values(ascending=False).values[0]"
   ]
  },
  {
   "cell_type": "code",
   "execution_count": 85,
   "id": "7734e82d",
   "metadata": {},
   "outputs": [
    {
     "data": {
      "text/plain": [
       "113"
      ]
     },
     "execution_count": 85,
     "metadata": {},
     "output_type": "execute_result"
    }
   ],
   "source": [
    "temp_df['batsman_run'].max()"
   ]
  },
  {
   "cell_type": "markdown",
   "id": "51344b88",
   "metadata": {},
   "source": [
    "### man of the match"
   ]
  },
  {
   "cell_type": "code",
   "execution_count": 109,
   "id": "1d14c420",
   "metadata": {},
   "outputs": [
    {
     "data": {
      "text/plain": [
       "14"
      ]
     },
     "execution_count": 109,
     "metadata": {},
     "output_type": "execute_result"
    }
   ],
   "source": [
    "df[df['Player_of_Match'] == batsman]['ID'].unique().size"
   ]
  },
  {
   "cell_type": "code",
   "execution_count": 110,
   "id": "17e7ccca",
   "metadata": {},
   "outputs": [
    {
     "data": {
      "text/plain": [
       "14"
      ]
     },
     "execution_count": 110,
     "metadata": {},
     "output_type": "execute_result"
    }
   ],
   "source": [
    "ball_with_match[ball_with_match['Player_of_Match'] == batsman]['ID'].unique().size"
   ]
  },
  {
   "cell_type": "code",
   "execution_count": 106,
   "id": "3d3aada7",
   "metadata": {},
   "outputs": [],
   "source": [
    "a = ball_with_match[(ball_with_match['batter']=='JJ Bumrah') & ball_with_match['innings'].isin([1,2])]"
   ]
  },
  {
   "cell_type": "code",
   "execution_count": 107,
   "id": "9661c23e",
   "metadata": {},
   "outputs": [
    {
     "data": {
      "text/plain": [
       "0"
      ]
     },
     "execution_count": 107,
     "metadata": {},
     "output_type": "execute_result"
    }
   ],
   "source": [
    "a[a['Player_of_Match'] == 'MS Dhoni']['ID'].unique().size"
   ]
  },
  {
   "cell_type": "code",
   "execution_count": 108,
   "id": "81eb965e",
   "metadata": {},
   "outputs": [
    {
     "data": {
      "text/plain": [
       "8"
      ]
     },
     "execution_count": 108,
     "metadata": {},
     "output_type": "execute_result"
    }
   ],
   "source": [
    "ball_with_match[ball_with_match['Player_of_Match'] == 'JJ Bumrah']['ID'].unique().size"
   ]
  },
  {
   "cell_type": "code",
   "execution_count": 111,
   "id": "ed6ba639",
   "metadata": {},
   "outputs": [
    {
     "data": {
      "text/plain": [
       "17"
      ]
     },
     "execution_count": 111,
     "metadata": {},
     "output_type": "execute_result"
    }
   ],
   "source": [
    "ball_with_match[ball_with_match['Player_of_Match'] == 'MS Dhoni']['ID'].unique().size"
   ]
  },
  {
   "cell_type": "code",
   "execution_count": 112,
   "id": "f5b95973",
   "metadata": {},
   "outputs": [
    {
     "data": {
      "text/plain": [
       "18"
      ]
     },
     "execution_count": 112,
     "metadata": {},
     "output_type": "execute_result"
    }
   ],
   "source": [
    "ball_with_match[ball_with_match['Player_of_Match'] == 'RG Sharma']['ID'].unique().size"
   ]
  },
  {
   "cell_type": "markdown",
   "id": "292f61f7",
   "metadata": {},
   "source": [
    "### played in"
   ]
  },
  {
   "cell_type": "code",
   "execution_count": 270,
   "id": "e1bf7193",
   "metadata": {},
   "outputs": [
    {
     "data": {
      "text/plain": [
       "['Royal Challengers Bangalore']"
      ]
     },
     "execution_count": 270,
     "metadata": {},
     "output_type": "execute_result"
    }
   ],
   "source": [
    "sorted(df['BattingTeam'].unique())"
   ]
  },
  {
   "cell_type": "markdown",
   "id": "2bdbfc59",
   "metadata": {},
   "source": [
    "### season wise runs"
   ]
  },
  {
   "cell_type": "code",
   "execution_count": 176,
   "id": "f386b586",
   "metadata": {},
   "outputs": [
    {
     "data": {
      "text/plain": [
       "Season\n",
       "2008    165\n",
       "2009    246\n",
       "2010    307\n",
       "2011    557\n",
       "2012    364\n",
       "2013    634\n",
       "2014    359\n",
       "2015    505\n",
       "2016    973\n",
       "2017    308\n",
       "2018    530\n",
       "2019    464\n",
       "2020    466\n",
       "2021    405\n",
       "2022    341\n",
       "Name: batsman_run, dtype: int64"
      ]
     },
     "execution_count": 176,
     "metadata": {},
     "output_type": "execute_result"
    }
   ],
   "source": [
    "df.groupby('Season')['batsman_run'].sum()"
   ]
  },
  {
   "cell_type": "code",
   "execution_count": 180,
   "id": "adf20989",
   "metadata": {},
   "outputs": [
    {
     "data": {
      "text/plain": [
       "[2008,\n",
       " 2009,\n",
       " 2010,\n",
       " 2011,\n",
       " 2012,\n",
       " 2013,\n",
       " 2014,\n",
       " 2015,\n",
       " 2016,\n",
       " 2017,\n",
       " 2018,\n",
       " 2019,\n",
       " 2020,\n",
       " 2021,\n",
       " 2022]"
      ]
     },
     "execution_count": 180,
     "metadata": {},
     "output_type": "execute_result"
    }
   ],
   "source": [
    "df.groupby('Season')['batsman_run'].sum().index.tolist()"
   ]
  },
  {
   "cell_type": "code",
   "execution_count": 182,
   "id": "95dba0db",
   "metadata": {},
   "outputs": [
    {
     "data": {
      "text/plain": [
       "[165, 246, 307, 557, 364, 634, 359, 505, 973, 308, 530, 464, 466, 405, 341]"
      ]
     },
     "execution_count": 182,
     "metadata": {},
     "output_type": "execute_result"
    }
   ],
   "source": [
    "df.groupby('Season')['batsman_run'].sum().values.tolist()"
   ]
  },
  {
   "cell_type": "markdown",
   "id": "538ceab2",
   "metadata": {},
   "source": [
    "## season analysis"
   ]
  },
  {
   "cell_type": "code",
   "execution_count": 280,
   "id": "283ed4b6",
   "metadata": {},
   "outputs": [],
   "source": [
    "batsman = 'V Kohli'\n",
    "season = 2022"
   ]
  },
  {
   "cell_type": "code",
   "execution_count": 282,
   "id": "874f88a3",
   "metadata": {},
   "outputs": [],
   "source": [
    "df = ball_with_match[(ball_with_match['batter'] == batsman) & (ball_with_match['Season'] == season) & (ball_with_match['innings'].isin([1, 2]))]"
   ]
  },
  {
   "cell_type": "code",
   "execution_count": 283,
   "id": "4f64493a",
   "metadata": {},
   "outputs": [
    {
     "data": {
      "text/html": [
       "<div>\n",
       "<style scoped>\n",
       "    .dataframe tbody tr th:only-of-type {\n",
       "        vertical-align: middle;\n",
       "    }\n",
       "\n",
       "    .dataframe tbody tr th {\n",
       "        vertical-align: top;\n",
       "    }\n",
       "\n",
       "    .dataframe thead th {\n",
       "        text-align: right;\n",
       "    }\n",
       "</style>\n",
       "<table border=\"1\" class=\"dataframe\">\n",
       "  <thead>\n",
       "    <tr style=\"text-align: right;\">\n",
       "      <th></th>\n",
       "      <th>ID</th>\n",
       "      <th>innings</th>\n",
       "      <th>overs</th>\n",
       "      <th>ballnumber</th>\n",
       "      <th>batter</th>\n",
       "      <th>bowler</th>\n",
       "      <th>non-striker</th>\n",
       "      <th>extra_type</th>\n",
       "      <th>batsman_run</th>\n",
       "      <th>extras_run</th>\n",
       "      <th>...</th>\n",
       "      <th>SuperOver</th>\n",
       "      <th>WinningTeam</th>\n",
       "      <th>WonBy</th>\n",
       "      <th>Margin</th>\n",
       "      <th>method</th>\n",
       "      <th>Player_of_Match</th>\n",
       "      <th>Team1Players</th>\n",
       "      <th>Team2Players</th>\n",
       "      <th>Umpire1</th>\n",
       "      <th>Umpire2</th>\n",
       "    </tr>\n",
       "  </thead>\n",
       "  <tbody>\n",
       "    <tr>\n",
       "      <th>233</th>\n",
       "      <td>1312199</td>\n",
       "      <td>1</td>\n",
       "      <td>0</td>\n",
       "      <td>1</td>\n",
       "      <td>V Kohli</td>\n",
       "      <td>TA Boult</td>\n",
       "      <td>F du Plessis</td>\n",
       "      <td>NaN</td>\n",
       "      <td>0</td>\n",
       "      <td>0</td>\n",
       "      <td>...</td>\n",
       "      <td>N</td>\n",
       "      <td>Rajasthan Royals</td>\n",
       "      <td>Wickets</td>\n",
       "      <td>7.0</td>\n",
       "      <td>NaN</td>\n",
       "      <td>JC Buttler</td>\n",
       "      <td>['V Kohli', 'F du Plessis', 'RM Patidar', 'GJ ...</td>\n",
       "      <td>['YBK Jaiswal', 'JC Buttler', 'SV Samson', 'D ...</td>\n",
       "      <td>CB Gaffaney</td>\n",
       "      <td>Nitin Menon</td>\n",
       "    </tr>\n",
       "    <tr>\n",
       "      <th>234</th>\n",
       "      <td>1312199</td>\n",
       "      <td>1</td>\n",
       "      <td>0</td>\n",
       "      <td>2</td>\n",
       "      <td>V Kohli</td>\n",
       "      <td>TA Boult</td>\n",
       "      <td>F du Plessis</td>\n",
       "      <td>NaN</td>\n",
       "      <td>1</td>\n",
       "      <td>0</td>\n",
       "      <td>...</td>\n",
       "      <td>N</td>\n",
       "      <td>Rajasthan Royals</td>\n",
       "      <td>Wickets</td>\n",
       "      <td>7.0</td>\n",
       "      <td>NaN</td>\n",
       "      <td>JC Buttler</td>\n",
       "      <td>['V Kohli', 'F du Plessis', 'RM Patidar', 'GJ ...</td>\n",
       "      <td>['YBK Jaiswal', 'JC Buttler', 'SV Samson', 'D ...</td>\n",
       "      <td>CB Gaffaney</td>\n",
       "      <td>Nitin Menon</td>\n",
       "    </tr>\n",
       "  </tbody>\n",
       "</table>\n",
       "<p>2 rows × 36 columns</p>\n",
       "</div>"
      ],
      "text/plain": [
       "          ID  innings  overs  ballnumber   batter    bowler   non-striker  \\\n",
       "233  1312199        1      0           1  V Kohli  TA Boult  F du Plessis   \n",
       "234  1312199        1      0           2  V Kohli  TA Boult  F du Plessis   \n",
       "\n",
       "    extra_type  batsman_run  extras_run  ...  SuperOver       WinningTeam  \\\n",
       "233        NaN            0           0  ...          N  Rajasthan Royals   \n",
       "234        NaN            1           0  ...          N  Rajasthan Royals   \n",
       "\n",
       "       WonBy Margin method Player_of_Match  \\\n",
       "233  Wickets    7.0    NaN      JC Buttler   \n",
       "234  Wickets    7.0    NaN      JC Buttler   \n",
       "\n",
       "                                          Team1Players  \\\n",
       "233  ['V Kohli', 'F du Plessis', 'RM Patidar', 'GJ ...   \n",
       "234  ['V Kohli', 'F du Plessis', 'RM Patidar', 'GJ ...   \n",
       "\n",
       "                                          Team2Players      Umpire1  \\\n",
       "233  ['YBK Jaiswal', 'JC Buttler', 'SV Samson', 'D ...  CB Gaffaney   \n",
       "234  ['YBK Jaiswal', 'JC Buttler', 'SV Samson', 'D ...  CB Gaffaney   \n",
       "\n",
       "         Umpire2  \n",
       "233  Nitin Menon  \n",
       "234  Nitin Menon  \n",
       "\n",
       "[2 rows x 36 columns]"
      ]
     },
     "execution_count": 283,
     "metadata": {},
     "output_type": "execute_result"
    }
   ],
   "source": [
    "df.head(2)"
   ]
  },
  {
   "cell_type": "markdown",
   "id": "0fbd7f08",
   "metadata": {},
   "source": [
    "### batsmen per season"
   ]
  },
  {
   "cell_type": "code",
   "execution_count": 323,
   "id": "7172c251",
   "metadata": {},
   "outputs": [],
   "source": [
    "season = 2022"
   ]
  },
  {
   "cell_type": "code",
   "execution_count": 326,
   "id": "ca09565d",
   "metadata": {},
   "outputs": [],
   "source": [
    "df = ball_with_match[ball_with_match['Season'] == season]"
   ]
  },
  {
   "cell_type": "code",
   "execution_count": 329,
   "id": "67df35b5",
   "metadata": {},
   "outputs": [
    {
     "data": {
      "text/plain": [
       "['A Badoni',\n",
       " 'A Manohar',\n",
       " 'A Nortje',\n",
       " 'A Tomar',\n",
       " 'AD Russell',\n",
       " 'AJ Finch',\n",
       " 'AK Markram',\n",
       " 'AM Rahane',\n",
       " 'AR Patel',\n",
       " 'AS Joseph',\n",
       " 'AS Roy',\n",
       " 'AT Rayudu',\n",
       " 'Abdul Samad',\n",
       " 'Abhishek Sharma',\n",
       " 'Akash Deep',\n",
       " 'Aman Hakim Khan',\n",
       " 'Anmolpreet Singh',\n",
       " 'Anuj Rawat',\n",
       " 'Arshdeep Singh',\n",
       " 'Avesh Khan',\n",
       " 'B Indrajith',\n",
       " 'B Kumar',\n",
       " 'B Sai Sudharsan',\n",
       " 'CJ Jordan',\n",
       " 'CV Varun',\n",
       " 'D Brevis',\n",
       " 'D Padikkal',\n",
       " 'D Pretorius',\n",
       " 'DA Miller',\n",
       " 'DA Warner',\n",
       " 'DJ Bravo',\n",
       " 'DJ Hooda',\n",
       " 'DJ Mitchell',\n",
       " 'DJ Willey',\n",
       " 'DP Conway',\n",
       " 'DR Sams',\n",
       " 'E Lewis',\n",
       " 'F du Plessis',\n",
       " 'FA Allen',\n",
       " 'Fazalhaq Farooqi',\n",
       " 'GJ Maxwell',\n",
       " 'HE van der Dussen',\n",
       " 'HH Pandya',\n",
       " 'HR Shokeen',\n",
       " 'HV Patel',\n",
       " 'Harpreet Brar',\n",
       " 'Harshit Rana',\n",
       " 'Ishan Kishan',\n",
       " 'J Suchith',\n",
       " 'JC Buttler',\n",
       " 'JD Unadkat',\n",
       " 'JDS Neesham',\n",
       " 'JJ Bumrah',\n",
       " 'JM Bairstow',\n",
       " 'JM Sharma',\n",
       " 'JO Holder',\n",
       " 'JR Hazlewood',\n",
       " 'K Gowtham',\n",
       " 'K Kartikeya',\n",
       " 'K Rabada',\n",
       " 'KA Pollard',\n",
       " 'KD Karthik',\n",
       " 'KH Pandya',\n",
       " 'KK Ahmed',\n",
       " 'KK Nair',\n",
       " 'KL Rahul',\n",
       " 'KR Sen',\n",
       " 'KS Bharat',\n",
       " 'KS Sharma',\n",
       " 'KS Williamson',\n",
       " 'Kartik Tyagi',\n",
       " 'Kuldeep Yadav',\n",
       " 'LH Ferguson',\n",
       " 'LS Livingstone',\n",
       " 'Lalit Yadav',\n",
       " 'M Ashwin',\n",
       " 'M Jansen',\n",
       " 'M Prasidh Krishna',\n",
       " 'M Shahrukh Khan',\n",
       " 'M Theekshana',\n",
       " 'M Vohra',\n",
       " 'MA Agarwal',\n",
       " 'MJ Santner',\n",
       " 'MK Lomror',\n",
       " 'MK Pandey',\n",
       " 'MM Ali',\n",
       " 'MP Stoinis',\n",
       " 'MR Marsh',\n",
       " 'MS Dhoni',\n",
       " 'MS Wade',\n",
       " 'Mandeep Singh',\n",
       " 'Mohammed Siraj',\n",
       " 'Mohsin Khan',\n",
       " 'Mukesh Choudhary',\n",
       " 'Mustafizur Rahman',\n",
       " 'N Jagadeesan',\n",
       " 'N Pooran',\n",
       " 'N Rana',\n",
       " 'NM Coulter-Nile',\n",
       " 'NT Ellis',\n",
       " 'Navdeep Saini',\n",
       " 'OC McCoy',\n",
       " 'OF Smith',\n",
       " 'P Simran Singh',\n",
       " 'PBB Rajapaksa',\n",
       " 'PJ Cummins',\n",
       " 'PJ Sangwan',\n",
       " 'PK Garg',\n",
       " 'PN Mankad',\n",
       " 'PP Shaw',\n",
       " 'PVD Chameera',\n",
       " 'PWH de Silva',\n",
       " 'Q de Kock',\n",
       " 'R Ashwin',\n",
       " 'R Dhawan',\n",
       " 'R Parag',\n",
       " 'R Powell',\n",
       " 'R Sanjay Yadav',\n",
       " 'R Shepherd',\n",
       " 'R Tewatia',\n",
       " 'RA Bawa',\n",
       " 'RA Jadeja',\n",
       " 'RA Tripathi',\n",
       " 'RD Chahar',\n",
       " 'RD Gaikwad',\n",
       " 'RG Sharma',\n",
       " 'RK Singh',\n",
       " 'RM Patidar',\n",
       " 'RP Meredith',\n",
       " 'RR Pant',\n",
       " 'RV Patel',\n",
       " 'RV Uthappa',\n",
       " 'Ramandeep Singh',\n",
       " 'Rashid Khan',\n",
       " 'Rasikh Salam',\n",
       " 'Ravi Bishnoi',\n",
       " 'S Dhawan',\n",
       " 'S Dube',\n",
       " 'S Gopal',\n",
       " 'SA Abbott',\n",
       " 'SA Yadav',\n",
       " 'SE Rutherford',\n",
       " 'SN Khan',\n",
       " 'SN Thakur',\n",
       " 'SO Hetmyer',\n",
       " 'SP Jackson',\n",
       " 'SP Narine',\n",
       " 'SS Iyer',\n",
       " 'SS Prabhudessai',\n",
       " 'SV Samson',\n",
       " 'SW Billings',\n",
       " 'Shahbaz Ahmed',\n",
       " 'Shashank Singh',\n",
       " 'Shivam Mavi',\n",
       " 'Shubman Gill',\n",
       " 'Simarjeet Singh',\n",
       " 'T Stubbs',\n",
       " 'TA Boult',\n",
       " 'TG Southee',\n",
       " 'TH David',\n",
       " 'TL Seifert',\n",
       " 'TS Mills',\n",
       " 'Tilak Varma',\n",
       " 'UT Yadav',\n",
       " 'Umran Malik',\n",
       " 'V Kohli',\n",
       " 'V Shankar',\n",
       " 'VG Arora',\n",
       " 'VR Iyer',\n",
       " 'WP Saha',\n",
       " 'Washington Sundar',\n",
       " 'YBK Jaiswal',\n",
       " 'YS Chahal',\n",
       " 'Yash Dayal']"
      ]
     },
     "execution_count": 329,
     "metadata": {},
     "output_type": "execute_result"
    }
   ],
   "source": [
    "sorted(df['batter'].unique())"
   ]
  },
  {
   "cell_type": "code",
   "execution_count": 330,
   "id": "6943846f",
   "metadata": {},
   "outputs": [
    {
     "data": {
      "text/plain": [
       "174"
      ]
     },
     "execution_count": 330,
     "metadata": {},
     "output_type": "execute_result"
    }
   ],
   "source": [
    "df['batter'].unique().size"
   ]
  },
  {
   "cell_type": "code",
   "execution_count": null,
   "id": "fb8aab57",
   "metadata": {},
   "outputs": [],
   "source": [
    "# for check"
   ]
  },
  {
   "cell_type": "code",
   "execution_count": 331,
   "id": "7625cba8",
   "metadata": {},
   "outputs": [
    {
     "data": {
      "text/plain": [
       "605"
      ]
     },
     "execution_count": 331,
     "metadata": {},
     "output_type": "execute_result"
    }
   ],
   "source": [
    "ball_with_match['batter'].unique().size"
   ]
  },
  {
   "cell_type": "markdown",
   "id": "84958da1",
   "metadata": {},
   "source": [
    "### total matches played"
   ]
  },
  {
   "cell_type": "code",
   "execution_count": 286,
   "id": "5bad1889",
   "metadata": {},
   "outputs": [
    {
     "data": {
      "text/plain": [
       "16"
      ]
     },
     "execution_count": 286,
     "metadata": {},
     "output_type": "execute_result"
    }
   ],
   "source": [
    "df['ID'].unique().size"
   ]
  },
  {
   "cell_type": "markdown",
   "id": "f2108fc3",
   "metadata": {},
   "source": [
    "### total runs"
   ]
  },
  {
   "cell_type": "code",
   "execution_count": 287,
   "id": "9f952027",
   "metadata": {},
   "outputs": [
    {
     "data": {
      "text/plain": [
       "341"
      ]
     },
     "execution_count": 287,
     "metadata": {},
     "output_type": "execute_result"
    }
   ],
   "source": [
    "df['batsman_run'].sum()"
   ]
  },
  {
   "cell_type": "markdown",
   "id": "4a2dfd75",
   "metadata": {},
   "source": [
    "### total fours"
   ]
  },
  {
   "cell_type": "code",
   "execution_count": 288,
   "id": "2836e6d8",
   "metadata": {},
   "outputs": [
    {
     "data": {
      "text/plain": [
       "32"
      ]
     },
     "execution_count": 288,
     "metadata": {},
     "output_type": "execute_result"
    }
   ],
   "source": [
    "df[df['batsman_run'] == 4].shape[0]"
   ]
  },
  {
   "cell_type": "markdown",
   "id": "b4aff32c",
   "metadata": {},
   "source": [
    "### total sixes"
   ]
  },
  {
   "cell_type": "code",
   "execution_count": 289,
   "id": "4d03266b",
   "metadata": {},
   "outputs": [
    {
     "data": {
      "text/plain": [
       "8"
      ]
     },
     "execution_count": 289,
     "metadata": {},
     "output_type": "execute_result"
    }
   ],
   "source": [
    "df[df['batsman_run'] == 6].shape[0]"
   ]
  },
  {
   "cell_type": "markdown",
   "id": "dc7980b7",
   "metadata": {},
   "source": [
    "### average"
   ]
  },
  {
   "cell_type": "code",
   "execution_count": 290,
   "id": "d001964b",
   "metadata": {},
   "outputs": [],
   "source": [
    "total_out = df[df['player_out'] == batsman].shape[0]"
   ]
  },
  {
   "cell_type": "code",
   "execution_count": 293,
   "id": "d0ff58d5",
   "metadata": {},
   "outputs": [
    {
     "data": {
      "text/plain": [
       "24.36"
      ]
     },
     "execution_count": 293,
     "metadata": {},
     "output_type": "execute_result"
    }
   ],
   "source": [
    "round(df['batsman_run'].sum() / total_out, 2)"
   ]
  },
  {
   "cell_type": "markdown",
   "id": "890130c3",
   "metadata": {},
   "source": [
    "### strike rate"
   ]
  },
  {
   "cell_type": "code",
   "execution_count": 294,
   "id": "2b8c18d9",
   "metadata": {},
   "outputs": [],
   "source": [
    "total_balls_played = df[~(df['extra_type'] == 'wides')].shape[0]"
   ]
  },
  {
   "cell_type": "code",
   "execution_count": 296,
   "id": "c421e9b7",
   "metadata": {},
   "outputs": [
    {
     "data": {
      "text/plain": [
       "115.99"
      ]
     },
     "execution_count": 296,
     "metadata": {},
     "output_type": "execute_result"
    }
   ],
   "source": [
    "round((df['batsman_run'].sum() / total_balls_played) * 100, 2)"
   ]
  },
  {
   "cell_type": "markdown",
   "id": "195d8f20",
   "metadata": {},
   "source": [
    "### total fifties"
   ]
  },
  {
   "cell_type": "code",
   "execution_count": 297,
   "id": "14a57ae8",
   "metadata": {},
   "outputs": [
    {
     "name": "stderr",
     "output_type": "stream",
     "text": [
      "C:\\Users\\gevar\\AppData\\Local\\Temp\\ipykernel_2552\\3987750926.py:1: FutureWarning: The default value of numeric_only in DataFrameGroupBy.sum is deprecated. In a future version, numeric_only will default to False. Either specify numeric_only or select only columns which should be valid for the function.\n",
      "  temp_df = df.groupby('ID').sum()\n"
     ]
    }
   ],
   "source": [
    "temp_df = df.groupby('ID').sum()"
   ]
  },
  {
   "cell_type": "code",
   "execution_count": 298,
   "id": "7560e99e",
   "metadata": {},
   "outputs": [
    {
     "data": {
      "text/plain": [
       "2"
      ]
     },
     "execution_count": 298,
     "metadata": {},
     "output_type": "execute_result"
    }
   ],
   "source": [
    "temp_df[(temp_df['batsman_run'] >= 50) * (temp_df['batsman_run'] < 100)].shape[0]"
   ]
  },
  {
   "cell_type": "markdown",
   "id": "ad262110",
   "metadata": {},
   "source": [
    "### total centuries"
   ]
  },
  {
   "cell_type": "code",
   "execution_count": 300,
   "id": "f3fd5733",
   "metadata": {},
   "outputs": [
    {
     "data": {
      "text/plain": [
       "0"
      ]
     },
     "execution_count": 300,
     "metadata": {},
     "output_type": "execute_result"
    }
   ],
   "source": [
    "temp_df[temp_df['batsman_run'] >= 100].shape[0]"
   ]
  },
  {
   "cell_type": "markdown",
   "id": "08a45202",
   "metadata": {},
   "source": [
    "### highest score"
   ]
  },
  {
   "cell_type": "code",
   "execution_count": 301,
   "id": "61f10b1e",
   "metadata": {},
   "outputs": [
    {
     "data": {
      "text/plain": [
       "73"
      ]
     },
     "execution_count": 301,
     "metadata": {},
     "output_type": "execute_result"
    }
   ],
   "source": [
    "temp_df['batsman_run'].sort_values(ascending=False).values[0]"
   ]
  },
  {
   "cell_type": "markdown",
   "id": "ce825d43",
   "metadata": {},
   "source": [
    "### total mom"
   ]
  },
  {
   "cell_type": "code",
   "execution_count": 302,
   "id": "82b86256",
   "metadata": {},
   "outputs": [
    {
     "data": {
      "text/plain": [
       "14"
      ]
     },
     "execution_count": 302,
     "metadata": {},
     "output_type": "execute_result"
    }
   ],
   "source": [
    "ball_with_match[ball_with_match['Player_of_Match'] == batsman]['ID'].unique().size"
   ]
  },
  {
   "cell_type": "markdown",
   "id": "8875520d",
   "metadata": {},
   "source": [
    "### playing in"
   ]
  },
  {
   "cell_type": "code",
   "execution_count": 320,
   "id": "b7d28d21",
   "metadata": {},
   "outputs": [
    {
     "data": {
      "text/plain": [
       "'Royal Challengers Bangalore'"
      ]
     },
     "execution_count": 320,
     "metadata": {},
     "output_type": "execute_result"
    }
   ],
   "source": [
    "df['BattingTeam'].unique()[0]"
   ]
  },
  {
   "cell_type": "markdown",
   "id": "2867fa18",
   "metadata": {},
   "source": [
    "### score against all teams"
   ]
  },
  {
   "cell_type": "code",
   "execution_count": 317,
   "id": "67083b81",
   "metadata": {},
   "outputs": [],
   "source": [
    "batting_team = df['BattingTeam'].unique()[0]"
   ]
  },
  {
   "cell_type": "code",
   "execution_count": 318,
   "id": "b9b230db",
   "metadata": {},
   "outputs": [
    {
     "data": {
      "text/plain": [
       "'Royal Challengers Bangalore'"
      ]
     },
     "execution_count": 318,
     "metadata": {},
     "output_type": "execute_result"
    }
   ],
   "source": [
    "batting_team"
   ]
  },
  {
   "cell_type": "code",
   "execution_count": 311,
   "id": "3fa69f24",
   "metadata": {},
   "outputs": [],
   "source": [
    "teams = sorted(set(df[df['Team1'] != batting_team]['Team1'].tolist() + df[df['Team2'] != batting_team]['Team2'].tolist()))"
   ]
  },
  {
   "cell_type": "code",
   "execution_count": 312,
   "id": "915dc15d",
   "metadata": {},
   "outputs": [
    {
     "data": {
      "text/plain": [
       "['Chennai Super Kings',\n",
       " 'Delhi Capitals',\n",
       " 'Gujarat Titans',\n",
       " 'Kolkata Knight Riders',\n",
       " 'Lucknow Super Giants',\n",
       " 'Mumbai Indians',\n",
       " 'Punjab Kings',\n",
       " 'Rajasthan Royals',\n",
       " 'Sunrisers Hyderabad']"
      ]
     },
     "execution_count": 312,
     "metadata": {},
     "output_type": "execute_result"
    }
   ],
   "source": [
    "teams"
   ]
  },
  {
   "cell_type": "code",
   "execution_count": 313,
   "id": "8711a794",
   "metadata": {},
   "outputs": [],
   "source": [
    "runs = []\n",
    "for i in teams:\n",
    "    temp_df = df[(df['Team1'] == i) | (df['Team2'] == i)]\n",
    "    sum = temp_df.groupby('batter')['batsman_run'].sum().values[0]\n",
    "    runs.append(sum)"
   ]
  },
  {
   "cell_type": "code",
   "execution_count": 314,
   "id": "21883cfe",
   "metadata": {},
   "outputs": [
    {
     "data": {
      "text/plain": [
       "[31, 12, 131, 12, 25, 48, 61, 21, 0]"
      ]
     },
     "execution_count": 314,
     "metadata": {},
     "output_type": "execute_result"
    }
   ],
   "source": [
    "runs"
   ]
  },
  {
   "cell_type": "markdown",
   "id": "bb01184e",
   "metadata": {},
   "source": [
    "### match wise runs"
   ]
  },
  {
   "cell_type": "code",
   "execution_count": 305,
   "id": "38cb12c9",
   "metadata": {},
   "outputs": [
    {
     "data": {
      "text/plain": [
       "ID\n",
       "1304049    41\n",
       "1304052    12\n",
       "1304059     5\n",
       "1304064    48\n",
       "1304068     1\n",
       "1304073    12\n",
       "1304077     0\n",
       "1304082     0\n",
       "1304085     9\n",
       "1304089    58\n",
       "1304095    30\n",
       "1304100     0\n",
       "1304106    20\n",
       "1304113    73\n",
       "1312198    25\n",
       "1312199     7\n",
       "Name: batsman_run, dtype: int64"
      ]
     },
     "execution_count": 305,
     "metadata": {},
     "output_type": "execute_result"
    }
   ],
   "source": [
    "df.groupby('ID')['batsman_run'].sum()"
   ]
  },
  {
   "cell_type": "code",
   "execution_count": 306,
   "id": "9969b4a1",
   "metadata": {},
   "outputs": [
    {
     "data": {
      "text/plain": [
       "range(1, 17)"
      ]
     },
     "execution_count": 306,
     "metadata": {},
     "output_type": "execute_result"
    }
   ],
   "source": [
    "range(1, len(df.groupby('ID')['batsman_run'].sum()) + 1)"
   ]
  },
  {
   "cell_type": "code",
   "execution_count": 308,
   "id": "f879facf",
   "metadata": {},
   "outputs": [
    {
     "data": {
      "text/plain": [
       "[41, 12, 5, 48, 1, 12, 0, 0, 9, 58, 30, 0, 20, 73, 25, 7]"
      ]
     },
     "execution_count": 308,
     "metadata": {},
     "output_type": "execute_result"
    }
   ],
   "source": [
    "df.groupby('ID')['batsman_run'].sum().values.tolist()"
   ]
  },
  {
   "cell_type": "markdown",
   "id": "8eaa3ece",
   "metadata": {},
   "source": [
    "# bowler wise"
   ]
  },
  {
   "cell_type": "code",
   "execution_count": 460,
   "id": "38e3b9df",
   "metadata": {},
   "outputs": [
    {
     "data": {
      "text/html": [
       "<div>\n",
       "<style scoped>\n",
       "    .dataframe tbody tr th:only-of-type {\n",
       "        vertical-align: middle;\n",
       "    }\n",
       "\n",
       "    .dataframe tbody tr th {\n",
       "        vertical-align: top;\n",
       "    }\n",
       "\n",
       "    .dataframe thead th {\n",
       "        text-align: right;\n",
       "    }\n",
       "</style>\n",
       "<table border=\"1\" class=\"dataframe\">\n",
       "  <thead>\n",
       "    <tr style=\"text-align: right;\">\n",
       "      <th></th>\n",
       "      <th>ID</th>\n",
       "      <th>innings</th>\n",
       "      <th>overs</th>\n",
       "      <th>ballnumber</th>\n",
       "      <th>batter</th>\n",
       "      <th>bowler</th>\n",
       "      <th>non-striker</th>\n",
       "      <th>extra_type</th>\n",
       "      <th>batsman_run</th>\n",
       "      <th>extras_run</th>\n",
       "      <th>...</th>\n",
       "      <th>WonBy</th>\n",
       "      <th>Margin</th>\n",
       "      <th>method</th>\n",
       "      <th>Player_of_Match</th>\n",
       "      <th>Team1Players</th>\n",
       "      <th>Team2Players</th>\n",
       "      <th>Umpire1</th>\n",
       "      <th>Umpire2</th>\n",
       "      <th>bowler_run</th>\n",
       "      <th>isBowlerWicket</th>\n",
       "    </tr>\n",
       "  </thead>\n",
       "  <tbody>\n",
       "    <tr>\n",
       "      <th>0</th>\n",
       "      <td>1312200</td>\n",
       "      <td>1</td>\n",
       "      <td>0</td>\n",
       "      <td>1</td>\n",
       "      <td>YBK Jaiswal</td>\n",
       "      <td>Mohammed Shami</td>\n",
       "      <td>JC Buttler</td>\n",
       "      <td>NaN</td>\n",
       "      <td>0</td>\n",
       "      <td>0</td>\n",
       "      <td>...</td>\n",
       "      <td>Wickets</td>\n",
       "      <td>7.0</td>\n",
       "      <td>NaN</td>\n",
       "      <td>HH Pandya</td>\n",
       "      <td>['YBK Jaiswal', 'JC Buttler', 'SV Samson', 'D ...</td>\n",
       "      <td>['WP Saha', 'Shubman Gill', 'MS Wade', 'HH Pan...</td>\n",
       "      <td>CB Gaffaney</td>\n",
       "      <td>Nitin Menon</td>\n",
       "      <td>0</td>\n",
       "      <td>0</td>\n",
       "    </tr>\n",
       "    <tr>\n",
       "      <th>1</th>\n",
       "      <td>1312200</td>\n",
       "      <td>1</td>\n",
       "      <td>0</td>\n",
       "      <td>2</td>\n",
       "      <td>YBK Jaiswal</td>\n",
       "      <td>Mohammed Shami</td>\n",
       "      <td>JC Buttler</td>\n",
       "      <td>legbyes</td>\n",
       "      <td>0</td>\n",
       "      <td>1</td>\n",
       "      <td>...</td>\n",
       "      <td>Wickets</td>\n",
       "      <td>7.0</td>\n",
       "      <td>NaN</td>\n",
       "      <td>HH Pandya</td>\n",
       "      <td>['YBK Jaiswal', 'JC Buttler', 'SV Samson', 'D ...</td>\n",
       "      <td>['WP Saha', 'Shubman Gill', 'MS Wade', 'HH Pan...</td>\n",
       "      <td>CB Gaffaney</td>\n",
       "      <td>Nitin Menon</td>\n",
       "      <td>0</td>\n",
       "      <td>0</td>\n",
       "    </tr>\n",
       "    <tr>\n",
       "      <th>2</th>\n",
       "      <td>1312200</td>\n",
       "      <td>1</td>\n",
       "      <td>0</td>\n",
       "      <td>3</td>\n",
       "      <td>JC Buttler</td>\n",
       "      <td>Mohammed Shami</td>\n",
       "      <td>YBK Jaiswal</td>\n",
       "      <td>NaN</td>\n",
       "      <td>1</td>\n",
       "      <td>0</td>\n",
       "      <td>...</td>\n",
       "      <td>Wickets</td>\n",
       "      <td>7.0</td>\n",
       "      <td>NaN</td>\n",
       "      <td>HH Pandya</td>\n",
       "      <td>['YBK Jaiswal', 'JC Buttler', 'SV Samson', 'D ...</td>\n",
       "      <td>['WP Saha', 'Shubman Gill', 'MS Wade', 'HH Pan...</td>\n",
       "      <td>CB Gaffaney</td>\n",
       "      <td>Nitin Menon</td>\n",
       "      <td>1</td>\n",
       "      <td>0</td>\n",
       "    </tr>\n",
       "    <tr>\n",
       "      <th>3</th>\n",
       "      <td>1312200</td>\n",
       "      <td>1</td>\n",
       "      <td>0</td>\n",
       "      <td>4</td>\n",
       "      <td>YBK Jaiswal</td>\n",
       "      <td>Mohammed Shami</td>\n",
       "      <td>JC Buttler</td>\n",
       "      <td>NaN</td>\n",
       "      <td>0</td>\n",
       "      <td>0</td>\n",
       "      <td>...</td>\n",
       "      <td>Wickets</td>\n",
       "      <td>7.0</td>\n",
       "      <td>NaN</td>\n",
       "      <td>HH Pandya</td>\n",
       "      <td>['YBK Jaiswal', 'JC Buttler', 'SV Samson', 'D ...</td>\n",
       "      <td>['WP Saha', 'Shubman Gill', 'MS Wade', 'HH Pan...</td>\n",
       "      <td>CB Gaffaney</td>\n",
       "      <td>Nitin Menon</td>\n",
       "      <td>0</td>\n",
       "      <td>0</td>\n",
       "    </tr>\n",
       "    <tr>\n",
       "      <th>4</th>\n",
       "      <td>1312200</td>\n",
       "      <td>1</td>\n",
       "      <td>0</td>\n",
       "      <td>5</td>\n",
       "      <td>YBK Jaiswal</td>\n",
       "      <td>Mohammed Shami</td>\n",
       "      <td>JC Buttler</td>\n",
       "      <td>NaN</td>\n",
       "      <td>0</td>\n",
       "      <td>0</td>\n",
       "      <td>...</td>\n",
       "      <td>Wickets</td>\n",
       "      <td>7.0</td>\n",
       "      <td>NaN</td>\n",
       "      <td>HH Pandya</td>\n",
       "      <td>['YBK Jaiswal', 'JC Buttler', 'SV Samson', 'D ...</td>\n",
       "      <td>['WP Saha', 'Shubman Gill', 'MS Wade', 'HH Pan...</td>\n",
       "      <td>CB Gaffaney</td>\n",
       "      <td>Nitin Menon</td>\n",
       "      <td>0</td>\n",
       "      <td>0</td>\n",
       "    </tr>\n",
       "  </tbody>\n",
       "</table>\n",
       "<p>5 rows × 38 columns</p>\n",
       "</div>"
      ],
      "text/plain": [
       "        ID  innings  overs  ballnumber       batter          bowler  \\\n",
       "0  1312200        1      0           1  YBK Jaiswal  Mohammed Shami   \n",
       "1  1312200        1      0           2  YBK Jaiswal  Mohammed Shami   \n",
       "2  1312200        1      0           3   JC Buttler  Mohammed Shami   \n",
       "3  1312200        1      0           4  YBK Jaiswal  Mohammed Shami   \n",
       "4  1312200        1      0           5  YBK Jaiswal  Mohammed Shami   \n",
       "\n",
       "   non-striker extra_type  batsman_run  extras_run  ...    WonBy  Margin  \\\n",
       "0   JC Buttler        NaN            0           0  ...  Wickets     7.0   \n",
       "1   JC Buttler    legbyes            0           1  ...  Wickets     7.0   \n",
       "2  YBK Jaiswal        NaN            1           0  ...  Wickets     7.0   \n",
       "3   JC Buttler        NaN            0           0  ...  Wickets     7.0   \n",
       "4   JC Buttler        NaN            0           0  ...  Wickets     7.0   \n",
       "\n",
       "   method Player_of_Match                                       Team1Players  \\\n",
       "0     NaN       HH Pandya  ['YBK Jaiswal', 'JC Buttler', 'SV Samson', 'D ...   \n",
       "1     NaN       HH Pandya  ['YBK Jaiswal', 'JC Buttler', 'SV Samson', 'D ...   \n",
       "2     NaN       HH Pandya  ['YBK Jaiswal', 'JC Buttler', 'SV Samson', 'D ...   \n",
       "3     NaN       HH Pandya  ['YBK Jaiswal', 'JC Buttler', 'SV Samson', 'D ...   \n",
       "4     NaN       HH Pandya  ['YBK Jaiswal', 'JC Buttler', 'SV Samson', 'D ...   \n",
       "\n",
       "                                        Team2Players      Umpire1  \\\n",
       "0  ['WP Saha', 'Shubman Gill', 'MS Wade', 'HH Pan...  CB Gaffaney   \n",
       "1  ['WP Saha', 'Shubman Gill', 'MS Wade', 'HH Pan...  CB Gaffaney   \n",
       "2  ['WP Saha', 'Shubman Gill', 'MS Wade', 'HH Pan...  CB Gaffaney   \n",
       "3  ['WP Saha', 'Shubman Gill', 'MS Wade', 'HH Pan...  CB Gaffaney   \n",
       "4  ['WP Saha', 'Shubman Gill', 'MS Wade', 'HH Pan...  CB Gaffaney   \n",
       "\n",
       "       Umpire2 bowler_run  isBowlerWicket  \n",
       "0  Nitin Menon          0               0  \n",
       "1  Nitin Menon          0               0  \n",
       "2  Nitin Menon          1               0  \n",
       "3  Nitin Menon          0               0  \n",
       "4  Nitin Menon          0               0  \n",
       "\n",
       "[5 rows x 38 columns]"
      ]
     },
     "execution_count": 460,
     "metadata": {},
     "output_type": "execute_result"
    }
   ],
   "source": [
    "ball_with_match.head()"
   ]
  },
  {
   "cell_type": "code",
   "execution_count": 461,
   "id": "249307d3",
   "metadata": {},
   "outputs": [],
   "source": [
    "def bowlerRun(x):\n",
    "    if x[0] in ['penalty', 'legbyes', 'byes']:\n",
    "        return 0\n",
    "    else:\n",
    "        return x[1]\n",
    "    \n",
    "ball_with_match['bowler_run'] = ball_with_match[['extra_type', 'total_run']].apply(bowlerRun, axis=1)"
   ]
  },
  {
   "cell_type": "code",
   "execution_count": 462,
   "id": "fc91a1ee",
   "metadata": {},
   "outputs": [],
   "source": [
    "def bowlerWicket(x):\n",
    "    if x[0] in ['caught', 'caught and bowled', 'bowled', 'stumped', 'lbw', 'hit wicket']:\n",
    "        return x[1]\n",
    "    else:\n",
    "        return 0\n",
    "    \n",
    "ball_with_match['isBowlerWicket'] = ball_with_match[['kind', 'isWicketDelivery']].apply(bowlerWicket, axis=1)"
   ]
  },
  {
   "cell_type": "code",
   "execution_count": 463,
   "id": "7ad37fc1",
   "metadata": {},
   "outputs": [
    {
     "data": {
      "text/html": [
       "<div>\n",
       "<style scoped>\n",
       "    .dataframe tbody tr th:only-of-type {\n",
       "        vertical-align: middle;\n",
       "    }\n",
       "\n",
       "    .dataframe tbody tr th {\n",
       "        vertical-align: top;\n",
       "    }\n",
       "\n",
       "    .dataframe thead th {\n",
       "        text-align: right;\n",
       "    }\n",
       "</style>\n",
       "<table border=\"1\" class=\"dataframe\">\n",
       "  <thead>\n",
       "    <tr style=\"text-align: right;\">\n",
       "      <th></th>\n",
       "      <th>ID</th>\n",
       "      <th>innings</th>\n",
       "      <th>overs</th>\n",
       "      <th>ballnumber</th>\n",
       "      <th>batter</th>\n",
       "      <th>bowler</th>\n",
       "      <th>non-striker</th>\n",
       "      <th>extra_type</th>\n",
       "      <th>batsman_run</th>\n",
       "      <th>extras_run</th>\n",
       "      <th>...</th>\n",
       "      <th>WonBy</th>\n",
       "      <th>Margin</th>\n",
       "      <th>method</th>\n",
       "      <th>Player_of_Match</th>\n",
       "      <th>Team1Players</th>\n",
       "      <th>Team2Players</th>\n",
       "      <th>Umpire1</th>\n",
       "      <th>Umpire2</th>\n",
       "      <th>bowler_run</th>\n",
       "      <th>isBowlerWicket</th>\n",
       "    </tr>\n",
       "  </thead>\n",
       "  <tbody>\n",
       "    <tr>\n",
       "      <th>0</th>\n",
       "      <td>1312200</td>\n",
       "      <td>1</td>\n",
       "      <td>0</td>\n",
       "      <td>1</td>\n",
       "      <td>YBK Jaiswal</td>\n",
       "      <td>Mohammed Shami</td>\n",
       "      <td>JC Buttler</td>\n",
       "      <td>NaN</td>\n",
       "      <td>0</td>\n",
       "      <td>0</td>\n",
       "      <td>...</td>\n",
       "      <td>Wickets</td>\n",
       "      <td>7.0</td>\n",
       "      <td>NaN</td>\n",
       "      <td>HH Pandya</td>\n",
       "      <td>['YBK Jaiswal', 'JC Buttler', 'SV Samson', 'D ...</td>\n",
       "      <td>['WP Saha', 'Shubman Gill', 'MS Wade', 'HH Pan...</td>\n",
       "      <td>CB Gaffaney</td>\n",
       "      <td>Nitin Menon</td>\n",
       "      <td>0</td>\n",
       "      <td>0</td>\n",
       "    </tr>\n",
       "    <tr>\n",
       "      <th>1</th>\n",
       "      <td>1312200</td>\n",
       "      <td>1</td>\n",
       "      <td>0</td>\n",
       "      <td>2</td>\n",
       "      <td>YBK Jaiswal</td>\n",
       "      <td>Mohammed Shami</td>\n",
       "      <td>JC Buttler</td>\n",
       "      <td>legbyes</td>\n",
       "      <td>0</td>\n",
       "      <td>1</td>\n",
       "      <td>...</td>\n",
       "      <td>Wickets</td>\n",
       "      <td>7.0</td>\n",
       "      <td>NaN</td>\n",
       "      <td>HH Pandya</td>\n",
       "      <td>['YBK Jaiswal', 'JC Buttler', 'SV Samson', 'D ...</td>\n",
       "      <td>['WP Saha', 'Shubman Gill', 'MS Wade', 'HH Pan...</td>\n",
       "      <td>CB Gaffaney</td>\n",
       "      <td>Nitin Menon</td>\n",
       "      <td>0</td>\n",
       "      <td>0</td>\n",
       "    </tr>\n",
       "    <tr>\n",
       "      <th>2</th>\n",
       "      <td>1312200</td>\n",
       "      <td>1</td>\n",
       "      <td>0</td>\n",
       "      <td>3</td>\n",
       "      <td>JC Buttler</td>\n",
       "      <td>Mohammed Shami</td>\n",
       "      <td>YBK Jaiswal</td>\n",
       "      <td>NaN</td>\n",
       "      <td>1</td>\n",
       "      <td>0</td>\n",
       "      <td>...</td>\n",
       "      <td>Wickets</td>\n",
       "      <td>7.0</td>\n",
       "      <td>NaN</td>\n",
       "      <td>HH Pandya</td>\n",
       "      <td>['YBK Jaiswal', 'JC Buttler', 'SV Samson', 'D ...</td>\n",
       "      <td>['WP Saha', 'Shubman Gill', 'MS Wade', 'HH Pan...</td>\n",
       "      <td>CB Gaffaney</td>\n",
       "      <td>Nitin Menon</td>\n",
       "      <td>1</td>\n",
       "      <td>0</td>\n",
       "    </tr>\n",
       "    <tr>\n",
       "      <th>3</th>\n",
       "      <td>1312200</td>\n",
       "      <td>1</td>\n",
       "      <td>0</td>\n",
       "      <td>4</td>\n",
       "      <td>YBK Jaiswal</td>\n",
       "      <td>Mohammed Shami</td>\n",
       "      <td>JC Buttler</td>\n",
       "      <td>NaN</td>\n",
       "      <td>0</td>\n",
       "      <td>0</td>\n",
       "      <td>...</td>\n",
       "      <td>Wickets</td>\n",
       "      <td>7.0</td>\n",
       "      <td>NaN</td>\n",
       "      <td>HH Pandya</td>\n",
       "      <td>['YBK Jaiswal', 'JC Buttler', 'SV Samson', 'D ...</td>\n",
       "      <td>['WP Saha', 'Shubman Gill', 'MS Wade', 'HH Pan...</td>\n",
       "      <td>CB Gaffaney</td>\n",
       "      <td>Nitin Menon</td>\n",
       "      <td>0</td>\n",
       "      <td>0</td>\n",
       "    </tr>\n",
       "    <tr>\n",
       "      <th>4</th>\n",
       "      <td>1312200</td>\n",
       "      <td>1</td>\n",
       "      <td>0</td>\n",
       "      <td>5</td>\n",
       "      <td>YBK Jaiswal</td>\n",
       "      <td>Mohammed Shami</td>\n",
       "      <td>JC Buttler</td>\n",
       "      <td>NaN</td>\n",
       "      <td>0</td>\n",
       "      <td>0</td>\n",
       "      <td>...</td>\n",
       "      <td>Wickets</td>\n",
       "      <td>7.0</td>\n",
       "      <td>NaN</td>\n",
       "      <td>HH Pandya</td>\n",
       "      <td>['YBK Jaiswal', 'JC Buttler', 'SV Samson', 'D ...</td>\n",
       "      <td>['WP Saha', 'Shubman Gill', 'MS Wade', 'HH Pan...</td>\n",
       "      <td>CB Gaffaney</td>\n",
       "      <td>Nitin Menon</td>\n",
       "      <td>0</td>\n",
       "      <td>0</td>\n",
       "    </tr>\n",
       "  </tbody>\n",
       "</table>\n",
       "<p>5 rows × 38 columns</p>\n",
       "</div>"
      ],
      "text/plain": [
       "        ID  innings  overs  ballnumber       batter          bowler  \\\n",
       "0  1312200        1      0           1  YBK Jaiswal  Mohammed Shami   \n",
       "1  1312200        1      0           2  YBK Jaiswal  Mohammed Shami   \n",
       "2  1312200        1      0           3   JC Buttler  Mohammed Shami   \n",
       "3  1312200        1      0           4  YBK Jaiswal  Mohammed Shami   \n",
       "4  1312200        1      0           5  YBK Jaiswal  Mohammed Shami   \n",
       "\n",
       "   non-striker extra_type  batsman_run  extras_run  ...    WonBy  Margin  \\\n",
       "0   JC Buttler        NaN            0           0  ...  Wickets     7.0   \n",
       "1   JC Buttler    legbyes            0           1  ...  Wickets     7.0   \n",
       "2  YBK Jaiswal        NaN            1           0  ...  Wickets     7.0   \n",
       "3   JC Buttler        NaN            0           0  ...  Wickets     7.0   \n",
       "4   JC Buttler        NaN            0           0  ...  Wickets     7.0   \n",
       "\n",
       "   method Player_of_Match                                       Team1Players  \\\n",
       "0     NaN       HH Pandya  ['YBK Jaiswal', 'JC Buttler', 'SV Samson', 'D ...   \n",
       "1     NaN       HH Pandya  ['YBK Jaiswal', 'JC Buttler', 'SV Samson', 'D ...   \n",
       "2     NaN       HH Pandya  ['YBK Jaiswal', 'JC Buttler', 'SV Samson', 'D ...   \n",
       "3     NaN       HH Pandya  ['YBK Jaiswal', 'JC Buttler', 'SV Samson', 'D ...   \n",
       "4     NaN       HH Pandya  ['YBK Jaiswal', 'JC Buttler', 'SV Samson', 'D ...   \n",
       "\n",
       "                                        Team2Players      Umpire1  \\\n",
       "0  ['WP Saha', 'Shubman Gill', 'MS Wade', 'HH Pan...  CB Gaffaney   \n",
       "1  ['WP Saha', 'Shubman Gill', 'MS Wade', 'HH Pan...  CB Gaffaney   \n",
       "2  ['WP Saha', 'Shubman Gill', 'MS Wade', 'HH Pan...  CB Gaffaney   \n",
       "3  ['WP Saha', 'Shubman Gill', 'MS Wade', 'HH Pan...  CB Gaffaney   \n",
       "4  ['WP Saha', 'Shubman Gill', 'MS Wade', 'HH Pan...  CB Gaffaney   \n",
       "\n",
       "       Umpire2 bowler_run  isBowlerWicket  \n",
       "0  Nitin Menon          0               0  \n",
       "1  Nitin Menon          0               0  \n",
       "2  Nitin Menon          1               0  \n",
       "3  Nitin Menon          0               0  \n",
       "4  Nitin Menon          0               0  \n",
       "\n",
       "[5 rows x 38 columns]"
      ]
     },
     "execution_count": 463,
     "metadata": {},
     "output_type": "execute_result"
    }
   ],
   "source": [
    "ball_with_match.head()"
   ]
  },
  {
   "cell_type": "code",
   "execution_count": 469,
   "id": "730c5d99",
   "metadata": {},
   "outputs": [],
   "source": [
    "ball_with_match.to_csv('ball_with_match_cleaned.csv', index=False)"
   ]
  },
  {
   "cell_type": "markdown",
   "id": "3ed292e6",
   "metadata": {},
   "source": [
    "## overall analysis"
   ]
  },
  {
   "cell_type": "code",
   "execution_count": 23,
   "id": "edc32ef6",
   "metadata": {},
   "outputs": [],
   "source": [
    "bowler = 'YS Chahal'"
   ]
  },
  {
   "cell_type": "code",
   "execution_count": 24,
   "id": "615d6c09",
   "metadata": {},
   "outputs": [],
   "source": [
    "df = ball_with_match[ball_with_match['bowler'] == bowler]"
   ]
  },
  {
   "cell_type": "code",
   "execution_count": 25,
   "id": "b4e0ab0a",
   "metadata": {},
   "outputs": [
    {
     "data": {
      "text/html": [
       "<div>\n",
       "<style scoped>\n",
       "    .dataframe tbody tr th:only-of-type {\n",
       "        vertical-align: middle;\n",
       "    }\n",
       "\n",
       "    .dataframe tbody tr th {\n",
       "        vertical-align: top;\n",
       "    }\n",
       "\n",
       "    .dataframe thead th {\n",
       "        text-align: right;\n",
       "    }\n",
       "</style>\n",
       "<table border=\"1\" class=\"dataframe\">\n",
       "  <thead>\n",
       "    <tr style=\"text-align: right;\">\n",
       "      <th></th>\n",
       "      <th>ID</th>\n",
       "      <th>innings</th>\n",
       "      <th>overs</th>\n",
       "      <th>ballnumber</th>\n",
       "      <th>batter</th>\n",
       "      <th>bowler</th>\n",
       "      <th>non-striker</th>\n",
       "      <th>extra_type</th>\n",
       "      <th>batsman_run</th>\n",
       "      <th>extras_run</th>\n",
       "      <th>...</th>\n",
       "      <th>WonBy</th>\n",
       "      <th>Margin</th>\n",
       "      <th>method</th>\n",
       "      <th>Player_of_Match</th>\n",
       "      <th>Team1Players</th>\n",
       "      <th>Team2Players</th>\n",
       "      <th>Umpire1</th>\n",
       "      <th>Umpire2</th>\n",
       "      <th>bowler_run</th>\n",
       "      <th>isBowlerWicket</th>\n",
       "    </tr>\n",
       "  </thead>\n",
       "  <tbody>\n",
       "    <tr>\n",
       "      <th>153</th>\n",
       "      <td>1312200</td>\n",
       "      <td>2</td>\n",
       "      <td>5</td>\n",
       "      <td>1</td>\n",
       "      <td>Shubman Gill</td>\n",
       "      <td>YS Chahal</td>\n",
       "      <td>HH Pandya</td>\n",
       "      <td>NaN</td>\n",
       "      <td>0</td>\n",
       "      <td>0</td>\n",
       "      <td>...</td>\n",
       "      <td>Wickets</td>\n",
       "      <td>7.0</td>\n",
       "      <td>NaN</td>\n",
       "      <td>HH Pandya</td>\n",
       "      <td>['YBK Jaiswal', 'JC Buttler', 'SV Samson', 'D ...</td>\n",
       "      <td>['WP Saha', 'Shubman Gill', 'MS Wade', 'HH Pan...</td>\n",
       "      <td>CB Gaffaney</td>\n",
       "      <td>Nitin Menon</td>\n",
       "      <td>0</td>\n",
       "      <td>0</td>\n",
       "    </tr>\n",
       "    <tr>\n",
       "      <th>154</th>\n",
       "      <td>1312200</td>\n",
       "      <td>2</td>\n",
       "      <td>5</td>\n",
       "      <td>2</td>\n",
       "      <td>Shubman Gill</td>\n",
       "      <td>YS Chahal</td>\n",
       "      <td>HH Pandya</td>\n",
       "      <td>NaN</td>\n",
       "      <td>0</td>\n",
       "      <td>0</td>\n",
       "      <td>...</td>\n",
       "      <td>Wickets</td>\n",
       "      <td>7.0</td>\n",
       "      <td>NaN</td>\n",
       "      <td>HH Pandya</td>\n",
       "      <td>['YBK Jaiswal', 'JC Buttler', 'SV Samson', 'D ...</td>\n",
       "      <td>['WP Saha', 'Shubman Gill', 'MS Wade', 'HH Pan...</td>\n",
       "      <td>CB Gaffaney</td>\n",
       "      <td>Nitin Menon</td>\n",
       "      <td>0</td>\n",
       "      <td>0</td>\n",
       "    </tr>\n",
       "    <tr>\n",
       "      <th>155</th>\n",
       "      <td>1312200</td>\n",
       "      <td>2</td>\n",
       "      <td>5</td>\n",
       "      <td>3</td>\n",
       "      <td>Shubman Gill</td>\n",
       "      <td>YS Chahal</td>\n",
       "      <td>HH Pandya</td>\n",
       "      <td>NaN</td>\n",
       "      <td>1</td>\n",
       "      <td>0</td>\n",
       "      <td>...</td>\n",
       "      <td>Wickets</td>\n",
       "      <td>7.0</td>\n",
       "      <td>NaN</td>\n",
       "      <td>HH Pandya</td>\n",
       "      <td>['YBK Jaiswal', 'JC Buttler', 'SV Samson', 'D ...</td>\n",
       "      <td>['WP Saha', 'Shubman Gill', 'MS Wade', 'HH Pan...</td>\n",
       "      <td>CB Gaffaney</td>\n",
       "      <td>Nitin Menon</td>\n",
       "      <td>1</td>\n",
       "      <td>0</td>\n",
       "    </tr>\n",
       "    <tr>\n",
       "      <th>156</th>\n",
       "      <td>1312200</td>\n",
       "      <td>2</td>\n",
       "      <td>5</td>\n",
       "      <td>4</td>\n",
       "      <td>HH Pandya</td>\n",
       "      <td>YS Chahal</td>\n",
       "      <td>Shubman Gill</td>\n",
       "      <td>NaN</td>\n",
       "      <td>0</td>\n",
       "      <td>0</td>\n",
       "      <td>...</td>\n",
       "      <td>Wickets</td>\n",
       "      <td>7.0</td>\n",
       "      <td>NaN</td>\n",
       "      <td>HH Pandya</td>\n",
       "      <td>['YBK Jaiswal', 'JC Buttler', 'SV Samson', 'D ...</td>\n",
       "      <td>['WP Saha', 'Shubman Gill', 'MS Wade', 'HH Pan...</td>\n",
       "      <td>CB Gaffaney</td>\n",
       "      <td>Nitin Menon</td>\n",
       "      <td>0</td>\n",
       "      <td>0</td>\n",
       "    </tr>\n",
       "    <tr>\n",
       "      <th>157</th>\n",
       "      <td>1312200</td>\n",
       "      <td>2</td>\n",
       "      <td>5</td>\n",
       "      <td>5</td>\n",
       "      <td>HH Pandya</td>\n",
       "      <td>YS Chahal</td>\n",
       "      <td>Shubman Gill</td>\n",
       "      <td>NaN</td>\n",
       "      <td>1</td>\n",
       "      <td>0</td>\n",
       "      <td>...</td>\n",
       "      <td>Wickets</td>\n",
       "      <td>7.0</td>\n",
       "      <td>NaN</td>\n",
       "      <td>HH Pandya</td>\n",
       "      <td>['YBK Jaiswal', 'JC Buttler', 'SV Samson', 'D ...</td>\n",
       "      <td>['WP Saha', 'Shubman Gill', 'MS Wade', 'HH Pan...</td>\n",
       "      <td>CB Gaffaney</td>\n",
       "      <td>Nitin Menon</td>\n",
       "      <td>1</td>\n",
       "      <td>0</td>\n",
       "    </tr>\n",
       "  </tbody>\n",
       "</table>\n",
       "<p>5 rows × 38 columns</p>\n",
       "</div>"
      ],
      "text/plain": [
       "          ID  innings  overs  ballnumber        batter     bowler  \\\n",
       "153  1312200        2      5           1  Shubman Gill  YS Chahal   \n",
       "154  1312200        2      5           2  Shubman Gill  YS Chahal   \n",
       "155  1312200        2      5           3  Shubman Gill  YS Chahal   \n",
       "156  1312200        2      5           4     HH Pandya  YS Chahal   \n",
       "157  1312200        2      5           5     HH Pandya  YS Chahal   \n",
       "\n",
       "      non-striker extra_type  batsman_run  extras_run  ...    WonBy  Margin  \\\n",
       "153     HH Pandya        NaN            0           0  ...  Wickets     7.0   \n",
       "154     HH Pandya        NaN            0           0  ...  Wickets     7.0   \n",
       "155     HH Pandya        NaN            1           0  ...  Wickets     7.0   \n",
       "156  Shubman Gill        NaN            0           0  ...  Wickets     7.0   \n",
       "157  Shubman Gill        NaN            1           0  ...  Wickets     7.0   \n",
       "\n",
       "     method Player_of_Match  \\\n",
       "153     NaN       HH Pandya   \n",
       "154     NaN       HH Pandya   \n",
       "155     NaN       HH Pandya   \n",
       "156     NaN       HH Pandya   \n",
       "157     NaN       HH Pandya   \n",
       "\n",
       "                                          Team1Players  \\\n",
       "153  ['YBK Jaiswal', 'JC Buttler', 'SV Samson', 'D ...   \n",
       "154  ['YBK Jaiswal', 'JC Buttler', 'SV Samson', 'D ...   \n",
       "155  ['YBK Jaiswal', 'JC Buttler', 'SV Samson', 'D ...   \n",
       "156  ['YBK Jaiswal', 'JC Buttler', 'SV Samson', 'D ...   \n",
       "157  ['YBK Jaiswal', 'JC Buttler', 'SV Samson', 'D ...   \n",
       "\n",
       "                                          Team2Players      Umpire1  \\\n",
       "153  ['WP Saha', 'Shubman Gill', 'MS Wade', 'HH Pan...  CB Gaffaney   \n",
       "154  ['WP Saha', 'Shubman Gill', 'MS Wade', 'HH Pan...  CB Gaffaney   \n",
       "155  ['WP Saha', 'Shubman Gill', 'MS Wade', 'HH Pan...  CB Gaffaney   \n",
       "156  ['WP Saha', 'Shubman Gill', 'MS Wade', 'HH Pan...  CB Gaffaney   \n",
       "157  ['WP Saha', 'Shubman Gill', 'MS Wade', 'HH Pan...  CB Gaffaney   \n",
       "\n",
       "         Umpire2 bowler_run  isBowlerWicket  \n",
       "153  Nitin Menon          0               0  \n",
       "154  Nitin Menon          0               0  \n",
       "155  Nitin Menon          1               0  \n",
       "156  Nitin Menon          0               0  \n",
       "157  Nitin Menon          1               0  \n",
       "\n",
       "[5 rows x 38 columns]"
      ]
     },
     "execution_count": 25,
     "metadata": {},
     "output_type": "execute_result"
    }
   ],
   "source": [
    "df.head()"
   ]
  },
  {
   "cell_type": "markdown",
   "id": "f76e75e7",
   "metadata": {},
   "source": [
    "### bowlers per all seasons"
   ]
  },
  {
   "cell_type": "code",
   "execution_count": 26,
   "id": "52bbc156",
   "metadata": {},
   "outputs": [
    {
     "data": {
      "text/plain": [
       "['A Ashish Reddy',\n",
       " 'A Badoni',\n",
       " 'A Chandila',\n",
       " 'A Choudhary',\n",
       " 'A Dananjaya',\n",
       " 'A Flintoff',\n",
       " 'A Kumble',\n",
       " 'A Mishra',\n",
       " 'A Mithun',\n",
       " 'A Nehra',\n",
       " 'A Nel',\n",
       " 'A Nortje',\n",
       " 'A Singh',\n",
       " 'A Symonds',\n",
       " 'A Uniyal',\n",
       " 'A Zampa',\n",
       " 'AA Chavan',\n",
       " 'AA Jhunjhunwala',\n",
       " 'AA Kazi',\n",
       " 'AA Noffke',\n",
       " 'AB Agarkar',\n",
       " 'AB Dinda',\n",
       " 'AB McDonald',\n",
       " 'AC Gilchrist',\n",
       " 'AC Thomas',\n",
       " 'AC Voges',\n",
       " 'AD Mascarenhas',\n",
       " 'AD Mathews',\n",
       " 'AD Russell',\n",
       " 'AF Milne',\n",
       " 'AG Murtaza',\n",
       " 'AJ Finch',\n",
       " 'AJ Tye',\n",
       " 'AK Markram',\n",
       " 'AL Menaria',\n",
       " 'AM Nayar',\n",
       " 'AM Rahane',\n",
       " 'AM Salvi',\n",
       " 'AN Ahmed',\n",
       " 'AP Dole',\n",
       " 'AR Patel',\n",
       " 'AS Joseph',\n",
       " 'AS Rajpoot',\n",
       " 'AS Raut',\n",
       " 'AS Roy',\n",
       " 'AU Rashid',\n",
       " 'AUK Pathan',\n",
       " 'Abdul Samad',\n",
       " 'Abdur Razzak',\n",
       " 'Abhishek Sharma',\n",
       " 'Akash Deep',\n",
       " 'Akash Singh',\n",
       " 'Aman Hakim Khan',\n",
       " 'Anand Rajan',\n",
       " 'Ankit Sharma',\n",
       " 'Ankit Soni',\n",
       " 'Anureet Singh',\n",
       " 'Arshdeep Singh',\n",
       " 'Avesh Khan',\n",
       " 'Azhar Mahmood',\n",
       " 'B Akhil',\n",
       " 'B Chipli',\n",
       " 'B Geeves',\n",
       " 'B Kumar',\n",
       " 'B Laughlin',\n",
       " 'B Lee',\n",
       " 'B Stanlake',\n",
       " 'BA Bhatt',\n",
       " 'BA Stokes',\n",
       " 'BAW Mendis',\n",
       " 'BB Sran',\n",
       " 'BCJ Cutting',\n",
       " 'BE Hendricks',\n",
       " 'BJ Hodge',\n",
       " 'BJ Rohrer',\n",
       " 'BMAJ Mendis',\n",
       " 'BW Hilfenhaus',\n",
       " 'Basil Thampi',\n",
       " 'Bipul Sharma',\n",
       " 'C Ganapathy',\n",
       " 'C Munro',\n",
       " 'C Nanda',\n",
       " 'C Sakariya',\n",
       " 'C de Grandhomme',\n",
       " 'CH Gayle',\n",
       " 'CH Morris',\n",
       " 'CJ Anderson',\n",
       " 'CJ Dala',\n",
       " 'CJ Green',\n",
       " 'CJ Jordan',\n",
       " 'CJ McKay',\n",
       " 'CK Kapugedera',\n",
       " 'CK Langeveldt',\n",
       " 'CL White',\n",
       " 'CR Brathwaite',\n",
       " 'CR Woakes',\n",
       " 'CRD Fernando',\n",
       " 'CV Varun',\n",
       " 'D Brevis',\n",
       " 'D Kalyankrishna',\n",
       " 'D Pretorius',\n",
       " 'D Salunkhe',\n",
       " 'D Wiese',\n",
       " 'D du Preez',\n",
       " 'DA Warner',\n",
       " 'DAJ Bracewell',\n",
       " 'DB Ravi Teja',\n",
       " 'DE Bollinger',\n",
       " 'DG Nalkande',\n",
       " 'DJ Bravo',\n",
       " 'DJ Harris',\n",
       " 'DJ Hooda',\n",
       " 'DJ Hussey',\n",
       " 'DJ Mitchell',\n",
       " 'DJ Muthuswami',\n",
       " 'DJ Thornely',\n",
       " 'DJ Willey',\n",
       " 'DJG Sammy',\n",
       " 'DJM Short',\n",
       " 'DL Chahar',\n",
       " 'DL Vettori',\n",
       " 'DNT Zoysa',\n",
       " 'DP Nannes',\n",
       " 'DP Vijaykumar',\n",
       " 'DR Sams',\n",
       " 'DR Smith',\n",
       " 'DS Kulkarni',\n",
       " 'DT Christian',\n",
       " 'DW Steyn',\n",
       " 'F du Plessis',\n",
       " 'FA Allen',\n",
       " 'FH Edwards',\n",
       " 'FY Fazal',\n",
       " 'Fazalhaq Farooqi',\n",
       " 'GB Hogg',\n",
       " 'GC Viljoen',\n",
       " 'GD McGrath',\n",
       " 'GD Phillips',\n",
       " 'GH Vihari',\n",
       " 'GHS Garton',\n",
       " 'GJ Maxwell',\n",
       " 'GR Napier',\n",
       " 'GS Sandhu',\n",
       " 'Gagandeep Singh',\n",
       " 'Gurkeerat Singh',\n",
       " 'HF Gurney',\n",
       " 'HH Pandya',\n",
       " 'HR Shokeen',\n",
       " 'HV Patel',\n",
       " 'Harbhajan Singh',\n",
       " 'Harmeet Singh',\n",
       " 'Harpreet Brar',\n",
       " 'Harshit Rana',\n",
       " 'I Malhotra',\n",
       " 'I Sharma',\n",
       " 'I Udana',\n",
       " 'IC Pandey',\n",
       " 'IC Porel',\n",
       " 'IK Pathan',\n",
       " 'IS Sodhi',\n",
       " 'Imran Tahir',\n",
       " 'Iqbal Abdulla',\n",
       " 'J Botha',\n",
       " 'J Suchith',\n",
       " 'J Syed Mohammad',\n",
       " 'J Theron',\n",
       " 'J Yadav',\n",
       " 'JA Morkel',\n",
       " 'JA Richardson',\n",
       " 'JC Archer',\n",
       " 'JD Ryder',\n",
       " 'JD Unadkat',\n",
       " 'JDP Oram',\n",
       " 'JDS Neesham',\n",
       " 'JE Taylor',\n",
       " 'JEC Franklin',\n",
       " 'JH Kallis',\n",
       " 'JJ Bumrah',\n",
       " 'JJ van der Wath',\n",
       " 'JL Pattinson',\n",
       " 'JM Kemp',\n",
       " 'JO Holder',\n",
       " 'JP Behrendorff',\n",
       " 'JP Duminy',\n",
       " 'JP Faulkner',\n",
       " 'JPR Scantlebury-Searles',\n",
       " 'JR Hazlewood',\n",
       " 'JR Hopes',\n",
       " 'JW Hastings',\n",
       " 'Jalaj S Saxena',\n",
       " 'Jaskaran Singh',\n",
       " 'Joginder Sharma',\n",
       " 'K Goel',\n",
       " 'K Gowtham',\n",
       " 'K Kartikeya',\n",
       " 'K Khejroliya',\n",
       " 'K Rabada',\n",
       " 'K Santokie',\n",
       " 'K Upadhyay',\n",
       " 'K Yadav',\n",
       " 'KA Jamieson',\n",
       " 'KA Pollard',\n",
       " 'KAJ Roach',\n",
       " 'KC Cariappa',\n",
       " 'KH Pandya',\n",
       " 'KJ Abbott',\n",
       " 'KK Ahmed',\n",
       " 'KK Cooper',\n",
       " 'KL Nagarkoti',\n",
       " 'KM Asif',\n",
       " 'KMA Paul',\n",
       " 'KMDN Kulasekara',\n",
       " 'KP Appanna',\n",
       " 'KP Pietersen',\n",
       " 'KR Sen',\n",
       " 'KS Williamson',\n",
       " 'KV Sharma',\n",
       " 'KW Richardson',\n",
       " 'Kamran Khan',\n",
       " 'Karanveer Singh',\n",
       " 'Kartik Tyagi',\n",
       " 'Kuldeep Yadav',\n",
       " 'L Ablish',\n",
       " 'L Balaji',\n",
       " 'L Ngidi',\n",
       " 'LA Carseldine',\n",
       " 'LE Plunkett',\n",
       " 'LH Ferguson',\n",
       " 'LI Meriwala',\n",
       " 'LJ Wright',\n",
       " 'LMP Simmons',\n",
       " 'LPC Silva',\n",
       " 'LR Shukla',\n",
       " 'LRPL Taylor',\n",
       " 'LS Livingstone',\n",
       " 'Lalit Yadav',\n",
       " 'M Ashwin',\n",
       " 'M Jansen',\n",
       " 'M Kartik',\n",
       " 'M Manhas',\n",
       " 'M Markande',\n",
       " 'M Morkel',\n",
       " 'M Muralitharan',\n",
       " 'M Ntini',\n",
       " 'M Pathirana',\n",
       " 'M Prasidh Krishna',\n",
       " 'M Theekshana',\n",
       " 'M Vijay',\n",
       " 'M de Lange',\n",
       " 'MA Khote',\n",
       " 'MA Starc',\n",
       " 'MA Wood',\n",
       " 'MB Parmar',\n",
       " 'MC Henriques',\n",
       " 'MF Maharoof',\n",
       " 'MG Johnson',\n",
       " 'MG Neser',\n",
       " 'MJ Clarke',\n",
       " 'MJ Henry',\n",
       " 'MJ McClenaghan',\n",
       " 'MJ Santner',\n",
       " 'MK Lomror',\n",
       " 'MK Tiwary',\n",
       " 'MM Ali',\n",
       " 'MM Patel',\n",
       " 'MM Sharma',\n",
       " 'MN Samuels',\n",
       " 'MP Stoinis',\n",
       " 'MR Marsh',\n",
       " 'MS Gony',\n",
       " 'Mandeep Singh',\n",
       " 'Mashrafe Mortaza',\n",
       " 'Mohammad Asif',\n",
       " 'Mohammad Hafeez',\n",
       " 'Mohammad Nabi',\n",
       " 'Mohammed Shami',\n",
       " 'Mohammed Siraj',\n",
       " 'Mohsin Khan',\n",
       " 'Monu Kumar',\n",
       " 'Mujeeb Ur Rahman',\n",
       " 'Mukesh Choudhary',\n",
       " 'Mustafizur Rahman',\n",
       " 'N Rana',\n",
       " 'NB Singh',\n",
       " 'ND Doshi',\n",
       " 'NJ Rimmington',\n",
       " 'NL McCullum',\n",
       " 'NLTC Perera',\n",
       " 'NM Coulter-Nile',\n",
       " 'NT Ellis',\n",
       " 'Navdeep Saini',\n",
       " 'O Thomas',\n",
       " 'OC McCoy',\n",
       " 'OF Smith',\n",
       " 'P Amarnath',\n",
       " 'P Awana',\n",
       " 'P Dubey',\n",
       " 'P Kumar',\n",
       " 'P Negi',\n",
       " 'P Parameswaran',\n",
       " 'P Prasanth',\n",
       " 'P Ray Barman',\n",
       " 'P Sahu',\n",
       " 'P Suyal',\n",
       " 'PC Valthaty',\n",
       " 'PD Collingwood',\n",
       " 'PH Solanki',\n",
       " 'PJ Cummins',\n",
       " 'PJ Sangwan',\n",
       " 'PM Sarvesh Kumar',\n",
       " 'PP Chawla',\n",
       " 'PP Ojha',\n",
       " 'PV Tambe',\n",
       " 'PVD Chameera',\n",
       " 'PWH de Silva',\n",
       " 'Pankaj Singh',\n",
       " 'Parvez Rasool',\n",
       " 'R Ashwin',\n",
       " 'R Bhatia',\n",
       " 'R Dhawan',\n",
       " 'R McLaren',\n",
       " 'R Ninan',\n",
       " 'R Parag',\n",
       " 'R Powell',\n",
       " 'R Rampaul',\n",
       " 'R Sai Kishore',\n",
       " 'R Sanjay Yadav',\n",
       " 'R Sathish',\n",
       " 'R Sharma',\n",
       " 'R Shepherd',\n",
       " 'R Shukla',\n",
       " 'R Tewatia',\n",
       " 'R Vinay Kumar',\n",
       " 'RA Jadeja',\n",
       " 'RA Shaikh',\n",
       " 'RA Tripathi',\n",
       " 'RD Chahar',\n",
       " 'RE van der Merwe',\n",
       " 'RG More',\n",
       " 'RG Sharma',\n",
       " 'RJ Harris',\n",
       " 'RJ Peterson',\n",
       " 'RN ten Doeschate',\n",
       " 'RP Meredith',\n",
       " 'RP Singh',\n",
       " 'RR Bhatkal',\n",
       " 'RR Bose',\n",
       " 'RR Powar',\n",
       " 'RR Raje',\n",
       " 'RS Bopara',\n",
       " 'RS Gavaskar',\n",
       " 'RV Gomez',\n",
       " 'RV Patel',\n",
       " 'RW Price',\n",
       " 'Ramandeep Singh',\n",
       " 'Rashid Khan',\n",
       " 'Rasikh Salam',\n",
       " 'Ravi Bishnoi',\n",
       " 'S Aravind',\n",
       " 'S Badree',\n",
       " 'S Dhawan',\n",
       " 'S Dube',\n",
       " 'S Gopal',\n",
       " 'S Kaul',\n",
       " 'S Kaushik',\n",
       " 'S Ladda',\n",
       " 'S Lamichhane',\n",
       " 'S Midhun',\n",
       " 'S Nadeem',\n",
       " 'S Narwal',\n",
       " 'S Rana',\n",
       " 'S Randiv',\n",
       " 'S Sandeep Warrier',\n",
       " 'S Sreesanth',\n",
       " 'S Sriram',\n",
       " 'S Tyagi',\n",
       " 'S Vidyut',\n",
       " 'SA Abbott',\n",
       " 'SA Yadav',\n",
       " 'SB Bangar',\n",
       " 'SB Jakati',\n",
       " 'SB Joshi',\n",
       " 'SB Styris',\n",
       " 'SB Wagh',\n",
       " 'SC Ganguly',\n",
       " 'SC Kuggeleijn',\n",
       " 'SD Chitnis',\n",
       " 'SE Bond',\n",
       " 'SE Rutherford',\n",
       " 'SJ Srivastava',\n",
       " 'SK Raina',\n",
       " 'SK Trivedi',\n",
       " 'SK Warne',\n",
       " 'SL Malinga',\n",
       " 'SM Boland',\n",
       " 'SM Curran',\n",
       " 'SM Harwood',\n",
       " 'SM Pollock',\n",
       " 'SMSM Senanayake',\n",
       " 'SN Khan',\n",
       " 'SN Thakur',\n",
       " 'SP Narine',\n",
       " 'SPD Smith',\n",
       " 'SR Tendulkar',\n",
       " 'SR Watson',\n",
       " 'SS Agarwal',\n",
       " 'SS Cottrell',\n",
       " 'SS Iyer',\n",
       " 'SS Mundhe',\n",
       " 'SS Sarkar',\n",
       " 'ST Jayasuriya',\n",
       " 'STR Binny',\n",
       " 'SW Tait',\n",
       " 'Sachin Baby',\n",
       " 'Sandeep Sharma',\n",
       " 'Shahbaz Ahmed',\n",
       " 'Shahid Afridi',\n",
       " 'Shakib Al Hasan',\n",
       " 'Shashank Singh',\n",
       " 'Shivam Mavi',\n",
       " 'Shivam Sharma',\n",
       " 'Shoaib Ahmed',\n",
       " 'Shoaib Akhtar',\n",
       " 'Shoaib Malik',\n",
       " 'Simarjeet Singh',\n",
       " 'Sohail Tanvir',\n",
       " 'Sunny Gupta',\n",
       " 'Swapnil Singh',\n",
       " 'T Henderson',\n",
       " 'T Natarajan',\n",
       " 'T Shamsi',\n",
       " 'T Thushara',\n",
       " 'TA Boult',\n",
       " 'TG Southee',\n",
       " 'TK Curran',\n",
       " 'TL Suman',\n",
       " 'TM Dilshan',\n",
       " 'TM Head',\n",
       " 'TP Sudhindra',\n",
       " 'TS Mills',\n",
       " 'TU Deshpande',\n",
       " 'Tejas Baroka',\n",
       " 'Tilak Varma',\n",
       " 'UT Yadav',\n",
       " 'Umar Gul',\n",
       " 'Umran Malik',\n",
       " 'V Kohli',\n",
       " 'V Pratap Singh',\n",
       " 'V Sehwag',\n",
       " 'V Shankar',\n",
       " 'VG Arora',\n",
       " 'VR Aaron',\n",
       " 'VR Iyer',\n",
       " 'VRV Singh',\n",
       " 'VS Malik',\n",
       " 'VS Yeligati',\n",
       " 'VY Mahesh',\n",
       " 'WA Mota',\n",
       " 'WD Parnell',\n",
       " 'WPUJC Vaas',\n",
       " 'Washington Sundar',\n",
       " 'Y Gnaneswara Rao',\n",
       " 'Y Nagar',\n",
       " 'Y Prithvi Raj',\n",
       " 'Y Venugopal Rao',\n",
       " 'YA Abdulla',\n",
       " 'YBK Jaiswal',\n",
       " 'YK Pathan',\n",
       " 'YS Chahal',\n",
       " 'Yash Dayal',\n",
       " 'Yuvraj Singh',\n",
       " 'Z Khan']"
      ]
     },
     "execution_count": 26,
     "metadata": {},
     "output_type": "execute_result"
    }
   ],
   "source": [
    "sorted(ball_with_match['bowler'].unique())"
   ]
  },
  {
   "cell_type": "markdown",
   "id": "bce21426",
   "metadata": {},
   "source": [
    "### total seasons played"
   ]
  },
  {
   "cell_type": "code",
   "execution_count": 27,
   "id": "b8318767",
   "metadata": {},
   "outputs": [
    {
     "data": {
      "text/plain": [
       "10"
      ]
     },
     "execution_count": 27,
     "metadata": {},
     "output_type": "execute_result"
    }
   ],
   "source": [
    "df['Season'].unique().size"
   ]
  },
  {
   "cell_type": "markdown",
   "id": "e891d413",
   "metadata": {},
   "source": [
    "### total matches played"
   ]
  },
  {
   "cell_type": "code",
   "execution_count": 28,
   "id": "792c2c19",
   "metadata": {},
   "outputs": [
    {
     "data": {
      "text/plain": [
       "130"
      ]
     },
     "execution_count": 28,
     "metadata": {},
     "output_type": "execute_result"
    }
   ],
   "source": [
    "df['ID'].unique().size"
   ]
  },
  {
   "cell_type": "markdown",
   "id": "769f225a",
   "metadata": {},
   "source": [
    "### total wickets"
   ]
  },
  {
   "cell_type": "code",
   "execution_count": 29,
   "id": "b6740aac",
   "metadata": {},
   "outputs": [
    {
     "data": {
      "text/plain": [
       "166"
      ]
     },
     "execution_count": 29,
     "metadata": {},
     "output_type": "execute_result"
    }
   ],
   "source": [
    "df['isBowlerWicket'].sum()"
   ]
  },
  {
   "cell_type": "markdown",
   "id": "cc8e0b1a",
   "metadata": {},
   "source": [
    "### economy"
   ]
  },
  {
   "cell_type": "code",
   "execution_count": 30,
   "id": "ce0efdf0",
   "metadata": {},
   "outputs": [],
   "source": [
    "nballs = df[~(df.extra_type.isin(['wides', 'noballs']))].shape[0]"
   ]
  },
  {
   "cell_type": "code",
   "execution_count": 31,
   "id": "6480fa0d",
   "metadata": {},
   "outputs": [],
   "source": [
    "runs = df['bowler_run'].sum()"
   ]
  },
  {
   "cell_type": "code",
   "execution_count": 32,
   "id": "909d63d6",
   "metadata": {},
   "outputs": [
    {
     "data": {
      "text/plain": [
       "7.61"
      ]
     },
     "execution_count": 32,
     "metadata": {},
     "output_type": "execute_result"
    }
   ],
   "source": [
    "round((runs/ nballs) * 6, 2)"
   ]
  },
  {
   "cell_type": "markdown",
   "id": "2893f1ed",
   "metadata": {},
   "source": [
    "### average"
   ]
  },
  {
   "cell_type": "code",
   "execution_count": 33,
   "id": "21f7add2",
   "metadata": {},
   "outputs": [],
   "source": [
    "wicket = df['isBowlerWicket'].sum()"
   ]
  },
  {
   "cell_type": "code",
   "execution_count": 34,
   "id": "4429b1a9",
   "metadata": {},
   "outputs": [
    {
     "data": {
      "text/plain": [
       "21.83"
      ]
     },
     "execution_count": 34,
     "metadata": {},
     "output_type": "execute_result"
    }
   ],
   "source": [
    "round(runs/wicket, 2)"
   ]
  },
  {
   "cell_type": "markdown",
   "id": "f7be29c0",
   "metadata": {},
   "source": [
    "### strike rate"
   ]
  },
  {
   "cell_type": "code",
   "execution_count": 35,
   "id": "d3269eca",
   "metadata": {},
   "outputs": [
    {
     "data": {
      "text/plain": [
       "17.2"
      ]
     },
     "execution_count": 35,
     "metadata": {},
     "output_type": "execute_result"
    }
   ],
   "source": [
    "round(nballs / wicket, 2)"
   ]
  },
  {
   "cell_type": "markdown",
   "id": "100d83aa",
   "metadata": {},
   "source": [
    "### total fours"
   ]
  },
  {
   "cell_type": "code",
   "execution_count": 36,
   "id": "44c42093",
   "metadata": {},
   "outputs": [
    {
     "data": {
      "text/plain": [
       "209"
      ]
     },
     "execution_count": 36,
     "metadata": {},
     "output_type": "execute_result"
    }
   ],
   "source": [
    "df[(df.batsman_run == 4) & (df.non_boundary == 0)].shape[0]"
   ]
  },
  {
   "cell_type": "markdown",
   "id": "b988456f",
   "metadata": {},
   "source": [
    "### total sixes"
   ]
  },
  {
   "cell_type": "code",
   "execution_count": 37,
   "id": "54e1a8c9",
   "metadata": {},
   "outputs": [
    {
     "data": {
      "text/plain": [
       "179"
      ]
     },
     "execution_count": 37,
     "metadata": {},
     "output_type": "execute_result"
    }
   ],
   "source": [
    "df[(df.batsman_run == 6) & (df.non_boundary == 0)].shape[0]"
   ]
  },
  {
   "cell_type": "markdown",
   "id": "47355e3f",
   "metadata": {},
   "source": [
    "### best figure"
   ]
  },
  {
   "cell_type": "code",
   "execution_count": 38,
   "id": "746f9179",
   "metadata": {},
   "outputs": [
    {
     "name": "stderr",
     "output_type": "stream",
     "text": [
      "C:\\Users\\gevar\\AppData\\Local\\Temp\\ipykernel_1220\\247034310.py:1: FutureWarning: The default value of numeric_only in DataFrameGroupBy.sum is deprecated. In a future version, numeric_only will default to False. Either specify numeric_only or select only columns which should be valid for the function.\n",
      "  bf = df.groupby('ID').sum()\n"
     ]
    }
   ],
   "source": [
    "bf = df.groupby('ID').sum()"
   ]
  },
  {
   "cell_type": "code",
   "execution_count": 39,
   "id": "13842f93",
   "metadata": {},
   "outputs": [
    {
     "data": {
      "text/html": [
       "<div>\n",
       "<style scoped>\n",
       "    .dataframe tbody tr th:only-of-type {\n",
       "        vertical-align: middle;\n",
       "    }\n",
       "\n",
       "    .dataframe tbody tr th {\n",
       "        vertical-align: top;\n",
       "    }\n",
       "\n",
       "    .dataframe thead th {\n",
       "        text-align: right;\n",
       "    }\n",
       "</style>\n",
       "<table border=\"1\" class=\"dataframe\">\n",
       "  <thead>\n",
       "    <tr style=\"text-align: right;\">\n",
       "      <th></th>\n",
       "      <th>innings</th>\n",
       "      <th>overs</th>\n",
       "      <th>ballnumber</th>\n",
       "      <th>batsman_run</th>\n",
       "      <th>extras_run</th>\n",
       "      <th>total_run</th>\n",
       "      <th>non_boundary</th>\n",
       "      <th>isWicketDelivery</th>\n",
       "      <th>Season</th>\n",
       "      <th>Margin</th>\n",
       "      <th>bowler_run</th>\n",
       "      <th>isBowlerWicket</th>\n",
       "    </tr>\n",
       "    <tr>\n",
       "      <th>ID</th>\n",
       "      <th></th>\n",
       "      <th></th>\n",
       "      <th></th>\n",
       "      <th></th>\n",
       "      <th></th>\n",
       "      <th></th>\n",
       "      <th></th>\n",
       "      <th></th>\n",
       "      <th></th>\n",
       "      <th></th>\n",
       "      <th></th>\n",
       "      <th></th>\n",
       "    </tr>\n",
       "  </thead>\n",
       "  <tbody>\n",
       "    <tr>\n",
       "      <th>598029</th>\n",
       "      <td>24</td>\n",
       "      <td>276</td>\n",
       "      <td>84</td>\n",
       "      <td>34</td>\n",
       "      <td>1</td>\n",
       "      <td>35</td>\n",
       "      <td>0</td>\n",
       "      <td>0</td>\n",
       "      <td>48312</td>\n",
       "      <td>120.0</td>\n",
       "      <td>34</td>\n",
       "      <td>0</td>\n",
       "    </tr>\n",
       "    <tr>\n",
       "      <th>729281</th>\n",
       "      <td>25</td>\n",
       "      <td>255</td>\n",
       "      <td>91</td>\n",
       "      <td>14</td>\n",
       "      <td>4</td>\n",
       "      <td>18</td>\n",
       "      <td>0</td>\n",
       "      <td>1</td>\n",
       "      <td>50350</td>\n",
       "      <td>200.0</td>\n",
       "      <td>18</td>\n",
       "      <td>1</td>\n",
       "    </tr>\n",
       "    <tr>\n",
       "      <th>729287</th>\n",
       "      <td>24</td>\n",
       "      <td>252</td>\n",
       "      <td>84</td>\n",
       "      <td>17</td>\n",
       "      <td>0</td>\n",
       "      <td>17</td>\n",
       "      <td>0</td>\n",
       "      <td>2</td>\n",
       "      <td>48336</td>\n",
       "      <td>168.0</td>\n",
       "      <td>17</td>\n",
       "      <td>2</td>\n",
       "    </tr>\n",
       "    <tr>\n",
       "      <th>729299</th>\n",
       "      <td>24</td>\n",
       "      <td>264</td>\n",
       "      <td>84</td>\n",
       "      <td>26</td>\n",
       "      <td>0</td>\n",
       "      <td>26</td>\n",
       "      <td>0</td>\n",
       "      <td>1</td>\n",
       "      <td>48336</td>\n",
       "      <td>48.0</td>\n",
       "      <td>26</td>\n",
       "      <td>1</td>\n",
       "    </tr>\n",
       "    <tr>\n",
       "      <th>729305</th>\n",
       "      <td>36</td>\n",
       "      <td>180</td>\n",
       "      <td>63</td>\n",
       "      <td>17</td>\n",
       "      <td>0</td>\n",
       "      <td>17</td>\n",
       "      <td>0</td>\n",
       "      <td>1</td>\n",
       "      <td>36252</td>\n",
       "      <td>108.0</td>\n",
       "      <td>17</td>\n",
       "      <td>1</td>\n",
       "    </tr>\n",
       "  </tbody>\n",
       "</table>\n",
       "</div>"
      ],
      "text/plain": [
       "        innings  overs  ballnumber  batsman_run  extras_run  total_run  \\\n",
       "ID                                                                       \n",
       "598029       24    276          84           34           1         35   \n",
       "729281       25    255          91           14           4         18   \n",
       "729287       24    252          84           17           0         17   \n",
       "729299       24    264          84           26           0         26   \n",
       "729305       36    180          63           17           0         17   \n",
       "\n",
       "        non_boundary  isWicketDelivery  Season  Margin  bowler_run  \\\n",
       "ID                                                                   \n",
       "598029             0                 0   48312   120.0          34   \n",
       "729281             0                 1   50350   200.0          18   \n",
       "729287             0                 2   48336   168.0          17   \n",
       "729299             0                 1   48336    48.0          26   \n",
       "729305             0                 1   36252   108.0          17   \n",
       "\n",
       "        isBowlerWicket  \n",
       "ID                      \n",
       "598029               0  \n",
       "729281               1  \n",
       "729287               2  \n",
       "729299               1  \n",
       "729305               1  "
      ]
     },
     "execution_count": 39,
     "metadata": {},
     "output_type": "execute_result"
    }
   ],
   "source": [
    "bf.head()"
   ]
  },
  {
   "cell_type": "code",
   "execution_count": 40,
   "id": "10bc65aa",
   "metadata": {},
   "outputs": [
    {
     "data": {
      "text/plain": [
       "array([[ 5, 40]], dtype=int64)"
      ]
     },
     "execution_count": 40,
     "metadata": {},
     "output_type": "execute_result"
    }
   ],
   "source": [
    "bf.sort_values(['isBowlerWicket', 'bowler_run'], ascending=[False, True])[['isBowlerWicket', 'bowler_run']].head(1).values"
   ]
  },
  {
   "cell_type": "markdown",
   "id": "332c01b3",
   "metadata": {},
   "source": [
    "### total 3+w"
   ]
  },
  {
   "cell_type": "code",
   "execution_count": 41,
   "id": "2739c1f1",
   "metadata": {},
   "outputs": [
    {
     "data": {
      "text/plain": [
       "15"
      ]
     },
     "execution_count": 41,
     "metadata": {},
     "output_type": "execute_result"
    }
   ],
   "source": [
    "bf[(bf.isBowlerWicket >= 3)].shape[0]"
   ]
  },
  {
   "cell_type": "markdown",
   "id": "07b683e7",
   "metadata": {},
   "source": [
    "### total mom"
   ]
  },
  {
   "cell_type": "code",
   "execution_count": 42,
   "id": "d0fd1fa4",
   "metadata": {},
   "outputs": [
    {
     "data": {
      "text/plain": [
       "6"
      ]
     },
     "execution_count": 42,
     "metadata": {},
     "output_type": "execute_result"
    }
   ],
   "source": [
    "df[df.Player_of_Match == bowler].drop_duplicates('ID', keep='first').shape[0]"
   ]
  },
  {
   "cell_type": "markdown",
   "id": "233d9944",
   "metadata": {},
   "source": [
    "### played in"
   ]
  },
  {
   "cell_type": "code",
   "execution_count": 43,
   "id": "f9c11fcd",
   "metadata": {},
   "outputs": [
    {
     "data": {
      "text/plain": [
       "array(['Rajasthan Royals', 'Royal Challengers Bangalore'], dtype=object)"
      ]
     },
     "execution_count": 43,
     "metadata": {},
     "output_type": "execute_result"
    }
   ],
   "source": [
    "df[df['Team1'] != df['BattingTeam']]['Team1'].unique()"
   ]
  },
  {
   "cell_type": "code",
   "execution_count": 44,
   "id": "8306d14a",
   "metadata": {},
   "outputs": [
    {
     "data": {
      "text/plain": [
       "array(['Rajasthan Royals', 'Royal Challengers Bangalore',\n",
       "       'Mumbai Indians'], dtype=object)"
      ]
     },
     "execution_count": 44,
     "metadata": {},
     "output_type": "execute_result"
    }
   ],
   "source": [
    "df[df['Team2'] != df['BattingTeam']]['Team2'].unique()"
   ]
  },
  {
   "cell_type": "code",
   "execution_count": 53,
   "id": "fcc920d3",
   "metadata": {},
   "outputs": [
    {
     "data": {
      "text/plain": [
       "['Rajasthan Royals', 'Royal Challengers Bangalore', 'Mumbai Indians']"
      ]
     },
     "execution_count": 53,
     "metadata": {},
     "output_type": "execute_result"
    }
   ],
   "source": [
    "pd.Series(df[df['Team1'] != df['BattingTeam']]['Team1'].unique().tolist() + df[df['Team2'] != df['BattingTeam']]['Team2'].unique().tolist()).unique().tolist()"
   ]
  },
  {
   "cell_type": "markdown",
   "id": "136e8ac0",
   "metadata": {},
   "source": [
    "### season wise wickets"
   ]
  },
  {
   "cell_type": "code",
   "execution_count": 449,
   "id": "471b6a90",
   "metadata": {},
   "outputs": [
    {
     "data": {
      "text/plain": [
       "Season\n",
       "2008     0\n",
       "2009     6\n",
       "2011     8\n",
       "2012    12\n",
       "2013    13\n",
       "2014    19\n",
       "2015    11\n",
       "2016     8\n",
       "2017     5\n",
       "2018    11\n",
       "2019    15\n",
       "2020     6\n",
       "2021    13\n",
       "2022     5\n",
       "Name: isBowlerWicket, dtype: int64"
      ]
     },
     "execution_count": 449,
     "metadata": {},
     "output_type": "execute_result"
    }
   ],
   "source": [
    "df.groupby('Season')['isBowlerWicket'].sum()"
   ]
  },
  {
   "cell_type": "code",
   "execution_count": 452,
   "id": "fae29bb6",
   "metadata": {},
   "outputs": [
    {
     "data": {
      "text/plain": [
       "[2008,\n",
       " 2009,\n",
       " 2011,\n",
       " 2012,\n",
       " 2013,\n",
       " 2014,\n",
       " 2015,\n",
       " 2016,\n",
       " 2017,\n",
       " 2018,\n",
       " 2019,\n",
       " 2020,\n",
       " 2021,\n",
       " 2022]"
      ]
     },
     "execution_count": 452,
     "metadata": {},
     "output_type": "execute_result"
    }
   ],
   "source": [
    "df.groupby('Season')['isBowlerWicket'].sum().index.tolist()"
   ]
  },
  {
   "cell_type": "code",
   "execution_count": 453,
   "id": "49bb4e5c",
   "metadata": {},
   "outputs": [
    {
     "data": {
      "text/plain": [
       "[0, 6, 8, 12, 13, 19, 11, 8, 5, 11, 15, 6, 13, 5]"
      ]
     },
     "execution_count": 453,
     "metadata": {},
     "output_type": "execute_result"
    }
   ],
   "source": [
    "df.groupby('Season')['isBowlerWicket'].sum().values.tolist()"
   ]
  },
  {
   "cell_type": "markdown",
   "id": "6fb36344",
   "metadata": {},
   "source": [
    "## season analysis"
   ]
  },
  {
   "cell_type": "code",
   "execution_count": 62,
   "id": "850d77a0",
   "metadata": {},
   "outputs": [],
   "source": [
    "bowler = 'RA Jadeja'\n",
    "season = 2022"
   ]
  },
  {
   "cell_type": "code",
   "execution_count": 63,
   "id": "5cad7c7f",
   "metadata": {},
   "outputs": [],
   "source": [
    "df = ball_with_match[(ball_with_match['bowler'] == bowler) & (ball_with_match['Season'] == season)]"
   ]
  },
  {
   "cell_type": "code",
   "execution_count": 64,
   "id": "afbf912b",
   "metadata": {},
   "outputs": [
    {
     "data": {
      "text/html": [
       "<div>\n",
       "<style scoped>\n",
       "    .dataframe tbody tr th:only-of-type {\n",
       "        vertical-align: middle;\n",
       "    }\n",
       "\n",
       "    .dataframe tbody tr th {\n",
       "        vertical-align: top;\n",
       "    }\n",
       "\n",
       "    .dataframe thead th {\n",
       "        text-align: right;\n",
       "    }\n",
       "</style>\n",
       "<table border=\"1\" class=\"dataframe\">\n",
       "  <thead>\n",
       "    <tr style=\"text-align: right;\">\n",
       "      <th></th>\n",
       "      <th>ID</th>\n",
       "      <th>innings</th>\n",
       "      <th>overs</th>\n",
       "      <th>ballnumber</th>\n",
       "      <th>batter</th>\n",
       "      <th>bowler</th>\n",
       "      <th>non-striker</th>\n",
       "      <th>extra_type</th>\n",
       "      <th>batsman_run</th>\n",
       "      <th>extras_run</th>\n",
       "      <th>...</th>\n",
       "      <th>WonBy</th>\n",
       "      <th>Margin</th>\n",
       "      <th>method</th>\n",
       "      <th>Player_of_Match</th>\n",
       "      <th>Team1Players</th>\n",
       "      <th>Team2Players</th>\n",
       "      <th>Umpire1</th>\n",
       "      <th>Umpire2</th>\n",
       "      <th>bowler_run</th>\n",
       "      <th>isBowlerWicket</th>\n",
       "    </tr>\n",
       "  </thead>\n",
       "  <tbody>\n",
       "    <tr>\n",
       "      <th>6049</th>\n",
       "      <td>1304095</td>\n",
       "      <td>1</td>\n",
       "      <td>6</td>\n",
       "      <td>1</td>\n",
       "      <td>F du Plessis</td>\n",
       "      <td>RA Jadeja</td>\n",
       "      <td>V Kohli</td>\n",
       "      <td>NaN</td>\n",
       "      <td>1</td>\n",
       "      <td>0</td>\n",
       "      <td>...</td>\n",
       "      <td>Runs</td>\n",
       "      <td>13.0</td>\n",
       "      <td>NaN</td>\n",
       "      <td>HV Patel</td>\n",
       "      <td>['V Kohli', 'F du Plessis', 'GJ Maxwell', 'MK ...</td>\n",
       "      <td>['RD Gaikwad', 'DP Conway', 'RV Uthappa', 'AT ...</td>\n",
       "      <td>KN Ananthapadmanabhan</td>\n",
       "      <td>MA Gough</td>\n",
       "      <td>1</td>\n",
       "      <td>0</td>\n",
       "    </tr>\n",
       "    <tr>\n",
       "      <th>6050</th>\n",
       "      <td>1304095</td>\n",
       "      <td>1</td>\n",
       "      <td>6</td>\n",
       "      <td>2</td>\n",
       "      <td>V Kohli</td>\n",
       "      <td>RA Jadeja</td>\n",
       "      <td>F du Plessis</td>\n",
       "      <td>NaN</td>\n",
       "      <td>1</td>\n",
       "      <td>0</td>\n",
       "      <td>...</td>\n",
       "      <td>Runs</td>\n",
       "      <td>13.0</td>\n",
       "      <td>NaN</td>\n",
       "      <td>HV Patel</td>\n",
       "      <td>['V Kohli', 'F du Plessis', 'GJ Maxwell', 'MK ...</td>\n",
       "      <td>['RD Gaikwad', 'DP Conway', 'RV Uthappa', 'AT ...</td>\n",
       "      <td>KN Ananthapadmanabhan</td>\n",
       "      <td>MA Gough</td>\n",
       "      <td>1</td>\n",
       "      <td>0</td>\n",
       "    </tr>\n",
       "  </tbody>\n",
       "</table>\n",
       "<p>2 rows × 38 columns</p>\n",
       "</div>"
      ],
      "text/plain": [
       "           ID  innings  overs  ballnumber        batter     bowler  \\\n",
       "6049  1304095        1      6           1  F du Plessis  RA Jadeja   \n",
       "6050  1304095        1      6           2       V Kohli  RA Jadeja   \n",
       "\n",
       "       non-striker extra_type  batsman_run  extras_run  ...  WonBy  Margin  \\\n",
       "6049       V Kohli        NaN            1           0  ...   Runs    13.0   \n",
       "6050  F du Plessis        NaN            1           0  ...   Runs    13.0   \n",
       "\n",
       "      method Player_of_Match  \\\n",
       "6049     NaN        HV Patel   \n",
       "6050     NaN        HV Patel   \n",
       "\n",
       "                                           Team1Players  \\\n",
       "6049  ['V Kohli', 'F du Plessis', 'GJ Maxwell', 'MK ...   \n",
       "6050  ['V Kohli', 'F du Plessis', 'GJ Maxwell', 'MK ...   \n",
       "\n",
       "                                           Team2Players  \\\n",
       "6049  ['RD Gaikwad', 'DP Conway', 'RV Uthappa', 'AT ...   \n",
       "6050  ['RD Gaikwad', 'DP Conway', 'RV Uthappa', 'AT ...   \n",
       "\n",
       "                    Umpire1   Umpire2 bowler_run  isBowlerWicket  \n",
       "6049  KN Ananthapadmanabhan  MA Gough          1               0  \n",
       "6050  KN Ananthapadmanabhan  MA Gough          1               0  \n",
       "\n",
       "[2 rows x 38 columns]"
      ]
     },
     "execution_count": 64,
     "metadata": {},
     "output_type": "execute_result"
    }
   ],
   "source": [
    "df.head(2)"
   ]
  },
  {
   "cell_type": "markdown",
   "id": "69bdf386",
   "metadata": {},
   "source": [
    "### bowlers per season"
   ]
  },
  {
   "cell_type": "code",
   "execution_count": 66,
   "id": "34fb6482",
   "metadata": {},
   "outputs": [],
   "source": [
    "d = ball_with_match[ball_with_match['Season'] == int(season)]"
   ]
  },
  {
   "cell_type": "code",
   "execution_count": 67,
   "id": "42505cd5",
   "metadata": {},
   "outputs": [
    {
     "data": {
      "text/plain": [
       "['A Badoni',\n",
       " 'A Nortje',\n",
       " 'AD Russell',\n",
       " 'AF Milne',\n",
       " 'AJ Tye',\n",
       " 'AK Markram',\n",
       " 'AR Patel',\n",
       " 'AS Joseph',\n",
       " 'AS Roy',\n",
       " 'Abdul Samad',\n",
       " 'Abhishek Sharma',\n",
       " 'Akash Deep',\n",
       " 'Aman Hakim Khan',\n",
       " 'Arshdeep Singh',\n",
       " 'Avesh Khan',\n",
       " 'B Kumar',\n",
       " 'Basil Thampi',\n",
       " 'C Sakariya',\n",
       " 'CJ Jordan',\n",
       " 'CV Varun',\n",
       " 'D Brevis',\n",
       " 'D Pretorius',\n",
       " 'DG Nalkande',\n",
       " 'DJ Bravo',\n",
       " 'DJ Hooda',\n",
       " 'DJ Mitchell',\n",
       " 'DJ Willey',\n",
       " 'DR Sams',\n",
       " 'FA Allen',\n",
       " 'Fazalhaq Farooqi',\n",
       " 'GJ Maxwell',\n",
       " 'HH Pandya',\n",
       " 'HR Shokeen',\n",
       " 'HV Patel',\n",
       " 'Harpreet Brar',\n",
       " 'Harshit Rana',\n",
       " 'J Suchith',\n",
       " 'JD Unadkat',\n",
       " 'JDS Neesham',\n",
       " 'JJ Bumrah',\n",
       " 'JO Holder',\n",
       " 'JR Hazlewood',\n",
       " 'K Gowtham',\n",
       " 'K Kartikeya',\n",
       " 'K Rabada',\n",
       " 'KA Pollard',\n",
       " 'KH Pandya',\n",
       " 'KK Ahmed',\n",
       " 'KL Nagarkoti',\n",
       " 'KR Sen',\n",
       " 'Kartik Tyagi',\n",
       " 'Kuldeep Yadav',\n",
       " 'LH Ferguson',\n",
       " 'LS Livingstone',\n",
       " 'Lalit Yadav',\n",
       " 'M Ashwin',\n",
       " 'M Jansen',\n",
       " 'M Markande',\n",
       " 'M Pathirana',\n",
       " 'M Prasidh Krishna',\n",
       " 'M Theekshana',\n",
       " 'MJ Santner',\n",
       " 'MK Lomror',\n",
       " 'MM Ali',\n",
       " 'MP Stoinis',\n",
       " 'MR Marsh',\n",
       " 'Mohammed Shami',\n",
       " 'Mohammed Siraj',\n",
       " 'Mohsin Khan',\n",
       " 'Mukesh Choudhary',\n",
       " 'Mustafizur Rahman',\n",
       " 'N Rana',\n",
       " 'NM Coulter-Nile',\n",
       " 'NT Ellis',\n",
       " 'Navdeep Saini',\n",
       " 'OC McCoy',\n",
       " 'OF Smith',\n",
       " 'PH Solanki',\n",
       " 'PJ Cummins',\n",
       " 'PJ Sangwan',\n",
       " 'PVD Chameera',\n",
       " 'PWH de Silva',\n",
       " 'R Ashwin',\n",
       " 'R Dhawan',\n",
       " 'R Parag',\n",
       " 'R Powell',\n",
       " 'R Sai Kishore',\n",
       " 'R Sanjay Yadav',\n",
       " 'R Shepherd',\n",
       " 'R Tewatia',\n",
       " 'RA Jadeja',\n",
       " 'RD Chahar',\n",
       " 'RP Meredith',\n",
       " 'Ramandeep Singh',\n",
       " 'Rashid Khan',\n",
       " 'Rasikh Salam',\n",
       " 'Ravi Bishnoi',\n",
       " 'S Dube',\n",
       " 'S Gopal',\n",
       " 'S Kaul',\n",
       " 'SA Abbott',\n",
       " 'SN Thakur',\n",
       " 'SP Narine',\n",
       " 'SS Iyer',\n",
       " 'Sandeep Sharma',\n",
       " 'Shahbaz Ahmed',\n",
       " 'Shashank Singh',\n",
       " 'Shivam Mavi',\n",
       " 'Simarjeet Singh',\n",
       " 'T Natarajan',\n",
       " 'TA Boult',\n",
       " 'TG Southee',\n",
       " 'TS Mills',\n",
       " 'TU Deshpande',\n",
       " 'Tilak Varma',\n",
       " 'UT Yadav',\n",
       " 'Umran Malik',\n",
       " 'V Shankar',\n",
       " 'VG Arora',\n",
       " 'VR Aaron',\n",
       " 'VR Iyer',\n",
       " 'Washington Sundar',\n",
       " 'YBK Jaiswal',\n",
       " 'YS Chahal',\n",
       " 'Yash Dayal']"
      ]
     },
     "execution_count": 67,
     "metadata": {},
     "output_type": "execute_result"
    }
   ],
   "source": [
    "sorted(d['bowler'].unique())"
   ]
  },
  {
   "cell_type": "markdown",
   "id": "8b1fe8f8",
   "metadata": {},
   "source": [
    "### total matches played"
   ]
  },
  {
   "cell_type": "code",
   "execution_count": 481,
   "id": "5ef9225c",
   "metadata": {},
   "outputs": [
    {
     "data": {
      "text/plain": [
       "10"
      ]
     },
     "execution_count": 481,
     "metadata": {},
     "output_type": "execute_result"
    }
   ],
   "source": [
    "df['ID'].unique().size"
   ]
  },
  {
   "cell_type": "markdown",
   "id": "df30f62b",
   "metadata": {},
   "source": [
    "### total wickets"
   ]
  },
  {
   "cell_type": "code",
   "execution_count": 486,
   "id": "60d0184b",
   "metadata": {},
   "outputs": [],
   "source": [
    "total_wickets = df['isBowlerWicket'].sum()"
   ]
  },
  {
   "cell_type": "markdown",
   "id": "07abfc16",
   "metadata": {},
   "source": [
    "### economy"
   ]
  },
  {
   "cell_type": "code",
   "execution_count": 487,
   "id": "db1ee8d5",
   "metadata": {},
   "outputs": [],
   "source": [
    "total_balls = df[~(df.extra_type.isin(['wides', 'noballs']))].shape[0]\n",
    "total_runs = df['bowler_run'].sum()"
   ]
  },
  {
   "cell_type": "code",
   "execution_count": 488,
   "id": "21857399",
   "metadata": {},
   "outputs": [
    {
     "data": {
      "text/plain": [
       "7.52"
      ]
     },
     "execution_count": 488,
     "metadata": {},
     "output_type": "execute_result"
    }
   ],
   "source": [
    "round((total_runs / total_balls) * 6, 2)"
   ]
  },
  {
   "cell_type": "markdown",
   "id": "b2684893",
   "metadata": {},
   "source": [
    "### average"
   ]
  },
  {
   "cell_type": "code",
   "execution_count": 489,
   "id": "f57c1fba",
   "metadata": {},
   "outputs": [
    {
     "data": {
      "text/plain": [
       "49.6"
      ]
     },
     "execution_count": 489,
     "metadata": {},
     "output_type": "execute_result"
    }
   ],
   "source": [
    "round(total_runs / total_wickets, 2)"
   ]
  },
  {
   "cell_type": "markdown",
   "id": "730e89f5",
   "metadata": {},
   "source": [
    "### strike rate"
   ]
  },
  {
   "cell_type": "code",
   "execution_count": 491,
   "id": "a9a36468",
   "metadata": {},
   "outputs": [
    {
     "data": {
      "text/plain": [
       "39.6"
      ]
     },
     "execution_count": 491,
     "metadata": {},
     "output_type": "execute_result"
    }
   ],
   "source": [
    "round(total_balls / total_wickets, 2)"
   ]
  },
  {
   "cell_type": "markdown",
   "id": "698dbb72",
   "metadata": {},
   "source": [
    "### total fours"
   ]
  },
  {
   "cell_type": "code",
   "execution_count": 492,
   "id": "18a23ac6",
   "metadata": {},
   "outputs": [
    {
     "data": {
      "text/plain": [
       "14"
      ]
     },
     "execution_count": 492,
     "metadata": {},
     "output_type": "execute_result"
    }
   ],
   "source": [
    "df[(df.batsman_run == 4) & (df.non_boundary == 0)].shape[0]"
   ]
  },
  {
   "cell_type": "markdown",
   "id": "f5b4e822",
   "metadata": {},
   "source": [
    "### total sixes"
   ]
  },
  {
   "cell_type": "code",
   "execution_count": 493,
   "id": "1f5ae016",
   "metadata": {},
   "outputs": [
    {
     "data": {
      "text/plain": [
       "11"
      ]
     },
     "execution_count": 493,
     "metadata": {},
     "output_type": "execute_result"
    }
   ],
   "source": [
    "df[(df.batsman_run == 6) & (df.non_boundary == 0)].shape[0]"
   ]
  },
  {
   "cell_type": "markdown",
   "id": "dbbca7cc",
   "metadata": {},
   "source": [
    "### best figure"
   ]
  },
  {
   "cell_type": "code",
   "execution_count": 495,
   "id": "ce2fb4b7",
   "metadata": {},
   "outputs": [
    {
     "name": "stderr",
     "output_type": "stream",
     "text": [
      "C:\\Users\\gevar\\AppData\\Local\\Temp\\ipykernel_2552\\2606508248.py:1: FutureWarning: The default value of numeric_only in DataFrameGroupBy.sum is deprecated. In a future version, numeric_only will default to False. Either specify numeric_only or select only columns which should be valid for the function.\n",
      "  temp_df = df.groupby('ID').sum()\n"
     ]
    }
   ],
   "source": [
    "temp_df = df.groupby('ID').sum()\n",
    "best_wicket = temp_df.sort_values(['isBowlerWicket', 'bowler_run'], ascending=[False, True])[['isBowlerWicket', 'bowler_run']].head(1).values"
   ]
  },
  {
   "cell_type": "code",
   "execution_count": 496,
   "id": "248922fb",
   "metadata": {},
   "outputs": [
    {
     "data": {
      "text/plain": [
       "'3/39'"
      ]
     },
     "execution_count": 496,
     "metadata": {},
     "output_type": "execute_result"
    }
   ],
   "source": [
    "f'{best_wicket[0][0]}/{best_wicket[0][1]}'"
   ]
  },
  {
   "cell_type": "markdown",
   "id": "7d70701f",
   "metadata": {},
   "source": [
    "### total 3+w"
   ]
  },
  {
   "cell_type": "code",
   "execution_count": 497,
   "id": "bbd7bd81",
   "metadata": {},
   "outputs": [
    {
     "data": {
      "text/plain": [
       "1"
      ]
     },
     "execution_count": 497,
     "metadata": {},
     "output_type": "execute_result"
    }
   ],
   "source": [
    "temp_df[(temp_df.isBowlerWicket >= 3)].shape[0]"
   ]
  },
  {
   "cell_type": "markdown",
   "id": "84d8c970",
   "metadata": {},
   "source": [
    "### total_mom"
   ]
  },
  {
   "cell_type": "code",
   "execution_count": 498,
   "id": "95d3c14d",
   "metadata": {},
   "outputs": [
    {
     "data": {
      "text/plain": [
       "0"
      ]
     },
     "execution_count": 498,
     "metadata": {},
     "output_type": "execute_result"
    }
   ],
   "source": [
    "df[df.Player_of_Match == bowler].drop_duplicates('ID', keep='first').shape[0]"
   ]
  },
  {
   "cell_type": "markdown",
   "id": "176d8099",
   "metadata": {},
   "source": [
    "### wickets against all teams "
   ]
  },
  {
   "cell_type": "code",
   "execution_count": 540,
   "id": "5ab046eb",
   "metadata": {},
   "outputs": [],
   "source": [
    "bowling_team = df[df['Team1'] != df['BattingTeam']]['Team1'].unique()[0]"
   ]
  },
  {
   "cell_type": "code",
   "execution_count": 557,
   "id": "0b222654",
   "metadata": {},
   "outputs": [
    {
     "data": {
      "text/plain": [
       "['Chennai Super Kings']"
      ]
     },
     "execution_count": 557,
     "metadata": {},
     "output_type": "execute_result"
    }
   ],
   "source": [
    "sorted(set(df[df['Team1'] != df['BattingTeam']]['Team1'].unique().tolist() + df[df['Team2'] != df['BattingTeam']]['Team2'].unique().tolist()))"
   ]
  },
  {
   "cell_type": "code",
   "execution_count": 541,
   "id": "3bf8eb5e",
   "metadata": {},
   "outputs": [],
   "source": [
    "teams = sorted(set(df[df['Team1'] != bowling_team]['Team1'].tolist() + df[df['Team2'] != bowling_team]['Team2'].tolist()))"
   ]
  },
  {
   "cell_type": "code",
   "execution_count": 542,
   "id": "760ba5ce",
   "metadata": {},
   "outputs": [],
   "source": [
    "wickets = []\n",
    "for i in teams:\n",
    "    temp_df = df[(df['Team1'] == i) | (df['Team2'] == i)]\n",
    "    sum = temp_df['isBowlerWicket'].sum()\n",
    "    wickets.append(sum)"
   ]
  },
  {
   "cell_type": "code",
   "execution_count": 543,
   "id": "1d206ef1",
   "metadata": {},
   "outputs": [
    {
     "data": {
      "text/plain": [
       "[1, 0, 0, 0, 1, 3, 0]"
      ]
     },
     "execution_count": 543,
     "metadata": {},
     "output_type": "execute_result"
    }
   ],
   "source": [
    "wickets"
   ]
  },
  {
   "cell_type": "markdown",
   "id": "7accea18",
   "metadata": {},
   "source": [
    "### match wise wickets"
   ]
  },
  {
   "cell_type": "code",
   "execution_count": 544,
   "id": "650be3c1",
   "metadata": {},
   "outputs": [],
   "source": [
    "matches = list(range(1, len(df.groupby('ID')['batsman_run'].sum()) + 1))"
   ]
  },
  {
   "cell_type": "code",
   "execution_count": 547,
   "id": "e52f6ece",
   "metadata": {},
   "outputs": [
    {
     "data": {
      "text/plain": [
       "[1, 2, 3, 4, 5, 6, 7, 8, 9, 10]"
      ]
     },
     "execution_count": 547,
     "metadata": {},
     "output_type": "execute_result"
    }
   ],
   "source": [
    "matches"
   ]
  },
  {
   "cell_type": "code",
   "execution_count": 551,
   "id": "8c51bd04",
   "metadata": {},
   "outputs": [],
   "source": [
    "match_wise_wickets = df.groupby('ID')['isBowlerWicket'].sum().values.tolist()"
   ]
  },
  {
   "cell_type": "code",
   "execution_count": 552,
   "id": "7833e0b9",
   "metadata": {},
   "outputs": [
    {
     "data": {
      "text/plain": [
       "[0, 0, 1, 0, 3, 1, 0, 0, 0, 0]"
      ]
     },
     "execution_count": 552,
     "metadata": {},
     "output_type": "execute_result"
    }
   ],
   "source": [
    "match_wise_wickets"
   ]
  },
  {
   "cell_type": "code",
   "execution_count": null,
   "id": "e2b510e8",
   "metadata": {},
   "outputs": [],
   "source": []
  }
 ],
 "metadata": {
  "kernelspec": {
   "display_name": "Python 3 (ipykernel)",
   "language": "python",
   "name": "python3"
  },
  "language_info": {
   "codemirror_mode": {
    "name": "ipython",
    "version": 3
   },
   "file_extension": ".py",
   "mimetype": "text/x-python",
   "name": "python",
   "nbconvert_exporter": "python",
   "pygments_lexer": "ipython3",
   "version": "3.11.3"
  }
 },
 "nbformat": 4,
 "nbformat_minor": 5
}
