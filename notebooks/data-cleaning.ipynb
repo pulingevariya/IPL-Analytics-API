{
 "cells": [
  {
   "cell_type": "code",
   "execution_count": 2,
   "id": "827f8e40",
   "metadata": {},
   "outputs": [],
   "source": [
    "import numpy as np\n",
    "import pandas as pd"
   ]
  },
  {
   "cell_type": "code",
   "execution_count": 3,
   "id": "41fbeb82",
   "metadata": {},
   "outputs": [],
   "source": [
    "matches = pd.read_csv('../datasets/ipl-matches.csv')"
   ]
  },
  {
   "cell_type": "code",
   "execution_count": 3,
   "id": "77e0bc94",
   "metadata": {},
   "outputs": [],
   "source": [
    "balls = pd.read_csv('../datasets/IPL_Ball_by_Ball_2008_2022.csv')"
   ]
  },
  {
   "cell_type": "code",
   "execution_count": 4,
   "id": "47ac58b8",
   "metadata": {},
   "outputs": [],
   "source": [
    "ball_with_match = balls.merge(matches, on='ID', how='inner').copy()"
   ]
  },
  {
   "cell_type": "code",
   "execution_count": 5,
   "id": "e2ccec17",
   "metadata": {},
   "outputs": [
    {
     "data": {
      "text/html": [
       "<div>\n",
       "<style scoped>\n",
       "    .dataframe tbody tr th:only-of-type {\n",
       "        vertical-align: middle;\n",
       "    }\n",
       "\n",
       "    .dataframe tbody tr th {\n",
       "        vertical-align: top;\n",
       "    }\n",
       "\n",
       "    .dataframe thead th {\n",
       "        text-align: right;\n",
       "    }\n",
       "</style>\n",
       "<table border=\"1\" class=\"dataframe\">\n",
       "  <thead>\n",
       "    <tr style=\"text-align: right;\">\n",
       "      <th></th>\n",
       "      <th>ID</th>\n",
       "      <th>innings</th>\n",
       "      <th>overs</th>\n",
       "      <th>ballnumber</th>\n",
       "      <th>batter</th>\n",
       "      <th>bowler</th>\n",
       "      <th>non-striker</th>\n",
       "      <th>extra_type</th>\n",
       "      <th>batsman_run</th>\n",
       "      <th>extras_run</th>\n",
       "      <th>...</th>\n",
       "      <th>SuperOver</th>\n",
       "      <th>WinningTeam</th>\n",
       "      <th>WonBy</th>\n",
       "      <th>Margin</th>\n",
       "      <th>method</th>\n",
       "      <th>Player_of_Match</th>\n",
       "      <th>Team1Players</th>\n",
       "      <th>Team2Players</th>\n",
       "      <th>Umpire1</th>\n",
       "      <th>Umpire2</th>\n",
       "    </tr>\n",
       "  </thead>\n",
       "  <tbody>\n",
       "    <tr>\n",
       "      <th>0</th>\n",
       "      <td>1312200</td>\n",
       "      <td>1</td>\n",
       "      <td>0</td>\n",
       "      <td>1</td>\n",
       "      <td>YBK Jaiswal</td>\n",
       "      <td>Mohammed Shami</td>\n",
       "      <td>JC Buttler</td>\n",
       "      <td>NaN</td>\n",
       "      <td>0</td>\n",
       "      <td>0</td>\n",
       "      <td>...</td>\n",
       "      <td>N</td>\n",
       "      <td>Gujarat Titans</td>\n",
       "      <td>Wickets</td>\n",
       "      <td>7.0</td>\n",
       "      <td>NaN</td>\n",
       "      <td>HH Pandya</td>\n",
       "      <td>['YBK Jaiswal', 'JC Buttler', 'SV Samson', 'D ...</td>\n",
       "      <td>['WP Saha', 'Shubman Gill', 'MS Wade', 'HH Pan...</td>\n",
       "      <td>CB Gaffaney</td>\n",
       "      <td>Nitin Menon</td>\n",
       "    </tr>\n",
       "    <tr>\n",
       "      <th>1</th>\n",
       "      <td>1312200</td>\n",
       "      <td>1</td>\n",
       "      <td>0</td>\n",
       "      <td>2</td>\n",
       "      <td>YBK Jaiswal</td>\n",
       "      <td>Mohammed Shami</td>\n",
       "      <td>JC Buttler</td>\n",
       "      <td>legbyes</td>\n",
       "      <td>0</td>\n",
       "      <td>1</td>\n",
       "      <td>...</td>\n",
       "      <td>N</td>\n",
       "      <td>Gujarat Titans</td>\n",
       "      <td>Wickets</td>\n",
       "      <td>7.0</td>\n",
       "      <td>NaN</td>\n",
       "      <td>HH Pandya</td>\n",
       "      <td>['YBK Jaiswal', 'JC Buttler', 'SV Samson', 'D ...</td>\n",
       "      <td>['WP Saha', 'Shubman Gill', 'MS Wade', 'HH Pan...</td>\n",
       "      <td>CB Gaffaney</td>\n",
       "      <td>Nitin Menon</td>\n",
       "    </tr>\n",
       "    <tr>\n",
       "      <th>2</th>\n",
       "      <td>1312200</td>\n",
       "      <td>1</td>\n",
       "      <td>0</td>\n",
       "      <td>3</td>\n",
       "      <td>JC Buttler</td>\n",
       "      <td>Mohammed Shami</td>\n",
       "      <td>YBK Jaiswal</td>\n",
       "      <td>NaN</td>\n",
       "      <td>1</td>\n",
       "      <td>0</td>\n",
       "      <td>...</td>\n",
       "      <td>N</td>\n",
       "      <td>Gujarat Titans</td>\n",
       "      <td>Wickets</td>\n",
       "      <td>7.0</td>\n",
       "      <td>NaN</td>\n",
       "      <td>HH Pandya</td>\n",
       "      <td>['YBK Jaiswal', 'JC Buttler', 'SV Samson', 'D ...</td>\n",
       "      <td>['WP Saha', 'Shubman Gill', 'MS Wade', 'HH Pan...</td>\n",
       "      <td>CB Gaffaney</td>\n",
       "      <td>Nitin Menon</td>\n",
       "    </tr>\n",
       "    <tr>\n",
       "      <th>3</th>\n",
       "      <td>1312200</td>\n",
       "      <td>1</td>\n",
       "      <td>0</td>\n",
       "      <td>4</td>\n",
       "      <td>YBK Jaiswal</td>\n",
       "      <td>Mohammed Shami</td>\n",
       "      <td>JC Buttler</td>\n",
       "      <td>NaN</td>\n",
       "      <td>0</td>\n",
       "      <td>0</td>\n",
       "      <td>...</td>\n",
       "      <td>N</td>\n",
       "      <td>Gujarat Titans</td>\n",
       "      <td>Wickets</td>\n",
       "      <td>7.0</td>\n",
       "      <td>NaN</td>\n",
       "      <td>HH Pandya</td>\n",
       "      <td>['YBK Jaiswal', 'JC Buttler', 'SV Samson', 'D ...</td>\n",
       "      <td>['WP Saha', 'Shubman Gill', 'MS Wade', 'HH Pan...</td>\n",
       "      <td>CB Gaffaney</td>\n",
       "      <td>Nitin Menon</td>\n",
       "    </tr>\n",
       "    <tr>\n",
       "      <th>4</th>\n",
       "      <td>1312200</td>\n",
       "      <td>1</td>\n",
       "      <td>0</td>\n",
       "      <td>5</td>\n",
       "      <td>YBK Jaiswal</td>\n",
       "      <td>Mohammed Shami</td>\n",
       "      <td>JC Buttler</td>\n",
       "      <td>NaN</td>\n",
       "      <td>0</td>\n",
       "      <td>0</td>\n",
       "      <td>...</td>\n",
       "      <td>N</td>\n",
       "      <td>Gujarat Titans</td>\n",
       "      <td>Wickets</td>\n",
       "      <td>7.0</td>\n",
       "      <td>NaN</td>\n",
       "      <td>HH Pandya</td>\n",
       "      <td>['YBK Jaiswal', 'JC Buttler', 'SV Samson', 'D ...</td>\n",
       "      <td>['WP Saha', 'Shubman Gill', 'MS Wade', 'HH Pan...</td>\n",
       "      <td>CB Gaffaney</td>\n",
       "      <td>Nitin Menon</td>\n",
       "    </tr>\n",
       "  </tbody>\n",
       "</table>\n",
       "<p>5 rows × 36 columns</p>\n",
       "</div>"
      ],
      "text/plain": [
       "        ID  innings  overs  ballnumber       batter          bowler  \\\n",
       "0  1312200        1      0           1  YBK Jaiswal  Mohammed Shami   \n",
       "1  1312200        1      0           2  YBK Jaiswal  Mohammed Shami   \n",
       "2  1312200        1      0           3   JC Buttler  Mohammed Shami   \n",
       "3  1312200        1      0           4  YBK Jaiswal  Mohammed Shami   \n",
       "4  1312200        1      0           5  YBK Jaiswal  Mohammed Shami   \n",
       "\n",
       "   non-striker extra_type  batsman_run  extras_run  ...  SuperOver  \\\n",
       "0   JC Buttler        NaN            0           0  ...          N   \n",
       "1   JC Buttler    legbyes            0           1  ...          N   \n",
       "2  YBK Jaiswal        NaN            1           0  ...          N   \n",
       "3   JC Buttler        NaN            0           0  ...          N   \n",
       "4   JC Buttler        NaN            0           0  ...          N   \n",
       "\n",
       "      WinningTeam    WonBy Margin method Player_of_Match  \\\n",
       "0  Gujarat Titans  Wickets    7.0    NaN       HH Pandya   \n",
       "1  Gujarat Titans  Wickets    7.0    NaN       HH Pandya   \n",
       "2  Gujarat Titans  Wickets    7.0    NaN       HH Pandya   \n",
       "3  Gujarat Titans  Wickets    7.0    NaN       HH Pandya   \n",
       "4  Gujarat Titans  Wickets    7.0    NaN       HH Pandya   \n",
       "\n",
       "                                        Team1Players  \\\n",
       "0  ['YBK Jaiswal', 'JC Buttler', 'SV Samson', 'D ...   \n",
       "1  ['YBK Jaiswal', 'JC Buttler', 'SV Samson', 'D ...   \n",
       "2  ['YBK Jaiswal', 'JC Buttler', 'SV Samson', 'D ...   \n",
       "3  ['YBK Jaiswal', 'JC Buttler', 'SV Samson', 'D ...   \n",
       "4  ['YBK Jaiswal', 'JC Buttler', 'SV Samson', 'D ...   \n",
       "\n",
       "                                        Team2Players      Umpire1      Umpire2  \n",
       "0  ['WP Saha', 'Shubman Gill', 'MS Wade', 'HH Pan...  CB Gaffaney  Nitin Menon  \n",
       "1  ['WP Saha', 'Shubman Gill', 'MS Wade', 'HH Pan...  CB Gaffaney  Nitin Menon  \n",
       "2  ['WP Saha', 'Shubman Gill', 'MS Wade', 'HH Pan...  CB Gaffaney  Nitin Menon  \n",
       "3  ['WP Saha', 'Shubman Gill', 'MS Wade', 'HH Pan...  CB Gaffaney  Nitin Menon  \n",
       "4  ['WP Saha', 'Shubman Gill', 'MS Wade', 'HH Pan...  CB Gaffaney  Nitin Menon  \n",
       "\n",
       "[5 rows x 36 columns]"
      ]
     },
     "execution_count": 5,
     "metadata": {},
     "output_type": "execute_result"
    }
   ],
   "source": [
    "ball_with_match.head()"
   ]
  },
  {
   "cell_type": "code",
   "execution_count": 6,
   "id": "8485269c",
   "metadata": {},
   "outputs": [
    {
     "data": {
      "text/plain": [
       "Index(['ID', 'innings', 'overs', 'ballnumber', 'batter', 'bowler',\n",
       "       'non-striker', 'extra_type', 'batsman_run', 'extras_run', 'total_run',\n",
       "       'non_boundary', 'isWicketDelivery', 'player_out', 'kind',\n",
       "       'fielders_involved', 'BattingTeam', 'City', 'Date', 'Season',\n",
       "       'MatchNumber', 'Team1', 'Team2', 'Venue', 'TossWinner', 'TossDecision',\n",
       "       'SuperOver', 'WinningTeam', 'WonBy', 'Margin', 'method',\n",
       "       'Player_of_Match', 'Team1Players', 'Team2Players', 'Umpire1',\n",
       "       'Umpire2'],\n",
       "      dtype='object')"
      ]
     },
     "execution_count": 6,
     "metadata": {},
     "output_type": "execute_result"
    }
   ],
   "source": [
    "ball_with_match.columns"
   ]
  },
  {
   "cell_type": "code",
   "execution_count": 7,
   "id": "22d04b85",
   "metadata": {},
   "outputs": [
    {
     "data": {
      "text/plain": [
       "ID                        0\n",
       "innings                   0\n",
       "overs                     0\n",
       "ballnumber                0\n",
       "batter                    0\n",
       "bowler                    0\n",
       "non-striker               0\n",
       "extra_type           213905\n",
       "batsman_run               0\n",
       "extras_run                0\n",
       "total_run                 0\n",
       "non_boundary              0\n",
       "isWicketDelivery          0\n",
       "player_out           214803\n",
       "kind                 214803\n",
       "fielders_involved    217966\n",
       "BattingTeam               0\n",
       "City                  12397\n",
       "Date                      0\n",
       "Season                    0\n",
       "MatchNumber               0\n",
       "Team1                     0\n",
       "Team2                     0\n",
       "Venue                     0\n",
       "TossWinner                0\n",
       "TossDecision              0\n",
       "SuperOver               372\n",
       "WinningTeam             372\n",
       "WonBy                     0\n",
       "Margin                 4006\n",
       "method               222746\n",
       "Player_of_Match         372\n",
       "Team1Players              0\n",
       "Team2Players              0\n",
       "Umpire1                   0\n",
       "Umpire2                   0\n",
       "dtype: int64"
      ]
     },
     "execution_count": 7,
     "metadata": {},
     "output_type": "execute_result"
    }
   ],
   "source": [
    "ball_with_match.isnull().sum()"
   ]
  },
  {
   "cell_type": "code",
   "execution_count": 8,
   "id": "343c2b98",
   "metadata": {},
   "outputs": [
    {
     "data": {
      "text/plain": [
       "ID                     int64\n",
       "innings                int64\n",
       "overs                  int64\n",
       "ballnumber             int64\n",
       "batter                object\n",
       "bowler                object\n",
       "non-striker           object\n",
       "extra_type            object\n",
       "batsman_run            int64\n",
       "extras_run             int64\n",
       "total_run              int64\n",
       "non_boundary           int64\n",
       "isWicketDelivery       int64\n",
       "player_out            object\n",
       "kind                  object\n",
       "fielders_involved     object\n",
       "BattingTeam           object\n",
       "City                  object\n",
       "Date                  object\n",
       "Season                object\n",
       "MatchNumber           object\n",
       "Team1                 object\n",
       "Team2                 object\n",
       "Venue                 object\n",
       "TossWinner            object\n",
       "TossDecision          object\n",
       "SuperOver             object\n",
       "WinningTeam           object\n",
       "WonBy                 object\n",
       "Margin               float64\n",
       "method                object\n",
       "Player_of_Match       object\n",
       "Team1Players          object\n",
       "Team2Players          object\n",
       "Umpire1               object\n",
       "Umpire2               object\n",
       "dtype: object"
      ]
     },
     "execution_count": 8,
     "metadata": {},
     "output_type": "execute_result"
    }
   ],
   "source": [
    "ball_with_match.dtypes"
   ]
  },
  {
   "cell_type": "code",
   "execution_count": 9,
   "id": "0f29394e",
   "metadata": {},
   "outputs": [
    {
     "data": {
      "text/html": [
       "<div>\n",
       "<style scoped>\n",
       "    .dataframe tbody tr th:only-of-type {\n",
       "        vertical-align: middle;\n",
       "    }\n",
       "\n",
       "    .dataframe tbody tr th {\n",
       "        vertical-align: top;\n",
       "    }\n",
       "\n",
       "    .dataframe thead th {\n",
       "        text-align: right;\n",
       "    }\n",
       "</style>\n",
       "<table border=\"1\" class=\"dataframe\">\n",
       "  <thead>\n",
       "    <tr style=\"text-align: right;\">\n",
       "      <th></th>\n",
       "      <th>ID</th>\n",
       "      <th>innings</th>\n",
       "      <th>overs</th>\n",
       "      <th>ballnumber</th>\n",
       "      <th>batsman_run</th>\n",
       "      <th>extras_run</th>\n",
       "      <th>total_run</th>\n",
       "      <th>non_boundary</th>\n",
       "      <th>isWicketDelivery</th>\n",
       "      <th>Margin</th>\n",
       "    </tr>\n",
       "  </thead>\n",
       "  <tbody>\n",
       "    <tr>\n",
       "      <th>count</th>\n",
       "      <td>2.259540e+05</td>\n",
       "      <td>225954.000000</td>\n",
       "      <td>225954.000000</td>\n",
       "      <td>225954.000000</td>\n",
       "      <td>225954.000000</td>\n",
       "      <td>225954.000000</td>\n",
       "      <td>225954.00000</td>\n",
       "      <td>225954.000000</td>\n",
       "      <td>225954.000000</td>\n",
       "      <td>221948.000000</td>\n",
       "    </tr>\n",
       "    <tr>\n",
       "      <th>mean</th>\n",
       "      <td>8.320470e+05</td>\n",
       "      <td>1.483868</td>\n",
       "      <td>9.185679</td>\n",
       "      <td>3.619750</td>\n",
       "      <td>1.243523</td>\n",
       "      <td>0.066907</td>\n",
       "      <td>1.31043</td>\n",
       "      <td>0.000093</td>\n",
       "      <td>0.049351</td>\n",
       "      <td>17.076937</td>\n",
       "    </tr>\n",
       "    <tr>\n",
       "      <th>std</th>\n",
       "      <td>3.379542e+05</td>\n",
       "      <td>0.503104</td>\n",
       "      <td>5.681797</td>\n",
       "      <td>1.810633</td>\n",
       "      <td>1.618166</td>\n",
       "      <td>0.341470</td>\n",
       "      <td>1.60605</td>\n",
       "      <td>0.009640</td>\n",
       "      <td>0.216600</td>\n",
       "      <td>21.457319</td>\n",
       "    </tr>\n",
       "    <tr>\n",
       "      <th>min</th>\n",
       "      <td>3.359820e+05</td>\n",
       "      <td>1.000000</td>\n",
       "      <td>0.000000</td>\n",
       "      <td>1.000000</td>\n",
       "      <td>0.000000</td>\n",
       "      <td>0.000000</td>\n",
       "      <td>0.00000</td>\n",
       "      <td>0.000000</td>\n",
       "      <td>0.000000</td>\n",
       "      <td>1.000000</td>\n",
       "    </tr>\n",
       "    <tr>\n",
       "      <th>25%</th>\n",
       "      <td>5.012620e+05</td>\n",
       "      <td>1.000000</td>\n",
       "      <td>4.000000</td>\n",
       "      <td>2.000000</td>\n",
       "      <td>0.000000</td>\n",
       "      <td>0.000000</td>\n",
       "      <td>0.00000</td>\n",
       "      <td>0.000000</td>\n",
       "      <td>0.000000</td>\n",
       "      <td>6.000000</td>\n",
       "    </tr>\n",
       "    <tr>\n",
       "      <th>50%</th>\n",
       "      <td>8.297370e+05</td>\n",
       "      <td>1.000000</td>\n",
       "      <td>9.000000</td>\n",
       "      <td>4.000000</td>\n",
       "      <td>1.000000</td>\n",
       "      <td>0.000000</td>\n",
       "      <td>1.00000</td>\n",
       "      <td>0.000000</td>\n",
       "      <td>0.000000</td>\n",
       "      <td>8.000000</td>\n",
       "    </tr>\n",
       "    <tr>\n",
       "      <th>75%</th>\n",
       "      <td>1.178395e+06</td>\n",
       "      <td>2.000000</td>\n",
       "      <td>14.000000</td>\n",
       "      <td>5.000000</td>\n",
       "      <td>1.000000</td>\n",
       "      <td>0.000000</td>\n",
       "      <td>1.00000</td>\n",
       "      <td>0.000000</td>\n",
       "      <td>0.000000</td>\n",
       "      <td>19.000000</td>\n",
       "    </tr>\n",
       "    <tr>\n",
       "      <th>max</th>\n",
       "      <td>1.312200e+06</td>\n",
       "      <td>6.000000</td>\n",
       "      <td>19.000000</td>\n",
       "      <td>10.000000</td>\n",
       "      <td>6.000000</td>\n",
       "      <td>7.000000</td>\n",
       "      <td>7.00000</td>\n",
       "      <td>1.000000</td>\n",
       "      <td>1.000000</td>\n",
       "      <td>146.000000</td>\n",
       "    </tr>\n",
       "  </tbody>\n",
       "</table>\n",
       "</div>"
      ],
      "text/plain": [
       "                 ID        innings          overs     ballnumber  \\\n",
       "count  2.259540e+05  225954.000000  225954.000000  225954.000000   \n",
       "mean   8.320470e+05       1.483868       9.185679       3.619750   \n",
       "std    3.379542e+05       0.503104       5.681797       1.810633   \n",
       "min    3.359820e+05       1.000000       0.000000       1.000000   \n",
       "25%    5.012620e+05       1.000000       4.000000       2.000000   \n",
       "50%    8.297370e+05       1.000000       9.000000       4.000000   \n",
       "75%    1.178395e+06       2.000000      14.000000       5.000000   \n",
       "max    1.312200e+06       6.000000      19.000000      10.000000   \n",
       "\n",
       "         batsman_run     extras_run     total_run   non_boundary  \\\n",
       "count  225954.000000  225954.000000  225954.00000  225954.000000   \n",
       "mean        1.243523       0.066907       1.31043       0.000093   \n",
       "std         1.618166       0.341470       1.60605       0.009640   \n",
       "min         0.000000       0.000000       0.00000       0.000000   \n",
       "25%         0.000000       0.000000       0.00000       0.000000   \n",
       "50%         1.000000       0.000000       1.00000       0.000000   \n",
       "75%         1.000000       0.000000       1.00000       0.000000   \n",
       "max         6.000000       7.000000       7.00000       1.000000   \n",
       "\n",
       "       isWicketDelivery         Margin  \n",
       "count     225954.000000  221948.000000  \n",
       "mean           0.049351      17.076937  \n",
       "std            0.216600      21.457319  \n",
       "min            0.000000       1.000000  \n",
       "25%            0.000000       6.000000  \n",
       "50%            0.000000       8.000000  \n",
       "75%            0.000000      19.000000  \n",
       "max            1.000000     146.000000  "
      ]
     },
     "execution_count": 9,
     "metadata": {},
     "output_type": "execute_result"
    }
   ],
   "source": [
    "ball_with_match.describe()"
   ]
  },
  {
   "cell_type": "markdown",
   "id": "cb418977",
   "metadata": {},
   "source": [
    "# Data Cleaning"
   ]
  },
  {
   "cell_type": "markdown",
   "id": "1c7f925e",
   "metadata": {},
   "source": [
    "## IPL_Ball_by_Ball_2008_2022 dataset"
   ]
  },
  {
   "cell_type": "markdown",
   "id": "41bb3f9f",
   "metadata": {},
   "source": [
    "### innings"
   ]
  },
  {
   "cell_type": "code",
   "execution_count": 10,
   "id": "4000e823",
   "metadata": {},
   "outputs": [
    {
     "data": {
      "text/plain": [
       "1    116883\n",
       "2    108910\n",
       "3        77\n",
       "4        72\n",
       "5         8\n",
       "6         4\n",
       "Name: innings, dtype: int64"
      ]
     },
     "execution_count": 10,
     "metadata": {},
     "output_type": "execute_result"
    }
   ],
   "source": [
    "ball_with_match['innings'].value_counts()"
   ]
  },
  {
   "cell_type": "code",
   "execution_count": 11,
   "id": "90adf9cd",
   "metadata": {},
   "outputs": [
    {
     "data": {
      "text/html": [
       "<div>\n",
       "<style scoped>\n",
       "    .dataframe tbody tr th:only-of-type {\n",
       "        vertical-align: middle;\n",
       "    }\n",
       "\n",
       "    .dataframe tbody tr th {\n",
       "        vertical-align: top;\n",
       "    }\n",
       "\n",
       "    .dataframe thead th {\n",
       "        text-align: right;\n",
       "    }\n",
       "</style>\n",
       "<table border=\"1\" class=\"dataframe\">\n",
       "  <thead>\n",
       "    <tr style=\"text-align: right;\">\n",
       "      <th></th>\n",
       "      <th>ID</th>\n",
       "      <th>innings</th>\n",
       "      <th>overs</th>\n",
       "      <th>ballnumber</th>\n",
       "      <th>batter</th>\n",
       "      <th>bowler</th>\n",
       "      <th>non-striker</th>\n",
       "      <th>extra_type</th>\n",
       "      <th>batsman_run</th>\n",
       "      <th>extras_run</th>\n",
       "      <th>...</th>\n",
       "      <th>SuperOver</th>\n",
       "      <th>WinningTeam</th>\n",
       "      <th>WonBy</th>\n",
       "      <th>Margin</th>\n",
       "      <th>method</th>\n",
       "      <th>Player_of_Match</th>\n",
       "      <th>Team1Players</th>\n",
       "      <th>Team2Players</th>\n",
       "      <th>Umpire1</th>\n",
       "      <th>Umpire2</th>\n",
       "    </tr>\n",
       "  </thead>\n",
       "  <tbody>\n",
       "    <tr>\n",
       "      <th>40835</th>\n",
       "      <td>1216517</td>\n",
       "      <td>6</td>\n",
       "      <td>0</td>\n",
       "      <td>1</td>\n",
       "      <td>CH Gayle</td>\n",
       "      <td>TA Boult</td>\n",
       "      <td>MA Agarwal</td>\n",
       "      <td>NaN</td>\n",
       "      <td>6</td>\n",
       "      <td>0</td>\n",
       "      <td>...</td>\n",
       "      <td>Y</td>\n",
       "      <td>Kings XI Punjab</td>\n",
       "      <td>SuperOver</td>\n",
       "      <td>NaN</td>\n",
       "      <td>NaN</td>\n",
       "      <td>KL Rahul</td>\n",
       "      <td>['RG Sharma', 'Q de Kock', 'SA Yadav', 'Ishan ...</td>\n",
       "      <td>['KL Rahul', 'MA Agarwal', 'CH Gayle', 'N Poor...</td>\n",
       "      <td>Nitin Menon</td>\n",
       "      <td>PR Reiffel</td>\n",
       "    </tr>\n",
       "    <tr>\n",
       "      <th>40836</th>\n",
       "      <td>1216517</td>\n",
       "      <td>6</td>\n",
       "      <td>0</td>\n",
       "      <td>2</td>\n",
       "      <td>CH Gayle</td>\n",
       "      <td>TA Boult</td>\n",
       "      <td>MA Agarwal</td>\n",
       "      <td>NaN</td>\n",
       "      <td>1</td>\n",
       "      <td>0</td>\n",
       "      <td>...</td>\n",
       "      <td>Y</td>\n",
       "      <td>Kings XI Punjab</td>\n",
       "      <td>SuperOver</td>\n",
       "      <td>NaN</td>\n",
       "      <td>NaN</td>\n",
       "      <td>KL Rahul</td>\n",
       "      <td>['RG Sharma', 'Q de Kock', 'SA Yadav', 'Ishan ...</td>\n",
       "      <td>['KL Rahul', 'MA Agarwal', 'CH Gayle', 'N Poor...</td>\n",
       "      <td>Nitin Menon</td>\n",
       "      <td>PR Reiffel</td>\n",
       "    </tr>\n",
       "    <tr>\n",
       "      <th>40837</th>\n",
       "      <td>1216517</td>\n",
       "      <td>6</td>\n",
       "      <td>0</td>\n",
       "      <td>3</td>\n",
       "      <td>MA Agarwal</td>\n",
       "      <td>TA Boult</td>\n",
       "      <td>CH Gayle</td>\n",
       "      <td>NaN</td>\n",
       "      <td>4</td>\n",
       "      <td>0</td>\n",
       "      <td>...</td>\n",
       "      <td>Y</td>\n",
       "      <td>Kings XI Punjab</td>\n",
       "      <td>SuperOver</td>\n",
       "      <td>NaN</td>\n",
       "      <td>NaN</td>\n",
       "      <td>KL Rahul</td>\n",
       "      <td>['RG Sharma', 'Q de Kock', 'SA Yadav', 'Ishan ...</td>\n",
       "      <td>['KL Rahul', 'MA Agarwal', 'CH Gayle', 'N Poor...</td>\n",
       "      <td>Nitin Menon</td>\n",
       "      <td>PR Reiffel</td>\n",
       "    </tr>\n",
       "    <tr>\n",
       "      <th>40838</th>\n",
       "      <td>1216517</td>\n",
       "      <td>6</td>\n",
       "      <td>0</td>\n",
       "      <td>4</td>\n",
       "      <td>MA Agarwal</td>\n",
       "      <td>TA Boult</td>\n",
       "      <td>CH Gayle</td>\n",
       "      <td>NaN</td>\n",
       "      <td>4</td>\n",
       "      <td>0</td>\n",
       "      <td>...</td>\n",
       "      <td>Y</td>\n",
       "      <td>Kings XI Punjab</td>\n",
       "      <td>SuperOver</td>\n",
       "      <td>NaN</td>\n",
       "      <td>NaN</td>\n",
       "      <td>KL Rahul</td>\n",
       "      <td>['RG Sharma', 'Q de Kock', 'SA Yadav', 'Ishan ...</td>\n",
       "      <td>['KL Rahul', 'MA Agarwal', 'CH Gayle', 'N Poor...</td>\n",
       "      <td>Nitin Menon</td>\n",
       "      <td>PR Reiffel</td>\n",
       "    </tr>\n",
       "  </tbody>\n",
       "</table>\n",
       "<p>4 rows × 36 columns</p>\n",
       "</div>"
      ],
      "text/plain": [
       "            ID  innings  overs  ballnumber      batter    bowler non-striker  \\\n",
       "40835  1216517        6      0           1    CH Gayle  TA Boult  MA Agarwal   \n",
       "40836  1216517        6      0           2    CH Gayle  TA Boult  MA Agarwal   \n",
       "40837  1216517        6      0           3  MA Agarwal  TA Boult    CH Gayle   \n",
       "40838  1216517        6      0           4  MA Agarwal  TA Boult    CH Gayle   \n",
       "\n",
       "      extra_type  batsman_run  extras_run  ...  SuperOver      WinningTeam  \\\n",
       "40835        NaN            6           0  ...          Y  Kings XI Punjab   \n",
       "40836        NaN            1           0  ...          Y  Kings XI Punjab   \n",
       "40837        NaN            4           0  ...          Y  Kings XI Punjab   \n",
       "40838        NaN            4           0  ...          Y  Kings XI Punjab   \n",
       "\n",
       "           WonBy Margin method Player_of_Match  \\\n",
       "40835  SuperOver    NaN    NaN        KL Rahul   \n",
       "40836  SuperOver    NaN    NaN        KL Rahul   \n",
       "40837  SuperOver    NaN    NaN        KL Rahul   \n",
       "40838  SuperOver    NaN    NaN        KL Rahul   \n",
       "\n",
       "                                            Team1Players  \\\n",
       "40835  ['RG Sharma', 'Q de Kock', 'SA Yadav', 'Ishan ...   \n",
       "40836  ['RG Sharma', 'Q de Kock', 'SA Yadav', 'Ishan ...   \n",
       "40837  ['RG Sharma', 'Q de Kock', 'SA Yadav', 'Ishan ...   \n",
       "40838  ['RG Sharma', 'Q de Kock', 'SA Yadav', 'Ishan ...   \n",
       "\n",
       "                                            Team2Players      Umpire1  \\\n",
       "40835  ['KL Rahul', 'MA Agarwal', 'CH Gayle', 'N Poor...  Nitin Menon   \n",
       "40836  ['KL Rahul', 'MA Agarwal', 'CH Gayle', 'N Poor...  Nitin Menon   \n",
       "40837  ['KL Rahul', 'MA Agarwal', 'CH Gayle', 'N Poor...  Nitin Menon   \n",
       "40838  ['KL Rahul', 'MA Agarwal', 'CH Gayle', 'N Poor...  Nitin Menon   \n",
       "\n",
       "          Umpire2  \n",
       "40835  PR Reiffel  \n",
       "40836  PR Reiffel  \n",
       "40837  PR Reiffel  \n",
       "40838  PR Reiffel  \n",
       "\n",
       "[4 rows x 36 columns]"
      ]
     },
     "execution_count": 11,
     "metadata": {},
     "output_type": "execute_result"
    }
   ],
   "source": [
    "ball_with_match[ball_with_match['innings'] == 6]"
   ]
  },
  {
   "cell_type": "markdown",
   "id": "8feb8c34",
   "metadata": {},
   "source": [
    "### overs"
   ]
  },
  {
   "cell_type": "code",
   "execution_count": 12,
   "id": "d1e535dd",
   "metadata": {},
   "outputs": [
    {
     "data": {
      "text/plain": [
       "0     12085\n",
       "1     11935\n",
       "2     11803\n",
       "3     11773\n",
       "4     11766\n",
       "5     11720\n",
       "6     11671\n",
       "7     11651\n",
       "8     11608\n",
       "9     11578\n",
       "10    11507\n",
       "11    11480\n",
       "12    11452\n",
       "13    11355\n",
       "14    11259\n",
       "15    11093\n",
       "16    10961\n",
       "17    10650\n",
       "18    10001\n",
       "19     8606\n",
       "Name: overs, dtype: int64"
      ]
     },
     "execution_count": 12,
     "metadata": {},
     "output_type": "execute_result"
    }
   ],
   "source": [
    "ball_with_match['overs'].value_counts()"
   ]
  },
  {
   "cell_type": "markdown",
   "id": "c719004c",
   "metadata": {},
   "source": [
    "### ballnumber"
   ]
  },
  {
   "cell_type": "code",
   "execution_count": 13,
   "id": "9e2b85e5",
   "metadata": {},
   "outputs": [
    {
     "data": {
      "text/plain": [
       "1     36599\n",
       "2     36507\n",
       "3     36413\n",
       "4     36322\n",
       "5     36201\n",
       "6     36083\n",
       "7      6585\n",
       "8      1055\n",
       "9       171\n",
       "10       18\n",
       "Name: ballnumber, dtype: int64"
      ]
     },
     "execution_count": 13,
     "metadata": {},
     "output_type": "execute_result"
    }
   ],
   "source": [
    "ball_with_match['ballnumber'].value_counts()"
   ]
  },
  {
   "cell_type": "markdown",
   "id": "dabaa5b9",
   "metadata": {},
   "source": [
    "### batter"
   ]
  },
  {
   "cell_type": "code",
   "execution_count": 14,
   "id": "de9475f9",
   "metadata": {},
   "outputs": [
    {
     "data": {
      "text/plain": [
       "V Kohli           5266\n",
       "S Dhawan          5083\n",
       "RG Sharma         4632\n",
       "DA Warner         4313\n",
       "SK Raina          4177\n",
       "                  ... \n",
       "S Lamichhane         1\n",
       "JL Denly             1\n",
       "NJ Rimmington        1\n",
       "Y Prithvi Raj        1\n",
       "V Pratap Singh       1\n",
       "Name: batter, Length: 605, dtype: int64"
      ]
     },
     "execution_count": 14,
     "metadata": {},
     "output_type": "execute_result"
    }
   ],
   "source": [
    "ball_with_match['batter'].value_counts()"
   ]
  },
  {
   "cell_type": "markdown",
   "id": "6ab44de0",
   "metadata": {},
   "source": [
    "### bowler"
   ]
  },
  {
   "cell_type": "code",
   "execution_count": 15,
   "id": "86663c68",
   "metadata": {},
   "outputs": [
    {
     "data": {
      "text/plain": [
       "R Ashwin           4024\n",
       "SP Narine          3516\n",
       "Harbhajan Singh    3496\n",
       "B Kumar            3384\n",
       "A Mishra           3317\n",
       "                   ... \n",
       "SN Khan               2\n",
       "SPD Smith             2\n",
       "DA Warner             2\n",
       "AC Gilchrist          1\n",
       "YBK Jaiswal           1\n",
       "Name: bowler, Length: 472, dtype: int64"
      ]
     },
     "execution_count": 15,
     "metadata": {},
     "output_type": "execute_result"
    }
   ],
   "source": [
    "ball_with_match['bowler'].value_counts()"
   ]
  },
  {
   "cell_type": "markdown",
   "id": "efd2eaf4",
   "metadata": {},
   "source": [
    "### non-striker"
   ]
  },
  {
   "cell_type": "code",
   "execution_count": 16,
   "id": "257d4b9f",
   "metadata": {},
   "outputs": [
    {
     "data": {
      "text/plain": [
       "S Dhawan            5526\n",
       "V Kohli             5150\n",
       "RG Sharma           4629\n",
       "SK Raina            4309\n",
       "DA Warner           4108\n",
       "                    ... \n",
       "TP Sudhindra           1\n",
       "PM Sarvesh Kumar       1\n",
       "S Randiv               1\n",
       "BW Hilfenhaus          1\n",
       "M Theekshana           1\n",
       "Name: non-striker, Length: 595, dtype: int64"
      ]
     },
     "execution_count": 16,
     "metadata": {},
     "output_type": "execute_result"
    }
   ],
   "source": [
    "ball_with_match['non-striker'].value_counts()"
   ]
  },
  {
   "cell_type": "markdown",
   "id": "85958347",
   "metadata": {},
   "source": [
    "### extra_type"
   ]
  },
  {
   "cell_type": "code",
   "execution_count": 17,
   "id": "5790b261",
   "metadata": {},
   "outputs": [
    {
     "data": {
      "text/plain": [
       "wides      7025\n",
       "legbyes    3531\n",
       "noballs     908\n",
       "byes        583\n",
       "penalty       2\n",
       "Name: extra_type, dtype: int64"
      ]
     },
     "execution_count": 17,
     "metadata": {},
     "output_type": "execute_result"
    }
   ],
   "source": [
    "ball_with_match['extra_type'].value_counts()"
   ]
  },
  {
   "cell_type": "markdown",
   "id": "6b98718c",
   "metadata": {},
   "source": [
    "### batsman_run"
   ]
  },
  {
   "cell_type": "code",
   "execution_count": 18,
   "id": "e79071de",
   "metadata": {},
   "outputs": [
    {
     "data": {
      "text/plain": [
       "0    90778\n",
       "1    83928\n",
       "4    25500\n",
       "2    14313\n",
       "6    10666\n",
       "3      708\n",
       "5       61\n",
       "Name: batsman_run, dtype: int64"
      ]
     },
     "execution_count": 18,
     "metadata": {},
     "output_type": "execute_result"
    }
   ],
   "source": [
    "ball_with_match['batsman_run'].value_counts()"
   ]
  },
  {
   "cell_type": "markdown",
   "id": "7ae7ca60",
   "metadata": {},
   "source": [
    "### extras_run"
   ]
  },
  {
   "cell_type": "code",
   "execution_count": 19,
   "id": "a1368263",
   "metadata": {},
   "outputs": [
    {
     "data": {
      "text/plain": [
       "0    213905\n",
       "1     10760\n",
       "2       499\n",
       "4       436\n",
       "5       275\n",
       "3        78\n",
       "7         1\n",
       "Name: extras_run, dtype: int64"
      ]
     },
     "execution_count": 19,
     "metadata": {},
     "output_type": "execute_result"
    }
   ],
   "source": [
    "ball_with_match['extras_run'].value_counts()"
   ]
  },
  {
   "cell_type": "code",
   "execution_count": 20,
   "id": "162b2856",
   "metadata": {},
   "outputs": [
    {
     "data": {
      "text/html": [
       "<div>\n",
       "<style scoped>\n",
       "    .dataframe tbody tr th:only-of-type {\n",
       "        vertical-align: middle;\n",
       "    }\n",
       "\n",
       "    .dataframe tbody tr th {\n",
       "        vertical-align: top;\n",
       "    }\n",
       "\n",
       "    .dataframe thead th {\n",
       "        text-align: right;\n",
       "    }\n",
       "</style>\n",
       "<table border=\"1\" class=\"dataframe\">\n",
       "  <thead>\n",
       "    <tr style=\"text-align: right;\">\n",
       "      <th></th>\n",
       "      <th>ID</th>\n",
       "      <th>innings</th>\n",
       "      <th>overs</th>\n",
       "      <th>ballnumber</th>\n",
       "      <th>batter</th>\n",
       "      <th>bowler</th>\n",
       "      <th>non-striker</th>\n",
       "      <th>extra_type</th>\n",
       "      <th>batsman_run</th>\n",
       "      <th>extras_run</th>\n",
       "      <th>...</th>\n",
       "      <th>SuperOver</th>\n",
       "      <th>WinningTeam</th>\n",
       "      <th>WonBy</th>\n",
       "      <th>Margin</th>\n",
       "      <th>method</th>\n",
       "      <th>Player_of_Match</th>\n",
       "      <th>Team1Players</th>\n",
       "      <th>Team2Players</th>\n",
       "      <th>Umpire1</th>\n",
       "      <th>Umpire2</th>\n",
       "    </tr>\n",
       "  </thead>\n",
       "  <tbody>\n",
       "    <tr>\n",
       "      <th>127783</th>\n",
       "      <td>729309</td>\n",
       "      <td>2</td>\n",
       "      <td>4</td>\n",
       "      <td>2</td>\n",
       "      <td>M Vijay</td>\n",
       "      <td>SL Malinga</td>\n",
       "      <td>Q de Kock</td>\n",
       "      <td>penalty</td>\n",
       "      <td>0</td>\n",
       "      <td>7</td>\n",
       "      <td>...</td>\n",
       "      <td>N</td>\n",
       "      <td>Delhi Daredevils</td>\n",
       "      <td>Wickets</td>\n",
       "      <td>6.0</td>\n",
       "      <td>NaN</td>\n",
       "      <td>M Vijay</td>\n",
       "      <td>['Q de Kock', 'M Vijay', 'JP Duminy', 'KP Piet...</td>\n",
       "      <td>['RG Sharma', 'AP Tare', 'CJ Anderson', 'AT Ra...</td>\n",
       "      <td>Aleem Dar</td>\n",
       "      <td>VA Kulkarni</td>\n",
       "    </tr>\n",
       "  </tbody>\n",
       "</table>\n",
       "<p>1 rows × 36 columns</p>\n",
       "</div>"
      ],
      "text/plain": [
       "            ID  innings  overs  ballnumber   batter      bowler non-striker  \\\n",
       "127783  729309        2      4           2  M Vijay  SL Malinga   Q de Kock   \n",
       "\n",
       "       extra_type  batsman_run  extras_run  ...  SuperOver       WinningTeam  \\\n",
       "127783    penalty            0           7  ...          N  Delhi Daredevils   \n",
       "\n",
       "          WonBy Margin method Player_of_Match  \\\n",
       "127783  Wickets    6.0    NaN         M Vijay   \n",
       "\n",
       "                                             Team1Players  \\\n",
       "127783  ['Q de Kock', 'M Vijay', 'JP Duminy', 'KP Piet...   \n",
       "\n",
       "                                             Team2Players    Umpire1  \\\n",
       "127783  ['RG Sharma', 'AP Tare', 'CJ Anderson', 'AT Ra...  Aleem Dar   \n",
       "\n",
       "            Umpire2  \n",
       "127783  VA Kulkarni  \n",
       "\n",
       "[1 rows x 36 columns]"
      ]
     },
     "execution_count": 20,
     "metadata": {},
     "output_type": "execute_result"
    }
   ],
   "source": [
    "ball_with_match[ball_with_match['extras_run'] == 7]"
   ]
  },
  {
   "cell_type": "markdown",
   "id": "93fa05ac",
   "metadata": {},
   "source": [
    "### total_run"
   ]
  },
  {
   "cell_type": "code",
   "execution_count": 21,
   "id": "55d2d8a8",
   "metadata": {},
   "outputs": [
    {
     "data": {
      "text/plain": [
       "1    93861\n",
       "0    79253\n",
       "4    25828\n",
       "2    15065\n",
       "6    10603\n",
       "3      836\n",
       "5      444\n",
       "7       64\n",
       "Name: total_run, dtype: int64"
      ]
     },
     "execution_count": 21,
     "metadata": {},
     "output_type": "execute_result"
    }
   ],
   "source": [
    "ball_with_match['total_run'].value_counts()"
   ]
  },
  {
   "cell_type": "markdown",
   "id": "735559d4",
   "metadata": {},
   "source": [
    "### non_boundary"
   ]
  },
  {
   "cell_type": "code",
   "execution_count": 22,
   "id": "8f5adb76",
   "metadata": {},
   "outputs": [
    {
     "data": {
      "text/plain": [
       "0    225933\n",
       "1        21\n",
       "Name: non_boundary, dtype: int64"
      ]
     },
     "execution_count": 22,
     "metadata": {},
     "output_type": "execute_result"
    }
   ],
   "source": [
    "ball_with_match['non_boundary'].value_counts()"
   ]
  },
  {
   "cell_type": "code",
   "execution_count": 23,
   "id": "c7e6fda4",
   "metadata": {
    "scrolled": true
   },
   "outputs": [
    {
     "data": {
      "text/html": [
       "<div>\n",
       "<style scoped>\n",
       "    .dataframe tbody tr th:only-of-type {\n",
       "        vertical-align: middle;\n",
       "    }\n",
       "\n",
       "    .dataframe tbody tr th {\n",
       "        vertical-align: top;\n",
       "    }\n",
       "\n",
       "    .dataframe thead th {\n",
       "        text-align: right;\n",
       "    }\n",
       "</style>\n",
       "<table border=\"1\" class=\"dataframe\">\n",
       "  <thead>\n",
       "    <tr style=\"text-align: right;\">\n",
       "      <th></th>\n",
       "      <th>ID</th>\n",
       "      <th>innings</th>\n",
       "      <th>overs</th>\n",
       "      <th>ballnumber</th>\n",
       "      <th>batter</th>\n",
       "      <th>bowler</th>\n",
       "      <th>non-striker</th>\n",
       "      <th>extra_type</th>\n",
       "      <th>batsman_run</th>\n",
       "      <th>extras_run</th>\n",
       "      <th>...</th>\n",
       "      <th>SuperOver</th>\n",
       "      <th>WinningTeam</th>\n",
       "      <th>WonBy</th>\n",
       "      <th>Margin</th>\n",
       "      <th>method</th>\n",
       "      <th>Player_of_Match</th>\n",
       "      <th>Team1Players</th>\n",
       "      <th>Team2Players</th>\n",
       "      <th>Umpire1</th>\n",
       "      <th>Umpire2</th>\n",
       "    </tr>\n",
       "  </thead>\n",
       "  <tbody>\n",
       "    <tr>\n",
       "      <th>4632</th>\n",
       "      <td>1304101</td>\n",
       "      <td>1</td>\n",
       "      <td>11</td>\n",
       "      <td>2</td>\n",
       "      <td>DP Conway</td>\n",
       "      <td>MR Marsh</td>\n",
       "      <td>S Dube</td>\n",
       "      <td>NaN</td>\n",
       "      <td>4</td>\n",
       "      <td>0</td>\n",
       "      <td>...</td>\n",
       "      <td>N</td>\n",
       "      <td>Chennai Super Kings</td>\n",
       "      <td>Runs</td>\n",
       "      <td>91.0</td>\n",
       "      <td>NaN</td>\n",
       "      <td>DP Conway</td>\n",
       "      <td>['RD Gaikwad', 'DP Conway', 'S Dube', 'AT Rayu...</td>\n",
       "      <td>['DA Warner', 'KS Bharat', 'MR Marsh', 'RR Pan...</td>\n",
       "      <td>Nitin Menon</td>\n",
       "      <td>R Pandit</td>\n",
       "    </tr>\n",
       "    <tr>\n",
       "      <th>10604</th>\n",
       "      <td>1304076</td>\n",
       "      <td>1</td>\n",
       "      <td>2</td>\n",
       "      <td>6</td>\n",
       "      <td>JC Buttler</td>\n",
       "      <td>UT Yadav</td>\n",
       "      <td>D Padikkal</td>\n",
       "      <td>NaN</td>\n",
       "      <td>4</td>\n",
       "      <td>0</td>\n",
       "      <td>...</td>\n",
       "      <td>N</td>\n",
       "      <td>Rajasthan Royals</td>\n",
       "      <td>Runs</td>\n",
       "      <td>7.0</td>\n",
       "      <td>NaN</td>\n",
       "      <td>YS Chahal</td>\n",
       "      <td>['JC Buttler', 'D Padikkal', 'SV Samson', 'SO ...</td>\n",
       "      <td>['AJ Finch', 'SP Narine', 'SS Iyer', 'N Rana',...</td>\n",
       "      <td>GR Sadashiv Iyer</td>\n",
       "      <td>VK Sharma</td>\n",
       "    </tr>\n",
       "    <tr>\n",
       "      <th>13067</th>\n",
       "      <td>1304066</td>\n",
       "      <td>1</td>\n",
       "      <td>0</td>\n",
       "      <td>3</td>\n",
       "      <td>D Padikkal</td>\n",
       "      <td>PVD Chameera</td>\n",
       "      <td>JC Buttler</td>\n",
       "      <td>NaN</td>\n",
       "      <td>4</td>\n",
       "      <td>0</td>\n",
       "      <td>...</td>\n",
       "      <td>N</td>\n",
       "      <td>Rajasthan Royals</td>\n",
       "      <td>Runs</td>\n",
       "      <td>3.0</td>\n",
       "      <td>NaN</td>\n",
       "      <td>YS Chahal</td>\n",
       "      <td>['JC Buttler', 'D Padikkal', 'SV Samson', 'HE ...</td>\n",
       "      <td>['KL Rahul', 'Q de Kock', 'K Gowtham', 'JO Hol...</td>\n",
       "      <td>AK Chaudhary</td>\n",
       "      <td>Tapan Sharma</td>\n",
       "    </tr>\n",
       "    <tr>\n",
       "      <th>30579</th>\n",
       "      <td>1254065</td>\n",
       "      <td>2</td>\n",
       "      <td>11</td>\n",
       "      <td>3</td>\n",
       "      <td>F du Plessis</td>\n",
       "      <td>JA Richardson</td>\n",
       "      <td>MM Ali</td>\n",
       "      <td>NaN</td>\n",
       "      <td>4</td>\n",
       "      <td>0</td>\n",
       "      <td>...</td>\n",
       "      <td>N</td>\n",
       "      <td>Chennai Super Kings</td>\n",
       "      <td>Wickets</td>\n",
       "      <td>6.0</td>\n",
       "      <td>NaN</td>\n",
       "      <td>DL Chahar</td>\n",
       "      <td>['KL Rahul', 'MA Agarwal', 'CH Gayle', 'DJ Hoo...</td>\n",
       "      <td>['RD Gaikwad', 'F du Plessis', 'MM Ali', 'SK R...</td>\n",
       "      <td>AK Chaudhary</td>\n",
       "      <td>AY Dandekar</td>\n",
       "    </tr>\n",
       "    <tr>\n",
       "      <th>32612</th>\n",
       "      <td>1237180</td>\n",
       "      <td>1</td>\n",
       "      <td>6</td>\n",
       "      <td>4</td>\n",
       "      <td>S Dhawan</td>\n",
       "      <td>Rashid Khan</td>\n",
       "      <td>MP Stoinis</td>\n",
       "      <td>NaN</td>\n",
       "      <td>6</td>\n",
       "      <td>0</td>\n",
       "      <td>...</td>\n",
       "      <td>N</td>\n",
       "      <td>Delhi Capitals</td>\n",
       "      <td>Runs</td>\n",
       "      <td>17.0</td>\n",
       "      <td>NaN</td>\n",
       "      <td>MP Stoinis</td>\n",
       "      <td>['MP Stoinis', 'S Dhawan', 'SS Iyer', 'SO Hetm...</td>\n",
       "      <td>['PK Garg', 'DA Warner', 'MK Pandey', 'KS Will...</td>\n",
       "      <td>PR Reiffel</td>\n",
       "      <td>S Ravi</td>\n",
       "    </tr>\n",
       "    <tr>\n",
       "      <th>35356</th>\n",
       "      <td>1216539</td>\n",
       "      <td>1</td>\n",
       "      <td>15</td>\n",
       "      <td>1</td>\n",
       "      <td>RR Pant</td>\n",
       "      <td>SM Curran</td>\n",
       "      <td>SS Iyer</td>\n",
       "      <td>NaN</td>\n",
       "      <td>4</td>\n",
       "      <td>0</td>\n",
       "      <td>...</td>\n",
       "      <td>N</td>\n",
       "      <td>Delhi Capitals</td>\n",
       "      <td>Runs</td>\n",
       "      <td>44.0</td>\n",
       "      <td>NaN</td>\n",
       "      <td>PP Shaw</td>\n",
       "      <td>['PP Shaw', 'S Dhawan', 'RR Pant', 'SS Iyer', ...</td>\n",
       "      <td>['M Vijay', 'SR Watson', 'F du Plessis', 'RD G...</td>\n",
       "      <td>KN Ananthapadmanabhan</td>\n",
       "      <td>RK Illingworth</td>\n",
       "    </tr>\n",
       "    <tr>\n",
       "      <th>48304</th>\n",
       "      <td>1178430</td>\n",
       "      <td>2</td>\n",
       "      <td>13</td>\n",
       "      <td>2</td>\n",
       "      <td>N Pooran</td>\n",
       "      <td>DJ Bravo</td>\n",
       "      <td>Mandeep Singh</td>\n",
       "      <td>NaN</td>\n",
       "      <td>4</td>\n",
       "      <td>0</td>\n",
       "      <td>...</td>\n",
       "      <td>N</td>\n",
       "      <td>Kings XI Punjab</td>\n",
       "      <td>Wickets</td>\n",
       "      <td>6.0</td>\n",
       "      <td>NaN</td>\n",
       "      <td>KL Rahul</td>\n",
       "      <td>['F du Plessis', 'SR Watson', 'SK Raina', 'MS ...</td>\n",
       "      <td>['KL Rahul', 'CH Gayle', 'N Pooran', 'MA Agarw...</td>\n",
       "      <td>C Shamshuddin</td>\n",
       "      <td>KN Ananthapadmanabhan</td>\n",
       "    </tr>\n",
       "    <tr>\n",
       "      <th>70980</th>\n",
       "      <td>1136580</td>\n",
       "      <td>2</td>\n",
       "      <td>9</td>\n",
       "      <td>2</td>\n",
       "      <td>KS Williamson</td>\n",
       "      <td>SR Watson</td>\n",
       "      <td>Shakib Al Hasan</td>\n",
       "      <td>NaN</td>\n",
       "      <td>4</td>\n",
       "      <td>0</td>\n",
       "      <td>...</td>\n",
       "      <td>N</td>\n",
       "      <td>Chennai Super Kings</td>\n",
       "      <td>Runs</td>\n",
       "      <td>4.0</td>\n",
       "      <td>NaN</td>\n",
       "      <td>AT Rayudu</td>\n",
       "      <td>['SR Watson', 'F du Plessis', 'SK Raina', 'AT ...</td>\n",
       "      <td>['RK Bhui', 'KS Williamson', 'MK Pandey', 'DJ ...</td>\n",
       "      <td>AK Chaudhary</td>\n",
       "      <td>VA Kulkarni</td>\n",
       "    </tr>\n",
       "    <tr>\n",
       "      <th>86889</th>\n",
       "      <td>1082601</td>\n",
       "      <td>1</td>\n",
       "      <td>18</td>\n",
       "      <td>6</td>\n",
       "      <td>MM Sharma</td>\n",
       "      <td>TA Boult</td>\n",
       "      <td>VR Aaron</td>\n",
       "      <td>NaN</td>\n",
       "      <td>4</td>\n",
       "      <td>0</td>\n",
       "      <td>...</td>\n",
       "      <td>N</td>\n",
       "      <td>Kolkata Knight Riders</td>\n",
       "      <td>Wickets</td>\n",
       "      <td>8.0</td>\n",
       "      <td>NaN</td>\n",
       "      <td>SP Narine</td>\n",
       "      <td>['SP Narine', 'G Gambhir', 'RV Uthappa', 'MK P...</td>\n",
       "      <td>['HM Amla', 'M Vohra', 'MP Stoinis', 'GJ Maxwe...</td>\n",
       "      <td>A Deshmukh</td>\n",
       "      <td>NJ Llong</td>\n",
       "    </tr>\n",
       "    <tr>\n",
       "      <th>88601</th>\n",
       "      <td>1082594</td>\n",
       "      <td>2</td>\n",
       "      <td>12</td>\n",
       "      <td>4</td>\n",
       "      <td>GJ Maxwell</td>\n",
       "      <td>RD Chahar</td>\n",
       "      <td>DA Miller</td>\n",
       "      <td>NaN</td>\n",
       "      <td>4</td>\n",
       "      <td>0</td>\n",
       "      <td>...</td>\n",
       "      <td>N</td>\n",
       "      <td>Kings XI Punjab</td>\n",
       "      <td>Wickets</td>\n",
       "      <td>6.0</td>\n",
       "      <td>NaN</td>\n",
       "      <td>GJ Maxwell</td>\n",
       "      <td>['HM Amla', 'M Vohra', 'WP Saha', 'AR Patel', ...</td>\n",
       "      <td>['AM Rahane', 'MA Agarwal', 'SPD Smith', 'BA S...</td>\n",
       "      <td>AK Chaudhary</td>\n",
       "      <td>C Shamshuddin</td>\n",
       "    </tr>\n",
       "    <tr>\n",
       "      <th>93020</th>\n",
       "      <td>980987</td>\n",
       "      <td>1</td>\n",
       "      <td>3</td>\n",
       "      <td>1</td>\n",
       "      <td>V Kohli</td>\n",
       "      <td>DS Kulkarni</td>\n",
       "      <td>CH Gayle</td>\n",
       "      <td>NaN</td>\n",
       "      <td>4</td>\n",
       "      <td>0</td>\n",
       "      <td>...</td>\n",
       "      <td>N</td>\n",
       "      <td>Royal Challengers Bangalore</td>\n",
       "      <td>Runs</td>\n",
       "      <td>144.0</td>\n",
       "      <td>NaN</td>\n",
       "      <td>AB de Villiers</td>\n",
       "      <td>['CH Gayle', 'V Kohli', 'AB de Villiers', 'SR ...</td>\n",
       "      <td>['DR Smith', 'BB McCullum', 'RA Jadeja', 'KD K...</td>\n",
       "      <td>AY Dandekar</td>\n",
       "      <td>VK Sharma</td>\n",
       "    </tr>\n",
       "    <tr>\n",
       "      <th>102495</th>\n",
       "      <td>980909</td>\n",
       "      <td>2</td>\n",
       "      <td>9</td>\n",
       "      <td>7</td>\n",
       "      <td>RG Sharma</td>\n",
       "      <td>Kuldeep Yadav</td>\n",
       "      <td>HH Pandya</td>\n",
       "      <td>NaN</td>\n",
       "      <td>6</td>\n",
       "      <td>0</td>\n",
       "      <td>...</td>\n",
       "      <td>N</td>\n",
       "      <td>Mumbai Indians</td>\n",
       "      <td>Wickets</td>\n",
       "      <td>6.0</td>\n",
       "      <td>NaN</td>\n",
       "      <td>RG Sharma</td>\n",
       "      <td>['RV Uthappa', 'G Gambhir', 'MK Pandey', 'AD R...</td>\n",
       "      <td>['RG Sharma', 'PA Patel', 'HH Pandya', 'MJ McC...</td>\n",
       "      <td>Nitin Menon</td>\n",
       "      <td>S Ravi</td>\n",
       "    </tr>\n",
       "    <tr>\n",
       "      <th>134375</th>\n",
       "      <td>598061</td>\n",
       "      <td>2</td>\n",
       "      <td>10</td>\n",
       "      <td>3</td>\n",
       "      <td>YK Pathan</td>\n",
       "      <td>Yuvraj Singh</td>\n",
       "      <td>RN ten Doeschate</td>\n",
       "      <td>NaN</td>\n",
       "      <td>6</td>\n",
       "      <td>0</td>\n",
       "      <td>...</td>\n",
       "      <td>N</td>\n",
       "      <td>Pune Warriors</td>\n",
       "      <td>Runs</td>\n",
       "      <td>7.0</td>\n",
       "      <td>NaN</td>\n",
       "      <td>MK Pandey</td>\n",
       "      <td>['G Gambhir', 'MS Bisla', 'JH Kallis', 'YK Pat...</td>\n",
       "      <td>['RV Uthappa', 'AJ Finch', 'MK Pandey', 'Yuvra...</td>\n",
       "      <td>NJ Llong</td>\n",
       "      <td>K Srinath</td>\n",
       "    </tr>\n",
       "    <tr>\n",
       "      <th>143109</th>\n",
       "      <td>598024</td>\n",
       "      <td>1</td>\n",
       "      <td>4</td>\n",
       "      <td>2</td>\n",
       "      <td>SR Tendulkar</td>\n",
       "      <td>IK Pathan</td>\n",
       "      <td>KD Karthik</td>\n",
       "      <td>NaN</td>\n",
       "      <td>4</td>\n",
       "      <td>0</td>\n",
       "      <td>...</td>\n",
       "      <td>N</td>\n",
       "      <td>Delhi Daredevils</td>\n",
       "      <td>Wickets</td>\n",
       "      <td>9.0</td>\n",
       "      <td>NaN</td>\n",
       "      <td>V Sehwag</td>\n",
       "      <td>['DPMD Jayawardene', 'V Sehwag', 'DA Warner', ...</td>\n",
       "      <td>['DR Smith', 'SR Tendulkar', 'KD Karthik', 'RG...</td>\n",
       "      <td>HDPK Dharmasena</td>\n",
       "      <td>S Ravi</td>\n",
       "    </tr>\n",
       "    <tr>\n",
       "      <th>150970</th>\n",
       "      <td>548376</td>\n",
       "      <td>2</td>\n",
       "      <td>7</td>\n",
       "      <td>1</td>\n",
       "      <td>V Kohli</td>\n",
       "      <td>A Mishra</td>\n",
       "      <td>AB de Villiers</td>\n",
       "      <td>NaN</td>\n",
       "      <td>6</td>\n",
       "      <td>0</td>\n",
       "      <td>...</td>\n",
       "      <td>N</td>\n",
       "      <td>Deccan Chargers</td>\n",
       "      <td>Runs</td>\n",
       "      <td>9.0</td>\n",
       "      <td>NaN</td>\n",
       "      <td>DW Steyn</td>\n",
       "      <td>['S Dhawan', 'PA Reddy', 'KC Sangakkara', 'CL ...</td>\n",
       "      <td>['CH Gayle', 'TM Dilshan', 'V Kohli', 'SS Tiwa...</td>\n",
       "      <td>S Ravi</td>\n",
       "      <td>SJA Taufel</td>\n",
       "    </tr>\n",
       "    <tr>\n",
       "      <th>166924</th>\n",
       "      <td>548308</td>\n",
       "      <td>2</td>\n",
       "      <td>11</td>\n",
       "      <td>3</td>\n",
       "      <td>JEC Franklin</td>\n",
       "      <td>B Kumar</td>\n",
       "      <td>SA Yadav</td>\n",
       "      <td>NaN</td>\n",
       "      <td>6</td>\n",
       "      <td>0</td>\n",
       "      <td>...</td>\n",
       "      <td>N</td>\n",
       "      <td>Pune Warriors</td>\n",
       "      <td>Runs</td>\n",
       "      <td>28.0</td>\n",
       "      <td>NaN</td>\n",
       "      <td>SPD Smith</td>\n",
       "      <td>['RE Levi', 'AT Rayudu', 'RG Sharma', 'JEC Fra...</td>\n",
       "      <td>['MK Pandey', 'SC Ganguly', 'WD Parnell', 'RV ...</td>\n",
       "      <td>AK Chaudhary</td>\n",
       "      <td>SJA Taufel</td>\n",
       "    </tr>\n",
       "    <tr>\n",
       "      <th>170455</th>\n",
       "      <td>501257</td>\n",
       "      <td>1</td>\n",
       "      <td>2</td>\n",
       "      <td>3</td>\n",
       "      <td>PC Valthaty</td>\n",
       "      <td>IK Pathan</td>\n",
       "      <td>AC Gilchrist</td>\n",
       "      <td>NaN</td>\n",
       "      <td>4</td>\n",
       "      <td>0</td>\n",
       "      <td>...</td>\n",
       "      <td>N</td>\n",
       "      <td>Kings XI Punjab</td>\n",
       "      <td>Runs</td>\n",
       "      <td>29.0</td>\n",
       "      <td>NaN</td>\n",
       "      <td>PP Chawla</td>\n",
       "      <td>['PC Valthaty', 'AC Gilchrist', 'SE Marsh', 'K...</td>\n",
       "      <td>['NV Ojha', 'DA Warner', 'Y Venugopal Rao', 'S...</td>\n",
       "      <td>Asad Rauf</td>\n",
       "      <td>SL Shastri</td>\n",
       "    </tr>\n",
       "    <tr>\n",
       "      <th>171748</th>\n",
       "      <td>501252</td>\n",
       "      <td>2</td>\n",
       "      <td>5</td>\n",
       "      <td>1</td>\n",
       "      <td>CH Gayle</td>\n",
       "      <td>J Botha</td>\n",
       "      <td>TM Dilshan</td>\n",
       "      <td>NaN</td>\n",
       "      <td>4</td>\n",
       "      <td>0</td>\n",
       "      <td>...</td>\n",
       "      <td>N</td>\n",
       "      <td>Royal Challengers Bangalore</td>\n",
       "      <td>Wickets</td>\n",
       "      <td>9.0</td>\n",
       "      <td>NaN</td>\n",
       "      <td>S Aravind</td>\n",
       "      <td>['SR Watson', 'R Dravid', 'AM Rahane', 'J Both...</td>\n",
       "      <td>['CH Gayle', 'TM Dilshan', 'V Kohli', 'AB de V...</td>\n",
       "      <td>HDPK Dharmasena</td>\n",
       "      <td>K Hariharan</td>\n",
       "    </tr>\n",
       "    <tr>\n",
       "      <th>178137</th>\n",
       "      <td>501225</td>\n",
       "      <td>2</td>\n",
       "      <td>4</td>\n",
       "      <td>4</td>\n",
       "      <td>R Dravid</td>\n",
       "      <td>R Vinay Kumar</td>\n",
       "      <td>SR Watson</td>\n",
       "      <td>NaN</td>\n",
       "      <td>4</td>\n",
       "      <td>0</td>\n",
       "      <td>...</td>\n",
       "      <td>N</td>\n",
       "      <td>Rajasthan Royals</td>\n",
       "      <td>Wickets</td>\n",
       "      <td>8.0</td>\n",
       "      <td>NaN</td>\n",
       "      <td>SK Warne</td>\n",
       "      <td>['SR Watson', 'R Dravid', 'J Botha', 'LRPL Tay...</td>\n",
       "      <td>['DPMD Jayawardene', 'VVS Laxman', 'PA Patel',...</td>\n",
       "      <td>BR Doctrove</td>\n",
       "      <td>SK Tarapore</td>\n",
       "    </tr>\n",
       "    <tr>\n",
       "      <th>202171</th>\n",
       "      <td>392226</td>\n",
       "      <td>2</td>\n",
       "      <td>1</td>\n",
       "      <td>3</td>\n",
       "      <td>SM Katich</td>\n",
       "      <td>PJ Sangwan</td>\n",
       "      <td>S Sohal</td>\n",
       "      <td>NaN</td>\n",
       "      <td>4</td>\n",
       "      <td>0</td>\n",
       "      <td>...</td>\n",
       "      <td>N</td>\n",
       "      <td>Kings XI Punjab</td>\n",
       "      <td>Wickets</td>\n",
       "      <td>6.0</td>\n",
       "      <td>NaN</td>\n",
       "      <td>B Lee</td>\n",
       "      <td>['G Gambhir', 'V Sehwag', 'TM Dilshan', 'AB de...</td>\n",
       "      <td>['S Sohal', 'SM Katich', 'LA Pomersbach', 'Yuv...</td>\n",
       "      <td>HDPK Dharmasena</td>\n",
       "      <td>IL Howell</td>\n",
       "    </tr>\n",
       "    <tr>\n",
       "      <th>218320</th>\n",
       "      <td>336014</td>\n",
       "      <td>1</td>\n",
       "      <td>19</td>\n",
       "      <td>6</td>\n",
       "      <td>LR Shukla</td>\n",
       "      <td>RP Singh</td>\n",
       "      <td>DJ Hussey</td>\n",
       "      <td>NaN</td>\n",
       "      <td>6</td>\n",
       "      <td>0</td>\n",
       "      <td>...</td>\n",
       "      <td>N</td>\n",
       "      <td>Kolkata Knight Riders</td>\n",
       "      <td>Runs</td>\n",
       "      <td>23.0</td>\n",
       "      <td>NaN</td>\n",
       "      <td>SC Ganguly</td>\n",
       "      <td>['AC Gilchrist', 'HH Gibbs', 'DB Ravi Teja', '...</td>\n",
       "      <td>['Salman Butt', 'A Chopra', 'SC Ganguly', 'DJ ...</td>\n",
       "      <td>IL Howell</td>\n",
       "      <td>AM Saheba</td>\n",
       "    </tr>\n",
       "  </tbody>\n",
       "</table>\n",
       "<p>21 rows × 36 columns</p>\n",
       "</div>"
      ],
      "text/plain": [
       "             ID  innings  overs  ballnumber         batter         bowler  \\\n",
       "4632    1304101        1     11           2      DP Conway       MR Marsh   \n",
       "10604   1304076        1      2           6     JC Buttler       UT Yadav   \n",
       "13067   1304066        1      0           3     D Padikkal   PVD Chameera   \n",
       "30579   1254065        2     11           3   F du Plessis  JA Richardson   \n",
       "32612   1237180        1      6           4       S Dhawan    Rashid Khan   \n",
       "35356   1216539        1     15           1        RR Pant      SM Curran   \n",
       "48304   1178430        2     13           2       N Pooran       DJ Bravo   \n",
       "70980   1136580        2      9           2  KS Williamson      SR Watson   \n",
       "86889   1082601        1     18           6      MM Sharma       TA Boult   \n",
       "88601   1082594        2     12           4     GJ Maxwell      RD Chahar   \n",
       "93020    980987        1      3           1        V Kohli    DS Kulkarni   \n",
       "102495   980909        2      9           7      RG Sharma  Kuldeep Yadav   \n",
       "134375   598061        2     10           3      YK Pathan   Yuvraj Singh   \n",
       "143109   598024        1      4           2   SR Tendulkar      IK Pathan   \n",
       "150970   548376        2      7           1        V Kohli       A Mishra   \n",
       "166924   548308        2     11           3   JEC Franklin        B Kumar   \n",
       "170455   501257        1      2           3    PC Valthaty      IK Pathan   \n",
       "171748   501252        2      5           1       CH Gayle        J Botha   \n",
       "178137   501225        2      4           4       R Dravid  R Vinay Kumar   \n",
       "202171   392226        2      1           3      SM Katich     PJ Sangwan   \n",
       "218320   336014        1     19           6      LR Shukla       RP Singh   \n",
       "\n",
       "             non-striker extra_type  batsman_run  extras_run  ...  SuperOver  \\\n",
       "4632              S Dube        NaN            4           0  ...          N   \n",
       "10604         D Padikkal        NaN            4           0  ...          N   \n",
       "13067         JC Buttler        NaN            4           0  ...          N   \n",
       "30579             MM Ali        NaN            4           0  ...          N   \n",
       "32612         MP Stoinis        NaN            6           0  ...          N   \n",
       "35356            SS Iyer        NaN            4           0  ...          N   \n",
       "48304      Mandeep Singh        NaN            4           0  ...          N   \n",
       "70980    Shakib Al Hasan        NaN            4           0  ...          N   \n",
       "86889           VR Aaron        NaN            4           0  ...          N   \n",
       "88601          DA Miller        NaN            4           0  ...          N   \n",
       "93020           CH Gayle        NaN            4           0  ...          N   \n",
       "102495         HH Pandya        NaN            6           0  ...          N   \n",
       "134375  RN ten Doeschate        NaN            6           0  ...          N   \n",
       "143109        KD Karthik        NaN            4           0  ...          N   \n",
       "150970    AB de Villiers        NaN            6           0  ...          N   \n",
       "166924          SA Yadav        NaN            6           0  ...          N   \n",
       "170455      AC Gilchrist        NaN            4           0  ...          N   \n",
       "171748        TM Dilshan        NaN            4           0  ...          N   \n",
       "178137         SR Watson        NaN            4           0  ...          N   \n",
       "202171           S Sohal        NaN            4           0  ...          N   \n",
       "218320         DJ Hussey        NaN            6           0  ...          N   \n",
       "\n",
       "                        WinningTeam    WonBy Margin method Player_of_Match  \\\n",
       "4632            Chennai Super Kings     Runs   91.0    NaN       DP Conway   \n",
       "10604              Rajasthan Royals     Runs    7.0    NaN       YS Chahal   \n",
       "13067              Rajasthan Royals     Runs    3.0    NaN       YS Chahal   \n",
       "30579           Chennai Super Kings  Wickets    6.0    NaN       DL Chahar   \n",
       "32612                Delhi Capitals     Runs   17.0    NaN      MP Stoinis   \n",
       "35356                Delhi Capitals     Runs   44.0    NaN         PP Shaw   \n",
       "48304               Kings XI Punjab  Wickets    6.0    NaN        KL Rahul   \n",
       "70980           Chennai Super Kings     Runs    4.0    NaN       AT Rayudu   \n",
       "86889         Kolkata Knight Riders  Wickets    8.0    NaN       SP Narine   \n",
       "88601               Kings XI Punjab  Wickets    6.0    NaN      GJ Maxwell   \n",
       "93020   Royal Challengers Bangalore     Runs  144.0    NaN  AB de Villiers   \n",
       "102495               Mumbai Indians  Wickets    6.0    NaN       RG Sharma   \n",
       "134375                Pune Warriors     Runs    7.0    NaN       MK Pandey   \n",
       "143109             Delhi Daredevils  Wickets    9.0    NaN        V Sehwag   \n",
       "150970              Deccan Chargers     Runs    9.0    NaN        DW Steyn   \n",
       "166924                Pune Warriors     Runs   28.0    NaN       SPD Smith   \n",
       "170455              Kings XI Punjab     Runs   29.0    NaN       PP Chawla   \n",
       "171748  Royal Challengers Bangalore  Wickets    9.0    NaN       S Aravind   \n",
       "178137             Rajasthan Royals  Wickets    8.0    NaN        SK Warne   \n",
       "202171              Kings XI Punjab  Wickets    6.0    NaN           B Lee   \n",
       "218320        Kolkata Knight Riders     Runs   23.0    NaN      SC Ganguly   \n",
       "\n",
       "                                             Team1Players  \\\n",
       "4632    ['RD Gaikwad', 'DP Conway', 'S Dube', 'AT Rayu...   \n",
       "10604   ['JC Buttler', 'D Padikkal', 'SV Samson', 'SO ...   \n",
       "13067   ['JC Buttler', 'D Padikkal', 'SV Samson', 'HE ...   \n",
       "30579   ['KL Rahul', 'MA Agarwal', 'CH Gayle', 'DJ Hoo...   \n",
       "32612   ['MP Stoinis', 'S Dhawan', 'SS Iyer', 'SO Hetm...   \n",
       "35356   ['PP Shaw', 'S Dhawan', 'RR Pant', 'SS Iyer', ...   \n",
       "48304   ['F du Plessis', 'SR Watson', 'SK Raina', 'MS ...   \n",
       "70980   ['SR Watson', 'F du Plessis', 'SK Raina', 'AT ...   \n",
       "86889   ['SP Narine', 'G Gambhir', 'RV Uthappa', 'MK P...   \n",
       "88601   ['HM Amla', 'M Vohra', 'WP Saha', 'AR Patel', ...   \n",
       "93020   ['CH Gayle', 'V Kohli', 'AB de Villiers', 'SR ...   \n",
       "102495  ['RV Uthappa', 'G Gambhir', 'MK Pandey', 'AD R...   \n",
       "134375  ['G Gambhir', 'MS Bisla', 'JH Kallis', 'YK Pat...   \n",
       "143109  ['DPMD Jayawardene', 'V Sehwag', 'DA Warner', ...   \n",
       "150970  ['S Dhawan', 'PA Reddy', 'KC Sangakkara', 'CL ...   \n",
       "166924  ['RE Levi', 'AT Rayudu', 'RG Sharma', 'JEC Fra...   \n",
       "170455  ['PC Valthaty', 'AC Gilchrist', 'SE Marsh', 'K...   \n",
       "171748  ['SR Watson', 'R Dravid', 'AM Rahane', 'J Both...   \n",
       "178137  ['SR Watson', 'R Dravid', 'J Botha', 'LRPL Tay...   \n",
       "202171  ['G Gambhir', 'V Sehwag', 'TM Dilshan', 'AB de...   \n",
       "218320  ['AC Gilchrist', 'HH Gibbs', 'DB Ravi Teja', '...   \n",
       "\n",
       "                                             Team2Players  \\\n",
       "4632    ['DA Warner', 'KS Bharat', 'MR Marsh', 'RR Pan...   \n",
       "10604   ['AJ Finch', 'SP Narine', 'SS Iyer', 'N Rana',...   \n",
       "13067   ['KL Rahul', 'Q de Kock', 'K Gowtham', 'JO Hol...   \n",
       "30579   ['RD Gaikwad', 'F du Plessis', 'MM Ali', 'SK R...   \n",
       "32612   ['PK Garg', 'DA Warner', 'MK Pandey', 'KS Will...   \n",
       "35356   ['M Vijay', 'SR Watson', 'F du Plessis', 'RD G...   \n",
       "48304   ['KL Rahul', 'CH Gayle', 'N Pooran', 'MA Agarw...   \n",
       "70980   ['RK Bhui', 'KS Williamson', 'MK Pandey', 'DJ ...   \n",
       "86889   ['HM Amla', 'M Vohra', 'MP Stoinis', 'GJ Maxwe...   \n",
       "88601   ['AM Rahane', 'MA Agarwal', 'SPD Smith', 'BA S...   \n",
       "93020   ['DR Smith', 'BB McCullum', 'RA Jadeja', 'KD K...   \n",
       "102495  ['RG Sharma', 'PA Patel', 'HH Pandya', 'MJ McC...   \n",
       "134375  ['RV Uthappa', 'AJ Finch', 'MK Pandey', 'Yuvra...   \n",
       "143109  ['DR Smith', 'SR Tendulkar', 'KD Karthik', 'RG...   \n",
       "150970  ['CH Gayle', 'TM Dilshan', 'V Kohli', 'SS Tiwa...   \n",
       "166924  ['MK Pandey', 'SC Ganguly', 'WD Parnell', 'RV ...   \n",
       "170455  ['NV Ojha', 'DA Warner', 'Y Venugopal Rao', 'S...   \n",
       "171748  ['CH Gayle', 'TM Dilshan', 'V Kohli', 'AB de V...   \n",
       "178137  ['DPMD Jayawardene', 'VVS Laxman', 'PA Patel',...   \n",
       "202171  ['S Sohal', 'SM Katich', 'LA Pomersbach', 'Yuv...   \n",
       "218320  ['Salman Butt', 'A Chopra', 'SC Ganguly', 'DJ ...   \n",
       "\n",
       "                      Umpire1                Umpire2  \n",
       "4632              Nitin Menon               R Pandit  \n",
       "10604        GR Sadashiv Iyer              VK Sharma  \n",
       "13067            AK Chaudhary           Tapan Sharma  \n",
       "30579            AK Chaudhary            AY Dandekar  \n",
       "32612              PR Reiffel                 S Ravi  \n",
       "35356   KN Ananthapadmanabhan         RK Illingworth  \n",
       "48304           C Shamshuddin  KN Ananthapadmanabhan  \n",
       "70980            AK Chaudhary            VA Kulkarni  \n",
       "86889              A Deshmukh               NJ Llong  \n",
       "88601            AK Chaudhary          C Shamshuddin  \n",
       "93020             AY Dandekar              VK Sharma  \n",
       "102495            Nitin Menon                 S Ravi  \n",
       "134375               NJ Llong              K Srinath  \n",
       "143109        HDPK Dharmasena                 S Ravi  \n",
       "150970                 S Ravi             SJA Taufel  \n",
       "166924           AK Chaudhary             SJA Taufel  \n",
       "170455              Asad Rauf             SL Shastri  \n",
       "171748        HDPK Dharmasena            K Hariharan  \n",
       "178137            BR Doctrove            SK Tarapore  \n",
       "202171        HDPK Dharmasena              IL Howell  \n",
       "218320              IL Howell              AM Saheba  \n",
       "\n",
       "[21 rows x 36 columns]"
      ]
     },
     "execution_count": 23,
     "metadata": {},
     "output_type": "execute_result"
    }
   ],
   "source": [
    "ball_with_match[ball_with_match['non_boundary'] == 1]"
   ]
  },
  {
   "cell_type": "markdown",
   "id": "4a5f1831",
   "metadata": {},
   "source": [
    "### isWicketDelivery"
   ]
  },
  {
   "cell_type": "code",
   "execution_count": 24,
   "id": "c7eb7efe",
   "metadata": {},
   "outputs": [
    {
     "data": {
      "text/plain": [
       "0    214803\n",
       "1     11151\n",
       "Name: isWicketDelivery, dtype: int64"
      ]
     },
     "execution_count": 24,
     "metadata": {},
     "output_type": "execute_result"
    }
   ],
   "source": [
    "ball_with_match['isWicketDelivery'].value_counts()"
   ]
  },
  {
   "cell_type": "markdown",
   "id": "9e850b95",
   "metadata": {},
   "source": [
    "### player_out"
   ]
  },
  {
   "cell_type": "code",
   "execution_count": 25,
   "id": "533564b3",
   "metadata": {},
   "outputs": [
    {
     "data": {
      "text/plain": [
       "RG Sharma                  194\n",
       "V Kohli                    183\n",
       "RV Uthappa                 180\n",
       "S Dhawan                   179\n",
       "SK Raina                   171\n",
       "                          ... \n",
       "S Lamichhane                 1\n",
       "P Ray Barman                 1\n",
       "JPR Scantlebury-Searles      1\n",
       "ND Doshi                     1\n",
       "AA Noffke                    1\n",
       "Name: player_out, Length: 573, dtype: int64"
      ]
     },
     "execution_count": 25,
     "metadata": {},
     "output_type": "execute_result"
    }
   ],
   "source": [
    "ball_with_match['player_out'].value_counts()"
   ]
  },
  {
   "cell_type": "markdown",
   "id": "e330537a",
   "metadata": {},
   "source": [
    "### kind"
   ]
  },
  {
   "cell_type": "code",
   "execution_count": 26,
   "id": "91f0234c",
   "metadata": {},
   "outputs": [
    {
     "data": {
      "text/plain": [
       "caught                   6837\n",
       "bowled                   1944\n",
       "run out                  1007\n",
       "lbw                       685\n",
       "stumped                   325\n",
       "caught and bowled         323\n",
       "hit wicket                 14\n",
       "retired hurt               13\n",
       "obstructing the field       2\n",
       "retired out                 1\n",
       "Name: kind, dtype: int64"
      ]
     },
     "execution_count": 26,
     "metadata": {},
     "output_type": "execute_result"
    }
   ],
   "source": [
    "ball_with_match['kind'].value_counts()"
   ]
  },
  {
   "cell_type": "markdown",
   "id": "318ef052",
   "metadata": {},
   "source": [
    "### fielders_involved"
   ]
  },
  {
   "cell_type": "code",
   "execution_count": 27,
   "id": "0da12766",
   "metadata": {},
   "outputs": [
    {
     "data": {
      "text/plain": [
       "MS Dhoni          196\n",
       "KD Karthik        182\n",
       "AB de Villiers    141\n",
       "RV Uthappa        133\n",
       "SK Raina          119\n",
       "                 ... \n",
       "KAJ Roach           1\n",
       "GHS Garton          1\n",
       "AA Bilakhia         1\n",
       "GD Phillips         1\n",
       "A Zampa             1\n",
       "Name: fielders_involved, Length: 535, dtype: int64"
      ]
     },
     "execution_count": 27,
     "metadata": {},
     "output_type": "execute_result"
    }
   ],
   "source": [
    "ball_with_match['fielders_involved'].value_counts()"
   ]
  },
  {
   "cell_type": "markdown",
   "id": "2d73c246",
   "metadata": {},
   "source": [
    "### BattingTeam"
   ]
  },
  {
   "cell_type": "code",
   "execution_count": 28,
   "id": "ae371b5d",
   "metadata": {},
   "outputs": [
    {
     "data": {
      "text/plain": [
       "Mumbai Indians                 27826\n",
       "Royal Challengers Bangalore    26512\n",
       "Kolkata Knight Riders          26192\n",
       "Chennai Super Kings            25128\n",
       "Rajasthan Royals               22777\n",
       "Kings XI Punjab                22646\n",
       "Delhi Daredevils               18786\n",
       "Sunrisers Hyderabad            18196\n",
       "Deccan Chargers                 9034\n",
       "Delhi Capitals                  7587\n",
       "Pune Warriors                   5443\n",
       "Gujarat Lions                   3566\n",
       "Punjab Kings                    3388\n",
       "Gujarat Titans                  1971\n",
       "Rising Pune Supergiant          1900\n",
       "Lucknow Super Giants            1840\n",
       "Kochi Tuskers Kerala            1582\n",
       "Rising Pune Supergiants         1580\n",
       "Name: BattingTeam, dtype: int64"
      ]
     },
     "execution_count": 28,
     "metadata": {},
     "output_type": "execute_result"
    }
   ],
   "source": [
    "ball_with_match['BattingTeam'].value_counts()"
   ]
  },
  {
   "cell_type": "code",
   "execution_count": 29,
   "id": "165d94d1",
   "metadata": {},
   "outputs": [],
   "source": [
    "ball_with_match['BattingTeam']=ball_with_match['BattingTeam'].replace('Delhi Daredevils','Delhi Capitals')\n",
    "ball_with_match['BattingTeam']=ball_with_match['BattingTeam'].replace('Kings XI Punjab','Punjab Kings')\n",
    "ball_with_match['BattingTeam']=ball_with_match['BattingTeam'].replace('Rising Pune Supergiants','Rising Pune Supergiant')"
   ]
  },
  {
   "cell_type": "code",
   "execution_count": 30,
   "id": "1c8730b4",
   "metadata": {},
   "outputs": [
    {
     "data": {
      "text/plain": [
       "Mumbai Indians                 27826\n",
       "Royal Challengers Bangalore    26512\n",
       "Delhi Capitals                 26373\n",
       "Kolkata Knight Riders          26192\n",
       "Punjab Kings                   26034\n",
       "Chennai Super Kings            25128\n",
       "Rajasthan Royals               22777\n",
       "Sunrisers Hyderabad            18196\n",
       "Deccan Chargers                 9034\n",
       "Pune Warriors                   5443\n",
       "Gujarat Lions                   3566\n",
       "Rising Pune Supergiant          3480\n",
       "Gujarat Titans                  1971\n",
       "Lucknow Super Giants            1840\n",
       "Kochi Tuskers Kerala            1582\n",
       "Name: BattingTeam, dtype: int64"
      ]
     },
     "execution_count": 30,
     "metadata": {},
     "output_type": "execute_result"
    }
   ],
   "source": [
    "ball_with_match['BattingTeam'].value_counts()"
   ]
  },
  {
   "cell_type": "markdown",
   "id": "2e228d36",
   "metadata": {},
   "source": [
    "### City"
   ]
  },
  {
   "cell_type": "code",
   "execution_count": 31,
   "id": "b89acbea",
   "metadata": {},
   "outputs": [
    {
     "data": {
      "text/plain": [
       "Mumbai            38357\n",
       "Kolkata           18496\n",
       "Delhi             18294\n",
       "Chennai           16351\n",
       "Hyderabad         15213\n",
       "Bangalore         14907\n",
       "Chandigarh        13269\n",
       "Pune              12239\n",
       "Jaipur            11150\n",
       "Abu Dhabi          8799\n",
       "Ahmedabad          4533\n",
       "Durban             3643\n",
       "Bengaluru          3494\n",
       "Dubai              3149\n",
       "Visakhapatnam      3037\n",
       "Centurion          2866\n",
       "Rajkot             2381\n",
       "Sharjah            2355\n",
       "Navi Mumbai        2188\n",
       "Dharamsala         2159\n",
       "Indore             1965\n",
       "Johannesburg       1940\n",
       "Cuttack            1695\n",
       "Port Elizabeth     1677\n",
       "Ranchi             1671\n",
       "Cape Town          1539\n",
       "Raipur             1431\n",
       "Kochi              1155\n",
       "Kanpur              921\n",
       "Nagpur              742\n",
       "Kimberley           726\n",
       "East London         715\n",
       "Bloemfontein        500\n",
       "Name: City, dtype: int64"
      ]
     },
     "execution_count": 31,
     "metadata": {},
     "output_type": "execute_result"
    }
   ],
   "source": [
    "ball_with_match['City'].value_counts()"
   ]
  },
  {
   "cell_type": "markdown",
   "id": "cdc67947",
   "metadata": {},
   "source": [
    "### Date"
   ]
  },
  {
   "cell_type": "code",
   "execution_count": 32,
   "id": "c372863a",
   "metadata": {},
   "outputs": [
    {
     "data": {
      "text/plain": [
       "0         2022-05-29\n",
       "1         2022-05-29\n",
       "2         2022-05-29\n",
       "3         2022-05-29\n",
       "4         2022-05-29\n",
       "             ...    \n",
       "225949    2008-04-18\n",
       "225950    2008-04-18\n",
       "225951    2008-04-18\n",
       "225952    2008-04-18\n",
       "225953    2008-04-18\n",
       "Name: Date, Length: 225954, dtype: object"
      ]
     },
     "execution_count": 32,
     "metadata": {},
     "output_type": "execute_result"
    }
   ],
   "source": [
    "ball_with_match['Date']"
   ]
  },
  {
   "cell_type": "code",
   "execution_count": 33,
   "id": "cefd7724",
   "metadata": {},
   "outputs": [],
   "source": [
    "ball_with_match['Date'] = pd.to_datetime(ball_with_match['Date'])"
   ]
  },
  {
   "cell_type": "code",
   "execution_count": 34,
   "id": "6863886c",
   "metadata": {},
   "outputs": [
    {
     "data": {
      "text/plain": [
       "0        2022-05-29\n",
       "1        2022-05-29\n",
       "2        2022-05-29\n",
       "3        2022-05-29\n",
       "4        2022-05-29\n",
       "            ...    \n",
       "225949   2008-04-18\n",
       "225950   2008-04-18\n",
       "225951   2008-04-18\n",
       "225952   2008-04-18\n",
       "225953   2008-04-18\n",
       "Name: Date, Length: 225954, dtype: datetime64[ns]"
      ]
     },
     "execution_count": 34,
     "metadata": {},
     "output_type": "execute_result"
    }
   ],
   "source": [
    "ball_with_match['Date']"
   ]
  },
  {
   "cell_type": "markdown",
   "id": "b5fdd523",
   "metadata": {},
   "source": [
    "### Season"
   ]
  },
  {
   "cell_type": "code",
   "execution_count": 35,
   "id": "c24db943",
   "metadata": {},
   "outputs": [
    {
     "data": {
      "text/plain": [
       "2013       18177\n",
       "2022       17912\n",
       "2012       17767\n",
       "2011       17013\n",
       "2020/21    14559\n",
       "2009/10    14498\n",
       "2021       14425\n",
       "2019       14312\n",
       "2014       14300\n",
       "2018       14286\n",
       "2016       14096\n",
       "2017       13862\n",
       "2015       13652\n",
       "2009       13606\n",
       "2007/08    13489\n",
       "Name: Season, dtype: int64"
      ]
     },
     "execution_count": 35,
     "metadata": {},
     "output_type": "execute_result"
    }
   ],
   "source": [
    "ball_with_match['Season'].value_counts()"
   ]
  },
  {
   "cell_type": "code",
   "execution_count": 36,
   "id": "2121e700",
   "metadata": {},
   "outputs": [],
   "source": [
    "ball_with_match['Season']=ball_with_match['Season'].replace('2020/21','2020')\n",
    "ball_with_match['Season']=ball_with_match['Season'].replace('2009/10','2010') \n",
    "ball_with_match['Season']=ball_with_match['Season'].replace('2007/08','2008') "
   ]
  },
  {
   "cell_type": "code",
   "execution_count": 37,
   "id": "9d2b0843",
   "metadata": {},
   "outputs": [
    {
     "data": {
      "text/plain": [
       "2008    13489\n",
       "2009    13606\n",
       "2010    14498\n",
       "2011    17013\n",
       "2012    17767\n",
       "2013    18177\n",
       "2014    14300\n",
       "2015    13652\n",
       "2016    14096\n",
       "2017    13862\n",
       "2018    14286\n",
       "2019    14312\n",
       "2020    14559\n",
       "2021    14425\n",
       "2022    17912\n",
       "Name: Season, dtype: int64"
      ]
     },
     "execution_count": 37,
     "metadata": {},
     "output_type": "execute_result"
    }
   ],
   "source": [
    "ball_with_match['Season'].value_counts().sort_index()"
   ]
  },
  {
   "cell_type": "markdown",
   "id": "781d05e5",
   "metadata": {},
   "source": [
    "### MatchNumber"
   ]
  },
  {
   "cell_type": "code",
   "execution_count": 38,
   "id": "c67a46c8",
   "metadata": {},
   "outputs": [
    {
     "data": {
      "text/plain": [
       "16                    3712\n",
       "30                    3703\n",
       "10                    3691\n",
       "Final                 3686\n",
       "35                    3676\n",
       "                      ... \n",
       "68                     798\n",
       "Elimination Final      734\n",
       "71                     497\n",
       "72                     490\n",
       "3rd Place Play-Off     198\n",
       "Name: MatchNumber, Length: 80, dtype: int64"
      ]
     },
     "execution_count": 38,
     "metadata": {},
     "output_type": "execute_result"
    }
   ],
   "source": [
    "ball_with_match['MatchNumber'].value_counts()"
   ]
  },
  {
   "cell_type": "markdown",
   "id": "6a13b4b8",
   "metadata": {},
   "source": [
    "### Team1"
   ]
  },
  {
   "cell_type": "code",
   "execution_count": 39,
   "id": "2ea4a39b",
   "metadata": {},
   "outputs": [
    {
     "data": {
      "text/plain": [
       "Royal Challengers Bangalore    29522\n",
       "Mumbai Indians                 26971\n",
       "Chennai Super Kings            26909\n",
       "Kolkata Knight Riders          24733\n",
       "Kings XI Punjab                21848\n",
       "Rajasthan Royals               21234\n",
       "Delhi Daredevils               19753\n",
       "Sunrisers Hyderabad            16374\n",
       "Deccan Chargers                 9448\n",
       "Delhi Capitals                  7121\n",
       "Pune Warriors                   5483\n",
       "Punjab Kings                    4285\n",
       "Gujarat Lions                   3784\n",
       "Lucknow Super Giants            1962\n",
       "Rising Pune Supergiants         1677\n",
       "Gujarat Titans                  1670\n",
       "Rising Pune Supergiant          1617\n",
       "Kochi Tuskers Kerala            1563\n",
       "Name: Team1, dtype: int64"
      ]
     },
     "execution_count": 39,
     "metadata": {},
     "output_type": "execute_result"
    }
   ],
   "source": [
    "ball_with_match['Team1'].value_counts()"
   ]
  },
  {
   "cell_type": "code",
   "execution_count": 40,
   "id": "27a8fb31",
   "metadata": {},
   "outputs": [],
   "source": [
    "ball_with_match['Team1']=ball_with_match['Team1'].replace('Delhi Daredevils','Delhi Capitals')\n",
    "ball_with_match['Team1']=ball_with_match['Team1'].replace('Kings XI Punjab','Punjab Kings')\n",
    "ball_with_match['Team1']=ball_with_match['Team1'].replace('Rising Pune Supergiants','Rising Pune Supergiant')"
   ]
  },
  {
   "cell_type": "code",
   "execution_count": 41,
   "id": "49925007",
   "metadata": {},
   "outputs": [
    {
     "data": {
      "text/plain": [
       "Royal Challengers Bangalore    29522\n",
       "Mumbai Indians                 26971\n",
       "Chennai Super Kings            26909\n",
       "Delhi Capitals                 26874\n",
       "Punjab Kings                   26133\n",
       "Kolkata Knight Riders          24733\n",
       "Rajasthan Royals               21234\n",
       "Sunrisers Hyderabad            16374\n",
       "Deccan Chargers                 9448\n",
       "Pune Warriors                   5483\n",
       "Gujarat Lions                   3784\n",
       "Rising Pune Supergiant          3294\n",
       "Lucknow Super Giants            1962\n",
       "Gujarat Titans                  1670\n",
       "Kochi Tuskers Kerala            1563\n",
       "Name: Team1, dtype: int64"
      ]
     },
     "execution_count": 41,
     "metadata": {},
     "output_type": "execute_result"
    }
   ],
   "source": [
    "ball_with_match['Team1'].value_counts()"
   ]
  },
  {
   "cell_type": "markdown",
   "id": "e1863d16",
   "metadata": {},
   "source": [
    "### Team2"
   ]
  },
  {
   "cell_type": "code",
   "execution_count": 42,
   "id": "4ce7e10a",
   "metadata": {},
   "outputs": [
    {
     "data": {
      "text/plain": [
       "Mumbai Indians                 28709\n",
       "Kolkata Knight Riders          27814\n",
       "Rajasthan Royals               24408\n",
       "Royal Challengers Bangalore    23702\n",
       "Kings XI Punjab                23281\n",
       "Chennai Super Kings            23070\n",
       "Sunrisers Hyderabad            19961\n",
       "Delhi Daredevils               17758\n",
       "Deccan Chargers                 8625\n",
       "Delhi Capitals                  8196\n",
       "Pune Warriors                   5417\n",
       "Gujarat Lions                   3327\n",
       "Punjab Kings                    2395\n",
       "Rising Pune Supergiant          2211\n",
       "Gujarat Titans                  2208\n",
       "Lucknow Super Giants            1721\n",
       "Kochi Tuskers Kerala            1633\n",
       "Rising Pune Supergiants         1518\n",
       "Name: Team2, dtype: int64"
      ]
     },
     "execution_count": 42,
     "metadata": {},
     "output_type": "execute_result"
    }
   ],
   "source": [
    "ball_with_match['Team2'].value_counts()"
   ]
  },
  {
   "cell_type": "code",
   "execution_count": 43,
   "id": "39c04b50",
   "metadata": {},
   "outputs": [],
   "source": [
    "ball_with_match['Team2']=ball_with_match['Team2'].replace('Delhi Daredevils','Delhi Capitals')\n",
    "ball_with_match['Team2']=ball_with_match['Team2'].replace('Kings XI Punjab','Punjab Kings')\n",
    "ball_with_match['Team2']=ball_with_match['Team2'].replace('Rising Pune Supergiants','Rising Pune Supergiant')"
   ]
  },
  {
   "cell_type": "code",
   "execution_count": 44,
   "id": "b6ed3644",
   "metadata": {},
   "outputs": [
    {
     "data": {
      "text/plain": [
       "Mumbai Indians                 28709\n",
       "Kolkata Knight Riders          27814\n",
       "Delhi Capitals                 25954\n",
       "Punjab Kings                   25676\n",
       "Rajasthan Royals               24408\n",
       "Royal Challengers Bangalore    23702\n",
       "Chennai Super Kings            23070\n",
       "Sunrisers Hyderabad            19961\n",
       "Deccan Chargers                 8625\n",
       "Pune Warriors                   5417\n",
       "Rising Pune Supergiant          3729\n",
       "Gujarat Lions                   3327\n",
       "Gujarat Titans                  2208\n",
       "Lucknow Super Giants            1721\n",
       "Kochi Tuskers Kerala            1633\n",
       "Name: Team2, dtype: int64"
      ]
     },
     "execution_count": 44,
     "metadata": {},
     "output_type": "execute_result"
    }
   ],
   "source": [
    "ball_with_match['Team2'].value_counts()"
   ]
  },
  {
   "cell_type": "markdown",
   "id": "5c60cfbf",
   "metadata": {},
   "source": [
    "### Venue"
   ]
  },
  {
   "cell_type": "code",
   "execution_count": 45,
   "id": "2b787e69",
   "metadata": {},
   "outputs": [
    {
     "data": {
      "text/plain": [
       "Eden Gardens                                            17988\n",
       "Wankhede Stadium                                        17591\n",
       "M Chinnaswamy Stadium                                   14907\n",
       "Feroz Shah Kotla                                        13950\n",
       "MA Chidambaram Stadium, Chepauk                         11760\n",
       "Rajiv Gandhi International Stadium, Uppal               11604\n",
       "Dubai International Cricket Stadium                     11229\n",
       "Sawai Mansingh Stadium                                  11150\n",
       "Punjab Cricket Association Stadium, Mohali               8266\n",
       "Wankhede Stadium, Mumbai                                 7530\n",
       "Sheikh Zayed Stadium                                     6925\n",
       "Sharjah Cricket Stadium                                  6672\n",
       "Maharashtra Cricket Association Stadium                  5294\n",
       "Dr DY Patil Sports Academy, Mumbai                       4905\n",
       "Brabourne Stadium, Mumbai                                4057\n",
       "Dr DY Patil Sports Academy                               3993\n",
       "Subrata Roy Sahara Stadium                               3825\n",
       "Kingsmead                                                3643\n",
       "Rajiv Gandhi International Stadium                       3609\n",
       "M.Chinnaswamy Stadium                                    3494\n",
       "Arun Jaitley Stadium                                     3356\n",
       "Maharashtra Cricket Association Stadium, Pune            3120\n",
       "Dr. Y.S. Rajasekhara Reddy ACA-VDCA Cricket Stadium      3037\n",
       "Sardar Patel Stadium, Motera                             2893\n",
       "SuperSport Park                                          2866\n",
       "Punjab Cricket Association IS Bindra Stadium, Mohali     2574\n",
       "Brabourne Stadium                                        2469\n",
       "MA Chidambaram Stadium, Chepauk, Chennai                 2461\n",
       "Punjab Cricket Association IS Bindra Stadium             2429\n",
       "Saurashtra Cricket Association Stadium                   2381\n",
       "Himachal Pradesh Cricket Association Stadium             2159\n",
       "MA Chidambaram Stadium                                   2130\n",
       "Holkar Cricket Stadium                                   1965\n",
       "New Wanderers Stadium                                    1940\n",
       "Zayed Cricket Stadium, Abu Dhabi                         1874\n",
       "Barabati Stadium                                         1695\n",
       "St George's Park                                         1677\n",
       "JSCA International Stadium Complex                       1671\n",
       "Narendra Modi Stadium, Ahmedabad                         1640\n",
       "Newlands                                                 1539\n",
       "Shaheed Veer Narayan Singh International Stadium         1431\n",
       "Nehru Stadium                                            1155\n",
       "Arun Jaitley Stadium, Delhi                               988\n",
       "Green Park                                                921\n",
       "Vidarbha Cricket Association Stadium, Jamtha              742\n",
       "De Beers Diamond Oval                                     726\n",
       "Buffalo Park                                              715\n",
       "Eden Gardens, Kolkata                                     508\n",
       "OUTsurance Oval                                           500\n",
       "Name: Venue, dtype: int64"
      ]
     },
     "execution_count": 45,
     "metadata": {},
     "output_type": "execute_result"
    }
   ],
   "source": [
    "ball_with_match['Venue'].value_counts()"
   ]
  },
  {
   "cell_type": "code",
   "execution_count": 46,
   "id": "7df6c5df",
   "metadata": {},
   "outputs": [],
   "source": [
    "ball_with_match['Venue']=ball_with_match['Venue'].replace('Arun Jaitley Stadium, Delhi','Arun Jaitley Stadium')\n",
    "ball_with_match['Venue']=ball_with_match['Venue'].replace('Brabourne Stadium, Mumbai','Brabourne Stadium') \n",
    "ball_with_match['Venue']=ball_with_match['Venue'].replace('Dr DY Patil Sports Academy, Mumbai','Dr DY Patil Sports Academy') \n",
    "ball_with_match['Venue']=ball_with_match['Venue'].replace('Eden Gardens, Kolkata','Eden Gardens') \n",
    "ball_with_match['Venue']=ball_with_match['Venue'].replace('Feroz Shah Kotla','Arun Jaitley Stadium') \n",
    "ball_with_match['Venue']=ball_with_match['Venue'].replace('M.Chinnaswamy Stadium','M Chinnaswamy Stadium') \n",
    "ball_with_match['Venue']=ball_with_match['Venue'].replace('MA Chidambaram Stadium, Chepauk, Chennai','MA Chidambaram Stadium') \n",
    "ball_with_match['Venue']=ball_with_match['Venue'].replace('MA Chidambaram Stadium, Chepauk','MA Chidambaram Stadium')\n",
    "ball_with_match['Venue']=ball_with_match['Venue'].replace('Maharashtra Cricket Association Stadium, Pune','Maharashtra Cricket Association Stadium') \n",
    "ball_with_match['Venue']=ball_with_match['Venue'].replace('Punjab Cricket Association IS Bindra Stadium','Punjab Cricket Association Stadium')\n",
    "ball_with_match['Venue']=ball_with_match['Venue'].replace('Punjab Cricket Association IS Bindra Stadium, Mohali','Punjab Cricket Association Stadium') \n",
    "ball_with_match['Venue']=ball_with_match['Venue'].replace('Punjab Cricket Association Stadium, Mohali','Punjab Cricket Association Stadium') \n",
    "ball_with_match['Venue']=ball_with_match['Venue'].replace('Rajiv Gandhi International Stadium, Uppal','Rajiv Gandhi International Stadium') \n",
    "ball_with_match['Venue']=ball_with_match['Venue'].replace('Wankhede Stadium, Mumbai','Wankhede Stadium') "
   ]
  },
  {
   "cell_type": "code",
   "execution_count": 47,
   "id": "68ea3020",
   "metadata": {},
   "outputs": [
    {
     "data": {
      "text/plain": [
       "Wankhede Stadium                                       25121\n",
       "Eden Gardens                                           18496\n",
       "M Chinnaswamy Stadium                                  18401\n",
       "Arun Jaitley Stadium                                   18294\n",
       "MA Chidambaram Stadium                                 16351\n",
       "Rajiv Gandhi International Stadium                     15213\n",
       "Punjab Cricket Association Stadium                     13269\n",
       "Dubai International Cricket Stadium                    11229\n",
       "Sawai Mansingh Stadium                                 11150\n",
       "Dr DY Patil Sports Academy                              8898\n",
       "Maharashtra Cricket Association Stadium                 8414\n",
       "Sheikh Zayed Stadium                                    6925\n",
       "Sharjah Cricket Stadium                                 6672\n",
       "Brabourne Stadium                                       6526\n",
       "Subrata Roy Sahara Stadium                              3825\n",
       "Kingsmead                                               3643\n",
       "Dr. Y.S. Rajasekhara Reddy ACA-VDCA Cricket Stadium     3037\n",
       "Sardar Patel Stadium, Motera                            2893\n",
       "SuperSport Park                                         2866\n",
       "Saurashtra Cricket Association Stadium                  2381\n",
       "Himachal Pradesh Cricket Association Stadium            2159\n",
       "Holkar Cricket Stadium                                  1965\n",
       "New Wanderers Stadium                                   1940\n",
       "Zayed Cricket Stadium, Abu Dhabi                        1874\n",
       "Barabati Stadium                                        1695\n",
       "St George's Park                                        1677\n",
       "JSCA International Stadium Complex                      1671\n",
       "Narendra Modi Stadium, Ahmedabad                        1640\n",
       "Newlands                                                1539\n",
       "Shaheed Veer Narayan Singh International Stadium        1431\n",
       "Nehru Stadium                                           1155\n",
       "Green Park                                               921\n",
       "Vidarbha Cricket Association Stadium, Jamtha             742\n",
       "De Beers Diamond Oval                                    726\n",
       "Buffalo Park                                             715\n",
       "OUTsurance Oval                                          500\n",
       "Name: Venue, dtype: int64"
      ]
     },
     "execution_count": 47,
     "metadata": {},
     "output_type": "execute_result"
    }
   ],
   "source": [
    "ball_with_match['Venue'].value_counts()"
   ]
  },
  {
   "cell_type": "markdown",
   "id": "10a6fd4d",
   "metadata": {},
   "source": [
    "### TossWinner"
   ]
  },
  {
   "cell_type": "code",
   "execution_count": 48,
   "id": "6868368e",
   "metadata": {},
   "outputs": [
    {
     "data": {
      "text/plain": [
       "Mumbai Indians                 29521\n",
       "Kolkata Knight Riders          26989\n",
       "Chennai Super Kings            26208\n",
       "Royal Challengers Bangalore    24826\n",
       "Rajasthan Royals               23565\n",
       "Kings XI Punjab                20326\n",
       "Delhi Daredevils               18548\n",
       "Sunrisers Hyderabad            17490\n",
       "Deccan Chargers                10376\n",
       "Delhi Capitals                  8721\n",
       "Pune Warriors                   4798\n",
       "Gujarat Lions                   3586\n",
       "Gujarat Titans                  2418\n",
       "Punjab Kings                    2186\n",
       "Lucknow Super Giants            1762\n",
       "Kochi Tuskers Kerala            1760\n",
       "Rising Pune Supergiants         1503\n",
       "Rising Pune Supergiant          1371\n",
       "Name: TossWinner, dtype: int64"
      ]
     },
     "execution_count": 48,
     "metadata": {},
     "output_type": "execute_result"
    }
   ],
   "source": [
    "ball_with_match['TossWinner'].value_counts()"
   ]
  },
  {
   "cell_type": "code",
   "execution_count": 49,
   "id": "df754019",
   "metadata": {},
   "outputs": [],
   "source": [
    "ball_with_match['TossWinner']=ball_with_match['TossWinner'].replace('Delhi Daredevils','Delhi Capitals')\n",
    "ball_with_match['TossWinner']=ball_with_match['TossWinner'].replace('Kings XI Punjab','Punjab Kings')\n",
    "ball_with_match['TossWinner']=ball_with_match['TossWinner'].replace('Rising Pune Supergiants','Rising Pune Supergiant')"
   ]
  },
  {
   "cell_type": "code",
   "execution_count": 50,
   "id": "2f161b4e",
   "metadata": {},
   "outputs": [
    {
     "data": {
      "text/plain": [
       "Mumbai Indians                 29521\n",
       "Delhi Capitals                 27269\n",
       "Kolkata Knight Riders          26989\n",
       "Chennai Super Kings            26208\n",
       "Royal Challengers Bangalore    24826\n",
       "Rajasthan Royals               23565\n",
       "Punjab Kings                   22512\n",
       "Sunrisers Hyderabad            17490\n",
       "Deccan Chargers                10376\n",
       "Pune Warriors                   4798\n",
       "Gujarat Lions                   3586\n",
       "Rising Pune Supergiant          2874\n",
       "Gujarat Titans                  2418\n",
       "Lucknow Super Giants            1762\n",
       "Kochi Tuskers Kerala            1760\n",
       "Name: TossWinner, dtype: int64"
      ]
     },
     "execution_count": 50,
     "metadata": {},
     "output_type": "execute_result"
    }
   ],
   "source": [
    "ball_with_match['TossWinner'].value_counts()"
   ]
  },
  {
   "cell_type": "markdown",
   "id": "fab18582",
   "metadata": {},
   "source": [
    "### TossDecision"
   ]
  },
  {
   "cell_type": "code",
   "execution_count": 51,
   "id": "2125bcdd",
   "metadata": {},
   "outputs": [
    {
     "data": {
      "text/plain": [
       "field    142047\n",
       "bat       83907\n",
       "Name: TossDecision, dtype: int64"
      ]
     },
     "execution_count": 51,
     "metadata": {},
     "output_type": "execute_result"
    }
   ],
   "source": [
    "ball_with_match['TossDecision'].value_counts()"
   ]
  },
  {
   "cell_type": "markdown",
   "id": "51986bd1",
   "metadata": {},
   "source": [
    "### SuperOver"
   ]
  },
  {
   "cell_type": "code",
   "execution_count": 52,
   "id": "a0435e70",
   "metadata": {},
   "outputs": [
    {
     "data": {
      "text/plain": [
       "N    221948\n",
       "Y      3634\n",
       "Name: SuperOver, dtype: int64"
      ]
     },
     "execution_count": 52,
     "metadata": {},
     "output_type": "execute_result"
    }
   ],
   "source": [
    "ball_with_match['SuperOver'].value_counts()"
   ]
  },
  {
   "cell_type": "markdown",
   "id": "ac6fb8f0",
   "metadata": {},
   "source": [
    "### WinningTeam"
   ]
  },
  {
   "cell_type": "code",
   "execution_count": 53,
   "id": "ed01c65f",
   "metadata": {},
   "outputs": [
    {
     "data": {
      "text/plain": [
       "Mumbai Indians                 31490\n",
       "Chennai Super Kings            29221\n",
       "Kolkata Knight Riders          26839\n",
       "Royal Challengers Bangalore    25673\n",
       "Rajasthan Royals               23132\n",
       "Kings XI Punjab                20948\n",
       "Sunrisers Hyderabad            17770\n",
       "Delhi Daredevils               15709\n",
       "Delhi Capitals                  8754\n",
       "Deccan Chargers                 7013\n",
       "Punjab Kings                    3142\n",
       "Gujarat Lions                   3063\n",
       "Gujarat Titans                  2920\n",
       "Pune Warriors                   2883\n",
       "Rising Pune Supergiant          2383\n",
       "Lucknow Super Giants            2215\n",
       "Kochi Tuskers Kerala            1322\n",
       "Rising Pune Supergiants         1105\n",
       "Name: WinningTeam, dtype: int64"
      ]
     },
     "execution_count": 53,
     "metadata": {},
     "output_type": "execute_result"
    }
   ],
   "source": [
    "ball_with_match['WinningTeam'].value_counts()"
   ]
  },
  {
   "cell_type": "code",
   "execution_count": 54,
   "id": "ac23caaa",
   "metadata": {},
   "outputs": [],
   "source": [
    "ball_with_match['WinningTeam']=ball_with_match['WinningTeam'].replace('Delhi Daredevils','Delhi Capitals')\n",
    "ball_with_match['WinningTeam']=ball_with_match['WinningTeam'].replace('Kings XI Punjab','Punjab Kings')\n",
    "ball_with_match['WinningTeam']=ball_with_match['WinningTeam'].replace('Rising Pune Supergiants','Rising Pune Supergiant')"
   ]
  },
  {
   "cell_type": "code",
   "execution_count": 55,
   "id": "260fcd0a",
   "metadata": {},
   "outputs": [
    {
     "data": {
      "text/plain": [
       "Mumbai Indians                 31490\n",
       "Chennai Super Kings            29221\n",
       "Kolkata Knight Riders          26839\n",
       "Royal Challengers Bangalore    25673\n",
       "Delhi Capitals                 24463\n",
       "Punjab Kings                   24090\n",
       "Rajasthan Royals               23132\n",
       "Sunrisers Hyderabad            17770\n",
       "Deccan Chargers                 7013\n",
       "Rising Pune Supergiant          3488\n",
       "Gujarat Lions                   3063\n",
       "Gujarat Titans                  2920\n",
       "Pune Warriors                   2883\n",
       "Lucknow Super Giants            2215\n",
       "Kochi Tuskers Kerala            1322\n",
       "Name: WinningTeam, dtype: int64"
      ]
     },
     "execution_count": 55,
     "metadata": {},
     "output_type": "execute_result"
    }
   ],
   "source": [
    "ball_with_match['WinningTeam'].value_counts()"
   ]
  },
  {
   "cell_type": "markdown",
   "id": "304b6ac3",
   "metadata": {},
   "source": [
    "### WonBy"
   ]
  },
  {
   "cell_type": "code",
   "execution_count": 56,
   "id": "37152814",
   "metadata": {},
   "outputs": [
    {
     "data": {
      "text/plain": [
       "Wickets      119005\n",
       "Runs         102943\n",
       "SuperOver      3634\n",
       "NoResults       372\n",
       "Name: WonBy, dtype: int64"
      ]
     },
     "execution_count": 56,
     "metadata": {},
     "output_type": "execute_result"
    }
   ],
   "source": [
    "ball_with_match['WonBy'].value_counts()"
   ]
  },
  {
   "cell_type": "markdown",
   "id": "946b5bf5",
   "metadata": {},
   "source": [
    "### Margin"
   ]
  },
  {
   "cell_type": "code",
   "execution_count": 57,
   "id": "65d86f83",
   "metadata": {},
   "outputs": [
    {
     "data": {
      "text/plain": [
       "146.0"
      ]
     },
     "execution_count": 57,
     "metadata": {},
     "output_type": "execute_result"
    }
   ],
   "source": [
    "ball_with_match['Margin'].max()"
   ]
  },
  {
   "cell_type": "code",
   "execution_count": 58,
   "id": "418d3332",
   "metadata": {},
   "outputs": [
    {
     "data": {
      "text/html": [
       "<div>\n",
       "<style scoped>\n",
       "    .dataframe tbody tr th:only-of-type {\n",
       "        vertical-align: middle;\n",
       "    }\n",
       "\n",
       "    .dataframe tbody tr th {\n",
       "        vertical-align: top;\n",
       "    }\n",
       "\n",
       "    .dataframe thead th {\n",
       "        text-align: right;\n",
       "    }\n",
       "</style>\n",
       "<table border=\"1\" class=\"dataframe\">\n",
       "  <thead>\n",
       "    <tr style=\"text-align: right;\">\n",
       "      <th></th>\n",
       "      <th>ID</th>\n",
       "      <th>City</th>\n",
       "      <th>Date</th>\n",
       "      <th>Season</th>\n",
       "      <th>MatchNumber</th>\n",
       "      <th>Team1</th>\n",
       "      <th>Team2</th>\n",
       "      <th>Venue</th>\n",
       "      <th>TossWinner</th>\n",
       "      <th>TossDecision</th>\n",
       "      <th>SuperOver</th>\n",
       "      <th>WinningTeam</th>\n",
       "      <th>WonBy</th>\n",
       "      <th>Margin</th>\n",
       "      <th>method</th>\n",
       "      <th>Player_of_Match</th>\n",
       "      <th>Team1Players</th>\n",
       "      <th>Team2Players</th>\n",
       "      <th>Umpire1</th>\n",
       "      <th>Umpire2</th>\n",
       "    </tr>\n",
       "  </thead>\n",
       "  <tbody>\n",
       "    <tr>\n",
       "      <th>329</th>\n",
       "      <td>1082635</td>\n",
       "      <td>Delhi</td>\n",
       "      <td>2017-05-06</td>\n",
       "      <td>2017</td>\n",
       "      <td>45</td>\n",
       "      <td>Delhi Daredevils</td>\n",
       "      <td>Mumbai Indians</td>\n",
       "      <td>Feroz Shah Kotla</td>\n",
       "      <td>Delhi Daredevils</td>\n",
       "      <td>field</td>\n",
       "      <td>N</td>\n",
       "      <td>Mumbai Indians</td>\n",
       "      <td>Runs</td>\n",
       "      <td>146.0</td>\n",
       "      <td>NaN</td>\n",
       "      <td>LMP Simmons</td>\n",
       "      <td>['SV Samson', 'KK Nair', 'SS Iyer', 'RR Pant',...</td>\n",
       "      <td>['LMP Simmons', 'PA Patel', 'KA Pollard', 'RG ...</td>\n",
       "      <td>Nitin Menon</td>\n",
       "      <td>CK Nandan</td>\n",
       "    </tr>\n",
       "  </tbody>\n",
       "</table>\n",
       "</div>"
      ],
      "text/plain": [
       "          ID   City        Date Season MatchNumber             Team1  \\\n",
       "329  1082635  Delhi  2017-05-06   2017          45  Delhi Daredevils   \n",
       "\n",
       "              Team2             Venue        TossWinner TossDecision  \\\n",
       "329  Mumbai Indians  Feroz Shah Kotla  Delhi Daredevils        field   \n",
       "\n",
       "    SuperOver     WinningTeam WonBy  Margin method Player_of_Match  \\\n",
       "329         N  Mumbai Indians  Runs   146.0    NaN     LMP Simmons   \n",
       "\n",
       "                                          Team1Players  \\\n",
       "329  ['SV Samson', 'KK Nair', 'SS Iyer', 'RR Pant',...   \n",
       "\n",
       "                                          Team2Players      Umpire1    Umpire2  \n",
       "329  ['LMP Simmons', 'PA Patel', 'KA Pollard', 'RG ...  Nitin Menon  CK Nandan  "
      ]
     },
     "execution_count": 58,
     "metadata": {},
     "output_type": "execute_result"
    }
   ],
   "source": [
    "matches[matches['Margin'] == 146]"
   ]
  },
  {
   "cell_type": "markdown",
   "id": "34064db0",
   "metadata": {},
   "source": [
    "### method"
   ]
  },
  {
   "cell_type": "code",
   "execution_count": 59,
   "id": "5f09283b",
   "metadata": {},
   "outputs": [
    {
     "data": {
      "text/plain": [
       "D/L    3208\n",
       "Name: method, dtype: int64"
      ]
     },
     "execution_count": 59,
     "metadata": {},
     "output_type": "execute_result"
    }
   ],
   "source": [
    "ball_with_match['method'].value_counts()"
   ]
  },
  {
   "cell_type": "markdown",
   "id": "84ff819e",
   "metadata": {},
   "source": [
    "### Player_of_Match"
   ]
  },
  {
   "cell_type": "code",
   "execution_count": 60,
   "id": "f3b8561f",
   "metadata": {},
   "outputs": [
    {
     "data": {
      "text/plain": [
       "AB de Villiers    6170\n",
       "CH Gayle          5186\n",
       "RG Sharma         4412\n",
       "DA Warner         4329\n",
       "MS Dhoni          4130\n",
       "                  ... \n",
       "DJG Sammy          203\n",
       "RP Singh           199\n",
       "DR Sams            198\n",
       "M Jansen           154\n",
       "DL Vettori         108\n",
       "Name: Player_of_Match, Length: 262, dtype: int64"
      ]
     },
     "execution_count": 60,
     "metadata": {},
     "output_type": "execute_result"
    }
   ],
   "source": [
    "ball_with_match['Player_of_Match'].value_counts()"
   ]
  },
  {
   "cell_type": "markdown",
   "id": "76358367",
   "metadata": {},
   "source": [
    "### Team1Players"
   ]
  },
  {
   "cell_type": "code",
   "execution_count": 61,
   "id": "64e6d027",
   "metadata": {},
   "outputs": [
    {
     "data": {
      "text/plain": [
       "['JC Buttler', 'D Padikkal', 'SV Samson', 'SO Hetmyer', 'R Parag', 'KK Nair', 'R Ashwin', 'TA Boult', 'OC McCoy', 'M Prasidh Krishna', 'YS Chahal']             510\n",
       "['JC Buttler', 'YBK Jaiswal', 'D Padikkal', 'SV Samson', 'SO Hetmyer', 'R Parag', 'R Ashwin', 'Navdeep Saini', 'TA Boult', 'YS Chahal', 'M Prasidh Krishna']    503\n",
       "['SV Samson', 'KK Nair', 'SS Iyer', 'RR Pant', 'MN Samuels', 'CJ Anderson', 'PJ Cummins', 'A Mishra', 'Mohammed Shami', 'S Nadeem', 'Z Khan']                   498\n",
       "['DR Smith', 'SR Tendulkar', 'KD Karthik', 'RG Sharma', 'KA Pollard', 'AT Rayudu', 'Harbhajan Singh', 'MG Johnson', 'SL Malinga', 'DS Kulkarni', 'PP Ojha']     498\n",
       "['RD Gaikwad', 'F du Plessis', 'MM Ali', 'SK Raina', 'AT Rayudu', 'RA Jadeja', 'MS Dhoni', 'SM Curran', 'DJ Bravo', 'SN Thakur', 'DL Chahar']                   497\n",
       "                                                                                                                                                               ... \n",
       "['G Gambhir', 'V Sehwag', 'TM Dilshan', 'AB de Villiers', 'MK Tiwary', 'KD Karthik', 'DP Nannes', 'DL Vettori', 'VY Mahesh', 'AM Salvi', 'PJ Sangwan']          108\n",
       "['DA Warner', 'S Dhawan', 'MC Henriques', 'EJG Morgan', 'NV Ojha', 'KL Rahul', 'Bipul Sharma', 'KV Sharma', 'B Kumar', 'P Kumar', 'DW Steyn']                   106\n",
       "['V Kohli', 'CH Gayle', 'AB de Villiers', 'MC Henriques', 'RP Singh', 'KL Rahul', 'SS Tiwary', 'R Vinay Kumar', 'Z Khan', 'R Rampaul', 'JD Unadkat']            100\n",
       "['NV Ojha', 'DA Warner', 'MS Wade', 'CA Ingram', 'Y Venugopal Rao', 'JR Hopes', 'IK Pathan', 'Y Nagar', 'VR Aaron', 'UT Yadav', 'AB Dinda']                      63\n",
       "['V Kohli', 'AB de Villiers', 'MP Stoinis', 'H Klaasen', 'Gurkeerat Singh', 'PA Patel', 'P Negi', 'UT Yadav', 'Navdeep Saini', 'K Khejroliya', 'YS Chahal']      51\n",
       "Name: Team1Players, Length: 932, dtype: int64"
      ]
     },
     "execution_count": 61,
     "metadata": {},
     "output_type": "execute_result"
    }
   ],
   "source": [
    "ball_with_match['Team1Players'].value_counts()"
   ]
  },
  {
   "cell_type": "markdown",
   "id": "76255a49",
   "metadata": {},
   "source": [
    "### Team2Players"
   ]
  },
  {
   "cell_type": "code",
   "execution_count": 62,
   "id": "42b5ff89",
   "metadata": {},
   "outputs": [
    {
     "data": {
      "text/plain": [
       "['KL Rahul', 'MA Agarwal', 'CH Gayle', 'N Pooran', 'GJ Maxwell', 'DJ Hooda', 'CJ Jordan', 'M Ashwin', 'Ravi Bishnoi', 'Mohammed Shami', 'Arshdeep Singh']        520\n",
       "['AM Rahane', 'SV Samson', 'SPD Smith', 'KK Nair', 'STR Binny', 'DJ Hooda', 'JP Faulkner', 'CH Morris', 'TG Southee', 'DS Kulkarni', 'PV Tambe']                 507\n",
       "['RG Sharma', 'Q de Kock', 'SA Yadav', 'Ishan Kishan', 'HH Pandya', 'KA Pollard', 'KH Pandya', 'JL Pattinson', 'RD Chahar', 'TA Boult', 'JJ Bumrah']             507\n",
       "['JC Buttler', 'M Vohra', 'SV Samson', 'S Dube', 'DA Miller', 'R Parag', 'R Tewatia', 'CH Morris', 'JD Unadkat', 'C Sakariya', 'Mustafizur Rahman']              501\n",
       "['MA Agarwal', 'SS Iyer', 'JP Duminy', 'Yuvraj Singh', 'AD Mathews', 'KM Jadhav', 'MK Tiwary', 'NM Coulter-Nile', 'A Mishra', 'Imran Tahir', 'DJ Muthuswami']    500\n",
       "                                                                                                                                                                ... \n",
       "['RS Bopara', 'K Goel', 'Yuvraj Singh', 'KC Sangakkara', 'DPMD Jayawardene', 'IK Pathan', 'PP Chawla', 'T Kohli', 'VS Malik', 'VRV Singh', 'YA Abdulla']         108\n",
       "['CH Gayle', 'V Kohli', 'AB de Villiers', 'Mandeep Singh', 'KD Karthik', 'SN Khan', 'D Wiese', 'MA Starc', 'HV Patel', 'YS Chahal', 'AB Dinda']                  106\n",
       "['MEK Hussey', 'M Vijay', 'SK Raina', 'DJ Bravo', 'MS Dhoni', 'RA Jadeja', 'S Badrinath', 'CH Morris', 'R Ashwin', 'JO Holder', 'MM Sharma']                     100\n",
       "['MK Pandey', 'JP Faulkner', 'SC Ganguly', 'RV Uthappa', 'Yuvraj Singh', 'CJ Ferguson', 'S Rana', 'MR Marsh', 'SS Mundhe', 'R Sharma', 'AC Thomas']               63\n",
       "['SV Samson', 'LS Livingstone', 'AM Rahane', 'SPD Smith', 'R Parag', 'STR Binny', 'MK Lomror', 'S Gopal', 'JD Unadkat', 'VR Aaron', 'O Thomas']                   51\n",
       "Name: Team2Players, Length: 937, dtype: int64"
      ]
     },
     "execution_count": 62,
     "metadata": {},
     "output_type": "execute_result"
    }
   ],
   "source": [
    "ball_with_match['Team2Players'].value_counts()"
   ]
  },
  {
   "cell_type": "markdown",
   "id": "29577949",
   "metadata": {},
   "source": [
    "### Umpire1"
   ]
  },
  {
   "cell_type": "code",
   "execution_count": 63,
   "id": "183befd4",
   "metadata": {
    "scrolled": true
   },
   "outputs": [
    {
     "data": {
      "text/plain": [
       "AK Chaudhary             22570\n",
       "HDPK Dharmasena          18224\n",
       "Asad Rauf                12010\n",
       "S Ravi                   11560\n",
       "CB Gaffaney              11270\n",
       "KN Ananthapadmanabhan    10587\n",
       "M Erasmus                10224\n",
       "Aleem Dar                 9137\n",
       "BF Bowden                 8719\n",
       "BR Doctrove               8015\n",
       "Nitin Menon               7535\n",
       "BNJ Oxenford              7224\n",
       "AY Dandekar               7081\n",
       "C Shamshuddin             6619\n",
       "RE Koertzen               4744\n",
       "S Asnani                  4551\n",
       "CK Nandan                 3870\n",
       "NJ Llong                  3847\n",
       "A Nand Kishore            3801\n",
       "JD Cloete                 3470\n",
       "RK Illingworth            3312\n",
       "BG Jerling                3080\n",
       "VA Kulkarni               2844\n",
       "SS Hazare                 2463\n",
       "S Das                     2442\n",
       "K Hariharan               2343\n",
       "MR Benson                 2257\n",
       "A Deshmukh                2104\n",
       "DJ Harper                 2101\n",
       "J Madanagopal             1958\n",
       "PG Pathak                 1722\n",
       "GAV Baxter                1692\n",
       "IL Howell                 1670\n",
       "PR Reiffel                1635\n",
       "RM Deshpande              1587\n",
       "SJ Davis                  1458\n",
       "RJ Tucker                 1417\n",
       "Chirra Ravikanthreddy     1358\n",
       "YC Barde                  1341\n",
       "SD Fry                    1231\n",
       "SK Tarapore               1164\n",
       "IJ Gould                   973\n",
       "AM Saheba                  947\n",
       "VK Sharma                  939\n",
       "GR Sadashiv Iyer           741\n",
       "Navdeep Singh              734\n",
       "UV Gandhe                  730\n",
       "R Pandit                   722\n",
       "K Bharatan                 700\n",
       "NA Patwardhan              491\n",
       "MA Gough                   477\n",
       "K Srinath                  464\n",
       "K Srinivasan               446\n",
       "AV Jayaprakash             376\n",
       "SJA Taufel                 250\n",
       "Tapan Sharma               249\n",
       "HAS Khalid                 244\n",
       "SL Shastri                 234\n",
       "Name: Umpire1, dtype: int64"
      ]
     },
     "execution_count": 63,
     "metadata": {},
     "output_type": "execute_result"
    }
   ],
   "source": [
    "ball_with_match['Umpire1'].value_counts()"
   ]
  },
  {
   "cell_type": "markdown",
   "id": "8e36daa7",
   "metadata": {},
   "source": [
    "### Umpire2"
   ]
  },
  {
   "cell_type": "code",
   "execution_count": 64,
   "id": "489fb617",
   "metadata": {
    "scrolled": true
   },
   "outputs": [
    {
     "data": {
      "text/plain": [
       "S Ravi                   19983\n",
       "C Shamshuddin            14082\n",
       "SJA Taufel               12981\n",
       "Nitin Menon              12401\n",
       "RJ Tucker                10739\n",
       "VK Sharma                10071\n",
       "CK Nandan                10052\n",
       "VA Kulkarni               9127\n",
       "RB Tiffin                 7110\n",
       "BNJ Oxenford              6312\n",
       "SK Tarapore               6207\n",
       "RK Illingworth            6091\n",
       "M Erasmus                 6006\n",
       "YC Barde                  5371\n",
       "CB Gaffaney               5370\n",
       "AM Saheba                 5279\n",
       "PR Reiffel                5014\n",
       "RE Koertzen               4881\n",
       "NJ Llong                  4806\n",
       "DJ Harper                 4228\n",
       "HDPK Dharmasena           4095\n",
       "AK Chaudhary              3895\n",
       "UV Gandhe                 3520\n",
       "K Srinath                 3142\n",
       "SL Shastri                3138\n",
       "KN Ananthapadmanabhan     2888\n",
       "S Asnani                  2653\n",
       "K Hariharan               2614\n",
       "MA Gough                  2330\n",
       "A Nand Kishore            2160\n",
       "PG Pathak                 1992\n",
       "BR Doctrove               1870\n",
       "Tapan Sharma              1692\n",
       "IL Howell                 1656\n",
       "K Srinivasan              1583\n",
       "N Pandit                  1514\n",
       "GA Pratapkumar            1455\n",
       "I Shivram                 1454\n",
       "SS Hazare                 1428\n",
       "HAS Khalid                1410\n",
       "AL Hill                   1391\n",
       "S Das                     1232\n",
       "TH Wijewardene            1196\n",
       "BG Jerling                1000\n",
       "Navdeep Singh              976\n",
       "NA Patwardhan              969\n",
       "AV Jayaprakash             902\n",
       "R Pandit                   727\n",
       "GR Sadashiv Iyer           716\n",
       "A Deshmukh                 665\n",
       "J Madanagopal              650\n",
       "MR Benson                  497\n",
       "IJ Gould                   468\n",
       "AY Dandekar                451\n",
       "SD Ranade                  295\n",
       "BF Bowden                  250\n",
       "Subroto Das                243\n",
       "SJ Davis                   243\n",
       "JD Cloete                  243\n",
       "SD Fry                     240\n",
       "Name: Umpire2, dtype: int64"
      ]
     },
     "execution_count": 64,
     "metadata": {},
     "output_type": "execute_result"
    }
   ],
   "source": [
    "ball_with_match['Umpire2'].value_counts()"
   ]
  },
  {
   "cell_type": "markdown",
   "id": "0fc419b3",
   "metadata": {},
   "source": [
    "### export cleaned data"
   ]
  },
  {
   "cell_type": "code",
   "execution_count": 65,
   "id": "170cf9bf",
   "metadata": {},
   "outputs": [],
   "source": [
    "ball_with_match.to_csv('ball_with_match_cleaned.csv', index=False)"
   ]
  },
  {
   "cell_type": "markdown",
   "id": "22f30f1d",
   "metadata": {},
   "source": [
    "## ipl-matches dataset"
   ]
  },
  {
   "cell_type": "code",
   "execution_count": 4,
   "id": "6d11d979",
   "metadata": {},
   "outputs": [
    {
     "data": {
      "text/html": [
       "<div>\n",
       "<style scoped>\n",
       "    .dataframe tbody tr th:only-of-type {\n",
       "        vertical-align: middle;\n",
       "    }\n",
       "\n",
       "    .dataframe tbody tr th {\n",
       "        vertical-align: top;\n",
       "    }\n",
       "\n",
       "    .dataframe thead th {\n",
       "        text-align: right;\n",
       "    }\n",
       "</style>\n",
       "<table border=\"1\" class=\"dataframe\">\n",
       "  <thead>\n",
       "    <tr style=\"text-align: right;\">\n",
       "      <th></th>\n",
       "      <th>ID</th>\n",
       "      <th>City</th>\n",
       "      <th>Date</th>\n",
       "      <th>Season</th>\n",
       "      <th>MatchNumber</th>\n",
       "      <th>Team1</th>\n",
       "      <th>Team2</th>\n",
       "      <th>Venue</th>\n",
       "      <th>TossWinner</th>\n",
       "      <th>TossDecision</th>\n",
       "      <th>SuperOver</th>\n",
       "      <th>WinningTeam</th>\n",
       "      <th>WonBy</th>\n",
       "      <th>Margin</th>\n",
       "      <th>method</th>\n",
       "      <th>Player_of_Match</th>\n",
       "      <th>Team1Players</th>\n",
       "      <th>Team2Players</th>\n",
       "      <th>Umpire1</th>\n",
       "      <th>Umpire2</th>\n",
       "    </tr>\n",
       "  </thead>\n",
       "  <tbody>\n",
       "    <tr>\n",
       "      <th>0</th>\n",
       "      <td>1312200</td>\n",
       "      <td>Ahmedabad</td>\n",
       "      <td>2022-05-29</td>\n",
       "      <td>2022</td>\n",
       "      <td>Final</td>\n",
       "      <td>Rajasthan Royals</td>\n",
       "      <td>Gujarat Titans</td>\n",
       "      <td>Narendra Modi Stadium, Ahmedabad</td>\n",
       "      <td>Rajasthan Royals</td>\n",
       "      <td>bat</td>\n",
       "      <td>N</td>\n",
       "      <td>Gujarat Titans</td>\n",
       "      <td>Wickets</td>\n",
       "      <td>7.0</td>\n",
       "      <td>NaN</td>\n",
       "      <td>HH Pandya</td>\n",
       "      <td>['YBK Jaiswal', 'JC Buttler', 'SV Samson', 'D ...</td>\n",
       "      <td>['WP Saha', 'Shubman Gill', 'MS Wade', 'HH Pan...</td>\n",
       "      <td>CB Gaffaney</td>\n",
       "      <td>Nitin Menon</td>\n",
       "    </tr>\n",
       "    <tr>\n",
       "      <th>1</th>\n",
       "      <td>1312199</td>\n",
       "      <td>Ahmedabad</td>\n",
       "      <td>2022-05-27</td>\n",
       "      <td>2022</td>\n",
       "      <td>Qualifier 2</td>\n",
       "      <td>Royal Challengers Bangalore</td>\n",
       "      <td>Rajasthan Royals</td>\n",
       "      <td>Narendra Modi Stadium, Ahmedabad</td>\n",
       "      <td>Rajasthan Royals</td>\n",
       "      <td>field</td>\n",
       "      <td>N</td>\n",
       "      <td>Rajasthan Royals</td>\n",
       "      <td>Wickets</td>\n",
       "      <td>7.0</td>\n",
       "      <td>NaN</td>\n",
       "      <td>JC Buttler</td>\n",
       "      <td>['V Kohli', 'F du Plessis', 'RM Patidar', 'GJ ...</td>\n",
       "      <td>['YBK Jaiswal', 'JC Buttler', 'SV Samson', 'D ...</td>\n",
       "      <td>CB Gaffaney</td>\n",
       "      <td>Nitin Menon</td>\n",
       "    </tr>\n",
       "    <tr>\n",
       "      <th>2</th>\n",
       "      <td>1312198</td>\n",
       "      <td>Kolkata</td>\n",
       "      <td>2022-05-25</td>\n",
       "      <td>2022</td>\n",
       "      <td>Eliminator</td>\n",
       "      <td>Royal Challengers Bangalore</td>\n",
       "      <td>Lucknow Super Giants</td>\n",
       "      <td>Eden Gardens, Kolkata</td>\n",
       "      <td>Lucknow Super Giants</td>\n",
       "      <td>field</td>\n",
       "      <td>N</td>\n",
       "      <td>Royal Challengers Bangalore</td>\n",
       "      <td>Runs</td>\n",
       "      <td>14.0</td>\n",
       "      <td>NaN</td>\n",
       "      <td>RM Patidar</td>\n",
       "      <td>['V Kohli', 'F du Plessis', 'RM Patidar', 'GJ ...</td>\n",
       "      <td>['Q de Kock', 'KL Rahul', 'M Vohra', 'DJ Hooda...</td>\n",
       "      <td>J Madanagopal</td>\n",
       "      <td>MA Gough</td>\n",
       "    </tr>\n",
       "    <tr>\n",
       "      <th>3</th>\n",
       "      <td>1312197</td>\n",
       "      <td>Kolkata</td>\n",
       "      <td>2022-05-24</td>\n",
       "      <td>2022</td>\n",
       "      <td>Qualifier 1</td>\n",
       "      <td>Rajasthan Royals</td>\n",
       "      <td>Gujarat Titans</td>\n",
       "      <td>Eden Gardens, Kolkata</td>\n",
       "      <td>Gujarat Titans</td>\n",
       "      <td>field</td>\n",
       "      <td>N</td>\n",
       "      <td>Gujarat Titans</td>\n",
       "      <td>Wickets</td>\n",
       "      <td>7.0</td>\n",
       "      <td>NaN</td>\n",
       "      <td>DA Miller</td>\n",
       "      <td>['YBK Jaiswal', 'JC Buttler', 'SV Samson', 'D ...</td>\n",
       "      <td>['WP Saha', 'Shubman Gill', 'MS Wade', 'HH Pan...</td>\n",
       "      <td>BNJ Oxenford</td>\n",
       "      <td>VK Sharma</td>\n",
       "    </tr>\n",
       "    <tr>\n",
       "      <th>4</th>\n",
       "      <td>1304116</td>\n",
       "      <td>Mumbai</td>\n",
       "      <td>2022-05-22</td>\n",
       "      <td>2022</td>\n",
       "      <td>70</td>\n",
       "      <td>Sunrisers Hyderabad</td>\n",
       "      <td>Punjab Kings</td>\n",
       "      <td>Wankhede Stadium, Mumbai</td>\n",
       "      <td>Sunrisers Hyderabad</td>\n",
       "      <td>bat</td>\n",
       "      <td>N</td>\n",
       "      <td>Punjab Kings</td>\n",
       "      <td>Wickets</td>\n",
       "      <td>5.0</td>\n",
       "      <td>NaN</td>\n",
       "      <td>Harpreet Brar</td>\n",
       "      <td>['PK Garg', 'Abhishek Sharma', 'RA Tripathi', ...</td>\n",
       "      <td>['JM Bairstow', 'S Dhawan', 'M Shahrukh Khan',...</td>\n",
       "      <td>AK Chaudhary</td>\n",
       "      <td>NA Patwardhan</td>\n",
       "    </tr>\n",
       "  </tbody>\n",
       "</table>\n",
       "</div>"
      ],
      "text/plain": [
       "        ID       City        Date Season  MatchNumber  \\\n",
       "0  1312200  Ahmedabad  2022-05-29   2022        Final   \n",
       "1  1312199  Ahmedabad  2022-05-27   2022  Qualifier 2   \n",
       "2  1312198    Kolkata  2022-05-25   2022   Eliminator   \n",
       "3  1312197    Kolkata  2022-05-24   2022  Qualifier 1   \n",
       "4  1304116     Mumbai  2022-05-22   2022           70   \n",
       "\n",
       "                         Team1                 Team2  \\\n",
       "0             Rajasthan Royals        Gujarat Titans   \n",
       "1  Royal Challengers Bangalore      Rajasthan Royals   \n",
       "2  Royal Challengers Bangalore  Lucknow Super Giants   \n",
       "3             Rajasthan Royals        Gujarat Titans   \n",
       "4          Sunrisers Hyderabad          Punjab Kings   \n",
       "\n",
       "                              Venue            TossWinner TossDecision  \\\n",
       "0  Narendra Modi Stadium, Ahmedabad      Rajasthan Royals          bat   \n",
       "1  Narendra Modi Stadium, Ahmedabad      Rajasthan Royals        field   \n",
       "2             Eden Gardens, Kolkata  Lucknow Super Giants        field   \n",
       "3             Eden Gardens, Kolkata        Gujarat Titans        field   \n",
       "4          Wankhede Stadium, Mumbai   Sunrisers Hyderabad          bat   \n",
       "\n",
       "  SuperOver                  WinningTeam    WonBy  Margin method  \\\n",
       "0         N               Gujarat Titans  Wickets     7.0    NaN   \n",
       "1         N             Rajasthan Royals  Wickets     7.0    NaN   \n",
       "2         N  Royal Challengers Bangalore     Runs    14.0    NaN   \n",
       "3         N               Gujarat Titans  Wickets     7.0    NaN   \n",
       "4         N                 Punjab Kings  Wickets     5.0    NaN   \n",
       "\n",
       "  Player_of_Match                                       Team1Players  \\\n",
       "0       HH Pandya  ['YBK Jaiswal', 'JC Buttler', 'SV Samson', 'D ...   \n",
       "1      JC Buttler  ['V Kohli', 'F du Plessis', 'RM Patidar', 'GJ ...   \n",
       "2      RM Patidar  ['V Kohli', 'F du Plessis', 'RM Patidar', 'GJ ...   \n",
       "3       DA Miller  ['YBK Jaiswal', 'JC Buttler', 'SV Samson', 'D ...   \n",
       "4   Harpreet Brar  ['PK Garg', 'Abhishek Sharma', 'RA Tripathi', ...   \n",
       "\n",
       "                                        Team2Players        Umpire1  \\\n",
       "0  ['WP Saha', 'Shubman Gill', 'MS Wade', 'HH Pan...    CB Gaffaney   \n",
       "1  ['YBK Jaiswal', 'JC Buttler', 'SV Samson', 'D ...    CB Gaffaney   \n",
       "2  ['Q de Kock', 'KL Rahul', 'M Vohra', 'DJ Hooda...  J Madanagopal   \n",
       "3  ['WP Saha', 'Shubman Gill', 'MS Wade', 'HH Pan...   BNJ Oxenford   \n",
       "4  ['JM Bairstow', 'S Dhawan', 'M Shahrukh Khan',...   AK Chaudhary   \n",
       "\n",
       "         Umpire2  \n",
       "0    Nitin Menon  \n",
       "1    Nitin Menon  \n",
       "2       MA Gough  \n",
       "3      VK Sharma  \n",
       "4  NA Patwardhan  "
      ]
     },
     "execution_count": 4,
     "metadata": {},
     "output_type": "execute_result"
    }
   ],
   "source": [
    "matches.head()"
   ]
  },
  {
   "cell_type": "markdown",
   "id": "37d8d006",
   "metadata": {},
   "source": [
    "### City"
   ]
  },
  {
   "cell_type": "code",
   "execution_count": 6,
   "id": "41644d2a",
   "metadata": {},
   "outputs": [
    {
     "data": {
      "text/plain": [
       "Mumbai            159\n",
       "Kolkata            79\n",
       "Delhi              78\n",
       "Chennai            67\n",
       "Bangalore          65\n",
       "Hyderabad          64\n",
       "Chandigarh         56\n",
       "Pune               51\n",
       "Jaipur             47\n",
       "Abu Dhabi          37\n",
       "Ahmedabad          19\n",
       "Bengaluru          15\n",
       "Durban             15\n",
       "Visakhapatnam      13\n",
       "Dubai              13\n",
       "Centurion          12\n",
       "Rajkot             10\n",
       "Sharjah            10\n",
       "Dharamsala          9\n",
       "Navi Mumbai         9\n",
       "Indore              9\n",
       "Johannesburg        8\n",
       "Ranchi              7\n",
       "Cuttack             7\n",
       "Port Elizabeth      7\n",
       "Cape Town           7\n",
       "Raipur              6\n",
       "Kochi               5\n",
       "Kanpur              4\n",
       "Nagpur              3\n",
       "Kimberley           3\n",
       "East London         3\n",
       "Bloemfontein        2\n",
       "Name: City, dtype: int64"
      ]
     },
     "execution_count": 6,
     "metadata": {},
     "output_type": "execute_result"
    }
   ],
   "source": [
    "matches['City'].value_counts()"
   ]
  },
  {
   "cell_type": "markdown",
   "id": "ab1ba704",
   "metadata": {},
   "source": [
    "### Date"
   ]
  },
  {
   "cell_type": "code",
   "execution_count": 8,
   "id": "1761cb40",
   "metadata": {},
   "outputs": [
    {
     "data": {
      "text/plain": [
       "0      2022-05-29\n",
       "1      2022-05-27\n",
       "2      2022-05-25\n",
       "3      2022-05-24\n",
       "4      2022-05-22\n",
       "          ...    \n",
       "945    2008-04-20\n",
       "946    2008-04-20\n",
       "947    2008-04-19\n",
       "948    2008-04-19\n",
       "949    2008-04-18\n",
       "Name: Date, Length: 950, dtype: object"
      ]
     },
     "execution_count": 8,
     "metadata": {},
     "output_type": "execute_result"
    }
   ],
   "source": [
    "matches['Date']"
   ]
  },
  {
   "cell_type": "code",
   "execution_count": 10,
   "id": "26510476",
   "metadata": {},
   "outputs": [],
   "source": [
    "matches['Date'] = pd.to_datetime(matches['Date'])"
   ]
  },
  {
   "cell_type": "code",
   "execution_count": 11,
   "id": "b2e0fd21",
   "metadata": {},
   "outputs": [
    {
     "data": {
      "text/plain": [
       "0     2022-05-29\n",
       "1     2022-05-27\n",
       "2     2022-05-25\n",
       "3     2022-05-24\n",
       "4     2022-05-22\n",
       "         ...    \n",
       "945   2008-04-20\n",
       "946   2008-04-20\n",
       "947   2008-04-19\n",
       "948   2008-04-19\n",
       "949   2008-04-18\n",
       "Name: Date, Length: 950, dtype: datetime64[ns]"
      ]
     },
     "execution_count": 11,
     "metadata": {},
     "output_type": "execute_result"
    }
   ],
   "source": [
    "matches['Date']"
   ]
  },
  {
   "cell_type": "markdown",
   "id": "fbd25276",
   "metadata": {},
   "source": [
    "### Season"
   ]
  },
  {
   "cell_type": "code",
   "execution_count": 12,
   "id": "2af294ca",
   "metadata": {},
   "outputs": [
    {
     "data": {
      "text/plain": [
       "2013       76\n",
       "2022       74\n",
       "2012       74\n",
       "2011       73\n",
       "2021       60\n",
       "2020/21    60\n",
       "2019       60\n",
       "2018       60\n",
       "2016       60\n",
       "2014       60\n",
       "2009/10    60\n",
       "2017       59\n",
       "2015       59\n",
       "2007/08    58\n",
       "2009       57\n",
       "Name: Season, dtype: int64"
      ]
     },
     "execution_count": 12,
     "metadata": {},
     "output_type": "execute_result"
    }
   ],
   "source": [
    "matches['Season'].value_counts()"
   ]
  },
  {
   "cell_type": "code",
   "execution_count": 15,
   "id": "90195769",
   "metadata": {},
   "outputs": [],
   "source": [
    "matches['Season']=matches['Season'].replace('2007/08','2008')\n",
    "matches['Season']=matches['Season'].replace('2020/21','2020')\n",
    "matches['Season']=matches['Season'].replace('2009/10','2010') "
   ]
  },
  {
   "cell_type": "code",
   "execution_count": 16,
   "id": "83562b13",
   "metadata": {},
   "outputs": [
    {
     "data": {
      "text/plain": [
       "2008    58\n",
       "2009    57\n",
       "2010    60\n",
       "2011    73\n",
       "2012    74\n",
       "2013    76\n",
       "2014    60\n",
       "2015    59\n",
       "2016    60\n",
       "2017    59\n",
       "2018    60\n",
       "2019    60\n",
       "2020    60\n",
       "2021    60\n",
       "2022    74\n",
       "Name: Season, dtype: int64"
      ]
     },
     "execution_count": 16,
     "metadata": {},
     "output_type": "execute_result"
    }
   ],
   "source": [
    "matches['Season'].value_counts().sort_index()"
   ]
  },
  {
   "cell_type": "markdown",
   "id": "d1bcdce1",
   "metadata": {},
   "source": [
    "### MatchNumber"
   ]
  },
  {
   "cell_type": "code",
   "execution_count": 17,
   "id": "d44edada",
   "metadata": {},
   "outputs": [
    {
     "data": {
      "text/plain": [
       "Final                 15\n",
       "36                    15\n",
       "46                    15\n",
       "45                    15\n",
       "44                    15\n",
       "                      ..\n",
       "65                     4\n",
       "Elimination Final      3\n",
       "72                     2\n",
       "71                     2\n",
       "3rd Place Play-Off     1\n",
       "Name: MatchNumber, Length: 80, dtype: int64"
      ]
     },
     "execution_count": 17,
     "metadata": {},
     "output_type": "execute_result"
    }
   ],
   "source": [
    "matches['MatchNumber'].value_counts()"
   ]
  },
  {
   "cell_type": "markdown",
   "id": "0cc3d601",
   "metadata": {},
   "source": [
    "### Team1"
   ]
  },
  {
   "cell_type": "code",
   "execution_count": 18,
   "id": "04a075ba",
   "metadata": {},
   "outputs": [
    {
     "data": {
      "text/plain": [
       "Royal Challengers Bangalore    126\n",
       "Mumbai Indians                 112\n",
       "Chennai Super Kings            111\n",
       "Kolkata Knight Riders          105\n",
       "Kings XI Punjab                 92\n",
       "Rajasthan Royals                89\n",
       "Delhi Daredevils                85\n",
       "Sunrisers Hyderabad             69\n",
       "Deccan Chargers                 39\n",
       "Delhi Capitals                  29\n",
       "Pune Warriors                   23\n",
       "Punjab Kings                    18\n",
       "Gujarat Lions                   16\n",
       "Lucknow Super Giants             8\n",
       "Gujarat Titans                   7\n",
       "Rising Pune Supergiant           7\n",
       "Rising Pune Supergiants          7\n",
       "Kochi Tuskers Kerala             7\n",
       "Name: Team1, dtype: int64"
      ]
     },
     "execution_count": 18,
     "metadata": {},
     "output_type": "execute_result"
    }
   ],
   "source": [
    "matches['Team1'].value_counts()"
   ]
  },
  {
   "cell_type": "code",
   "execution_count": 20,
   "id": "5893232b",
   "metadata": {},
   "outputs": [],
   "source": [
    "matches['Team1']=matches['Team1'].replace('Delhi Daredevils','Delhi Capitals')\n",
    "matches['Team1']=matches['Team1'].replace('Kings XI Punjab','Punjab Kings')\n",
    "matches['Team1']=matches['Team1'].replace('Rising Pune Supergiants','Rising Pune Supergiant')"
   ]
  },
  {
   "cell_type": "code",
   "execution_count": 21,
   "id": "ee54a900",
   "metadata": {},
   "outputs": [
    {
     "data": {
      "text/plain": [
       "Royal Challengers Bangalore    126\n",
       "Delhi Capitals                 114\n",
       "Mumbai Indians                 112\n",
       "Chennai Super Kings            111\n",
       "Punjab Kings                   110\n",
       "Kolkata Knight Riders          105\n",
       "Rajasthan Royals                89\n",
       "Sunrisers Hyderabad             69\n",
       "Deccan Chargers                 39\n",
       "Pune Warriors                   23\n",
       "Gujarat Lions                   16\n",
       "Rising Pune Supergiant          14\n",
       "Lucknow Super Giants             8\n",
       "Gujarat Titans                   7\n",
       "Kochi Tuskers Kerala             7\n",
       "Name: Team1, dtype: int64"
      ]
     },
     "execution_count": 21,
     "metadata": {},
     "output_type": "execute_result"
    }
   ],
   "source": [
    "matches['Team1'].value_counts()"
   ]
  },
  {
   "cell_type": "markdown",
   "id": "d1dc85a4",
   "metadata": {},
   "source": [
    "### Team2"
   ]
  },
  {
   "cell_type": "code",
   "execution_count": 24,
   "id": "69c01f25",
   "metadata": {},
   "outputs": [
    {
     "data": {
      "text/plain": [
       "Mumbai Indians                 119\n",
       "Kolkata Knight Riders          118\n",
       "Rajasthan Royals               103\n",
       "Royal Challengers Bangalore    100\n",
       "Kings XI Punjab                 98\n",
       "Chennai Super Kings             97\n",
       "Sunrisers Hyderabad             83\n",
       "Delhi Daredevils                76\n",
       "Deccan Chargers                 36\n",
       "Delhi Capitals                  34\n",
       "Pune Warriors                   23\n",
       "Gujarat Lions                   14\n",
       "Punjab Kings                    10\n",
       "Gujarat Titans                   9\n",
       "Rising Pune Supergiant           9\n",
       "Rising Pune Supergiants          7\n",
       "Lucknow Super Giants             7\n",
       "Kochi Tuskers Kerala             7\n",
       "Name: Team2, dtype: int64"
      ]
     },
     "execution_count": 24,
     "metadata": {},
     "output_type": "execute_result"
    }
   ],
   "source": [
    "matches['Team2'].value_counts()"
   ]
  },
  {
   "cell_type": "code",
   "execution_count": 25,
   "id": "f183305e",
   "metadata": {},
   "outputs": [],
   "source": [
    "matches['Team2']=matches['Team2'].replace('Delhi Daredevils','Delhi Capitals')\n",
    "matches['Team2']=matches['Team2'].replace('Kings XI Punjab','Punjab Kings')\n",
    "matches['Team2']=matches['Team2'].replace('Rising Pune Supergiants','Rising Pune Supergiant')"
   ]
  },
  {
   "cell_type": "code",
   "execution_count": 26,
   "id": "736f4266",
   "metadata": {},
   "outputs": [
    {
     "data": {
      "text/plain": [
       "Mumbai Indians                 119\n",
       "Kolkata Knight Riders          118\n",
       "Delhi Capitals                 110\n",
       "Punjab Kings                   108\n",
       "Rajasthan Royals               103\n",
       "Royal Challengers Bangalore    100\n",
       "Chennai Super Kings             97\n",
       "Sunrisers Hyderabad             83\n",
       "Deccan Chargers                 36\n",
       "Pune Warriors                   23\n",
       "Rising Pune Supergiant          16\n",
       "Gujarat Lions                   14\n",
       "Gujarat Titans                   9\n",
       "Lucknow Super Giants             7\n",
       "Kochi Tuskers Kerala             7\n",
       "Name: Team2, dtype: int64"
      ]
     },
     "execution_count": 26,
     "metadata": {},
     "output_type": "execute_result"
    }
   ],
   "source": [
    "matches['Team2'].value_counts()"
   ]
  },
  {
   "cell_type": "markdown",
   "id": "44ef2779",
   "metadata": {},
   "source": [
    "### Venue"
   ]
  },
  {
   "cell_type": "code",
   "execution_count": 31,
   "id": "3cbec77c",
   "metadata": {},
   "outputs": [
    {
     "data": {
      "text/plain": [
       "Wankhede Stadium                                       104\n",
       "M Chinnaswamy Stadium                                   80\n",
       "Eden Gardens                                            79\n",
       "Arun Jaitley Stadium                                    78\n",
       "MA Chidambaram Stadium                                  67\n",
       "Rajiv Gandhi International Stadium                      64\n",
       "Punjab Cricket Association Stadium                      56\n",
       "Sawai Mansingh Stadium                                  47\n",
       "Dubai International Cricket Stadium                     46\n",
       "Dr DY Patil Sports Academy                              37\n",
       "Maharashtra Cricket Association Stadium                 35\n",
       "Sheikh Zayed Stadium                                    29\n",
       "Sharjah Cricket Stadium                                 28\n",
       "Brabourne Stadium                                       27\n",
       "Subrata Roy Sahara Stadium                              16\n",
       "Kingsmead                                               15\n",
       "Dr. Y.S. Rajasekhara Reddy ACA-VDCA Cricket Stadium     13\n",
       "Sardar Patel Stadium, Motera                            12\n",
       "SuperSport Park                                         12\n",
       "Saurashtra Cricket Association Stadium                  10\n",
       "Himachal Pradesh Cricket Association Stadium             9\n",
       "Holkar Cricket Stadium                                   9\n",
       "New Wanderers Stadium                                    8\n",
       "Zayed Cricket Stadium, Abu Dhabi                         8\n",
       "St George's Park                                         7\n",
       "Narendra Modi Stadium, Ahmedabad                         7\n",
       "Newlands                                                 7\n",
       "Barabati Stadium                                         7\n",
       "JSCA International Stadium Complex                       7\n",
       "Shaheed Veer Narayan Singh International Stadium         6\n",
       "Nehru Stadium                                            5\n",
       "Green Park                                               4\n",
       "Vidarbha Cricket Association Stadium, Jamtha             3\n",
       "De Beers Diamond Oval                                    3\n",
       "Buffalo Park                                             3\n",
       "OUTsurance Oval                                          2\n",
       "Name: Venue, dtype: int64"
      ]
     },
     "execution_count": 31,
     "metadata": {},
     "output_type": "execute_result"
    }
   ],
   "source": [
    "matches['Venue'].value_counts()"
   ]
  },
  {
   "cell_type": "code",
   "execution_count": 29,
   "id": "49cc128d",
   "metadata": {},
   "outputs": [],
   "source": [
    "matches['Venue']=matches['Venue'].replace('Arun Jaitley Stadium, Delhi','Arun Jaitley Stadium')\n",
    "matches['Venue']=matches['Venue'].replace('Brabourne Stadium, Mumbai','Brabourne Stadium') \n",
    "matches['Venue']=matches['Venue'].replace('Dr DY Patil Sports Academy, Mumbai','Dr DY Patil Sports Academy') \n",
    "matches['Venue']=matches['Venue'].replace('Eden Gardens, Kolkata','Eden Gardens') \n",
    "matches['Venue']=matches['Venue'].replace('Feroz Shah Kotla','Arun Jaitley Stadium') \n",
    "matches['Venue']=matches['Venue'].replace('M.Chinnaswamy Stadium','M Chinnaswamy Stadium') \n",
    "matches['Venue']=matches['Venue'].replace('MA Chidambaram Stadium, Chepauk, Chennai','MA Chidambaram Stadium') \n",
    "matches['Venue']=matches['Venue'].replace('MA Chidambaram Stadium, Chepauk','MA Chidambaram Stadium')\n",
    "matches['Venue']=matches['Venue'].replace('Maharashtra Cricket Association Stadium, Pune','Maharashtra Cricket Association Stadium') \n",
    "matches['Venue']=matches['Venue'].replace('Punjab Cricket Association IS Bindra Stadium','Punjab Cricket Association Stadium')\n",
    "matches['Venue']=matches['Venue'].replace('Punjab Cricket Association IS Bindra Stadium, Mohali','Punjab Cricket Association Stadium') \n",
    "matches['Venue']=matches['Venue'].replace('Punjab Cricket Association Stadium, Mohali','Punjab Cricket Association Stadium') \n",
    "matches['Venue']=matches['Venue'].replace('Rajiv Gandhi International Stadium, Uppal','Rajiv Gandhi International Stadium') \n",
    "matches['Venue']=matches['Venue'].replace('Wankhede Stadium, Mumbai','Wankhede Stadium') "
   ]
  },
  {
   "cell_type": "code",
   "execution_count": 30,
   "id": "f075e871",
   "metadata": {},
   "outputs": [
    {
     "data": {
      "text/plain": [
       "Wankhede Stadium                                       104\n",
       "M Chinnaswamy Stadium                                   80\n",
       "Eden Gardens                                            79\n",
       "Arun Jaitley Stadium                                    78\n",
       "MA Chidambaram Stadium                                  67\n",
       "Rajiv Gandhi International Stadium                      64\n",
       "Punjab Cricket Association Stadium                      56\n",
       "Sawai Mansingh Stadium                                  47\n",
       "Dubai International Cricket Stadium                     46\n",
       "Dr DY Patil Sports Academy                              37\n",
       "Maharashtra Cricket Association Stadium                 35\n",
       "Sheikh Zayed Stadium                                    29\n",
       "Sharjah Cricket Stadium                                 28\n",
       "Brabourne Stadium                                       27\n",
       "Subrata Roy Sahara Stadium                              16\n",
       "Kingsmead                                               15\n",
       "Dr. Y.S. Rajasekhara Reddy ACA-VDCA Cricket Stadium     13\n",
       "Sardar Patel Stadium, Motera                            12\n",
       "SuperSport Park                                         12\n",
       "Saurashtra Cricket Association Stadium                  10\n",
       "Himachal Pradesh Cricket Association Stadium             9\n",
       "Holkar Cricket Stadium                                   9\n",
       "New Wanderers Stadium                                    8\n",
       "Zayed Cricket Stadium, Abu Dhabi                         8\n",
       "St George's Park                                         7\n",
       "Narendra Modi Stadium, Ahmedabad                         7\n",
       "Newlands                                                 7\n",
       "Barabati Stadium                                         7\n",
       "JSCA International Stadium Complex                       7\n",
       "Shaheed Veer Narayan Singh International Stadium         6\n",
       "Nehru Stadium                                            5\n",
       "Green Park                                               4\n",
       "Vidarbha Cricket Association Stadium, Jamtha             3\n",
       "De Beers Diamond Oval                                    3\n",
       "Buffalo Park                                             3\n",
       "OUTsurance Oval                                          2\n",
       "Name: Venue, dtype: int64"
      ]
     },
     "execution_count": 30,
     "metadata": {},
     "output_type": "execute_result"
    }
   ],
   "source": [
    "matches['Venue'].value_counts()"
   ]
  },
  {
   "cell_type": "markdown",
   "id": "ea862501",
   "metadata": {},
   "source": [
    "### TossWinner"
   ]
  },
  {
   "cell_type": "code",
   "execution_count": 34,
   "id": "0798fe62",
   "metadata": {},
   "outputs": [
    {
     "data": {
      "text/plain": [
       "Mumbai Indians                 123\n",
       "Kolkata Knight Riders          114\n",
       "Chennai Super Kings            109\n",
       "Royal Challengers Bangalore    105\n",
       "Rajasthan Royals                99\n",
       "Kings XI Punjab                 85\n",
       "Delhi Daredevils                80\n",
       "Sunrisers Hyderabad             74\n",
       "Deccan Chargers                 43\n",
       "Delhi Capitals                  36\n",
       "Pune Warriors                   20\n",
       "Gujarat Lions                   15\n",
       "Gujarat Titans                  10\n",
       "Punjab Kings                     9\n",
       "Kochi Tuskers Kerala             8\n",
       "Lucknow Super Giants             7\n",
       "Rising Pune Supergiants          7\n",
       "Rising Pune Supergiant           6\n",
       "Name: TossWinner, dtype: int64"
      ]
     },
     "execution_count": 34,
     "metadata": {},
     "output_type": "execute_result"
    }
   ],
   "source": [
    "matches['TossWinner'].value_counts()"
   ]
  },
  {
   "cell_type": "code",
   "execution_count": 35,
   "id": "029fd0ac",
   "metadata": {},
   "outputs": [],
   "source": [
    "matches['TossWinner']=matches['TossWinner'].replace('Delhi Daredevils','Delhi Capitals')\n",
    "matches['TossWinner']=matches['TossWinner'].replace('Kings XI Punjab','Punjab Kings')\n",
    "matches['TossWinner']=matches['TossWinner'].replace('Rising Pune Supergiants','Rising Pune Supergiant')"
   ]
  },
  {
   "cell_type": "code",
   "execution_count": 36,
   "id": "6c385b9b",
   "metadata": {},
   "outputs": [
    {
     "data": {
      "text/plain": [
       "Mumbai Indians                 123\n",
       "Delhi Capitals                 116\n",
       "Kolkata Knight Riders          114\n",
       "Chennai Super Kings            109\n",
       "Royal Challengers Bangalore    105\n",
       "Rajasthan Royals                99\n",
       "Punjab Kings                    94\n",
       "Sunrisers Hyderabad             74\n",
       "Deccan Chargers                 43\n",
       "Pune Warriors                   20\n",
       "Gujarat Lions                   15\n",
       "Rising Pune Supergiant          13\n",
       "Gujarat Titans                  10\n",
       "Kochi Tuskers Kerala             8\n",
       "Lucknow Super Giants             7\n",
       "Name: TossWinner, dtype: int64"
      ]
     },
     "execution_count": 36,
     "metadata": {},
     "output_type": "execute_result"
    }
   ],
   "source": [
    "matches['TossWinner'].value_counts()"
   ]
  },
  {
   "cell_type": "markdown",
   "id": "b4c5b634",
   "metadata": {},
   "source": [
    "### TossDecision"
   ]
  },
  {
   "cell_type": "code",
   "execution_count": 39,
   "id": "30a20e5c",
   "metadata": {},
   "outputs": [
    {
     "data": {
      "text/plain": [
       "field    599\n",
       "bat      351\n",
       "Name: TossDecision, dtype: int64"
      ]
     },
     "execution_count": 39,
     "metadata": {},
     "output_type": "execute_result"
    }
   ],
   "source": [
    "matches['TossDecision'].value_counts()"
   ]
  },
  {
   "cell_type": "markdown",
   "id": "73ec915e",
   "metadata": {},
   "source": [
    "### SuperOver"
   ]
  },
  {
   "cell_type": "code",
   "execution_count": 40,
   "id": "c9bb16dc",
   "metadata": {},
   "outputs": [
    {
     "data": {
      "text/plain": [
       "N    932\n",
       "Y     14\n",
       "Name: SuperOver, dtype: int64"
      ]
     },
     "execution_count": 40,
     "metadata": {},
     "output_type": "execute_result"
    }
   ],
   "source": [
    "matches['SuperOver'].value_counts()"
   ]
  },
  {
   "cell_type": "markdown",
   "id": "81796b44",
   "metadata": {},
   "source": [
    "### WinningTeam"
   ]
  },
  {
   "cell_type": "code",
   "execution_count": 43,
   "id": "04dff50c",
   "metadata": {},
   "outputs": [
    {
     "data": {
      "text/plain": [
       "Mumbai Indians                 131\n",
       "Chennai Super Kings            121\n",
       "Kolkata Knight Riders          114\n",
       "Royal Challengers Bangalore    109\n",
       "Rajasthan Royals                96\n",
       "Kings XI Punjab                 88\n",
       "Sunrisers Hyderabad             75\n",
       "Delhi Daredevils                67\n",
       "Delhi Capitals                  36\n",
       "Deccan Chargers                 29\n",
       "Gujarat Lions                   13\n",
       "Punjab Kings                    13\n",
       "Pune Warriors                   12\n",
       "Gujarat Titans                  12\n",
       "Rising Pune Supergiant          10\n",
       "Lucknow Super Giants             9\n",
       "Kochi Tuskers Kerala             6\n",
       "Rising Pune Supergiants          5\n",
       "Name: WinningTeam, dtype: int64"
      ]
     },
     "execution_count": 43,
     "metadata": {},
     "output_type": "execute_result"
    }
   ],
   "source": [
    "matches['WinningTeam'].value_counts()"
   ]
  },
  {
   "cell_type": "code",
   "execution_count": 44,
   "id": "4d561470",
   "metadata": {},
   "outputs": [],
   "source": [
    "matches['WinningTeam']=matches['WinningTeam'].replace('Delhi Daredevils','Delhi Capitals')\n",
    "matches['WinningTeam']=matches['WinningTeam'].replace('Kings XI Punjab','Punjab Kings')\n",
    "matches['WinningTeam']=matches['WinningTeam'].replace('Rising Pune Supergiants','Rising Pune Supergiant')"
   ]
  },
  {
   "cell_type": "code",
   "execution_count": 45,
   "id": "f1ad33a8",
   "metadata": {},
   "outputs": [
    {
     "data": {
      "text/plain": [
       "Mumbai Indians                 131\n",
       "Chennai Super Kings            121\n",
       "Kolkata Knight Riders          114\n",
       "Royal Challengers Bangalore    109\n",
       "Delhi Capitals                 103\n",
       "Punjab Kings                   101\n",
       "Rajasthan Royals                96\n",
       "Sunrisers Hyderabad             75\n",
       "Deccan Chargers                 29\n",
       "Rising Pune Supergiant          15\n",
       "Gujarat Lions                   13\n",
       "Gujarat Titans                  12\n",
       "Pune Warriors                   12\n",
       "Lucknow Super Giants             9\n",
       "Kochi Tuskers Kerala             6\n",
       "Name: WinningTeam, dtype: int64"
      ]
     },
     "execution_count": 45,
     "metadata": {},
     "output_type": "execute_result"
    }
   ],
   "source": [
    "matches['WinningTeam'].value_counts()"
   ]
  },
  {
   "cell_type": "markdown",
   "id": "7a049f7e",
   "metadata": {},
   "source": [
    "### WonBy"
   ]
  },
  {
   "cell_type": "code",
   "execution_count": 56,
   "id": "35bdfc25",
   "metadata": {},
   "outputs": [
    {
     "data": {
      "text/plain": [
       "Wickets      509\n",
       "Runs         423\n",
       "SuperOver     14\n",
       "NoResults      4\n",
       "Name: WonBy, dtype: int64"
      ]
     },
     "execution_count": 56,
     "metadata": {},
     "output_type": "execute_result"
    }
   ],
   "source": [
    "matches['WonBy'].value_counts()"
   ]
  },
  {
   "cell_type": "markdown",
   "id": "4a92d568",
   "metadata": {},
   "source": [
    "### Margin"
   ]
  },
  {
   "cell_type": "code",
   "execution_count": 57,
   "id": "9fec0dc1",
   "metadata": {},
   "outputs": [
    {
     "data": {
      "text/plain": [
       "146.0"
      ]
     },
     "execution_count": 57,
     "metadata": {},
     "output_type": "execute_result"
    }
   ],
   "source": [
    "matches['Margin'].max()"
   ]
  },
  {
   "cell_type": "code",
   "execution_count": 58,
   "id": "fe46f594",
   "metadata": {},
   "outputs": [
    {
     "data": {
      "text/html": [
       "<div>\n",
       "<style scoped>\n",
       "    .dataframe tbody tr th:only-of-type {\n",
       "        vertical-align: middle;\n",
       "    }\n",
       "\n",
       "    .dataframe tbody tr th {\n",
       "        vertical-align: top;\n",
       "    }\n",
       "\n",
       "    .dataframe thead th {\n",
       "        text-align: right;\n",
       "    }\n",
       "</style>\n",
       "<table border=\"1\" class=\"dataframe\">\n",
       "  <thead>\n",
       "    <tr style=\"text-align: right;\">\n",
       "      <th></th>\n",
       "      <th>ID</th>\n",
       "      <th>City</th>\n",
       "      <th>Date</th>\n",
       "      <th>Season</th>\n",
       "      <th>MatchNumber</th>\n",
       "      <th>Team1</th>\n",
       "      <th>Team2</th>\n",
       "      <th>Venue</th>\n",
       "      <th>TossWinner</th>\n",
       "      <th>TossDecision</th>\n",
       "      <th>SuperOver</th>\n",
       "      <th>WinningTeam</th>\n",
       "      <th>WonBy</th>\n",
       "      <th>Margin</th>\n",
       "      <th>method</th>\n",
       "      <th>Player_of_Match</th>\n",
       "      <th>Team1Players</th>\n",
       "      <th>Team2Players</th>\n",
       "      <th>Umpire1</th>\n",
       "      <th>Umpire2</th>\n",
       "    </tr>\n",
       "  </thead>\n",
       "  <tbody>\n",
       "    <tr>\n",
       "      <th>329</th>\n",
       "      <td>1082635</td>\n",
       "      <td>Delhi</td>\n",
       "      <td>2017-05-06</td>\n",
       "      <td>2017</td>\n",
       "      <td>45</td>\n",
       "      <td>Delhi Capitals</td>\n",
       "      <td>Mumbai Indians</td>\n",
       "      <td>Arun Jaitley Stadium</td>\n",
       "      <td>Delhi Capitals</td>\n",
       "      <td>field</td>\n",
       "      <td>N</td>\n",
       "      <td>Mumbai Indians</td>\n",
       "      <td>Runs</td>\n",
       "      <td>146.0</td>\n",
       "      <td>NaN</td>\n",
       "      <td>LMP Simmons</td>\n",
       "      <td>['SV Samson', 'KK Nair', 'SS Iyer', 'RR Pant',...</td>\n",
       "      <td>['LMP Simmons', 'PA Patel', 'KA Pollard', 'RG ...</td>\n",
       "      <td>Nitin Menon</td>\n",
       "      <td>CK Nandan</td>\n",
       "    </tr>\n",
       "  </tbody>\n",
       "</table>\n",
       "</div>"
      ],
      "text/plain": [
       "          ID   City       Date Season MatchNumber           Team1  \\\n",
       "329  1082635  Delhi 2017-05-06   2017          45  Delhi Capitals   \n",
       "\n",
       "              Team2                 Venue      TossWinner TossDecision  \\\n",
       "329  Mumbai Indians  Arun Jaitley Stadium  Delhi Capitals        field   \n",
       "\n",
       "    SuperOver     WinningTeam WonBy  Margin method Player_of_Match  \\\n",
       "329         N  Mumbai Indians  Runs   146.0    NaN     LMP Simmons   \n",
       "\n",
       "                                          Team1Players  \\\n",
       "329  ['SV Samson', 'KK Nair', 'SS Iyer', 'RR Pant',...   \n",
       "\n",
       "                                          Team2Players      Umpire1    Umpire2  \n",
       "329  ['LMP Simmons', 'PA Patel', 'KA Pollard', 'RG ...  Nitin Menon  CK Nandan  "
      ]
     },
     "execution_count": 58,
     "metadata": {},
     "output_type": "execute_result"
    }
   ],
   "source": [
    "matches[matches['Margin'] == 146]"
   ]
  },
  {
   "cell_type": "markdown",
   "id": "60afc593",
   "metadata": {},
   "source": [
    "### method"
   ]
  },
  {
   "cell_type": "code",
   "execution_count": 59,
   "id": "86e15b58",
   "metadata": {},
   "outputs": [
    {
     "data": {
      "text/plain": [
       "D/L    19\n",
       "Name: method, dtype: int64"
      ]
     },
     "execution_count": 59,
     "metadata": {},
     "output_type": "execute_result"
    }
   ],
   "source": [
    "matches['method'].value_counts()"
   ]
  },
  {
   "cell_type": "markdown",
   "id": "b35dc5e0",
   "metadata": {},
   "source": [
    "### Player_of_Match"
   ]
  },
  {
   "cell_type": "code",
   "execution_count": 60,
   "id": "2451fe0f",
   "metadata": {},
   "outputs": [
    {
     "data": {
      "text/plain": [
       "AB de Villiers    25\n",
       "CH Gayle          22\n",
       "DA Warner         18\n",
       "RG Sharma         18\n",
       "MS Dhoni          17\n",
       "                  ..\n",
       "CR Brathwaite      1\n",
       "Mohsin Khan        1\n",
       "A Zampa            1\n",
       "BCJ Cutting        1\n",
       "MF Maharoof        1\n",
       "Name: Player_of_Match, Length: 262, dtype: int64"
      ]
     },
     "execution_count": 60,
     "metadata": {},
     "output_type": "execute_result"
    }
   ],
   "source": [
    "matches['Player_of_Match'].value_counts()"
   ]
  },
  {
   "cell_type": "markdown",
   "id": "2214bf68",
   "metadata": {},
   "source": [
    "### Team1Players"
   ]
  },
  {
   "cell_type": "code",
   "execution_count": 68,
   "id": "a896e9eb",
   "metadata": {},
   "outputs": [
    {
     "data": {
      "text/plain": [
       "['RD Gaikwad', 'F du Plessis', 'MM Ali', 'SK Raina', 'AT Rayudu', 'RA Jadeja', 'MS Dhoni', 'SM Curran', 'DJ Bravo', 'SN Thakur', 'DL Chahar']                        2\n",
       "['SV Samson', 'KK Nair', 'SS Iyer', 'RR Pant', 'MN Samuels', 'CJ Anderson', 'PJ Cummins', 'A Mishra', 'Mohammed Shami', 'S Nadeem', 'Z Khan']                        2\n",
       "['JC Buttler', 'D Padikkal', 'SV Samson', 'SO Hetmyer', 'R Parag', 'KK Nair', 'R Ashwin', 'TA Boult', 'OC McCoy', 'M Prasidh Krishna', 'YS Chahal']                  2\n",
       "['S Dhawan', 'KS Williamson', 'WP Saha', 'MK Pandey', 'Shakib Al Hasan', 'YK Pathan', 'Mohammad Nabi', 'Rashid Khan', 'Basil Thampi', 'S Kaul', 'Sandeep Sharma']    2\n",
       "['CA Lynn', 'SP Narine', 'RV Uthappa', 'N Rana', 'KD Karthik', 'AD Russell', 'Shubman Gill', 'TK Curran', 'PP Chawla', 'Shivam Mavi', 'Kuldeep Yadav']               2\n",
       "                                                                                                                                                                    ..\n",
       "['CH Gayle', 'Mandeep Singh', 'V Kohli', 'AB de Villiers', 'TM Head', 'KM Jadhav', 'P Negi', 'S Aravind', 'S Badree', 'A Choudhary', 'YS Chahal']                    1\n",
       "['MJ Guptill', 'HM Amla', 'SE Marsh', 'GJ Maxwell', 'AR Patel', 'WP Saha', 'Gurkeerat Singh', 'MM Sharma', 'Sandeep Sharma', 'VR Aaron', 'T Natarajan']              1\n",
       "['SV Samson', 'KK Nair', 'SS Iyer', 'RR Pant', 'CJ Anderson', 'MN Samuels', 'PJ Cummins', 'K Rabada', 'A Mishra', 'Mohammed Shami', 'Z Khan']                        1\n",
       "['DA Warner', 'S Dhawan', 'KS Williamson', 'Yuvraj Singh', 'MC Henriques', 'NV Ojha', 'Bipul Sharma', 'Rashid Khan', 'B Kumar', 'S Kaul', 'A Nehra']                 1\n",
       "['R Dravid', 'W Jaffer', 'V Kohli', 'JH Kallis', 'CL White', 'MV Boucher', 'B Akhil', 'AA Noffke', 'P Kumar', 'Z Khan', 'SB Joshi']                                  1\n",
       "Name: Team1Players, Length: 932, dtype: int64"
      ]
     },
     "execution_count": 68,
     "metadata": {},
     "output_type": "execute_result"
    }
   ],
   "source": [
    "matches['Team1Players'].value_counts()"
   ]
  },
  {
   "cell_type": "markdown",
   "id": "75916d63",
   "metadata": {},
   "source": [
    "### Team2Players"
   ]
  },
  {
   "cell_type": "code",
   "execution_count": 69,
   "id": "2e3c748b",
   "metadata": {},
   "outputs": [
    {
     "data": {
      "text/plain": [
       "['RV Uthappa', 'G Gambhir', 'MK Pandey', 'SA Yadav', 'YK Pathan', 'RN ten Doeschate', 'AD Russell', 'PP Chawla', 'SP Narine', 'M Morkel', 'UT Yadav']                2\n",
       "['Abhishek Sharma', 'KS Williamson', 'RA Tripathi', 'AK Markram', 'N Pooran', 'Shashank Singh', 'J Suchith', 'B Kumar', 'M Jansen', 'T Natarajan', 'Umran Malik']    2\n",
       "['AM Rahane', 'SV Samson', 'SPD Smith', 'KK Nair', 'STR Binny', 'DJ Hooda', 'JP Faulkner', 'CH Morris', 'TG Southee', 'DS Kulkarni', 'PV Tambe']                     2\n",
       "['DA Warner', 'S Dhawan', 'KS Williamson', 'Yuvraj Singh', 'MC Henriques', 'DJ Hooda', 'NV Ojha', 'B Kumar', 'BB Sran', 'A Nehra', 'Mustafizur Rahman']              2\n",
       "['DJ Jacobs', 'SR Tendulkar', 'AT Rayudu', 'RG Sharma', 'KA Pollard', 'JEC Franklin', 'R Sathish', 'Harbhajan Singh', 'AG Murtaza', 'MM Patel', 'SL Malinga']        2\n",
       "                                                                                                                                                                    ..\n",
       "['LMP Simmons', 'PA Patel', 'N Rana', 'RG Sharma', 'HH Pandya', 'KA Pollard', 'KV Sharma', 'Harbhajan Singh', 'MJ McClenaghan', 'JJ Bumrah', 'SL Malinga']           1\n",
       "['CA Lynn', 'SP Narine', 'C de Grandhomme', 'G Gambhir', 'MK Pandey', 'YK Pathan', 'SP Jackson', 'CR Woakes', 'UT Yadav', 'PP Chawla', 'AS Rajpoot']                 1\n",
       "['DR Smith', 'Ishan Kishan', 'SK Raina', 'KD Karthik', 'AJ Finch', 'RA Jadeja', 'JP Faulkner', 'DS Kulkarni', 'PJ Sangwan', 'Basil Thampi', 'Ankit Soni']            1\n",
       "['LMP Simmons', 'PA Patel', 'KA Pollard', 'RG Sharma', 'HH Pandya', 'N Rana', 'KV Sharma', 'Harbhajan Singh', 'MJ McClenaghan', 'SL Malinga', 'JJ Bumrah']           1\n",
       "['SC Ganguly', 'BB McCullum', 'RT Ponting', 'DJ Hussey', 'Mohammad Hafeez', 'LR Shukla', 'WP Saha', 'AB Agarkar', 'AB Dinda', 'M Kartik', 'I Sharma']                1\n",
       "Name: Team2Players, Length: 937, dtype: int64"
      ]
     },
     "execution_count": 69,
     "metadata": {},
     "output_type": "execute_result"
    }
   ],
   "source": [
    "matches['Team2Players'].value_counts()"
   ]
  },
  {
   "cell_type": "markdown",
   "id": "ef9b9a8f",
   "metadata": {},
   "source": [
    "### Umpire1"
   ]
  },
  {
   "cell_type": "code",
   "execution_count": 70,
   "id": "1dfae893",
   "metadata": {
    "scrolled": true
   },
   "outputs": [
    {
     "data": {
      "text/plain": [
       "AK Chaudhary             95\n",
       "HDPK Dharmasena          76\n",
       "Asad Rauf                51\n",
       "S Ravi                   48\n",
       "CB Gaffaney              47\n",
       "KN Ananthapadmanabhan    44\n",
       "M Erasmus                42\n",
       "Aleem Dar                38\n",
       "BF Bowden                36\n",
       "BR Doctrove              34\n",
       "Nitin Menon              31\n",
       "AY Dandekar              30\n",
       "BNJ Oxenford             30\n",
       "C Shamshuddin            28\n",
       "RE Koertzen              20\n",
       "S Asnani                 19\n",
       "NJ Llong                 17\n",
       "JD Cloete                16\n",
       "CK Nandan                16\n",
       "A Nand Kishore           16\n",
       "RK Illingworth           14\n",
       "BG Jerling               13\n",
       "VA Kulkarni              12\n",
       "SS Hazare                11\n",
       "S Das                    10\n",
       "MR Benson                10\n",
       "K Hariharan              10\n",
       "A Deshmukh                9\n",
       "DJ Harper                 9\n",
       "J Madanagopal             8\n",
       "GAV Baxter                7\n",
       "PG Pathak                 7\n",
       "RM Deshpande              7\n",
       "IL Howell                 7\n",
       "PR Reiffel                7\n",
       "Chirra Ravikanthreddy     6\n",
       "RJ Tucker                 6\n",
       "SJ Davis                  6\n",
       "YC Barde                  6\n",
       "SD Fry                    5\n",
       "SK Tarapore               5\n",
       "AM Saheba                 4\n",
       "VK Sharma                 4\n",
       "IJ Gould                  4\n",
       "R Pandit                  3\n",
       "Navdeep Singh             3\n",
       "GR Sadashiv Iyer          3\n",
       "K Bharatan                3\n",
       "UV Gandhe                 3\n",
       "NA Patwardhan             2\n",
       "K Srinivasan              2\n",
       "K Srinath                 2\n",
       "MA Gough                  2\n",
       "AV Jayaprakash            2\n",
       "HAS Khalid                1\n",
       "SJA Taufel                1\n",
       "SL Shastri                1\n",
       "Tapan Sharma              1\n",
       "Name: Umpire1, dtype: int64"
      ]
     },
     "execution_count": 70,
     "metadata": {},
     "output_type": "execute_result"
    }
   ],
   "source": [
    "matches['Umpire1'].value_counts()"
   ]
  },
  {
   "cell_type": "markdown",
   "id": "8e7da36b",
   "metadata": {},
   "source": [
    "### Umpire2"
   ]
  },
  {
   "cell_type": "code",
   "execution_count": 71,
   "id": "87fe6855",
   "metadata": {
    "scrolled": true
   },
   "outputs": [
    {
     "data": {
      "text/plain": [
       "S Ravi                   83\n",
       "C Shamshuddin            60\n",
       "SJA Taufel               54\n",
       "Nitin Menon              52\n",
       "RJ Tucker                46\n",
       "CK Nandan                43\n",
       "VK Sharma                42\n",
       "VA Kulkarni              38\n",
       "RB Tiffin                30\n",
       "BNJ Oxenford             27\n",
       "SK Tarapore              26\n",
       "RK Illingworth           25\n",
       "M Erasmus                25\n",
       "CB Gaffaney              22\n",
       "AM Saheba                22\n",
       "YC Barde                 22\n",
       "PR Reiffel               21\n",
       "RE Koertzen              21\n",
       "NJ Llong                 20\n",
       "HDPK Dharmasena          18\n",
       "DJ Harper                18\n",
       "AK Chaudhary             16\n",
       "UV Gandhe                15\n",
       "SL Shastri               13\n",
       "K Srinath                13\n",
       "KN Ananthapadmanabhan    12\n",
       "S Asnani                 11\n",
       "K Hariharan              11\n",
       "MA Gough                 10\n",
       "PG Pathak                 9\n",
       "A Nand Kishore            9\n",
       "BR Doctrove               8\n",
       "Tapan Sharma              7\n",
       "IL Howell                 7\n",
       "K Srinivasan              7\n",
       "SS Hazare                 6\n",
       "AL Hill                   6\n",
       "I Shivram                 6\n",
       "N Pandit                  6\n",
       "GA Pratapkumar            6\n",
       "HAS Khalid                6\n",
       "TH Wijewardene            5\n",
       "S Das                     5\n",
       "AV Jayaprakash            4\n",
       "Navdeep Singh             4\n",
       "NA Patwardhan             4\n",
       "BG Jerling                4\n",
       "GR Sadashiv Iyer          3\n",
       "R Pandit                  3\n",
       "A Deshmukh                3\n",
       "J Madanagopal             3\n",
       "SD Ranade                 2\n",
       "MR Benson                 2\n",
       "IJ Gould                  2\n",
       "AY Dandekar               2\n",
       "SJ Davis                  1\n",
       "Subroto Das               1\n",
       "BF Bowden                 1\n",
       "SD Fry                    1\n",
       "JD Cloete                 1\n",
       "Name: Umpire2, dtype: int64"
      ]
     },
     "execution_count": 71,
     "metadata": {},
     "output_type": "execute_result"
    }
   ],
   "source": [
    "matches['Umpire2'].value_counts()"
   ]
  },
  {
   "cell_type": "markdown",
   "id": "90f39018",
   "metadata": {},
   "source": [
    "### export cleaned data"
   ]
  },
  {
   "cell_type": "code",
   "execution_count": 72,
   "id": "5e0e2c66",
   "metadata": {},
   "outputs": [],
   "source": [
    "matches.to_csv('matches_cleaned.csv', index=False)"
   ]
  }
 ],
 "metadata": {
  "kernelspec": {
   "display_name": "Python 3 (ipykernel)",
   "language": "python",
   "name": "python3"
  },
  "language_info": {
   "codemirror_mode": {
    "name": "ipython",
    "version": 3
   },
   "file_extension": ".py",
   "mimetype": "text/x-python",
   "name": "python",
   "nbconvert_exporter": "python",
   "pygments_lexer": "ipython3",
   "version": "3.11.3"
  }
 },
 "nbformat": 4,
 "nbformat_minor": 5
}
